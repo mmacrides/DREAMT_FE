{
 "cells": [
  {
   "cell_type": "code",
   "execution_count": 1,
   "metadata": {},
   "outputs": [],
   "source": [
    "import pandas as pd\n",
    "import numpy as np\n",
    "import random\n",
    "import warnings\n",
    "from utils import *\n",
    "from datasets import *\n",
    "from models import *\n",
    "\n",
    "warnings.filterwarnings(\"ignore\", category=pd.errors.PerformanceWarning)\n",
    "warnings.filterwarnings(\"ignore\", category=DeprecationWarning)\n",
    "warnings.filterwarnings(\"ignore\", category=RuntimeWarning)\n",
    "\n",
    "# Set display options\n",
    "pd.set_option(\"display.max_rows\", 500)  # Replace 500 with your desired number of rows\n",
    "pd.set_option(\n",
    "    \"display.max_columns\", 10\n",
    ")  # Replace 10 with your desired number of columns\n",
    "pd.set_option(\"display.width\", 1000)  # Adjust the width as needed\n",
    "pd.set_option(\"display.max_colwidth\", 50)  # Adjust the column width as needed"
   ]
  },
  {
   "cell_type": "markdown",
   "metadata": {},
   "source": [
    "### Data Preparation"
   ]
  },
  {
   "cell_type": "code",
   "execution_count": 2,
   "metadata": {},
   "outputs": [
    {
     "name": "stdout",
     "output_type": "stream",
     "text": [
      "(82671, 610)\n",
      "597\n"
     ]
    }
   ],
   "source": [
    "# Prepare the data\n",
    "# Adjust your path here\n",
    "quality_df_dir = './results/quality_scores_per_subject.csv'\n",
    "features_dir = \"dataset_sample/features_df/\"\n",
    "info_dir = \"dataset_sample/participant_info.csv\"\n",
    "clean_df, new_features, good_quality_sids = data_preparation(\n",
    "    threshold = 0.2, \n",
    "    quality_df_dir = quality_df_dir,\n",
    "    features_dir = features_dir,\n",
    "    info_dir = info_dir)\n",
    "print(clean_df.shape)\n",
    "print(len(new_features))"
   ]
  },
  {
   "cell_type": "markdown",
   "metadata": {},
   "source": [
    "### Split data to train, val, and test"
   ]
  },
  {
   "cell_type": "code",
   "execution_count": 3,
   "metadata": {},
   "outputs": [
    {
     "data": {
      "text/html": [
       "<div>\n",
       "<style scoped>\n",
       "    .dataframe tbody tr th:only-of-type {\n",
       "        vertical-align: middle;\n",
       "    }\n",
       "\n",
       "    .dataframe tbody tr th {\n",
       "        vertical-align: top;\n",
       "    }\n",
       "\n",
       "    .dataframe thead th {\n",
       "        text-align: right;\n",
       "    }\n",
       "</style>\n",
       "<table border=\"1\" class=\"dataframe\">\n",
       "  <thead>\n",
       "    <tr style=\"text-align: right;\">\n",
       "      <th></th>\n",
       "      <th>PPG_Rate_Mean</th>\n",
       "      <th>HRV_SDNN</th>\n",
       "      <th>HRV_MadNN</th>\n",
       "      <th>HRV_SDRMSSD</th>\n",
       "      <th>HRV_Prc20NN</th>\n",
       "      <th>...</th>\n",
       "      <th>Hypopnea</th>\n",
       "      <th>Multiple_Events</th>\n",
       "      <th>artifact</th>\n",
       "      <th>sid</th>\n",
       "      <th>BMI</th>\n",
       "    </tr>\n",
       "  </thead>\n",
       "  <tbody>\n",
       "    <tr>\n",
       "      <th>1</th>\n",
       "      <td>87.451445</td>\n",
       "      <td>267.856258</td>\n",
       "      <td>277.987500</td>\n",
       "      <td>0.762788</td>\n",
       "      <td>468.750</td>\n",
       "      <td>...</td>\n",
       "      <td>0.0</td>\n",
       "      <td>0.0</td>\n",
       "      <td>0</td>\n",
       "      <td>S003</td>\n",
       "      <td>51.0</td>\n",
       "    </tr>\n",
       "    <tr>\n",
       "      <th>2</th>\n",
       "      <td>84.687304</td>\n",
       "      <td>280.299933</td>\n",
       "      <td>231.656250</td>\n",
       "      <td>0.672688</td>\n",
       "      <td>515.625</td>\n",
       "      <td>...</td>\n",
       "      <td>0.0</td>\n",
       "      <td>0.0</td>\n",
       "      <td>1</td>\n",
       "      <td>S003</td>\n",
       "      <td>51.0</td>\n",
       "    </tr>\n",
       "    <tr>\n",
       "      <th>3</th>\n",
       "      <td>90.889185</td>\n",
       "      <td>224.392912</td>\n",
       "      <td>208.490625</td>\n",
       "      <td>0.730625</td>\n",
       "      <td>465.625</td>\n",
       "      <td>...</td>\n",
       "      <td>0.0</td>\n",
       "      <td>0.0</td>\n",
       "      <td>1</td>\n",
       "      <td>S003</td>\n",
       "      <td>51.0</td>\n",
       "    </tr>\n",
       "    <tr>\n",
       "      <th>4</th>\n",
       "      <td>79.140186</td>\n",
       "      <td>303.274460</td>\n",
       "      <td>324.318750</td>\n",
       "      <td>0.769270</td>\n",
       "      <td>468.750</td>\n",
       "      <td>...</td>\n",
       "      <td>0.0</td>\n",
       "      <td>0.0</td>\n",
       "      <td>1</td>\n",
       "      <td>S003</td>\n",
       "      <td>51.0</td>\n",
       "    </tr>\n",
       "    <tr>\n",
       "      <th>5</th>\n",
       "      <td>90.383327</td>\n",
       "      <td>297.089740</td>\n",
       "      <td>289.570312</td>\n",
       "      <td>0.767894</td>\n",
       "      <td>450.000</td>\n",
       "      <td>...</td>\n",
       "      <td>0.0</td>\n",
       "      <td>0.0</td>\n",
       "      <td>1</td>\n",
       "      <td>S003</td>\n",
       "      <td>51.0</td>\n",
       "    </tr>\n",
       "    <tr>\n",
       "      <th>...</th>\n",
       "      <td>...</td>\n",
       "      <td>...</td>\n",
       "      <td>...</td>\n",
       "      <td>...</td>\n",
       "      <td>...</td>\n",
       "      <td>...</td>\n",
       "      <td>...</td>\n",
       "      <td>...</td>\n",
       "      <td>...</td>\n",
       "      <td>...</td>\n",
       "      <td>...</td>\n",
       "    </tr>\n",
       "    <tr>\n",
       "      <th>85066</th>\n",
       "      <td>61.392727</td>\n",
       "      <td>132.432765</td>\n",
       "      <td>23.165625</td>\n",
       "      <td>0.856175</td>\n",
       "      <td>1000.000</td>\n",
       "      <td>...</td>\n",
       "      <td>0.0</td>\n",
       "      <td>0.0</td>\n",
       "      <td>0</td>\n",
       "      <td>S102</td>\n",
       "      <td>26.0</td>\n",
       "    </tr>\n",
       "    <tr>\n",
       "      <th>85067</th>\n",
       "      <td>61.198295</td>\n",
       "      <td>138.500822</td>\n",
       "      <td>46.331250</td>\n",
       "      <td>1.081764</td>\n",
       "      <td>978.125</td>\n",
       "      <td>...</td>\n",
       "      <td>0.0</td>\n",
       "      <td>0.0</td>\n",
       "      <td>0</td>\n",
       "      <td>S102</td>\n",
       "      <td>26.0</td>\n",
       "    </tr>\n",
       "    <tr>\n",
       "      <th>85068</th>\n",
       "      <td>57.181574</td>\n",
       "      <td>18.233936</td>\n",
       "      <td>23.165625</td>\n",
       "      <td>0.781327</td>\n",
       "      <td>1031.250</td>\n",
       "      <td>...</td>\n",
       "      <td>0.0</td>\n",
       "      <td>0.0</td>\n",
       "      <td>0</td>\n",
       "      <td>S102</td>\n",
       "      <td>26.0</td>\n",
       "    </tr>\n",
       "    <tr>\n",
       "      <th>85069</th>\n",
       "      <td>57.535505</td>\n",
       "      <td>17.652470</td>\n",
       "      <td>23.165625</td>\n",
       "      <td>0.934502</td>\n",
       "      <td>1031.250</td>\n",
       "      <td>...</td>\n",
       "      <td>0.0</td>\n",
       "      <td>0.0</td>\n",
       "      <td>0</td>\n",
       "      <td>S102</td>\n",
       "      <td>26.0</td>\n",
       "    </tr>\n",
       "    <tr>\n",
       "      <th>85070</th>\n",
       "      <td>59.300100</td>\n",
       "      <td>149.769504</td>\n",
       "      <td>23.165625</td>\n",
       "      <td>1.220980</td>\n",
       "      <td>1046.875</td>\n",
       "      <td>...</td>\n",
       "      <td>0.0</td>\n",
       "      <td>0.0</td>\n",
       "      <td>0</td>\n",
       "      <td>S102</td>\n",
       "      <td>26.0</td>\n",
       "    </tr>\n",
       "  </tbody>\n",
       "</table>\n",
       "<p>82671 rows × 371 columns</p>\n",
       "</div>"
      ],
      "text/plain": [
       "       PPG_Rate_Mean    HRV_SDNN   HRV_MadNN  HRV_SDRMSSD  HRV_Prc20NN  ...  Hypopnea  Multiple_Events  artifact   sid   BMI\n",
       "1          87.451445  267.856258  277.987500     0.762788      468.750  ...       0.0              0.0         0  S003  51.0\n",
       "2          84.687304  280.299933  231.656250     0.672688      515.625  ...       0.0              0.0         1  S003  51.0\n",
       "3          90.889185  224.392912  208.490625     0.730625      465.625  ...       0.0              0.0         1  S003  51.0\n",
       "4          79.140186  303.274460  324.318750     0.769270      468.750  ...       0.0              0.0         1  S003  51.0\n",
       "5          90.383327  297.089740  289.570312     0.767894      450.000  ...       0.0              0.0         1  S003  51.0\n",
       "...              ...         ...         ...          ...          ...  ...       ...              ...       ...   ...   ...\n",
       "85066      61.392727  132.432765   23.165625     0.856175     1000.000  ...       0.0              0.0         0  S102  26.0\n",
       "85067      61.198295  138.500822   46.331250     1.081764      978.125  ...       0.0              0.0         0  S102  26.0\n",
       "85068      57.181574   18.233936   23.165625     0.781327     1031.250  ...       0.0              0.0         0  S102  26.0\n",
       "85069      57.535505   17.652470   23.165625     0.934502     1031.250  ...       0.0              0.0         0  S102  26.0\n",
       "85070      59.300100  149.769504   23.165625     1.220980     1046.875  ...       0.0              0.0         0  S102  26.0\n",
       "\n",
       "[82671 rows x 371 columns]"
      ]
     },
     "execution_count": 3,
     "metadata": {},
     "output_type": "execute_result"
    }
   ],
   "source": [
    "SW_df, final_features = split_data(clean_df, good_quality_sids, new_features)\n",
    "SW_df"
   ]
  },
  {
   "cell_type": "code",
   "execution_count": 4,
   "metadata": {},
   "outputs": [],
   "source": [
    "import random\n",
    "random.seed(0)\n",
    "train_sids = random.sample(good_quality_sids, 56)\n",
    "remaining_sids = [subj for subj in good_quality_sids if subj not in train_sids]\n",
    "val_sids = random.sample(remaining_sids, 8)\n",
    "test_sids = [subj for subj in remaining_sids if subj not in val_sids]\n",
    "\n",
    "group_variables = ['AHI_Severity', 'Obesity']\n",
    "# when idx == 0, it returns ['AHI_Severity'], the first variable in the list\n",
    "# when idx == 1, it returns ['Obesity'], the second variable in the list\n",
    "group_variable = get_variable(group_variables, idx = 0) # set your variable"
   ]
  },
  {
   "cell_type": "code",
   "execution_count": 5,
   "metadata": {},
   "outputs": [
    {
     "name": "stdout",
     "output_type": "stream",
     "text": [
      "Train data balance: \n",
      "(array([0., 1.]), array([33063, 24620]))\n",
      "\n",
      "Validation data balancpredicted_probabilitiese: \n",
      "(array([0., 1.]), array([5001, 3038]))\n",
      "\n",
      "Test data balance: \n",
      "(array([0., 1.]), array([10402,  6547]))\n",
      "24620.0\n"
     ]
    }
   ],
   "source": [
    "X_train, y_train, group_train = train_test_split(SW_df, train_sids, final_features, group_variable)\n",
    "print(\"Train data balance: \")\n",
    "print(np.unique(y_train, return_counts=True))\n",
    "print('')\n",
    "\n",
    "X_val, y_val, group_val = train_test_split(SW_df, val_sids, final_features, group_variable)\n",
    "print(\"Validation data balancpredicted_probabilitiese: \")\n",
    "print(np.unique(y_val, return_counts=True))\n",
    "print('')\n",
    "\n",
    "X_test, y_test, group_test = train_test_split(SW_df, test_sids, final_features, group_variable)\n",
    "print(\"Test data balance: \")\n",
    "print(np.unique(y_test, return_counts=True))\n",
    "print(y_train.sum())"
   ]
  },
  {
   "cell_type": "markdown",
   "metadata": {},
   "source": [
    "### Resample data"
   ]
  },
  {
   "cell_type": "code",
   "execution_count": 6,
   "metadata": {},
   "outputs": [],
   "source": [
    "X_train_resampled, y_train_resampled, group_train_resampled = resample_data(X_train, y_train, group_train, group_variable)"
   ]
  },
  {
   "cell_type": "markdown",
   "metadata": {},
   "source": [
    "### LightGBM"
   ]
  },
  {
   "cell_type": "code",
   "execution_count": 7,
   "metadata": {},
   "outputs": [
    {
     "name": "stdout",
     "output_type": "stream",
     "text": [
      "  2%|▏         | 1/50 [00:02<02:22,  2.92s/trial, best loss: -0.6892165365712634]"
     ]
    },
    {
     "name": "stderr",
     "output_type": "stream",
     "text": [
      "/Users/mattmacrides/miniconda3/envs/dreamt/lib/python3.10/site-packages/sklearn/utils/validation.py:2739: UserWarning: X does not have valid feature names, but LGBMClassifier was fitted with feature names\n",
      "  warnings.warn(\n",
      "\n"
     ]
    },
    {
     "name": "stdout",
     "output_type": "stream",
     "text": [
      "  4%|▍         | 2/50 [00:08<03:37,  4.52s/trial, best loss: -0.6892165365712634]"
     ]
    },
    {
     "name": "stderr",
     "output_type": "stream",
     "text": [
      "/Users/mattmacrides/miniconda3/envs/dreamt/lib/python3.10/site-packages/sklearn/utils/validation.py:2739: UserWarning: X does not have valid feature names, but LGBMClassifier was fitted with feature names\n",
      "  warnings.warn(\n",
      "\n"
     ]
    },
    {
     "name": "stdout",
     "output_type": "stream",
     "text": [
      "  6%|▌         | 3/50 [00:11<03:01,  3.87s/trial, best loss: -0.6892165365712634]"
     ]
    },
    {
     "name": "stderr",
     "output_type": "stream",
     "text": [
      "/Users/mattmacrides/miniconda3/envs/dreamt/lib/python3.10/site-packages/sklearn/utils/validation.py:2739: UserWarning: X does not have valid feature names, but LGBMClassifier was fitted with feature names\n",
      "  warnings.warn(\n",
      "\n"
     ]
    },
    {
     "name": "stdout",
     "output_type": "stream",
     "text": [
      "  8%|▊         | 4/50 [00:13<02:25,  3.16s/trial, best loss: -0.6892165365712634]"
     ]
    },
    {
     "name": "stderr",
     "output_type": "stream",
     "text": [
      "/Users/mattmacrides/miniconda3/envs/dreamt/lib/python3.10/site-packages/sklearn/utils/validation.py:2739: UserWarning: X does not have valid feature names, but LGBMClassifier was fitted with feature names\n",
      "  warnings.warn(\n",
      "\n"
     ]
    },
    {
     "name": "stdout",
     "output_type": "stream",
     "text": [
      " 10%|█         | 5/50 [00:14<01:50,  2.45s/trial, best loss: -0.6892165365712634]"
     ]
    },
    {
     "name": "stderr",
     "output_type": "stream",
     "text": [
      "/Users/mattmacrides/miniconda3/envs/dreamt/lib/python3.10/site-packages/sklearn/utils/validation.py:2739: UserWarning: X does not have valid feature names, but LGBMClassifier was fitted with feature names\n",
      "  warnings.warn(\n",
      "\n"
     ]
    },
    {
     "name": "stdout",
     "output_type": "stream",
     "text": [
      " 12%|█▏        | 6/50 [00:16<01:38,  2.25s/trial, best loss: -0.6892165365712634]"
     ]
    },
    {
     "name": "stderr",
     "output_type": "stream",
     "text": [
      "/Users/mattmacrides/miniconda3/envs/dreamt/lib/python3.10/site-packages/sklearn/utils/validation.py:2739: UserWarning: X does not have valid feature names, but LGBMClassifier was fitted with feature names\n",
      "  warnings.warn(\n",
      "\n"
     ]
    },
    {
     "name": "stdout",
     "output_type": "stream",
     "text": [
      " 14%|█▍        | 7/50 [00:18<01:23,  1.93s/trial, best loss: -0.6892165365712634]"
     ]
    },
    {
     "name": "stderr",
     "output_type": "stream",
     "text": [
      "/Users/mattmacrides/miniconda3/envs/dreamt/lib/python3.10/site-packages/sklearn/utils/validation.py:2739: UserWarning: X does not have valid feature names, but LGBMClassifier was fitted with feature names\n",
      "  warnings.warn(\n",
      "\n"
     ]
    },
    {
     "name": "stdout",
     "output_type": "stream",
     "text": [
      " 16%|█▌        | 8/50 [00:20<01:22,  1.97s/trial, best loss: -0.6892165365712634]"
     ]
    },
    {
     "name": "stderr",
     "output_type": "stream",
     "text": [
      "/Users/mattmacrides/miniconda3/envs/dreamt/lib/python3.10/site-packages/sklearn/utils/validation.py:2739: UserWarning: X does not have valid feature names, but LGBMClassifier was fitted with feature names\n",
      "  warnings.warn(\n",
      "\n"
     ]
    },
    {
     "name": "stdout",
     "output_type": "stream",
     "text": [
      " 18%|█▊        | 9/50 [00:21<01:19,  1.93s/trial, best loss: -0.6892165365712634]"
     ]
    },
    {
     "name": "stderr",
     "output_type": "stream",
     "text": [
      "/Users/mattmacrides/miniconda3/envs/dreamt/lib/python3.10/site-packages/sklearn/utils/validation.py:2739: UserWarning: X does not have valid feature names, but LGBMClassifier was fitted with feature names\n",
      "  warnings.warn(\n",
      "\n"
     ]
    },
    {
     "name": "stdout",
     "output_type": "stream",
     "text": [
      " 20%|██        | 10/50 [00:23<01:16,  1.90s/trial, best loss: -0.6892165365712634]"
     ]
    },
    {
     "name": "stderr",
     "output_type": "stream",
     "text": [
      "/Users/mattmacrides/miniconda3/envs/dreamt/lib/python3.10/site-packages/sklearn/utils/validation.py:2739: UserWarning: X does not have valid feature names, but LGBMClassifier was fitted with feature names\n",
      "  warnings.warn(\n",
      "\n"
     ]
    },
    {
     "name": "stdout",
     "output_type": "stream",
     "text": [
      " 22%|██▏       | 11/50 [00:25<01:14,  1.92s/trial, best loss: -0.6892165365712634]"
     ]
    },
    {
     "name": "stderr",
     "output_type": "stream",
     "text": [
      "/Users/mattmacrides/miniconda3/envs/dreamt/lib/python3.10/site-packages/sklearn/utils/validation.py:2739: UserWarning: X does not have valid feature names, but LGBMClassifier was fitted with feature names\n",
      "  warnings.warn(\n",
      "\n"
     ]
    },
    {
     "name": "stdout",
     "output_type": "stream",
     "text": [
      " 24%|██▍       | 12/50 [00:27<01:09,  1.82s/trial, best loss: -0.6892165365712634]"
     ]
    },
    {
     "name": "stderr",
     "output_type": "stream",
     "text": [
      "/Users/mattmacrides/miniconda3/envs/dreamt/lib/python3.10/site-packages/sklearn/utils/validation.py:2739: UserWarning: X does not have valid feature names, but LGBMClassifier was fitted with feature names\n",
      "  warnings.warn(\n",
      "\n"
     ]
    },
    {
     "name": "stdout",
     "output_type": "stream",
     "text": [
      " 26%|██▌       | 13/50 [00:30<01:18,  2.12s/trial, best loss: -0.6892165365712634]"
     ]
    },
    {
     "name": "stderr",
     "output_type": "stream",
     "text": [
      "/Users/mattmacrides/miniconda3/envs/dreamt/lib/python3.10/site-packages/sklearn/utils/validation.py:2739: UserWarning: X does not have valid feature names, but LGBMClassifier was fitted with feature names\n",
      "  warnings.warn(\n",
      "\n"
     ]
    },
    {
     "name": "stdout",
     "output_type": "stream",
     "text": [
      " 28%|██▊       | 14/50 [00:32<01:20,  2.22s/trial, best loss: -0.6892165365712634]"
     ]
    },
    {
     "name": "stderr",
     "output_type": "stream",
     "text": [
      "/Users/mattmacrides/miniconda3/envs/dreamt/lib/python3.10/site-packages/sklearn/utils/validation.py:2739: UserWarning: X does not have valid feature names, but LGBMClassifier was fitted with feature names\n",
      "  warnings.warn(\n",
      "\n"
     ]
    },
    {
     "name": "stdout",
     "output_type": "stream",
     "text": [
      " 30%|███       | 15/50 [00:36<01:32,  2.64s/trial, best loss: -0.6955862278173821]"
     ]
    },
    {
     "name": "stderr",
     "output_type": "stream",
     "text": [
      "/Users/mattmacrides/miniconda3/envs/dreamt/lib/python3.10/site-packages/sklearn/utils/validation.py:2739: UserWarning: X does not have valid feature names, but LGBMClassifier was fitted with feature names\n",
      "  warnings.warn(\n",
      "\n"
     ]
    },
    {
     "name": "stdout",
     "output_type": "stream",
     "text": [
      " 32%|███▏      | 16/50 [00:40<01:45,  3.11s/trial, best loss: -0.7097170971709718]"
     ]
    },
    {
     "name": "stderr",
     "output_type": "stream",
     "text": [
      "/Users/mattmacrides/miniconda3/envs/dreamt/lib/python3.10/site-packages/sklearn/utils/validation.py:2739: UserWarning: X does not have valid feature names, but LGBMClassifier was fitted with feature names\n",
      "  warnings.warn(\n",
      "\n"
     ]
    },
    {
     "name": "stdout",
     "output_type": "stream",
     "text": [
      " 34%|███▍      | 17/50 [00:42<01:30,  2.75s/trial, best loss: -0.7097170971709718]"
     ]
    },
    {
     "name": "stderr",
     "output_type": "stream",
     "text": [
      "/Users/mattmacrides/miniconda3/envs/dreamt/lib/python3.10/site-packages/sklearn/utils/validation.py:2739: UserWarning: X does not have valid feature names, but LGBMClassifier was fitted with feature names\n",
      "  warnings.warn(\n",
      "\n"
     ]
    },
    {
     "name": "stdout",
     "output_type": "stream",
     "text": [
      " 36%|███▌      | 18/50 [00:43<01:14,  2.32s/trial, best loss: -0.7097170971709718]"
     ]
    },
    {
     "name": "stderr",
     "output_type": "stream",
     "text": [
      "/Users/mattmacrides/miniconda3/envs/dreamt/lib/python3.10/site-packages/sklearn/utils/validation.py:2739: UserWarning: X does not have valid feature names, but LGBMClassifier was fitted with feature names\n",
      "  warnings.warn(\n",
      "\n"
     ]
    },
    {
     "name": "stdout",
     "output_type": "stream",
     "text": [
      " 38%|███▊      | 19/50 [00:44<01:01,  1.99s/trial, best loss: -0.7097170971709718]"
     ]
    },
    {
     "name": "stderr",
     "output_type": "stream",
     "text": [
      "/Users/mattmacrides/miniconda3/envs/dreamt/lib/python3.10/site-packages/sklearn/utils/validation.py:2739: UserWarning: X does not have valid feature names, but LGBMClassifier was fitted with feature names\n",
      "  warnings.warn(\n",
      "\n"
     ]
    },
    {
     "name": "stdout",
     "output_type": "stream",
     "text": [
      " 40%|████      | 20/50 [00:46<00:59,  2.00s/trial, best loss: -0.7097170971709718]"
     ]
    },
    {
     "name": "stderr",
     "output_type": "stream",
     "text": [
      "/Users/mattmacrides/miniconda3/envs/dreamt/lib/python3.10/site-packages/sklearn/utils/validation.py:2739: UserWarning: X does not have valid feature names, but LGBMClassifier was fitted with feature names\n",
      "  warnings.warn(\n",
      "\n"
     ]
    },
    {
     "name": "stdout",
     "output_type": "stream",
     "text": [
      " 42%|████▏     | 21/50 [00:50<01:15,  2.59s/trial, best loss: -0.7097170971709718]"
     ]
    },
    {
     "name": "stderr",
     "output_type": "stream",
     "text": [
      "/Users/mattmacrides/miniconda3/envs/dreamt/lib/python3.10/site-packages/sklearn/utils/validation.py:2739: UserWarning: X does not have valid feature names, but LGBMClassifier was fitted with feature names\n",
      "  warnings.warn(\n",
      "\n"
     ]
    },
    {
     "name": "stdout",
     "output_type": "stream",
     "text": [
      " 44%|████▍     | 22/50 [00:53<01:16,  2.74s/trial, best loss: -0.7097170971709718]"
     ]
    },
    {
     "name": "stderr",
     "output_type": "stream",
     "text": [
      "/Users/mattmacrides/miniconda3/envs/dreamt/lib/python3.10/site-packages/sklearn/utils/validation.py:2739: UserWarning: X does not have valid feature names, but LGBMClassifier was fitted with feature names\n",
      "  warnings.warn(\n",
      "\n"
     ]
    },
    {
     "name": "stdout",
     "output_type": "stream",
     "text": [
      " 46%|████▌     | 23/50 [00:56<01:14,  2.78s/trial, best loss: -0.7097170971709718]"
     ]
    },
    {
     "name": "stderr",
     "output_type": "stream",
     "text": [
      "/Users/mattmacrides/miniconda3/envs/dreamt/lib/python3.10/site-packages/sklearn/utils/validation.py:2739: UserWarning: X does not have valid feature names, but LGBMClassifier was fitted with feature names\n",
      "  warnings.warn(\n",
      "\n"
     ]
    },
    {
     "name": "stdout",
     "output_type": "stream",
     "text": [
      " 48%|████▊     | 24/50 [00:59<01:10,  2.71s/trial, best loss: -0.7097170971709718]"
     ]
    },
    {
     "name": "stderr",
     "output_type": "stream",
     "text": [
      "/Users/mattmacrides/miniconda3/envs/dreamt/lib/python3.10/site-packages/sklearn/utils/validation.py:2739: UserWarning: X does not have valid feature names, but LGBMClassifier was fitted with feature names\n",
      "  warnings.warn(\n",
      "\n"
     ]
    },
    {
     "name": "stdout",
     "output_type": "stream",
     "text": [
      " 50%|█████     | 25/50 [01:02<01:09,  2.76s/trial, best loss: -0.7097170971709718]"
     ]
    },
    {
     "name": "stderr",
     "output_type": "stream",
     "text": [
      "/Users/mattmacrides/miniconda3/envs/dreamt/lib/python3.10/site-packages/sklearn/utils/validation.py:2739: UserWarning: X does not have valid feature names, but LGBMClassifier was fitted with feature names\n",
      "  warnings.warn(\n",
      "\n"
     ]
    },
    {
     "name": "stdout",
     "output_type": "stream",
     "text": [
      " 52%|█████▏    | 26/50 [01:05<01:09,  2.88s/trial, best loss: -0.7097170971709718]"
     ]
    },
    {
     "name": "stderr",
     "output_type": "stream",
     "text": [
      "/Users/mattmacrides/miniconda3/envs/dreamt/lib/python3.10/site-packages/sklearn/utils/validation.py:2739: UserWarning: X does not have valid feature names, but LGBMClassifier was fitted with feature names\n",
      "  warnings.warn(\n",
      "\n"
     ]
    },
    {
     "name": "stdout",
     "output_type": "stream",
     "text": [
      " 54%|█████▍    | 27/50 [01:08<01:10,  3.08s/trial, best loss: -0.7097170971709718]"
     ]
    },
    {
     "name": "stderr",
     "output_type": "stream",
     "text": [
      "/Users/mattmacrides/miniconda3/envs/dreamt/lib/python3.10/site-packages/sklearn/utils/validation.py:2739: UserWarning: X does not have valid feature names, but LGBMClassifier was fitted with feature names\n",
      "  warnings.warn(\n",
      "\n"
     ]
    },
    {
     "name": "stdout",
     "output_type": "stream",
     "text": [
      " 56%|█████▌    | 28/50 [01:11<01:01,  2.79s/trial, best loss: -0.7097170971709718]"
     ]
    },
    {
     "name": "stderr",
     "output_type": "stream",
     "text": [
      "/Users/mattmacrides/miniconda3/envs/dreamt/lib/python3.10/site-packages/sklearn/utils/validation.py:2739: UserWarning: X does not have valid feature names, but LGBMClassifier was fitted with feature names\n",
      "  warnings.warn(\n",
      "\n"
     ]
    },
    {
     "name": "stdout",
     "output_type": "stream",
     "text": [
      " 58%|█████▊    | 29/50 [01:13<00:57,  2.75s/trial, best loss: -0.7097170971709718]"
     ]
    },
    {
     "name": "stderr",
     "output_type": "stream",
     "text": [
      "/Users/mattmacrides/miniconda3/envs/dreamt/lib/python3.10/site-packages/sklearn/utils/validation.py:2739: UserWarning: X does not have valid feature names, but LGBMClassifier was fitted with feature names\n",
      "  warnings.warn(\n",
      "\n"
     ]
    },
    {
     "name": "stdout",
     "output_type": "stream",
     "text": [
      " 60%|██████    | 30/50 [01:15<00:50,  2.54s/trial, best loss: -0.7097170971709718]"
     ]
    },
    {
     "name": "stderr",
     "output_type": "stream",
     "text": [
      "/Users/mattmacrides/miniconda3/envs/dreamt/lib/python3.10/site-packages/sklearn/utils/validation.py:2739: UserWarning: X does not have valid feature names, but LGBMClassifier was fitted with feature names\n",
      "  warnings.warn(\n",
      "\n"
     ]
    },
    {
     "name": "stdout",
     "output_type": "stream",
     "text": [
      " 62%|██████▏   | 31/50 [01:19<00:52,  2.76s/trial, best loss: -0.7097170971709718]"
     ]
    },
    {
     "name": "stderr",
     "output_type": "stream",
     "text": [
      "/Users/mattmacrides/miniconda3/envs/dreamt/lib/python3.10/site-packages/sklearn/utils/validation.py:2739: UserWarning: X does not have valid feature names, but LGBMClassifier was fitted with feature names\n",
      "  warnings.warn(\n",
      "\n"
     ]
    },
    {
     "name": "stdout",
     "output_type": "stream",
     "text": [
      " 64%|██████▍   | 32/50 [01:22<00:51,  2.85s/trial, best loss: -0.7097170971709718]"
     ]
    },
    {
     "name": "stderr",
     "output_type": "stream",
     "text": [
      "/Users/mattmacrides/miniconda3/envs/dreamt/lib/python3.10/site-packages/sklearn/utils/validation.py:2739: UserWarning: X does not have valid feature names, but LGBMClassifier was fitted with feature names\n",
      "  warnings.warn(\n",
      "\n"
     ]
    },
    {
     "name": "stdout",
     "output_type": "stream",
     "text": [
      " 66%|██████▌   | 33/50 [01:24<00:46,  2.76s/trial, best loss: -0.7097170971709718]"
     ]
    },
    {
     "name": "stderr",
     "output_type": "stream",
     "text": [
      "/Users/mattmacrides/miniconda3/envs/dreamt/lib/python3.10/site-packages/sklearn/utils/validation.py:2739: UserWarning: X does not have valid feature names, but LGBMClassifier was fitted with feature names\n",
      "  warnings.warn(\n",
      "\n"
     ]
    },
    {
     "name": "stdout",
     "output_type": "stream",
     "text": [
      " 68%|██████▊   | 34/50 [01:26<00:38,  2.41s/trial, best loss: -0.7097170971709718]"
     ]
    },
    {
     "name": "stderr",
     "output_type": "stream",
     "text": [
      "/Users/mattmacrides/miniconda3/envs/dreamt/lib/python3.10/site-packages/sklearn/utils/validation.py:2739: UserWarning: X does not have valid feature names, but LGBMClassifier was fitted with feature names\n",
      "  warnings.warn(\n",
      "\n"
     ]
    },
    {
     "name": "stdout",
     "output_type": "stream",
     "text": [
      " 70%|███████   | 35/50 [01:30<00:42,  2.83s/trial, best loss: -0.7097170971709718]"
     ]
    },
    {
     "name": "stderr",
     "output_type": "stream",
     "text": [
      "/Users/mattmacrides/miniconda3/envs/dreamt/lib/python3.10/site-packages/sklearn/utils/validation.py:2739: UserWarning: X does not have valid feature names, but LGBMClassifier was fitted with feature names\n",
      "  warnings.warn(\n",
      "\n"
     ]
    },
    {
     "name": "stdout",
     "output_type": "stream",
     "text": [
      " 72%|███████▏  | 36/50 [01:34<00:45,  3.29s/trial, best loss: -0.7097170971709718]"
     ]
    },
    {
     "name": "stderr",
     "output_type": "stream",
     "text": [
      "/Users/mattmacrides/miniconda3/envs/dreamt/lib/python3.10/site-packages/sklearn/utils/validation.py:2739: UserWarning: X does not have valid feature names, but LGBMClassifier was fitted with feature names\n",
      "  warnings.warn(\n",
      "\n"
     ]
    },
    {
     "name": "stdout",
     "output_type": "stream",
     "text": [
      " 74%|███████▍  | 37/50 [01:38<00:46,  3.61s/trial, best loss: -0.7097170971709718]"
     ]
    },
    {
     "name": "stderr",
     "output_type": "stream",
     "text": [
      "/Users/mattmacrides/miniconda3/envs/dreamt/lib/python3.10/site-packages/sklearn/utils/validation.py:2739: UserWarning: X does not have valid feature names, but LGBMClassifier was fitted with feature names\n",
      "  warnings.warn(\n",
      "\n"
     ]
    },
    {
     "name": "stdout",
     "output_type": "stream",
     "text": [
      " 76%|███████▌  | 38/50 [01:45<00:53,  4.44s/trial, best loss: -0.7097170971709718]"
     ]
    },
    {
     "name": "stderr",
     "output_type": "stream",
     "text": [
      "/Users/mattmacrides/miniconda3/envs/dreamt/lib/python3.10/site-packages/sklearn/utils/validation.py:2739: UserWarning: X does not have valid feature names, but LGBMClassifier was fitted with feature names\n",
      "  warnings.warn(\n",
      "\n"
     ]
    },
    {
     "name": "stdout",
     "output_type": "stream",
     "text": [
      " 78%|███████▊  | 39/50 [01:47<00:41,  3.81s/trial, best loss: -0.7097170971709718]"
     ]
    },
    {
     "name": "stderr",
     "output_type": "stream",
     "text": [
      "/Users/mattmacrides/miniconda3/envs/dreamt/lib/python3.10/site-packages/sklearn/utils/validation.py:2739: UserWarning: X does not have valid feature names, but LGBMClassifier was fitted with feature names\n",
      "  warnings.warn(\n",
      "\n"
     ]
    },
    {
     "name": "stdout",
     "output_type": "stream",
     "text": [
      " 80%|████████  | 40/50 [01:52<00:42,  4.26s/trial, best loss: -0.7158487027195999]"
     ]
    },
    {
     "name": "stderr",
     "output_type": "stream",
     "text": [
      "/Users/mattmacrides/miniconda3/envs/dreamt/lib/python3.10/site-packages/sklearn/utils/validation.py:2739: UserWarning: X does not have valid feature names, but LGBMClassifier was fitted with feature names\n",
      "  warnings.warn(\n",
      "\n"
     ]
    },
    {
     "name": "stdout",
     "output_type": "stream",
     "text": [
      " 82%|████████▏ | 41/50 [01:57<00:39,  4.42s/trial, best loss: -0.7158487027195999]"
     ]
    },
    {
     "name": "stderr",
     "output_type": "stream",
     "text": [
      "/Users/mattmacrides/miniconda3/envs/dreamt/lib/python3.10/site-packages/sklearn/utils/validation.py:2739: UserWarning: X does not have valid feature names, but LGBMClassifier was fitted with feature names\n",
      "  warnings.warn(\n",
      "\n"
     ]
    },
    {
     "name": "stdout",
     "output_type": "stream",
     "text": [
      " 84%|████████▍ | 42/50 [01:59<00:30,  3.82s/trial, best loss: -0.7158487027195999]"
     ]
    },
    {
     "name": "stderr",
     "output_type": "stream",
     "text": [
      "/Users/mattmacrides/miniconda3/envs/dreamt/lib/python3.10/site-packages/sklearn/utils/validation.py:2739: UserWarning: X does not have valid feature names, but LGBMClassifier was fitted with feature names\n",
      "  warnings.warn(\n",
      "\n"
     ]
    },
    {
     "name": "stdout",
     "output_type": "stream",
     "text": [
      " 86%|████████▌ | 43/50 [02:06<00:31,  4.55s/trial, best loss: -0.7158487027195999]"
     ]
    },
    {
     "name": "stderr",
     "output_type": "stream",
     "text": [
      "/Users/mattmacrides/miniconda3/envs/dreamt/lib/python3.10/site-packages/sklearn/utils/validation.py:2739: UserWarning: X does not have valid feature names, but LGBMClassifier was fitted with feature names\n",
      "  warnings.warn(\n",
      "\n"
     ]
    },
    {
     "name": "stdout",
     "output_type": "stream",
     "text": [
      " 88%|████████▊ | 44/50 [02:10<00:26,  4.46s/trial, best loss: -0.7158487027195999]"
     ]
    },
    {
     "name": "stderr",
     "output_type": "stream",
     "text": [
      "/Users/mattmacrides/miniconda3/envs/dreamt/lib/python3.10/site-packages/sklearn/utils/validation.py:2739: UserWarning: X does not have valid feature names, but LGBMClassifier was fitted with feature names\n",
      "  warnings.warn(\n",
      "\n"
     ]
    },
    {
     "name": "stdout",
     "output_type": "stream",
     "text": [
      " 90%|█████████ | 45/50 [02:13<00:20,  4.10s/trial, best loss: -0.7158487027195999]"
     ]
    },
    {
     "name": "stderr",
     "output_type": "stream",
     "text": [
      "/Users/mattmacrides/miniconda3/envs/dreamt/lib/python3.10/site-packages/sklearn/utils/validation.py:2739: UserWarning: X does not have valid feature names, but LGBMClassifier was fitted with feature names\n",
      "  warnings.warn(\n",
      "\n"
     ]
    },
    {
     "name": "stdout",
     "output_type": "stream",
     "text": [
      " 92%|█████████▏| 46/50 [02:20<00:19,  4.98s/trial, best loss: -0.7158487027195999]"
     ]
    },
    {
     "name": "stderr",
     "output_type": "stream",
     "text": [
      "/Users/mattmacrides/miniconda3/envs/dreamt/lib/python3.10/site-packages/sklearn/utils/validation.py:2739: UserWarning: X does not have valid feature names, but LGBMClassifier was fitted with feature names\n",
      "  warnings.warn(\n",
      "\n"
     ]
    },
    {
     "name": "stdout",
     "output_type": "stream",
     "text": [
      " 94%|█████████▍| 47/50 [02:22<00:12,  4.05s/trial, best loss: -0.7158487027195999]"
     ]
    },
    {
     "name": "stderr",
     "output_type": "stream",
     "text": [
      "/Users/mattmacrides/miniconda3/envs/dreamt/lib/python3.10/site-packages/sklearn/utils/validation.py:2739: UserWarning: X does not have valid feature names, but LGBMClassifier was fitted with feature names\n",
      "  warnings.warn(\n",
      "\n"
     ]
    },
    {
     "name": "stdout",
     "output_type": "stream",
     "text": [
      " 96%|█████████▌| 48/50 [02:26<00:07,  3.91s/trial, best loss: -0.7158487027195999]"
     ]
    },
    {
     "name": "stderr",
     "output_type": "stream",
     "text": [
      "/Users/mattmacrides/miniconda3/envs/dreamt/lib/python3.10/site-packages/sklearn/utils/validation.py:2739: UserWarning: X does not have valid feature names, but LGBMClassifier was fitted with feature names\n",
      "  warnings.warn(\n",
      "\n"
     ]
    },
    {
     "name": "stdout",
     "output_type": "stream",
     "text": [
      " 98%|█████████▊| 49/50 [02:29<00:03,  3.75s/trial, best loss: -0.7158487027195999]"
     ]
    },
    {
     "name": "stderr",
     "output_type": "stream",
     "text": [
      "/Users/mattmacrides/miniconda3/envs/dreamt/lib/python3.10/site-packages/sklearn/utils/validation.py:2739: UserWarning: X does not have valid feature names, but LGBMClassifier was fitted with feature names\n",
      "  warnings.warn(\n",
      "\n"
     ]
    },
    {
     "name": "stdout",
     "output_type": "stream",
     "text": [
      "100%|██████████| 50/50 [02:32<00:00,  3.05s/trial, best loss: -0.7158487027195999]"
     ]
    },
    {
     "name": "stderr",
     "output_type": "stream",
     "text": [
      "/Users/mattmacrides/miniconda3/envs/dreamt/lib/python3.10/site-packages/sklearn/utils/validation.py:2739: UserWarning: X does not have valid feature names, but LGBMClassifier was fitted with feature names\n",
      "  warnings.warn(\n",
      "\n"
     ]
    },
    {
     "name": "stdout",
     "output_type": "stream",
     "text": [
      "\n",
      "Best hyperparameters: {'learning_rate': np.float64(0.2001784873481772), 'max_depth': np.float64(6.0), 'n_estimators': np.float64(220.0), 'num_leaves': np.float64(80.0), 'reg_alpha': np.float64(0.0), 'reg_lambda': np.float64(1.4020918088281877)}\n"
     ]
    }
   ],
   "source": [
    "final_lgb_model = LightGBM_engine(X_train_resampled, y_train_resampled, X_val, y_val)"
   ]
  },
  {
   "cell_type": "code",
   "execution_count": 8,
   "metadata": {},
   "outputs": [
    {
     "name": "stderr",
     "output_type": "stream",
     "text": [
      "/Users/mattmacrides/miniconda3/envs/dreamt/lib/python3.10/site-packages/sklearn/utils/validation.py:2739: UserWarning: X does not have valid feature names, but LGBMClassifier was fitted with feature names\n",
      "  warnings.warn(\n",
      "/Users/mattmacrides/miniconda3/envs/dreamt/lib/python3.10/site-packages/sklearn/utils/validation.py:2739: UserWarning: X does not have valid feature names, but LGBMClassifier was fitted with feature names\n",
      "  warnings.warn(\n",
      "/Users/mattmacrides/miniconda3/envs/dreamt/lib/python3.10/site-packages/sklearn/utils/validation.py:2739: UserWarning: X does not have valid feature names, but LGBMClassifier was fitted with feature names\n",
      "  warnings.warn(\n",
      "/Users/mattmacrides/miniconda3/envs/dreamt/lib/python3.10/site-packages/sklearn/utils/validation.py:2739: UserWarning: X does not have valid feature names, but LGBMClassifier was fitted with feature names\n",
      "  warnings.warn(\n",
      "/Users/mattmacrides/miniconda3/envs/dreamt/lib/python3.10/site-packages/sklearn/utils/validation.py:2739: UserWarning: X does not have valid feature names, but LGBMClassifier was fitted with feature names\n",
      "  warnings.warn(\n",
      "/Users/mattmacrides/miniconda3/envs/dreamt/lib/python3.10/site-packages/sklearn/utils/validation.py:2739: UserWarning: X does not have valid feature names, but LGBMClassifier was fitted with feature names\n",
      "  warnings.warn(\n",
      "/Users/mattmacrides/miniconda3/envs/dreamt/lib/python3.10/site-packages/sklearn/utils/validation.py:2739: UserWarning: X does not have valid feature names, but LGBMClassifier was fitted with feature names\n",
      "  warnings.warn(\n",
      "/Users/mattmacrides/miniconda3/envs/dreamt/lib/python3.10/site-packages/sklearn/utils/validation.py:2739: UserWarning: X does not have valid feature names, but LGBMClassifier was fitted with feature names\n",
      "  warnings.warn(\n",
      "/Users/mattmacrides/miniconda3/envs/dreamt/lib/python3.10/site-packages/sklearn/utils/validation.py:2739: UserWarning: X does not have valid feature names, but LGBMClassifier was fitted with feature names\n",
      "  warnings.warn(\n",
      "/Users/mattmacrides/miniconda3/envs/dreamt/lib/python3.10/site-packages/sklearn/utils/validation.py:2739: UserWarning: X does not have valid feature names, but LGBMClassifier was fitted with feature names\n",
      "  warnings.warn(\n",
      "/Users/mattmacrides/miniconda3/envs/dreamt/lib/python3.10/site-packages/sklearn/utils/validation.py:2739: UserWarning: X does not have valid feature names, but LGBMClassifier was fitted with feature names\n",
      "  warnings.warn(\n",
      "/Users/mattmacrides/miniconda3/envs/dreamt/lib/python3.10/site-packages/sklearn/utils/validation.py:2739: UserWarning: X does not have valid feature names, but LGBMClassifier was fitted with feature names\n",
      "  warnings.warn(\n",
      "/Users/mattmacrides/miniconda3/envs/dreamt/lib/python3.10/site-packages/sklearn/utils/validation.py:2739: UserWarning: X does not have valid feature names, but LGBMClassifier was fitted with feature names\n",
      "  warnings.warn(\n",
      "/Users/mattmacrides/miniconda3/envs/dreamt/lib/python3.10/site-packages/sklearn/utils/validation.py:2739: UserWarning: X does not have valid feature names, but LGBMClassifier was fitted with feature names\n",
      "  warnings.warn(\n",
      "/Users/mattmacrides/miniconda3/envs/dreamt/lib/python3.10/site-packages/sklearn/utils/validation.py:2739: UserWarning: X does not have valid feature names, but LGBMClassifier was fitted with feature names\n",
      "  warnings.warn(\n",
      "/Users/mattmacrides/miniconda3/envs/dreamt/lib/python3.10/site-packages/sklearn/utils/validation.py:2739: UserWarning: X does not have valid feature names, but LGBMClassifier was fitted with feature names\n",
      "  warnings.warn(\n",
      "/Users/mattmacrides/miniconda3/envs/dreamt/lib/python3.10/site-packages/sklearn/utils/validation.py:2739: UserWarning: X does not have valid feature names, but LGBMClassifier was fitted with feature names\n",
      "  warnings.warn(\n",
      "/Users/mattmacrides/miniconda3/envs/dreamt/lib/python3.10/site-packages/sklearn/utils/validation.py:2739: UserWarning: X does not have valid feature names, but LGBMClassifier was fitted with feature names\n",
      "  warnings.warn(\n",
      "/Users/mattmacrides/miniconda3/envs/dreamt/lib/python3.10/site-packages/sklearn/utils/validation.py:2739: UserWarning: X does not have valid feature names, but LGBMClassifier was fitted with feature names\n",
      "  warnings.warn(\n",
      "/Users/mattmacrides/miniconda3/envs/dreamt/lib/python3.10/site-packages/sklearn/utils/validation.py:2739: UserWarning: X does not have valid feature names, but LGBMClassifier was fitted with feature names\n",
      "  warnings.warn(\n",
      "/Users/mattmacrides/miniconda3/envs/dreamt/lib/python3.10/site-packages/sklearn/utils/validation.py:2739: UserWarning: X does not have valid feature names, but LGBMClassifier was fitted with feature names\n",
      "  warnings.warn(\n",
      "/Users/mattmacrides/miniconda3/envs/dreamt/lib/python3.10/site-packages/sklearn/utils/validation.py:2739: UserWarning: X does not have valid feature names, but LGBMClassifier was fitted with feature names\n",
      "  warnings.warn(\n",
      "/Users/mattmacrides/miniconda3/envs/dreamt/lib/python3.10/site-packages/sklearn/utils/validation.py:2739: UserWarning: X does not have valid feature names, but LGBMClassifier was fitted with feature names\n",
      "  warnings.warn(\n",
      "/Users/mattmacrides/miniconda3/envs/dreamt/lib/python3.10/site-packages/sklearn/utils/validation.py:2739: UserWarning: X does not have valid feature names, but LGBMClassifier was fitted with feature names\n",
      "  warnings.warn(\n",
      "/Users/mattmacrides/miniconda3/envs/dreamt/lib/python3.10/site-packages/sklearn/utils/validation.py:2739: UserWarning: X does not have valid feature names, but LGBMClassifier was fitted with feature names\n",
      "  warnings.warn(\n",
      "/Users/mattmacrides/miniconda3/envs/dreamt/lib/python3.10/site-packages/sklearn/utils/validation.py:2739: UserWarning: X does not have valid feature names, but LGBMClassifier was fitted with feature names\n",
      "  warnings.warn(\n",
      "/Users/mattmacrides/miniconda3/envs/dreamt/lib/python3.10/site-packages/sklearn/utils/validation.py:2739: UserWarning: X does not have valid feature names, but LGBMClassifier was fitted with feature names\n",
      "  warnings.warn(\n",
      "/Users/mattmacrides/miniconda3/envs/dreamt/lib/python3.10/site-packages/sklearn/utils/validation.py:2739: UserWarning: X does not have valid feature names, but LGBMClassifier was fitted with feature names\n",
      "  warnings.warn(\n",
      "/Users/mattmacrides/miniconda3/envs/dreamt/lib/python3.10/site-packages/sklearn/utils/validation.py:2739: UserWarning: X does not have valid feature names, but LGBMClassifier was fitted with feature names\n",
      "  warnings.warn(\n",
      "/Users/mattmacrides/miniconda3/envs/dreamt/lib/python3.10/site-packages/sklearn/utils/validation.py:2739: UserWarning: X does not have valid feature names, but LGBMClassifier was fitted with feature names\n",
      "  warnings.warn(\n",
      "/Users/mattmacrides/miniconda3/envs/dreamt/lib/python3.10/site-packages/sklearn/utils/validation.py:2739: UserWarning: X does not have valid feature names, but LGBMClassifier was fitted with feature names\n",
      "  warnings.warn(\n",
      "/Users/mattmacrides/miniconda3/envs/dreamt/lib/python3.10/site-packages/sklearn/utils/validation.py:2739: UserWarning: X does not have valid feature names, but LGBMClassifier was fitted with feature names\n",
      "  warnings.warn(\n",
      "/Users/mattmacrides/miniconda3/envs/dreamt/lib/python3.10/site-packages/sklearn/utils/validation.py:2739: UserWarning: X does not have valid feature names, but LGBMClassifier was fitted with feature names\n",
      "  warnings.warn(\n",
      "/Users/mattmacrides/miniconda3/envs/dreamt/lib/python3.10/site-packages/sklearn/utils/validation.py:2739: UserWarning: X does not have valid feature names, but LGBMClassifier was fitted with feature names\n",
      "  warnings.warn(\n",
      "/Users/mattmacrides/miniconda3/envs/dreamt/lib/python3.10/site-packages/sklearn/utils/validation.py:2739: UserWarning: X does not have valid feature names, but LGBMClassifier was fitted with feature names\n",
      "  warnings.warn(\n",
      "/Users/mattmacrides/miniconda3/envs/dreamt/lib/python3.10/site-packages/sklearn/utils/validation.py:2739: UserWarning: X does not have valid feature names, but LGBMClassifier was fitted with feature names\n",
      "  warnings.warn(\n",
      "/Users/mattmacrides/miniconda3/envs/dreamt/lib/python3.10/site-packages/sklearn/utils/validation.py:2739: UserWarning: X does not have valid feature names, but LGBMClassifier was fitted with feature names\n",
      "  warnings.warn(\n",
      "/Users/mattmacrides/miniconda3/envs/dreamt/lib/python3.10/site-packages/sklearn/utils/validation.py:2739: UserWarning: X does not have valid feature names, but LGBMClassifier was fitted with feature names\n",
      "  warnings.warn(\n",
      "/Users/mattmacrides/miniconda3/envs/dreamt/lib/python3.10/site-packages/sklearn/utils/validation.py:2739: UserWarning: X does not have valid feature names, but LGBMClassifier was fitted with feature names\n",
      "  warnings.warn(\n",
      "/Users/mattmacrides/miniconda3/envs/dreamt/lib/python3.10/site-packages/sklearn/utils/validation.py:2739: UserWarning: X does not have valid feature names, but LGBMClassifier was fitted with feature names\n",
      "  warnings.warn(\n",
      "/Users/mattmacrides/miniconda3/envs/dreamt/lib/python3.10/site-packages/sklearn/utils/validation.py:2739: UserWarning: X does not have valid feature names, but LGBMClassifier was fitted with feature names\n",
      "  warnings.warn(\n",
      "/Users/mattmacrides/miniconda3/envs/dreamt/lib/python3.10/site-packages/sklearn/utils/validation.py:2739: UserWarning: X does not have valid feature names, but LGBMClassifier was fitted with feature names\n",
      "  warnings.warn(\n",
      "/Users/mattmacrides/miniconda3/envs/dreamt/lib/python3.10/site-packages/sklearn/utils/validation.py:2739: UserWarning: X does not have valid feature names, but LGBMClassifier was fitted with feature names\n",
      "  warnings.warn(\n",
      "/Users/mattmacrides/miniconda3/envs/dreamt/lib/python3.10/site-packages/sklearn/utils/validation.py:2739: UserWarning: X does not have valid feature names, but LGBMClassifier was fitted with feature names\n",
      "  warnings.warn(\n",
      "/Users/mattmacrides/miniconda3/envs/dreamt/lib/python3.10/site-packages/sklearn/utils/validation.py:2739: UserWarning: X does not have valid feature names, but LGBMClassifier was fitted with feature names\n",
      "  warnings.warn(\n",
      "/Users/mattmacrides/miniconda3/envs/dreamt/lib/python3.10/site-packages/sklearn/utils/validation.py:2739: UserWarning: X does not have valid feature names, but LGBMClassifier was fitted with feature names\n",
      "  warnings.warn(\n",
      "/Users/mattmacrides/miniconda3/envs/dreamt/lib/python3.10/site-packages/sklearn/utils/validation.py:2739: UserWarning: X does not have valid feature names, but LGBMClassifier was fitted with feature names\n",
      "  warnings.warn(\n",
      "/Users/mattmacrides/miniconda3/envs/dreamt/lib/python3.10/site-packages/sklearn/utils/validation.py:2739: UserWarning: X does not have valid feature names, but LGBMClassifier was fitted with feature names\n",
      "  warnings.warn(\n",
      "/Users/mattmacrides/miniconda3/envs/dreamt/lib/python3.10/site-packages/sklearn/utils/validation.py:2739: UserWarning: X does not have valid feature names, but LGBMClassifier was fitted with feature names\n",
      "  warnings.warn(\n",
      "/Users/mattmacrides/miniconda3/envs/dreamt/lib/python3.10/site-packages/sklearn/utils/validation.py:2739: UserWarning: X does not have valid feature names, but LGBMClassifier was fitted with feature names\n",
      "  warnings.warn(\n",
      "/Users/mattmacrides/miniconda3/envs/dreamt/lib/python3.10/site-packages/sklearn/utils/validation.py:2739: UserWarning: X does not have valid feature names, but LGBMClassifier was fitted with feature names\n",
      "  warnings.warn(\n",
      "/Users/mattmacrides/miniconda3/envs/dreamt/lib/python3.10/site-packages/sklearn/utils/validation.py:2739: UserWarning: X does not have valid feature names, but LGBMClassifier was fitted with feature names\n",
      "  warnings.warn(\n",
      "/Users/mattmacrides/miniconda3/envs/dreamt/lib/python3.10/site-packages/sklearn/utils/validation.py:2739: UserWarning: X does not have valid feature names, but LGBMClassifier was fitted with feature names\n",
      "  warnings.warn(\n",
      "/Users/mattmacrides/miniconda3/envs/dreamt/lib/python3.10/site-packages/sklearn/utils/validation.py:2739: UserWarning: X does not have valid feature names, but LGBMClassifier was fitted with feature names\n",
      "  warnings.warn(\n",
      "/Users/mattmacrides/miniconda3/envs/dreamt/lib/python3.10/site-packages/sklearn/utils/validation.py:2739: UserWarning: X does not have valid feature names, but LGBMClassifier was fitted with feature names\n",
      "  warnings.warn(\n",
      "/Users/mattmacrides/miniconda3/envs/dreamt/lib/python3.10/site-packages/sklearn/utils/validation.py:2739: UserWarning: X does not have valid feature names, but LGBMClassifier was fitted with feature names\n",
      "  warnings.warn(\n"
     ]
    },
    {
     "name": "stdout",
     "output_type": "stream",
     "text": [
      "[[31585  1478]\n",
      " [ 2035 22585]]\n"
     ]
    },
    {
     "name": "stderr",
     "output_type": "stream",
     "text": [
      "/Users/mattmacrides/miniconda3/envs/dreamt/lib/python3.10/site-packages/sklearn/utils/validation.py:2739: UserWarning: X does not have valid feature names, but LGBMClassifier was fitted with feature names\n",
      "  warnings.warn(\n"
     ]
    },
    {
     "data": {
      "image/png": "[encoded data removed]",
      "text/plain": [
       "<Figure size 400x300 with 2 Axes>"
      ]
     },
     "metadata": {},
     "output_type": "display_data"
    },
    {
     "name": "stderr",
     "output_type": "stream",
     "text": [
      "/Users/mattmacrides/miniconda3/envs/dreamt/lib/python3.10/site-packages/sklearn/utils/validation.py:2739: UserWarning: X does not have valid feature names, but LGBMClassifier was fitted with feature names\n",
      "  warnings.warn(\n",
      "/Users/mattmacrides/miniconda3/envs/dreamt/lib/python3.10/site-packages/sklearn/utils/validation.py:2739: UserWarning: X does not have valid feature names, but LGBMClassifier was fitted with feature names\n",
      "  warnings.warn(\n",
      "/Users/mattmacrides/miniconda3/envs/dreamt/lib/python3.10/site-packages/sklearn/utils/validation.py:2739: UserWarning: X does not have valid feature names, but LGBMClassifier was fitted with feature names\n",
      "  warnings.warn(\n",
      "/Users/mattmacrides/miniconda3/envs/dreamt/lib/python3.10/site-packages/sklearn/utils/validation.py:2739: UserWarning: X does not have valid feature names, but LGBMClassifier was fitted with feature names\n",
      "  warnings.warn(\n",
      "/Users/mattmacrides/miniconda3/envs/dreamt/lib/python3.10/site-packages/sklearn/utils/validation.py:2739: UserWarning: X does not have valid feature names, but LGBMClassifier was fitted with feature names\n",
      "  warnings.warn(\n",
      "/Users/mattmacrides/miniconda3/envs/dreamt/lib/python3.10/site-packages/sklearn/utils/validation.py:2739: UserWarning: X does not have valid feature names, but LGBMClassifier was fitted with feature names\n",
      "  warnings.warn(\n",
      "/Users/mattmacrides/miniconda3/envs/dreamt/lib/python3.10/site-packages/sklearn/utils/validation.py:2739: UserWarning: X does not have valid feature names, but LGBMClassifier was fitted with feature names\n",
      "  warnings.warn(\n",
      "/Users/mattmacrides/miniconda3/envs/dreamt/lib/python3.10/site-packages/sklearn/utils/validation.py:2739: UserWarning: X does not have valid feature names, but LGBMClassifier was fitted with feature names\n",
      "  warnings.warn(\n",
      "/Users/mattmacrides/miniconda3/envs/dreamt/lib/python3.10/site-packages/sklearn/utils/validation.py:2739: UserWarning: X does not have valid feature names, but LGBMClassifier was fitted with feature names\n",
      "  warnings.warn(\n",
      "/Users/mattmacrides/miniconda3/envs/dreamt/lib/python3.10/site-packages/sklearn/utils/validation.py:2739: UserWarning: X does not have valid feature names, but LGBMClassifier was fitted with feature names\n",
      "  warnings.warn(\n",
      "/Users/mattmacrides/miniconda3/envs/dreamt/lib/python3.10/site-packages/sklearn/utils/validation.py:2739: UserWarning: X does not have valid feature names, but LGBMClassifier was fitted with feature names\n",
      "  warnings.warn(\n",
      "/Users/mattmacrides/miniconda3/envs/dreamt/lib/python3.10/site-packages/sklearn/utils/validation.py:2739: UserWarning: X does not have valid feature names, but LGBMClassifier was fitted with feature names\n",
      "  warnings.warn(\n",
      "/Users/mattmacrides/miniconda3/envs/dreamt/lib/python3.10/site-packages/sklearn/utils/validation.py:2739: UserWarning: X does not have valid feature names, but LGBMClassifier was fitted with feature names\n",
      "  warnings.warn(\n",
      "/Users/mattmacrides/miniconda3/envs/dreamt/lib/python3.10/site-packages/sklearn/utils/validation.py:2739: UserWarning: X does not have valid feature names, but LGBMClassifier was fitted with feature names\n",
      "  warnings.warn(\n",
      "/Users/mattmacrides/miniconda3/envs/dreamt/lib/python3.10/site-packages/sklearn/utils/validation.py:2739: UserWarning: X does not have valid feature names, but LGBMClassifier was fitted with feature names\n",
      "  warnings.warn(\n",
      "/Users/mattmacrides/miniconda3/envs/dreamt/lib/python3.10/site-packages/sklearn/utils/validation.py:2739: UserWarning: X does not have valid feature names, but LGBMClassifier was fitted with feature names\n",
      "  warnings.warn(\n"
     ]
    },
    {
     "name": "stdout",
     "output_type": "stream",
     "text": [
      "[[8857 1545]\n",
      " [ 866 5681]]\n"
     ]
    },
    {
     "name": "stderr",
     "output_type": "stream",
     "text": [
      "/Users/mattmacrides/miniconda3/envs/dreamt/lib/python3.10/site-packages/sklearn/utils/validation.py:2739: UserWarning: X does not have valid feature names, but LGBMClassifier was fitted with feature names\n",
      "  warnings.warn(\n"
     ]
    },
    {
     "data": {
      "image/png": "[encoded data removed]",
      "text/plain": [
       "<Figure size 400x300 with 2 Axes>"
      ]
     },
     "metadata": {},
     "output_type": "display_data"
    },
    {
     "data": {
      "text/html": [
       "<div>\n",
       "<style scoped>\n",
       "    .dataframe tbody tr th:only-of-type {\n",
       "        vertical-align: middle;\n",
       "    }\n",
       "\n",
       "    .dataframe tbody tr th {\n",
       "        vertical-align: top;\n",
       "    }\n",
       "\n",
       "    .dataframe thead th {\n",
       "        text-align: right;\n",
       "    }\n",
       "</style>\n",
       "<table border=\"1\" class=\"dataframe\">\n",
       "  <thead>\n",
       "    <tr style=\"text-align: right;\">\n",
       "      <th></th>\n",
       "      <th>Model</th>\n",
       "      <th>Precision</th>\n",
       "      <th>Recall</th>\n",
       "      <th>F1 Score</th>\n",
       "      <th>Specificity</th>\n",
       "      <th>AUROC</th>\n",
       "      <th>AUPRC</th>\n",
       "      <th>Accuracy</th>\n",
       "      <th>Cohen's Kappa</th>\n",
       "    </tr>\n",
       "  </thead>\n",
       "  <tbody>\n",
       "    <tr>\n",
       "      <th>0</th>\n",
       "      <td>LightGBM</td>\n",
       "      <td>0.786189</td>\n",
       "      <td>0.867726</td>\n",
       "      <td>0.824947</td>\n",
       "      <td>0.851471</td>\n",
       "      <td>0.931117</td>\n",
       "      <td>0.914283</td>\n",
       "      <td>0.85775</td>\n",
       "      <td>0.696986</td>\n",
       "    </tr>\n",
       "  </tbody>\n",
       "</table>\n",
       "</div>"
      ],
      "text/plain": [
       "      Model  Precision    Recall  F1 Score  Specificity     AUROC     AUPRC  Accuracy  Cohen's Kappa\n",
       "0  LightGBM   0.786189  0.867726  0.824947     0.851471  0.931117  0.914283   0.85775       0.696986"
      ]
     },
     "execution_count": 8,
     "metadata": {},
     "output_type": "execute_result"
    }
   ],
   "source": [
    "# calculate training scores\n",
    "prob_ls_train, len_train, true_ls_train = compute_probabilities(\n",
    "    train_sids, SW_df, final_features, \"lgb\", final_lgb_model, group_variable)\n",
    "lgb_train_results_df = LightGBM_result(final_lgb_model, X_train, y_train, prob_ls_train, true_ls_train)\n",
    "\n",
    "# # calculate testing scores\n",
    "prob_ls_test, len_test, true_ls_test = compute_probabilities(\n",
    "    test_sids, SW_df, final_features, \"lgb\", final_lgb_model, group_variable)\n",
    "lgb_test_results_df = LightGBM_result(final_lgb_model, X_test, y_test, prob_ls_test, true_ls_test)\n",
    "lgb_test_results_df\n"
   ]
  },
  {
   "cell_type": "code",
   "execution_count": 9,
   "metadata": {},
   "outputs": [
    {
     "name": "stderr",
     "output_type": "stream",
     "text": [
      "/Users/mattmacrides/miniconda3/envs/dreamt/lib/python3.10/site-packages/shap/explainers/_tree.py:583: UserWarning: LightGBM binary classifier with TreeExplainer shap values output has changed to a list of ndarray\n",
      "  warnings.warn(\n",
      "/var/folders/lv/3832vqcj2sdbl9w81_z8pp_40000gn/T/ipykernel_38555/1573495565.py:5: FutureWarning: The NumPy global RNG was seeded by calling `np.random.seed`. In a future version this function will no longer use the global RNG. Pass `rng` explicitly to opt-in to the new behaviour and silence this warning.\n",
      "  shap.summary_plot(shap_values, X_train, plot_type=\"bar\", feature_names=final_features)\n"
     ]
    },
    {
     "data": {
      "image/png": "[encoded data removed]",
      "text/plain": [
       "<Figure size 800x950 with 1 Axes>"
      ]
     },
     "metadata": {},
     "output_type": "display_data"
    }
   ],
   "source": [
    "import shap\n",
    "explainer = shap.TreeExplainer(final_lgb_model)\n",
    "shap_values = explainer.shap_values(X_train)\n",
    "\n",
    "shap.summary_plot(shap_values, X_train, plot_type=\"bar\", feature_names=final_features)"
   ]
  },
  {
   "cell_type": "markdown",
   "metadata": {},
   "source": [
    "### LightGBM and LSTM post processing"
   ]
  },
  {
   "cell_type": "code",
   "execution_count": 10,
   "metadata": {},
   "outputs": [
    {
     "name": "stderr",
     "output_type": "stream",
     "text": [
      "/Users/mattmacrides/miniconda3/envs/dreamt/lib/python3.10/site-packages/torch/nn/modules/rnn.py:123: UserWarning: dropout option adds dropout after all but last recurrent layer, so non-zero dropout expects num_layers greater than 1, but got dropout=0.5 and num_layers=1\n",
      "  warnings.warn(\n"
     ]
    },
    {
     "name": "stdout",
     "output_type": "stream",
     "text": [
      "Training on cpu\n",
      "Epoch 5/300 - Loss: 0.6518, Accuracy: 0.6254\n",
      "Epoch 10/300 - Loss: 0.6095, Accuracy: 0.6254\n",
      "Epoch 15/300 - Loss: 0.5287, Accuracy: 0.8991\n",
      "Epoch 20/300 - Loss: 0.3576, Accuracy: 0.9298\n",
      "Epoch 25/300 - Loss: 0.2871, Accuracy: 0.9174\n",
      "Epoch 30/300 - Loss: 0.2566, Accuracy: 0.9338\n",
      "Epoch 35/300 - Loss: 0.2421, Accuracy: 0.9393\n",
      "Epoch 40/300 - Loss: 0.2325, Accuracy: 0.9388\n",
      "Epoch 45/300 - Loss: 0.2273, Accuracy: 0.9401\n",
      "Epoch 50/300 - Loss: 0.2233, Accuracy: 0.9403\n",
      "Epoch 55/300 - Loss: 0.2198, Accuracy: 0.9404\n",
      "Epoch 60/300 - Loss: 0.2167, Accuracy: 0.9410\n",
      "Epoch 65/300 - Loss: 0.2138, Accuracy: 0.9415\n",
      "Epoch 70/300 - Loss: 0.2109, Accuracy: 0.9425\n",
      "Epoch 75/300 - Loss: 0.2082, Accuracy: 0.9433\n",
      "Epoch 80/300 - Loss: 0.2056, Accuracy: 0.9438\n",
      "Epoch 85/300 - Loss: 0.2032, Accuracy: 0.9443\n",
      "Epoch 90/300 - Loss: 0.2010, Accuracy: 0.9449\n",
      "Epoch 95/300 - Loss: 0.1989, Accuracy: 0.9453\n",
      "Epoch 100/300 - Loss: 0.1969, Accuracy: 0.9455\n",
      "Epoch 105/300 - Loss: 0.1951, Accuracy: 0.9458\n",
      "Epoch 110/300 - Loss: 0.1933, Accuracy: 0.9460\n",
      "Epoch 115/300 - Loss: 0.1920, Accuracy: 0.9465\n",
      "Epoch 120/300 - Loss: 0.1905, Accuracy: 0.9469\n",
      "Epoch 125/300 - Loss: 0.1888, Accuracy: 0.9471\n",
      "Epoch 130/300 - Loss: 0.1871, Accuracy: 0.9476\n",
      "Epoch 135/300 - Loss: 0.1857, Accuracy: 0.9478\n",
      "Epoch 140/300 - Loss: 0.1844, Accuracy: 0.9478\n",
      "Epoch 145/300 - Loss: 0.1827, Accuracy: 0.9484\n",
      "Epoch 150/300 - Loss: 0.1813, Accuracy: 0.9484\n",
      "Epoch 155/300 - Loss: 0.1799, Accuracy: 0.9490\n",
      "Epoch 160/300 - Loss: 0.1784, Accuracy: 0.9493\n",
      "Epoch 165/300 - Loss: 0.1773, Accuracy: 0.9502\n",
      "Epoch 170/300 - Loss: 0.1755, Accuracy: 0.9504\n",
      "Epoch 175/300 - Loss: 0.1740, Accuracy: 0.9509\n",
      "Epoch 180/300 - Loss: 0.1728, Accuracy: 0.9512\n",
      "Epoch 185/300 - Loss: 0.1717, Accuracy: 0.9515\n",
      "Epoch 190/300 - Loss: 0.1706, Accuracy: 0.9517\n",
      "Epoch 195/300 - Loss: 0.1695, Accuracy: 0.9520\n",
      "Epoch 200/300 - Loss: 0.1685, Accuracy: 0.9520\n",
      "Epoch 205/300 - Loss: 0.1675, Accuracy: 0.9520\n",
      "Epoch 210/300 - Loss: 0.1666, Accuracy: 0.9520\n",
      "Epoch 215/300 - Loss: 0.1657, Accuracy: 0.9522\n",
      "Epoch 220/300 - Loss: 0.1653, Accuracy: 0.9517\n",
      "Epoch 225/300 - Loss: 0.1643, Accuracy: 0.9522\n",
      "Epoch 230/300 - Loss: 0.1635, Accuracy: 0.9520\n",
      "Epoch 235/300 - Loss: 0.1625, Accuracy: 0.9519\n",
      "Epoch 240/300 - Loss: 0.1617, Accuracy: 0.9522\n",
      "Epoch 245/300 - Loss: 0.1609, Accuracy: 0.9526\n",
      "Epoch 250/300 - Loss: 0.1602, Accuracy: 0.9525\n",
      "Epoch 255/300 - Loss: 0.1597, Accuracy: 0.9528\n",
      "Epoch 260/300 - Loss: 0.1607, Accuracy: 0.9519\n",
      "Epoch 265/300 - Loss: 0.1594, Accuracy: 0.9525\n",
      "Epoch 270/300 - Loss: 0.1576, Accuracy: 0.9528\n",
      "Epoch 275/300 - Loss: 0.1568, Accuracy: 0.9528\n",
      "Epoch 280/300 - Loss: 0.1560, Accuracy: 0.9530\n",
      "Epoch 285/300 - Loss: 0.1557, Accuracy: 0.9532\n",
      "Epoch 290/300 - Loss: 0.1551, Accuracy: 0.9530\n",
      "Epoch 295/300 - Loss: 0.1542, Accuracy: 0.9533\n",
      "Epoch 300/300 - Loss: 0.1539, Accuracy: 0.9535\n"
     ]
    }
   ],
   "source": [
    "dataloader_train = LSTM_dataloader(\n",
    "    prob_ls_train, len_train, true_ls_train, batch_size=32\n",
    ")\n",
    "\n",
    "# Run LSTM model\n",
    "LSTM_model = LSTM_engine(dataloader_train, num_epoch=300, hidden_layer_size=32, learning_rate=0.001) # set your num_epoch"
   ]
  },
  {
   "cell_type": "code",
   "execution_count": 11,
   "metadata": {},
   "outputs": [
    {
     "name": "stdout",
     "output_type": "stream",
     "text": [
      "[[9047 1355]\n",
      " [ 775 5772]]\n"
     ]
    },
    {
     "data": {
      "image/png": "[encoded data removed]",
      "text/plain": [
       "<Figure size 400x300 with 2 Axes>"
      ]
     },
     "metadata": {},
     "output_type": "display_data"
    },
    {
     "data": {
      "text/html": [
       "<div>\n",
       "<style scoped>\n",
       "    .dataframe tbody tr th:only-of-type {\n",
       "        vertical-align: middle;\n",
       "    }\n",
       "\n",
       "    .dataframe tbody tr th {\n",
       "        vertical-align: top;\n",
       "    }\n",
       "\n",
       "    .dataframe thead th {\n",
       "        text-align: right;\n",
       "    }\n",
       "</style>\n",
       "<table border=\"1\" class=\"dataframe\">\n",
       "  <thead>\n",
       "    <tr style=\"text-align: right;\">\n",
       "      <th></th>\n",
       "      <th>Model</th>\n",
       "      <th>Precision</th>\n",
       "      <th>Recall</th>\n",
       "      <th>F1 Score</th>\n",
       "      <th>Specificity</th>\n",
       "      <th>AUROC</th>\n",
       "      <th>AUPRC</th>\n",
       "      <th>Accuracy</th>\n",
       "      <th>Cohen's Kappa</th>\n",
       "    </tr>\n",
       "  </thead>\n",
       "  <tbody>\n",
       "    <tr>\n",
       "      <th>0</th>\n",
       "      <td>LightGBM_LSTM</td>\n",
       "      <td>0.809878</td>\n",
       "      <td>0.881625</td>\n",
       "      <td>0.84423</td>\n",
       "      <td>0.869737</td>\n",
       "      <td>0.94154</td>\n",
       "      <td>0.92422</td>\n",
       "      <td>0.874329</td>\n",
       "      <td>0.733218</td>\n",
       "    </tr>\n",
       "  </tbody>\n",
       "</table>\n",
       "</div>"
      ],
      "text/plain": [
       "           Model  Precision    Recall  F1 Score  Specificity    AUROC    AUPRC  Accuracy  Cohen's Kappa\n",
       "0  LightGBM_LSTM   0.809878  0.881625   0.84423     0.869737  0.94154  0.92422  0.874329       0.733218"
      ]
     },
     "execution_count": 11,
     "metadata": {},
     "output_type": "execute_result"
    }
   ],
   "source": [
    "# LSTM Cross Entropy Loss\n",
    "dataloader_test = LSTM_dataloader(\n",
    "    prob_ls_test, len_test, true_ls_test, batch_size=1\n",
    ")\n",
    "lgb_lstm_test_results_df = LSTM_eval(LSTM_model, dataloader_test, true_ls_test, 'LightGBM_LSTM')\n",
    "lgb_lstm_test_results_df"
   ]
  },
  {
   "cell_type": "markdown",
   "metadata": {},
   "source": [
    "### EXTENSION 1: LightGBM and LSTM post processing; Label Smoothing = 0.1"
   ]
  },
  {
   "cell_type": "code",
   "execution_count": null,
   "metadata": {},
   "outputs": [
    {
     "name": "stderr",
     "output_type": "stream",
     "text": [
      "/Users/mattmacrides/miniconda3/envs/dreamt/lib/python3.10/site-packages/torch/nn/modules/rnn.py:123: UserWarning: dropout option adds dropout after all but last recurrent layer, so non-zero dropout expects num_layers greater than 1, but got dropout=0.5 and num_layers=1\n",
      "  warnings.warn(\n"
     ]
    },
    {
     "name": "stdout",
     "output_type": "stream",
     "text": [
      "Training on cpu\n",
      "Epoch 5/300 - Loss: 0.6443, Accuracy: 0.6254\n",
      "Epoch 10/300 - Loss: 0.6052, Accuracy: 0.6256\n",
      "Epoch 15/300 - Loss: 0.5237, Accuracy: 0.8956\n",
      "Epoch 20/300 - Loss: 0.3835, Accuracy: 0.9225\n",
      "Epoch 25/300 - Loss: 0.3794, Accuracy: 0.9204\n",
      "Epoch 30/300 - Loss: 0.3617, Accuracy: 0.9255\n",
      "Epoch 35/300 - Loss: 0.3588, Accuracy: 0.9268\n",
      "Epoch 40/300 - Loss: 0.3564, Accuracy: 0.9271\n",
      "Epoch 45/300 - Loss: 0.3547, Accuracy: 0.9271\n",
      "Epoch 50/300 - Loss: 0.3536, Accuracy: 0.9273\n",
      "Epoch 55/300 - Loss: 0.3525, Accuracy: 0.9275\n",
      "Epoch 60/300 - Loss: 0.3515, Accuracy: 0.9273\n",
      "Epoch 65/300 - Loss: 0.3505, Accuracy: 0.9275\n",
      "Epoch 70/300 - Loss: 0.3496, Accuracy: 0.9275\n",
      "Epoch 75/300 - Loss: 0.3487, Accuracy: 0.9276\n",
      "Epoch 80/300 - Loss: 0.3478, Accuracy: 0.9276\n",
      "Epoch 85/300 - Loss: 0.3470, Accuracy: 0.9278\n",
      "Epoch 90/300 - Loss: 0.3461, Accuracy: 0.9277\n",
      "Epoch 95/300 - Loss: 0.3453, Accuracy: 0.9278\n",
      "Epoch 100/300 - Loss: 0.3445, Accuracy: 0.9278\n",
      "Epoch 105/300 - Loss: 0.3438, Accuracy: 0.9278\n",
      "Epoch 110/300 - Loss: 0.3430, Accuracy: 0.9280\n",
      "Epoch 115/300 - Loss: 0.3423, Accuracy: 0.9280\n",
      "Epoch 120/300 - Loss: 0.3416, Accuracy: 0.9281\n",
      "Epoch 125/300 - Loss: 0.3409, Accuracy: 0.9280\n",
      "Epoch 130/300 - Loss: 0.3402, Accuracy: 0.9282\n",
      "Epoch 135/300 - Loss: 0.3396, Accuracy: 0.9283\n",
      "Epoch 140/300 - Loss: 0.3389, Accuracy: 0.9283\n",
      "Epoch 145/300 - Loss: 0.3382, Accuracy: 0.9285\n",
      "Epoch 150/300 - Loss: 0.3375, Accuracy: 0.9286\n",
      "Epoch 155/300 - Loss: 0.3369, Accuracy: 0.9288\n",
      "Epoch 160/300 - Loss: 0.3362, Accuracy: 0.9291\n",
      "Epoch 165/300 - Loss: 0.3354, Accuracy: 0.9292\n",
      "Epoch 170/300 - Loss: 0.3347, Accuracy: 0.9294\n",
      "Epoch 175/300 - Loss: 0.3339, Accuracy: 0.9295\n",
      "Epoch 180/300 - Loss: 0.3332, Accuracy: 0.9297\n",
      "Epoch 185/300 - Loss: 0.3325, Accuracy: 0.9297\n",
      "Epoch 190/300 - Loss: 0.3317, Accuracy: 0.9298\n",
      "Epoch 195/300 - Loss: 0.3308, Accuracy: 0.9299\n",
      "Epoch 200/300 - Loss: 0.3299, Accuracy: 0.9299\n",
      "Epoch 205/300 - Loss: 0.3292, Accuracy: 0.9299\n",
      "Epoch 210/300 - Loss: 0.3286, Accuracy: 0.9299\n",
      "Epoch 215/300 - Loss: 0.3279, Accuracy: 0.9304\n",
      "Epoch 220/300 - Loss: 0.3276, Accuracy: 0.9306\n",
      "Epoch 225/300 - Loss: 0.3272, Accuracy: 0.9304\n",
      "Epoch 230/300 - Loss: 0.3268, Accuracy: 0.9306\n",
      "Epoch 235/300 - Loss: 0.3259, Accuracy: 0.9314\n",
      "Epoch 240/300 - Loss: 0.3252, Accuracy: 0.9320\n",
      "Epoch 245/300 - Loss: 0.3248, Accuracy: 0.9327\n",
      "Epoch 250/300 - Loss: 0.3249, Accuracy: 0.9315\n",
      "Epoch 255/300 - Loss: 0.3236, Accuracy: 0.9325\n",
      "Epoch 260/300 - Loss: 0.3238, Accuracy: 0.9323\n",
      "Epoch 265/300 - Loss: 0.3227, Accuracy: 0.9330\n",
      "Epoch 270/300 - Loss: 0.3224, Accuracy: 0.9323\n",
      "Epoch 275/300 - Loss: 0.3218, Accuracy: 0.9323\n",
      "Epoch 280/300 - Loss: 0.3213, Accuracy: 0.9333\n",
      "Epoch 285/300 - Loss: 0.3207, Accuracy: 0.9334\n",
      "Epoch 290/300 - Loss: 0.3200, Accuracy: 0.9338\n",
      "Epoch 295/300 - Loss: 0.3194, Accuracy: 0.9340\n",
      "Epoch 300/300 - Loss: 0.3190, Accuracy: 0.9347\n"
     ]
    }
   ],
   "source": [
    "dataloader_train = LSTM_dataloader(\n",
    "    prob_ls_train, len_train, true_ls_train, batch_size=32\n",
    ")\n",
    "\n",
    "# Run LSTM model\n",
    "LSTM_model_label_smoothing = LSTM_engine_label_smoothing(dataloader_train, num_epoch=300, hidden_layer_size=32, learning_rate=0.001) # set your num_epoch"
   ]
  },
  {
   "cell_type": "code",
   "execution_count": null,
   "metadata": {},
   "outputs": [
    {
     "name": "stdout",
     "output_type": "stream",
     "text": [
      "[[9263 1139]\n",
      " [ 775 5772]]\n"
     ]
    },
    {
     "data": {
      "image/png": "[encoded data removed]",
      "text/plain": [
       "<Figure size 400x300 with 2 Axes>"
      ]
     },
     "metadata": {},
     "output_type": "display_data"
    },
    {
     "data": {
      "text/html": [
       "<div>\n",
       "<style scoped>\n",
       "    .dataframe tbody tr th:only-of-type {\n",
       "        vertical-align: middle;\n",
       "    }\n",
       "\n",
       "    .dataframe tbody tr th {\n",
       "        vertical-align: top;\n",
       "    }\n",
       "\n",
       "    .dataframe thead th {\n",
       "        text-align: right;\n",
       "    }\n",
       "</style>\n",
       "<table border=\"1\" class=\"dataframe\">\n",
       "  <thead>\n",
       "    <tr style=\"text-align: right;\">\n",
       "      <th></th>\n",
       "      <th>Model</th>\n",
       "      <th>Precision</th>\n",
       "      <th>Recall</th>\n",
       "      <th>F1 Score</th>\n",
       "      <th>Specificity</th>\n",
       "      <th>AUROC</th>\n",
       "      <th>AUPRC</th>\n",
       "      <th>Accuracy</th>\n",
       "      <th>Cohen's Kappa</th>\n",
       "    </tr>\n",
       "  </thead>\n",
       "  <tbody>\n",
       "    <tr>\n",
       "      <th>0</th>\n",
       "      <td>LightGBM_LSTM</td>\n",
       "      <td>0.83519</td>\n",
       "      <td>0.881625</td>\n",
       "      <td>0.85778</td>\n",
       "      <td>0.890502</td>\n",
       "      <td>0.940656</td>\n",
       "      <td>0.905615</td>\n",
       "      <td>0.887073</td>\n",
       "      <td>0.761595</td>\n",
       "    </tr>\n",
       "  </tbody>\n",
       "</table>\n",
       "</div>"
      ],
      "text/plain": [
       "           Model  Precision    Recall  F1 Score  Specificity     AUROC     AUPRC  Accuracy  Cohen's Kappa\n",
       "0  LightGBM_LSTM    0.83519  0.881625   0.85778     0.890502  0.940656  0.905615  0.887073       0.761595"
      ]
     },
     "execution_count": 11,
     "metadata": {},
     "output_type": "execute_result"
    }
   ],
   "source": [
    "# LSTM Cross Entropy Loss\n",
    "dataloader_test = LSTM_dataloader(\n",
    "    prob_ls_test, len_test, true_ls_test, batch_size=1\n",
    ")\n",
    "lgb_lstm_test_results_df = LSTM_eval(LSTM_model_label_smoothing, dataloader_test, true_ls_test, 'LightGBM_LSTM')\n",
    "lgb_lstm_test_results_df"
   ]
  },
  {
   "cell_type": "markdown",
   "metadata": {},
   "source": [
    "### EXTENSION 2: LightGBM and LSTM post processing; Focal Loss"
   ]
  },
  {
   "cell_type": "code",
   "execution_count": null,
   "metadata": {},
   "outputs": [
    {
     "name": "stderr",
     "output_type": "stream",
     "text": [
      "/Users/mattmacrides/miniconda3/envs/dreamt/lib/python3.10/site-packages/torch/nn/modules/rnn.py:123: UserWarning: dropout option adds dropout after all but last recurrent layer, so non-zero dropout expects num_layers greater than 1, but got dropout=0.5 and num_layers=1\n",
      "  warnings.warn(\n"
     ]
    },
    {
     "name": "stdout",
     "output_type": "stream",
     "text": [
      "Training on cpu\n",
      "Epoch 5/300 - Loss: 0.0372, Accuracy: 0.6904\n",
      "Epoch 10/300 - Loss: 0.0312, Accuracy: 0.9147\n",
      "Epoch 15/300 - Loss: 0.0224, Accuracy: 0.9343\n",
      "Epoch 20/300 - Loss: 0.0161, Accuracy: 0.9316\n",
      "Epoch 25/300 - Loss: 0.0157, Accuracy: 0.9337\n",
      "Epoch 30/300 - Loss: 0.0154, Accuracy: 0.9354\n",
      "Epoch 35/300 - Loss: 0.0151, Accuracy: 0.9351\n",
      "Epoch 40/300 - Loss: 0.0149, Accuracy: 0.9349\n",
      "Epoch 45/300 - Loss: 0.0148, Accuracy: 0.9352\n",
      "Epoch 50/300 - Loss: 0.0146, Accuracy: 0.9353\n",
      "Epoch 55/300 - Loss: 0.0145, Accuracy: 0.9355\n",
      "Epoch 60/300 - Loss: 0.0143, Accuracy: 0.9357\n",
      "Epoch 65/300 - Loss: 0.0142, Accuracy: 0.9358\n",
      "Epoch 70/300 - Loss: 0.0141, Accuracy: 0.9361\n",
      "Epoch 75/300 - Loss: 0.0140, Accuracy: 0.9362\n",
      "Epoch 80/300 - Loss: 0.0139, Accuracy: 0.9364\n",
      "Epoch 85/300 - Loss: 0.0137, Accuracy: 0.9364\n",
      "Epoch 90/300 - Loss: 0.0136, Accuracy: 0.9365\n",
      "Epoch 95/300 - Loss: 0.0135, Accuracy: 0.9366\n",
      "Epoch 100/300 - Loss: 0.0134, Accuracy: 0.9368\n",
      "Epoch 105/300 - Loss: 0.0133, Accuracy: 0.9369\n",
      "Epoch 110/300 - Loss: 0.0132, Accuracy: 0.9372\n",
      "Epoch 115/300 - Loss: 0.0131, Accuracy: 0.9372\n",
      "Epoch 120/300 - Loss: 0.0130, Accuracy: 0.9370\n",
      "Epoch 125/300 - Loss: 0.0128, Accuracy: 0.9375\n",
      "Epoch 130/300 - Loss: 0.0128, Accuracy: 0.9378\n",
      "Epoch 135/300 - Loss: 0.0127, Accuracy: 0.9382\n",
      "Epoch 140/300 - Loss: 0.0126, Accuracy: 0.9382\n",
      "Epoch 145/300 - Loss: 0.0125, Accuracy: 0.9384\n",
      "Epoch 150/300 - Loss: 0.0125, Accuracy: 0.9386\n",
      "Epoch 155/300 - Loss: 0.0124, Accuracy: 0.9387\n",
      "Epoch 160/300 - Loss: 0.0123, Accuracy: 0.9388\n",
      "Epoch 165/300 - Loss: 0.0123, Accuracy: 0.9391\n",
      "Epoch 170/300 - Loss: 0.0122, Accuracy: 0.9391\n",
      "Epoch 175/300 - Loss: 0.0121, Accuracy: 0.9391\n",
      "Epoch 180/300 - Loss: 0.0121, Accuracy: 0.9392\n",
      "Epoch 185/300 - Loss: 0.0120, Accuracy: 0.9394\n",
      "Epoch 190/300 - Loss: 0.0120, Accuracy: 0.9393\n",
      "Epoch 195/300 - Loss: 0.0119, Accuracy: 0.9395\n",
      "Epoch 200/300 - Loss: 0.0119, Accuracy: 0.9394\n",
      "Epoch 205/300 - Loss: 0.0118, Accuracy: 0.9395\n",
      "Epoch 210/300 - Loss: 0.0118, Accuracy: 0.9396\n",
      "Epoch 215/300 - Loss: 0.0117, Accuracy: 0.9397\n",
      "Epoch 220/300 - Loss: 0.0117, Accuracy: 0.9397\n",
      "Epoch 225/300 - Loss: 0.0116, Accuracy: 0.9396\n",
      "Epoch 230/300 - Loss: 0.0116, Accuracy: 0.9398\n",
      "Epoch 235/300 - Loss: 0.0115, Accuracy: 0.9398\n",
      "Epoch 240/300 - Loss: 0.0115, Accuracy: 0.9400\n",
      "Epoch 245/300 - Loss: 0.0114, Accuracy: 0.9400\n",
      "Epoch 250/300 - Loss: 0.0114, Accuracy: 0.9402\n",
      "Epoch 255/300 - Loss: 0.0114, Accuracy: 0.9402\n",
      "Epoch 260/300 - Loss: 0.0113, Accuracy: 0.9403\n",
      "Epoch 265/300 - Loss: 0.0113, Accuracy: 0.9405\n",
      "Epoch 270/300 - Loss: 0.0112, Accuracy: 0.9404\n",
      "Epoch 275/300 - Loss: 0.0112, Accuracy: 0.9404\n",
      "Epoch 280/300 - Loss: 0.0112, Accuracy: 0.9405\n",
      "Epoch 285/300 - Loss: 0.0111, Accuracy: 0.9406\n",
      "Epoch 290/300 - Loss: 0.0111, Accuracy: 0.9406\n",
      "Epoch 295/300 - Loss: 0.0111, Accuracy: 0.9408\n",
      "Epoch 300/300 - Loss: 0.0111, Accuracy: 0.9404\n"
     ]
    }
   ],
   "source": [
    "dataloader_train = LSTM_dataloader(\n",
    "    prob_ls_train, len_train, true_ls_train, batch_size=32\n",
    ")\n",
    "\n",
    "# Run LSTM model\n",
    "LSTM_model_focal = LSTM_engine_focal(dataloader_train, num_epoch=300, hidden_layer_size=32, learning_rate=0.001) # set your num_epoch"
   ]
  },
  {
   "cell_type": "code",
   "execution_count": null,
   "metadata": {},
   "outputs": [
    {
     "name": "stdout",
     "output_type": "stream",
     "text": [
      "[[9130 1272]\n",
      " [ 789 5758]]\n"
     ]
    },
    {
     "data": {
      "image/png": "[encoded data removed]",
      "text/plain": [
       "<Figure size 400x300 with 2 Axes>"
      ]
     },
     "metadata": {},
     "output_type": "display_data"
    },
    {
     "data": {
      "text/html": [
       "<div>\n",
       "<style scoped>\n",
       "    .dataframe tbody tr th:only-of-type {\n",
       "        vertical-align: middle;\n",
       "    }\n",
       "\n",
       "    .dataframe tbody tr th {\n",
       "        vertical-align: top;\n",
       "    }\n",
       "\n",
       "    .dataframe thead th {\n",
       "        text-align: right;\n",
       "    }\n",
       "</style>\n",
       "<table border=\"1\" class=\"dataframe\">\n",
       "  <thead>\n",
       "    <tr style=\"text-align: right;\">\n",
       "      <th></th>\n",
       "      <th>Model</th>\n",
       "      <th>Precision</th>\n",
       "      <th>Recall</th>\n",
       "      <th>F1 Score</th>\n",
       "      <th>Specificity</th>\n",
       "      <th>AUROC</th>\n",
       "      <th>AUPRC</th>\n",
       "      <th>Accuracy</th>\n",
       "      <th>Cohen's Kappa</th>\n",
       "    </tr>\n",
       "  </thead>\n",
       "  <tbody>\n",
       "    <tr>\n",
       "      <th>0</th>\n",
       "      <td>LightGBM_LSTM</td>\n",
       "      <td>0.819061</td>\n",
       "      <td>0.879487</td>\n",
       "      <td>0.848199</td>\n",
       "      <td>0.877716</td>\n",
       "      <td>0.942316</td>\n",
       "      <td>0.919045</td>\n",
       "      <td>0.8784</td>\n",
       "      <td>0.742535</td>\n",
       "    </tr>\n",
       "  </tbody>\n",
       "</table>\n",
       "</div>"
      ],
      "text/plain": [
       "           Model  Precision    Recall  F1 Score  Specificity     AUROC     AUPRC  Accuracy  Cohen's Kappa\n",
       "0  LightGBM_LSTM   0.819061  0.879487  0.848199     0.877716  0.942316  0.919045    0.8784       0.742535"
      ]
     },
     "execution_count": 11,
     "metadata": {},
     "output_type": "execute_result"
    }
   ],
   "source": [
    "# LSTM Focal Loss \n",
    "dataloader_test = LSTM_dataloader(\n",
    "    prob_ls_test, len_test, true_ls_test, batch_size=1\n",
    ")\n",
    "lgb_lstm_test_results_df = LSTM_eval(LSTM_model_focal, dataloader_test, true_ls_test, 'LightGBM_LSTM')\n",
    "lgb_lstm_test_results_df"
   ]
  },
  {
   "cell_type": "markdown",
   "metadata": {},
   "source": [
    "### GPBoosting"
   ]
  },
  {
   "cell_type": "code",
   "execution_count": 7,
   "metadata": {},
   "outputs": [
    {
     "name": "stdout",
     "output_type": "stream",
     "text": [
      "100%|██████████| 10/10 [03:37<00:00, 21.78s/trial, best loss: -0.7137571476622939]\n",
      "Best hyperparameters: {'feature_fraction': 0.6790132974744107, 'lambda_l1': 50.0, 'lambda_l2': 5.481952390384453, 'learning_rate': 0.0066624082410716625, 'max_depth': 6.0, 'neg_bagging_fraction': 0.6359564653702516, 'num_boost_round': 500.0, 'num_leaves': 160.0, 'pos_bagging_fraction': 0.8657274267168107}\n"
     ]
    },
    {
     "name": "stderr",
     "output_type": "stream",
     "text": [
      "/Users/mattmacrides/miniconda3/envs/dreamt/lib/python3.10/site-packages/gpboost/engine.py:182: UserWarning: Found `num_boost_round` in params. Will use it instead of argument\n",
      "  _log_warning(\"Found `{}` in params. Will use it instead of argument\".format(alias))\n"
     ]
    },
    {
     "name": "stdout",
     "output_type": "stream",
     "text": [
      "[GPBoost] [Info] Total Bins 91238\n",
      "[GPBoost] [Info] Number of data points in the train set: 66126, number of used features: 358\n",
      "[GPBoost] [Info] [GPBoost with bernoulli_probit likelihood]: initscore=3.808327\n",
      "[GPBoost] [Info] Start training from score 3.808327\n",
      "[1]\tvalid_0's test_neg_log_likelihood: 0.667511\n",
      "[2]\tvalid_0's test_neg_log_likelihood: 0.66628\n",
      "[3]\tvalid_0's test_neg_log_likelihood: 0.665171\n",
      "[4]\tvalid_0's test_neg_log_likelihood: 0.663966\n",
      "[5]\tvalid_0's test_neg_log_likelihood: 0.662901\n",
      "[6]\tvalid_0's test_neg_log_likelihood: 0.661741\n",
      "[7]\tvalid_0's test_neg_log_likelihood: 0.660584\n",
      "[8]\tvalid_0's test_neg_log_likelihood: 0.659393\n",
      "[9]\tvalid_0's test_neg_log_likelihood: 0.658264\n",
      "[10]\tvalid_0's test_neg_log_likelihood: 0.657244\n",
      "[11]\tvalid_0's test_neg_log_likelihood: 0.656033\n",
      "[12]\tvalid_0's test_neg_log_likelihood: 0.654883\n",
      "[13]\tvalid_0's test_neg_log_likelihood: 0.653793\n",
      "[14]\tvalid_0's test_neg_log_likelihood: 0.652652\n",
      "[15]\tvalid_0's test_neg_log_likelihood: 0.65147\n",
      "[16]\tvalid_0's test_neg_log_likelihood: 0.650484\n",
      "[17]\tvalid_0's test_neg_log_likelihood: 0.649399\n",
      "[18]\tvalid_0's test_neg_log_likelihood: 0.648295\n",
      "[19]\tvalid_0's test_neg_log_likelihood: 0.647286\n",
      "[20]\tvalid_0's test_neg_log_likelihood: 0.646243\n",
      "[21]\tvalid_0's test_neg_log_likelihood: 0.645196\n",
      "[22]\tvalid_0's test_neg_log_likelihood: 0.644222\n",
      "[23]\tvalid_0's test_neg_log_likelihood: 0.643149\n",
      "[24]\tvalid_0's test_neg_log_likelihood: 0.642104\n",
      "[25]\tvalid_0's test_neg_log_likelihood: 0.641167\n",
      "[26]\tvalid_0's test_neg_log_likelihood: 0.640187\n",
      "[27]\tvalid_0's test_neg_log_likelihood: 0.639163\n",
      "[28]\tvalid_0's test_neg_log_likelihood: 0.638278\n",
      "[29]\tvalid_0's test_neg_log_likelihood: 0.637299\n",
      "[30]\tvalid_0's test_neg_log_likelihood: 0.636382\n",
      "[31]\tvalid_0's test_neg_log_likelihood: 0.635327\n",
      "[32]\tvalid_0's test_neg_log_likelihood: 0.634351\n",
      "[33]\tvalid_0's test_neg_log_likelihood: 0.633338\n",
      "[34]\tvalid_0's test_neg_log_likelihood: 0.632349\n",
      "[35]\tvalid_0's test_neg_log_likelihood: 0.631336\n",
      "[36]\tvalid_0's test_neg_log_likelihood: 0.63042\n",
      "[37]\tvalid_0's test_neg_log_likelihood: 0.629519\n",
      "[38]\tvalid_0's test_neg_log_likelihood: 0.628596\n",
      "[39]\tvalid_0's test_neg_log_likelihood: 0.627537\n",
      "[40]\tvalid_0's test_neg_log_likelihood: 0.626698\n",
      "[41]\tvalid_0's test_neg_log_likelihood: 0.625751\n",
      "[42]\tvalid_0's test_neg_log_likelihood: 0.624864\n",
      "[43]\tvalid_0's test_neg_log_likelihood: 0.623992\n",
      "[44]\tvalid_0's test_neg_log_likelihood: 0.623128\n",
      "[45]\tvalid_0's test_neg_log_likelihood: 0.622264\n",
      "[46]\tvalid_0's test_neg_log_likelihood: 0.621382\n",
      "[47]\tvalid_0's test_neg_log_likelihood: 0.620483\n",
      "[48]\tvalid_0's test_neg_log_likelihood: 0.619664\n",
      "[49]\tvalid_0's test_neg_log_likelihood: 0.618818\n",
      "[50]\tvalid_0's test_neg_log_likelihood: 0.617859\n",
      "[51]\tvalid_0's test_neg_log_likelihood: 0.617002\n",
      "[52]\tvalid_0's test_neg_log_likelihood: 0.616187\n",
      "[53]\tvalid_0's test_neg_log_likelihood: 0.615371\n",
      "[54]\tvalid_0's test_neg_log_likelihood: 0.614565\n",
      "[55]\tvalid_0's test_neg_log_likelihood: 0.613681\n",
      "[56]\tvalid_0's test_neg_log_likelihood: 0.612896\n",
      "[57]\tvalid_0's test_neg_log_likelihood: 0.612065\n",
      "[58]\tvalid_0's test_neg_log_likelihood: 0.611207\n",
      "[59]\tvalid_0's test_neg_log_likelihood: 0.61042\n",
      "[60]\tvalid_0's test_neg_log_likelihood: 0.609531\n",
      "[61]\tvalid_0's test_neg_log_likelihood: 0.608746\n",
      "[62]\tvalid_0's test_neg_log_likelihood: 0.607867\n",
      "[63]\tvalid_0's test_neg_log_likelihood: 0.607048\n",
      "[64]\tvalid_0's test_neg_log_likelihood: 0.606217\n",
      "[65]\tvalid_0's test_neg_log_likelihood: 0.605436\n",
      "[66]\tvalid_0's test_neg_log_likelihood: 0.604655\n",
      "[67]\tvalid_0's test_neg_log_likelihood: 0.603908\n",
      "[68]\tvalid_0's test_neg_log_likelihood: 0.603124\n",
      "[69]\tvalid_0's test_neg_log_likelihood: 0.602342\n",
      "[70]\tvalid_0's test_neg_log_likelihood: 0.601677\n",
      "[71]\tvalid_0's test_neg_log_likelihood: 0.600904\n",
      "[72]\tvalid_0's test_neg_log_likelihood: 0.600095\n",
      "[73]\tvalid_0's test_neg_log_likelihood: 0.59943\n",
      "[74]\tvalid_0's test_neg_log_likelihood: 0.598748\n",
      "[75]\tvalid_0's test_neg_log_likelihood: 0.598074\n",
      "[76]\tvalid_0's test_neg_log_likelihood: 0.597356\n",
      "[77]\tvalid_0's test_neg_log_likelihood: 0.59657\n",
      "[78]\tvalid_0's test_neg_log_likelihood: 0.595946\n",
      "[79]\tvalid_0's test_neg_log_likelihood: 0.595221\n",
      "[80]\tvalid_0's test_neg_log_likelihood: 0.594564\n",
      "[81]\tvalid_0's test_neg_log_likelihood: 0.593942\n",
      "[82]\tvalid_0's test_neg_log_likelihood: 0.593332\n",
      "[83]\tvalid_0's test_neg_log_likelihood: 0.592624\n",
      "[84]\tvalid_0's test_neg_log_likelihood: 0.591884\n",
      "[85]\tvalid_0's test_neg_log_likelihood: 0.591207\n",
      "[86]\tvalid_0's test_neg_log_likelihood: 0.590588\n",
      "[87]\tvalid_0's test_neg_log_likelihood: 0.589895\n",
      "[88]\tvalid_0's test_neg_log_likelihood: 0.589184\n",
      "[89]\tvalid_0's test_neg_log_likelihood: 0.588487\n",
      "[90]\tvalid_0's test_neg_log_likelihood: 0.587828\n",
      "[91]\tvalid_0's test_neg_log_likelihood: 0.587162\n",
      "[92]\tvalid_0's test_neg_log_likelihood: 0.586609\n",
      "[93]\tvalid_0's test_neg_log_likelihood: 0.586027\n",
      "[94]\tvalid_0's test_neg_log_likelihood: 0.585351\n",
      "[95]\tvalid_0's test_neg_log_likelihood: 0.584699\n",
      "[96]\tvalid_0's test_neg_log_likelihood: 0.584106\n",
      "[97]\tvalid_0's test_neg_log_likelihood: 0.583448\n",
      "[98]\tvalid_0's test_neg_log_likelihood: 0.582864\n",
      "[99]\tvalid_0's test_neg_log_likelihood: 0.582208\n",
      "[100]\tvalid_0's test_neg_log_likelihood: 0.581607\n",
      "[101]\tvalid_0's test_neg_log_likelihood: 0.580965\n",
      "[102]\tvalid_0's test_neg_log_likelihood: 0.580344\n",
      "[103]\tvalid_0's test_neg_log_likelihood: 0.579751\n",
      "[104]\tvalid_0's test_neg_log_likelihood: 0.579218\n",
      "[105]\tvalid_0's test_neg_log_likelihood: 0.578628\n",
      "[106]\tvalid_0's test_neg_log_likelihood: 0.57801\n",
      "[107]\tvalid_0's test_neg_log_likelihood: 0.577454\n",
      "[108]\tvalid_0's test_neg_log_likelihood: 0.57688\n",
      "[109]\tvalid_0's test_neg_log_likelihood: 0.576225\n",
      "[110]\tvalid_0's test_neg_log_likelihood: 0.575667\n",
      "[111]\tvalid_0's test_neg_log_likelihood: 0.575117\n",
      "[112]\tvalid_0's test_neg_log_likelihood: 0.574647\n",
      "[113]\tvalid_0's test_neg_log_likelihood: 0.574015\n",
      "[114]\tvalid_0's test_neg_log_likelihood: 0.57355\n",
      "[115]\tvalid_0's test_neg_log_likelihood: 0.572993\n",
      "[116]\tvalid_0's test_neg_log_likelihood: 0.57241\n",
      "[117]\tvalid_0's test_neg_log_likelihood: 0.571901\n",
      "[118]\tvalid_0's test_neg_log_likelihood: 0.5713\n",
      "[119]\tvalid_0's test_neg_log_likelihood: 0.570801\n",
      "[120]\tvalid_0's test_neg_log_likelihood: 0.570278\n",
      "[121]\tvalid_0's test_neg_log_likelihood: 0.569755\n",
      "[122]\tvalid_0's test_neg_log_likelihood: 0.569147\n",
      "[123]\tvalid_0's test_neg_log_likelihood: 0.568641\n",
      "[124]\tvalid_0's test_neg_log_likelihood: 0.568157\n",
      "[125]\tvalid_0's test_neg_log_likelihood: 0.567682\n",
      "[126]\tvalid_0's test_neg_log_likelihood: 0.567235\n",
      "[127]\tvalid_0's test_neg_log_likelihood: 0.566794\n",
      "[128]\tvalid_0's test_neg_log_likelihood: 0.566331\n",
      "[129]\tvalid_0's test_neg_log_likelihood: 0.56591\n",
      "[130]\tvalid_0's test_neg_log_likelihood: 0.565373\n",
      "[131]\tvalid_0's test_neg_log_likelihood: 0.564872\n",
      "[132]\tvalid_0's test_neg_log_likelihood: 0.564292\n",
      "[133]\tvalid_0's test_neg_log_likelihood: 0.563776\n",
      "[134]\tvalid_0's test_neg_log_likelihood: 0.563263\n",
      "[135]\tvalid_0's test_neg_log_likelihood: 0.562815\n",
      "[136]\tvalid_0's test_neg_log_likelihood: 0.562228\n",
      "[137]\tvalid_0's test_neg_log_likelihood: 0.561748\n",
      "[138]\tvalid_0's test_neg_log_likelihood: 0.561292\n",
      "[139]\tvalid_0's test_neg_log_likelihood: 0.560821\n",
      "[140]\tvalid_0's test_neg_log_likelihood: 0.560365\n",
      "[141]\tvalid_0's test_neg_log_likelihood: 0.55989\n",
      "[142]\tvalid_0's test_neg_log_likelihood: 0.559383\n",
      "[143]\tvalid_0's test_neg_log_likelihood: 0.558983\n",
      "[144]\tvalid_0's test_neg_log_likelihood: 0.558484\n",
      "[145]\tvalid_0's test_neg_log_likelihood: 0.557958\n",
      "[146]\tvalid_0's test_neg_log_likelihood: 0.557438\n",
      "[147]\tvalid_0's test_neg_log_likelihood: 0.557045\n",
      "[148]\tvalid_0's test_neg_log_likelihood: 0.55661\n",
      "[149]\tvalid_0's test_neg_log_likelihood: 0.556095\n",
      "[150]\tvalid_0's test_neg_log_likelihood: 0.555634\n",
      "[151]\tvalid_0's test_neg_log_likelihood: 0.55511\n",
      "[152]\tvalid_0's test_neg_log_likelihood: 0.554745\n",
      "[153]\tvalid_0's test_neg_log_likelihood: 0.554311\n",
      "[154]\tvalid_0's test_neg_log_likelihood: 0.553843\n",
      "[155]\tvalid_0's test_neg_log_likelihood: 0.553373\n",
      "[156]\tvalid_0's test_neg_log_likelihood: 0.552891\n",
      "[157]\tvalid_0's test_neg_log_likelihood: 0.552348\n",
      "[158]\tvalid_0's test_neg_log_likelihood: 0.551823\n",
      "[159]\tvalid_0's test_neg_log_likelihood: 0.551358\n",
      "[160]\tvalid_0's test_neg_log_likelihood: 0.550853\n",
      "[161]\tvalid_0's test_neg_log_likelihood: 0.550364\n",
      "[162]\tvalid_0's test_neg_log_likelihood: 0.549868\n",
      "[163]\tvalid_0's test_neg_log_likelihood: 0.54944\n",
      "[164]\tvalid_0's test_neg_log_likelihood: 0.54894\n",
      "[165]\tvalid_0's test_neg_log_likelihood: 0.548464\n",
      "[166]\tvalid_0's test_neg_log_likelihood: 0.548094\n",
      "[167]\tvalid_0's test_neg_log_likelihood: 0.547691\n",
      "[168]\tvalid_0's test_neg_log_likelihood: 0.547259\n",
      "[169]\tvalid_0's test_neg_log_likelihood: 0.546886\n",
      "[170]\tvalid_0's test_neg_log_likelihood: 0.546439\n",
      "[171]\tvalid_0's test_neg_log_likelihood: 0.546029\n",
      "[172]\tvalid_0's test_neg_log_likelihood: 0.54564\n",
      "[173]\tvalid_0's test_neg_log_likelihood: 0.545225\n",
      "[174]\tvalid_0's test_neg_log_likelihood: 0.544858\n",
      "[175]\tvalid_0's test_neg_log_likelihood: 0.544403\n",
      "[176]\tvalid_0's test_neg_log_likelihood: 0.544061\n",
      "[177]\tvalid_0's test_neg_log_likelihood: 0.543663\n",
      "[178]\tvalid_0's test_neg_log_likelihood: 0.543213\n",
      "[179]\tvalid_0's test_neg_log_likelihood: 0.54279\n",
      "[180]\tvalid_0's test_neg_log_likelihood: 0.54239\n",
      "[181]\tvalid_0's test_neg_log_likelihood: 0.542018\n",
      "[182]\tvalid_0's test_neg_log_likelihood: 0.541629\n",
      "[183]\tvalid_0's test_neg_log_likelihood: 0.541268\n",
      "[184]\tvalid_0's test_neg_log_likelihood: 0.540798\n",
      "[185]\tvalid_0's test_neg_log_likelihood: 0.540455\n",
      "[186]\tvalid_0's test_neg_log_likelihood: 0.540078\n",
      "[187]\tvalid_0's test_neg_log_likelihood: 0.539738\n",
      "[188]\tvalid_0's test_neg_log_likelihood: 0.539411\n",
      "[189]\tvalid_0's test_neg_log_likelihood: 0.539071\n",
      "[190]\tvalid_0's test_neg_log_likelihood: 0.538675\n",
      "[191]\tvalid_0's test_neg_log_likelihood: 0.538258\n",
      "[192]\tvalid_0's test_neg_log_likelihood: 0.537918\n",
      "[193]\tvalid_0's test_neg_log_likelihood: 0.537552\n",
      "[194]\tvalid_0's test_neg_log_likelihood: 0.537203\n",
      "[195]\tvalid_0's test_neg_log_likelihood: 0.536877\n",
      "[196]\tvalid_0's test_neg_log_likelihood: 0.536456\n",
      "[197]\tvalid_0's test_neg_log_likelihood: 0.536051\n",
      "[198]\tvalid_0's test_neg_log_likelihood: 0.53571\n",
      "[199]\tvalid_0's test_neg_log_likelihood: 0.535327\n",
      "[200]\tvalid_0's test_neg_log_likelihood: 0.534972\n",
      "[201]\tvalid_0's test_neg_log_likelihood: 0.534674\n",
      "[202]\tvalid_0's test_neg_log_likelihood: 0.534369\n",
      "[203]\tvalid_0's test_neg_log_likelihood: 0.534061\n",
      "[204]\tvalid_0's test_neg_log_likelihood: 0.533766\n",
      "[205]\tvalid_0's test_neg_log_likelihood: 0.533425\n",
      "[206]\tvalid_0's test_neg_log_likelihood: 0.533014\n",
      "[207]\tvalid_0's test_neg_log_likelihood: 0.532663\n",
      "[208]\tvalid_0's test_neg_log_likelihood: 0.532416\n",
      "[209]\tvalid_0's test_neg_log_likelihood: 0.531996\n",
      "[210]\tvalid_0's test_neg_log_likelihood: 0.531665\n",
      "[211]\tvalid_0's test_neg_log_likelihood: 0.531421\n",
      "[212]\tvalid_0's test_neg_log_likelihood: 0.531115\n",
      "[213]\tvalid_0's test_neg_log_likelihood: 0.530702\n",
      "[214]\tvalid_0's test_neg_log_likelihood: 0.530417\n",
      "[215]\tvalid_0's test_neg_log_likelihood: 0.530012\n",
      "[216]\tvalid_0's test_neg_log_likelihood: 0.529723\n",
      "[217]\tvalid_0's test_neg_log_likelihood: 0.529398\n",
      "[218]\tvalid_0's test_neg_log_likelihood: 0.529049\n",
      "[219]\tvalid_0's test_neg_log_likelihood: 0.528788\n",
      "[220]\tvalid_0's test_neg_log_likelihood: 0.528487\n",
      "[221]\tvalid_0's test_neg_log_likelihood: 0.528196\n",
      "[222]\tvalid_0's test_neg_log_likelihood: 0.527931\n",
      "[223]\tvalid_0's test_neg_log_likelihood: 0.527597\n",
      "[224]\tvalid_0's test_neg_log_likelihood: 0.527222\n",
      "[225]\tvalid_0's test_neg_log_likelihood: 0.526967\n",
      "[226]\tvalid_0's test_neg_log_likelihood: 0.526676\n",
      "[227]\tvalid_0's test_neg_log_likelihood: 0.526388\n",
      "[228]\tvalid_0's test_neg_log_likelihood: 0.526078\n",
      "[229]\tvalid_0's test_neg_log_likelihood: 0.525774\n",
      "[230]\tvalid_0's test_neg_log_likelihood: 0.525505\n",
      "[231]\tvalid_0's test_neg_log_likelihood: 0.525196\n",
      "[232]\tvalid_0's test_neg_log_likelihood: 0.524905\n",
      "[233]\tvalid_0's test_neg_log_likelihood: 0.524655\n",
      "[234]\tvalid_0's test_neg_log_likelihood: 0.524376\n",
      "[235]\tvalid_0's test_neg_log_likelihood: 0.52409\n",
      "[236]\tvalid_0's test_neg_log_likelihood: 0.523841\n",
      "[237]\tvalid_0's test_neg_log_likelihood: 0.523577\n",
      "[238]\tvalid_0's test_neg_log_likelihood: 0.5233\n",
      "[239]\tvalid_0's test_neg_log_likelihood: 0.522997\n",
      "[240]\tvalid_0's test_neg_log_likelihood: 0.52265\n",
      "[241]\tvalid_0's test_neg_log_likelihood: 0.522357\n",
      "[242]\tvalid_0's test_neg_log_likelihood: 0.522106\n",
      "[243]\tvalid_0's test_neg_log_likelihood: 0.521878\n",
      "[244]\tvalid_0's test_neg_log_likelihood: 0.521629\n",
      "[245]\tvalid_0's test_neg_log_likelihood: 0.521409\n",
      "[246]\tvalid_0's test_neg_log_likelihood: 0.521184\n",
      "[247]\tvalid_0's test_neg_log_likelihood: 0.52089\n",
      "[248]\tvalid_0's test_neg_log_likelihood: 0.520694\n",
      "[249]\tvalid_0's test_neg_log_likelihood: 0.520446\n",
      "[250]\tvalid_0's test_neg_log_likelihood: 0.520131\n",
      "[251]\tvalid_0's test_neg_log_likelihood: 0.519917\n",
      "[252]\tvalid_0's test_neg_log_likelihood: 0.519622\n",
      "[253]\tvalid_0's test_neg_log_likelihood: 0.519398\n",
      "[254]\tvalid_0's test_neg_log_likelihood: 0.519156\n",
      "[255]\tvalid_0's test_neg_log_likelihood: 0.518924\n",
      "[256]\tvalid_0's test_neg_log_likelihood: 0.518736\n",
      "[257]\tvalid_0's test_neg_log_likelihood: 0.518472\n",
      "[258]\tvalid_0's test_neg_log_likelihood: 0.518217\n",
      "[259]\tvalid_0's test_neg_log_likelihood: 0.517966\n",
      "[260]\tvalid_0's test_neg_log_likelihood: 0.517692\n",
      "[261]\tvalid_0's test_neg_log_likelihood: 0.517395\n",
      "[262]\tvalid_0's test_neg_log_likelihood: 0.517089\n",
      "[263]\tvalid_0's test_neg_log_likelihood: 0.516824\n",
      "[264]\tvalid_0's test_neg_log_likelihood: 0.51656\n",
      "[265]\tvalid_0's test_neg_log_likelihood: 0.516278\n",
      "[266]\tvalid_0's test_neg_log_likelihood: 0.516023\n",
      "[267]\tvalid_0's test_neg_log_likelihood: 0.51574\n",
      "[268]\tvalid_0's test_neg_log_likelihood: 0.515464\n",
      "[269]\tvalid_0's test_neg_log_likelihood: 0.515173\n",
      "[270]\tvalid_0's test_neg_log_likelihood: 0.514898\n",
      "[271]\tvalid_0's test_neg_log_likelihood: 0.514648\n",
      "[272]\tvalid_0's test_neg_log_likelihood: 0.514403\n",
      "[273]\tvalid_0's test_neg_log_likelihood: 0.514135\n",
      "[274]\tvalid_0's test_neg_log_likelihood: 0.513893\n",
      "[275]\tvalid_0's test_neg_log_likelihood: 0.51368\n",
      "[276]\tvalid_0's test_neg_log_likelihood: 0.513454\n",
      "[277]\tvalid_0's test_neg_log_likelihood: 0.513261\n",
      "[278]\tvalid_0's test_neg_log_likelihood: 0.513062\n",
      "[279]\tvalid_0's test_neg_log_likelihood: 0.5128\n",
      "[280]\tvalid_0's test_neg_log_likelihood: 0.51257\n",
      "[281]\tvalid_0's test_neg_log_likelihood: 0.512352\n",
      "[282]\tvalid_0's test_neg_log_likelihood: 0.512183\n",
      "[283]\tvalid_0's test_neg_log_likelihood: 0.511937\n",
      "[284]\tvalid_0's test_neg_log_likelihood: 0.51168\n",
      "[285]\tvalid_0's test_neg_log_likelihood: 0.511435\n",
      "[286]\tvalid_0's test_neg_log_likelihood: 0.5112\n",
      "[287]\tvalid_0's test_neg_log_likelihood: 0.510994\n",
      "[288]\tvalid_0's test_neg_log_likelihood: 0.510754\n",
      "[289]\tvalid_0's test_neg_log_likelihood: 0.510479\n",
      "[290]\tvalid_0's test_neg_log_likelihood: 0.510315\n",
      "[291]\tvalid_0's test_neg_log_likelihood: 0.510091\n",
      "[292]\tvalid_0's test_neg_log_likelihood: 0.509846\n",
      "[293]\tvalid_0's test_neg_log_likelihood: 0.509602\n",
      "[294]\tvalid_0's test_neg_log_likelihood: 0.509421\n",
      "[295]\tvalid_0's test_neg_log_likelihood: 0.509178\n",
      "[296]\tvalid_0's test_neg_log_likelihood: 0.509016\n",
      "[297]\tvalid_0's test_neg_log_likelihood: 0.508787\n",
      "[298]\tvalid_0's test_neg_log_likelihood: 0.508595\n",
      "[299]\tvalid_0's test_neg_log_likelihood: 0.508406\n",
      "[300]\tvalid_0's test_neg_log_likelihood: 0.508266\n",
      "[301]\tvalid_0's test_neg_log_likelihood: 0.50809\n",
      "[302]\tvalid_0's test_neg_log_likelihood: 0.507896\n",
      "[303]\tvalid_0's test_neg_log_likelihood: 0.507632\n",
      "[304]\tvalid_0's test_neg_log_likelihood: 0.507401\n",
      "[305]\tvalid_0's test_neg_log_likelihood: 0.507193\n",
      "[306]\tvalid_0's test_neg_log_likelihood: 0.507006\n",
      "[307]\tvalid_0's test_neg_log_likelihood: 0.506777\n",
      "[308]\tvalid_0's test_neg_log_likelihood: 0.506543\n",
      "[309]\tvalid_0's test_neg_log_likelihood: 0.506337\n",
      "[310]\tvalid_0's test_neg_log_likelihood: 0.506128\n",
      "[311]\tvalid_0's test_neg_log_likelihood: 0.50594\n",
      "[312]\tvalid_0's test_neg_log_likelihood: 0.505735\n",
      "[313]\tvalid_0's test_neg_log_likelihood: 0.505548\n",
      "[314]\tvalid_0's test_neg_log_likelihood: 0.50535\n",
      "[315]\tvalid_0's test_neg_log_likelihood: 0.505172\n",
      "[316]\tvalid_0's test_neg_log_likelihood: 0.505007\n",
      "[317]\tvalid_0's test_neg_log_likelihood: 0.504805\n",
      "[318]\tvalid_0's test_neg_log_likelihood: 0.504652\n",
      "[319]\tvalid_0's test_neg_log_likelihood: 0.504482\n",
      "[320]\tvalid_0's test_neg_log_likelihood: 0.504323\n",
      "[321]\tvalid_0's test_neg_log_likelihood: 0.504112\n",
      "[322]\tvalid_0's test_neg_log_likelihood: 0.503891\n",
      "[323]\tvalid_0's test_neg_log_likelihood: 0.503683\n",
      "[324]\tvalid_0's test_neg_log_likelihood: 0.503512\n",
      "[325]\tvalid_0's test_neg_log_likelihood: 0.503331\n",
      "[326]\tvalid_0's test_neg_log_likelihood: 0.503168\n",
      "[327]\tvalid_0's test_neg_log_likelihood: 0.503016\n",
      "[328]\tvalid_0's test_neg_log_likelihood: 0.50286\n",
      "[329]\tvalid_0's test_neg_log_likelihood: 0.502664\n",
      "[330]\tvalid_0's test_neg_log_likelihood: 0.50243\n",
      "[331]\tvalid_0's test_neg_log_likelihood: 0.502301\n",
      "[332]\tvalid_0's test_neg_log_likelihood: 0.502185\n",
      "[333]\tvalid_0's test_neg_log_likelihood: 0.50202\n",
      "[334]\tvalid_0's test_neg_log_likelihood: 0.501883\n",
      "[335]\tvalid_0's test_neg_log_likelihood: 0.501693\n",
      "[336]\tvalid_0's test_neg_log_likelihood: 0.501542\n",
      "[337]\tvalid_0's test_neg_log_likelihood: 0.501332\n",
      "[338]\tvalid_0's test_neg_log_likelihood: 0.50119\n",
      "[339]\tvalid_0's test_neg_log_likelihood: 0.501051\n",
      "[340]\tvalid_0's test_neg_log_likelihood: 0.500902\n",
      "[341]\tvalid_0's test_neg_log_likelihood: 0.500694\n",
      "[342]\tvalid_0's test_neg_log_likelihood: 0.500556\n",
      "[343]\tvalid_0's test_neg_log_likelihood: 0.500406\n",
      "[344]\tvalid_0's test_neg_log_likelihood: 0.500193\n",
      "[345]\tvalid_0's test_neg_log_likelihood: 0.500039\n",
      "[346]\tvalid_0's test_neg_log_likelihood: 0.499947\n",
      "[347]\tvalid_0's test_neg_log_likelihood: 0.499802\n",
      "[348]\tvalid_0's test_neg_log_likelihood: 0.499633\n",
      "[349]\tvalid_0's test_neg_log_likelihood: 0.499489\n",
      "[350]\tvalid_0's test_neg_log_likelihood: 0.499288\n",
      "[351]\tvalid_0's test_neg_log_likelihood: 0.499065\n",
      "[352]\tvalid_0's test_neg_log_likelihood: 0.498934\n",
      "[353]\tvalid_0's test_neg_log_likelihood: 0.4988\n",
      "[354]\tvalid_0's test_neg_log_likelihood: 0.498677\n",
      "[355]\tvalid_0's test_neg_log_likelihood: 0.498472\n",
      "[356]\tvalid_0's test_neg_log_likelihood: 0.498322\n",
      "[357]\tvalid_0's test_neg_log_likelihood: 0.498112\n",
      "[358]\tvalid_0's test_neg_log_likelihood: 0.498002\n",
      "[359]\tvalid_0's test_neg_log_likelihood: 0.497808\n",
      "[360]\tvalid_0's test_neg_log_likelihood: 0.497637\n",
      "[361]\tvalid_0's test_neg_log_likelihood: 0.497511\n",
      "[362]\tvalid_0's test_neg_log_likelihood: 0.497362\n",
      "[363]\tvalid_0's test_neg_log_likelihood: 0.497243\n",
      "[364]\tvalid_0's test_neg_log_likelihood: 0.497108\n",
      "[365]\tvalid_0's test_neg_log_likelihood: 0.496905\n",
      "[366]\tvalid_0's test_neg_log_likelihood: 0.496757\n",
      "[367]\tvalid_0's test_neg_log_likelihood: 0.496631\n",
      "[368]\tvalid_0's test_neg_log_likelihood: 0.496479\n",
      "[369]\tvalid_0's test_neg_log_likelihood: 0.496305\n",
      "[370]\tvalid_0's test_neg_log_likelihood: 0.496175\n",
      "[371]\tvalid_0's test_neg_log_likelihood: 0.495961\n",
      "[372]\tvalid_0's test_neg_log_likelihood: 0.495799\n",
      "[373]\tvalid_0's test_neg_log_likelihood: 0.495624\n",
      "[374]\tvalid_0's test_neg_log_likelihood: 0.495442\n",
      "[375]\tvalid_0's test_neg_log_likelihood: 0.495299\n",
      "[376]\tvalid_0's test_neg_log_likelihood: 0.49515\n",
      "[377]\tvalid_0's test_neg_log_likelihood: 0.494992\n",
      "[378]\tvalid_0's test_neg_log_likelihood: 0.494863\n",
      "[379]\tvalid_0's test_neg_log_likelihood: 0.49473\n",
      "[380]\tvalid_0's test_neg_log_likelihood: 0.494535\n",
      "[381]\tvalid_0's test_neg_log_likelihood: 0.494403\n",
      "[382]\tvalid_0's test_neg_log_likelihood: 0.494242\n",
      "[383]\tvalid_0's test_neg_log_likelihood: 0.494072\n",
      "[384]\tvalid_0's test_neg_log_likelihood: 0.493949\n",
      "[385]\tvalid_0's test_neg_log_likelihood: 0.49379\n",
      "[386]\tvalid_0's test_neg_log_likelihood: 0.493629\n",
      "[387]\tvalid_0's test_neg_log_likelihood: 0.493463\n",
      "[388]\tvalid_0's test_neg_log_likelihood: 0.493372\n",
      "[389]\tvalid_0's test_neg_log_likelihood: 0.493237\n",
      "[390]\tvalid_0's test_neg_log_likelihood: 0.493116\n",
      "[391]\tvalid_0's test_neg_log_likelihood: 0.493005\n",
      "[392]\tvalid_0's test_neg_log_likelihood: 0.492889\n",
      "[393]\tvalid_0's test_neg_log_likelihood: 0.49275\n",
      "[394]\tvalid_0's test_neg_log_likelihood: 0.492622\n",
      "[395]\tvalid_0's test_neg_log_likelihood: 0.492473\n",
      "[396]\tvalid_0's test_neg_log_likelihood: 0.492345\n",
      "[397]\tvalid_0's test_neg_log_likelihood: 0.492202\n",
      "[398]\tvalid_0's test_neg_log_likelihood: 0.492047\n",
      "[399]\tvalid_0's test_neg_log_likelihood: 0.491852\n",
      "[400]\tvalid_0's test_neg_log_likelihood: 0.491729\n",
      "[401]\tvalid_0's test_neg_log_likelihood: 0.491589\n",
      "[402]\tvalid_0's test_neg_log_likelihood: 0.491445\n",
      "[403]\tvalid_0's test_neg_log_likelihood: 0.491312\n",
      "[404]\tvalid_0's test_neg_log_likelihood: 0.491229\n",
      "[405]\tvalid_0's test_neg_log_likelihood: 0.491094\n",
      "[406]\tvalid_0's test_neg_log_likelihood: 0.490943\n",
      "[407]\tvalid_0's test_neg_log_likelihood: 0.490843\n",
      "[408]\tvalid_0's test_neg_log_likelihood: 0.490706\n",
      "[409]\tvalid_0's test_neg_log_likelihood: 0.49055\n",
      "[410]\tvalid_0's test_neg_log_likelihood: 0.490428\n",
      "[411]\tvalid_0's test_neg_log_likelihood: 0.490284\n",
      "[412]\tvalid_0's test_neg_log_likelihood: 0.490169\n",
      "[413]\tvalid_0's test_neg_log_likelihood: 0.490023\n",
      "[414]\tvalid_0's test_neg_log_likelihood: 0.489911\n",
      "[415]\tvalid_0's test_neg_log_likelihood: 0.489777\n",
      "[416]\tvalid_0's test_neg_log_likelihood: 0.489647\n",
      "[417]\tvalid_0's test_neg_log_likelihood: 0.489499\n",
      "[418]\tvalid_0's test_neg_log_likelihood: 0.489344\n",
      "[419]\tvalid_0's test_neg_log_likelihood: 0.489199\n",
      "[420]\tvalid_0's test_neg_log_likelihood: 0.489035\n",
      "[421]\tvalid_0's test_neg_log_likelihood: 0.488905\n",
      "[422]\tvalid_0's test_neg_log_likelihood: 0.48881\n",
      "[423]\tvalid_0's test_neg_log_likelihood: 0.488723\n",
      "[424]\tvalid_0's test_neg_log_likelihood: 0.488617\n",
      "[425]\tvalid_0's test_neg_log_likelihood: 0.488482\n",
      "[426]\tvalid_0's test_neg_log_likelihood: 0.488414\n",
      "[427]\tvalid_0's test_neg_log_likelihood: 0.488267\n",
      "[428]\tvalid_0's test_neg_log_likelihood: 0.488142\n",
      "[429]\tvalid_0's test_neg_log_likelihood: 0.487974\n",
      "[430]\tvalid_0's test_neg_log_likelihood: 0.487859\n",
      "[431]\tvalid_0's test_neg_log_likelihood: 0.487764\n",
      "[432]\tvalid_0's test_neg_log_likelihood: 0.487657\n",
      "[433]\tvalid_0's test_neg_log_likelihood: 0.487554\n",
      "[434]\tvalid_0's test_neg_log_likelihood: 0.487406\n",
      "[435]\tvalid_0's test_neg_log_likelihood: 0.487292\n",
      "[436]\tvalid_0's test_neg_log_likelihood: 0.487208\n",
      "[437]\tvalid_0's test_neg_log_likelihood: 0.487067\n",
      "[438]\tvalid_0's test_neg_log_likelihood: 0.486943\n",
      "[439]\tvalid_0's test_neg_log_likelihood: 0.486828\n",
      "[440]\tvalid_0's test_neg_log_likelihood: 0.486725\n",
      "[441]\tvalid_0's test_neg_log_likelihood: 0.486608\n",
      "[442]\tvalid_0's test_neg_log_likelihood: 0.48656\n",
      "[443]\tvalid_0's test_neg_log_likelihood: 0.486449\n",
      "[444]\tvalid_0's test_neg_log_likelihood: 0.48634\n",
      "[445]\tvalid_0's test_neg_log_likelihood: 0.486243\n",
      "[446]\tvalid_0's test_neg_log_likelihood: 0.48612\n",
      "[447]\tvalid_0's test_neg_log_likelihood: 0.486042\n",
      "[448]\tvalid_0's test_neg_log_likelihood: 0.485945\n",
      "[449]\tvalid_0's test_neg_log_likelihood: 0.485855\n",
      "[450]\tvalid_0's test_neg_log_likelihood: 0.485749\n",
      "[451]\tvalid_0's test_neg_log_likelihood: 0.485639\n",
      "[452]\tvalid_0's test_neg_log_likelihood: 0.485495\n",
      "[453]\tvalid_0's test_neg_log_likelihood: 0.485377\n",
      "[454]\tvalid_0's test_neg_log_likelihood: 0.485267\n",
      "[455]\tvalid_0's test_neg_log_likelihood: 0.485176\n",
      "[456]\tvalid_0's test_neg_log_likelihood: 0.485063\n",
      "[457]\tvalid_0's test_neg_log_likelihood: 0.48493\n",
      "[458]\tvalid_0's test_neg_log_likelihood: 0.484792\n",
      "[459]\tvalid_0's test_neg_log_likelihood: 0.484697\n",
      "[460]\tvalid_0's test_neg_log_likelihood: 0.484647\n",
      "[461]\tvalid_0's test_neg_log_likelihood: 0.484584\n",
      "[462]\tvalid_0's test_neg_log_likelihood: 0.484503\n",
      "[463]\tvalid_0's test_neg_log_likelihood: 0.484392\n",
      "[464]\tvalid_0's test_neg_log_likelihood: 0.484308\n",
      "[465]\tvalid_0's test_neg_log_likelihood: 0.484212\n",
      "[466]\tvalid_0's test_neg_log_likelihood: 0.484112\n",
      "[467]\tvalid_0's test_neg_log_likelihood: 0.484057\n",
      "[468]\tvalid_0's test_neg_log_likelihood: 0.483934\n",
      "[469]\tvalid_0's test_neg_log_likelihood: 0.483851\n",
      "[470]\tvalid_0's test_neg_log_likelihood: 0.483751\n",
      "[471]\tvalid_0's test_neg_log_likelihood: 0.48365\n",
      "[472]\tvalid_0's test_neg_log_likelihood: 0.483552\n",
      "[473]\tvalid_0's test_neg_log_likelihood: 0.483462\n",
      "[474]\tvalid_0's test_neg_log_likelihood: 0.483378\n",
      "[475]\tvalid_0's test_neg_log_likelihood: 0.483288\n",
      "[476]\tvalid_0's test_neg_log_likelihood: 0.483153\n",
      "[477]\tvalid_0's test_neg_log_likelihood: 0.483062\n",
      "[478]\tvalid_0's test_neg_log_likelihood: 0.482964\n",
      "[479]\tvalid_0's test_neg_log_likelihood: 0.482879\n",
      "[480]\tvalid_0's test_neg_log_likelihood: 0.482825\n",
      "[481]\tvalid_0's test_neg_log_likelihood: 0.482706\n",
      "[482]\tvalid_0's test_neg_log_likelihood: 0.482617\n",
      "[483]\tvalid_0's test_neg_log_likelihood: 0.482519\n",
      "[484]\tvalid_0's test_neg_log_likelihood: 0.482423\n",
      "[485]\tvalid_0's test_neg_log_likelihood: 0.482318\n",
      "[486]\tvalid_0's test_neg_log_likelihood: 0.482154\n",
      "[487]\tvalid_0's test_neg_log_likelihood: 0.482095\n",
      "[488]\tvalid_0's test_neg_log_likelihood: 0.481996\n",
      "[489]\tvalid_0's test_neg_log_likelihood: 0.481931\n",
      "[490]\tvalid_0's test_neg_log_likelihood: 0.481863\n",
      "[491]\tvalid_0's test_neg_log_likelihood: 0.48176\n",
      "[492]\tvalid_0's test_neg_log_likelihood: 0.481696\n",
      "[493]\tvalid_0's test_neg_log_likelihood: 0.481596\n",
      "[494]\tvalid_0's test_neg_log_likelihood: 0.481529\n",
      "[495]\tvalid_0's test_neg_log_likelihood: 0.481394\n",
      "[496]\tvalid_0's test_neg_log_likelihood: 0.481315\n",
      "[497]\tvalid_0's test_neg_log_likelihood: 0.48125\n",
      "[498]\tvalid_0's test_neg_log_likelihood: 0.481142\n",
      "[499]\tvalid_0's test_neg_log_likelihood: 0.481053\n",
      "[500]\tvalid_0's test_neg_log_likelihood: 0.480976\n",
      "Did not meet early stopping. Best iteration is:\n",
      "[500]\tvalid_0's test_neg_log_likelihood: 0.480976\n"
     ]
    }
   ],
   "source": [
    "final_gpb_model = GPBoost_engine(X_train_resampled, group_train_resampled, y_train_resampled, X_val, y_val, group_val)"
   ]
  },
  {
   "cell_type": "code",
   "execution_count": 8,
   "metadata": {},
   "outputs": [
    {
     "name": "stdout",
     "output_type": "stream",
     "text": [
      "[[30415  2648]\n",
      " [ 4815 19805]]\n"
     ]
    },
    {
     "data": {
      "image/png": "[encoded data removed]",
      "text/plain": [
       "<Figure size 400x300 with 2 Axes>"
      ]
     },
     "metadata": {},
     "output_type": "display_data"
    },
    {
     "name": "stdout",
     "output_type": "stream",
     "text": [
      "[[9143 1259]\n",
      " [1100 5447]]\n"
     ]
    },
    {
     "data": {
      "image/png": "[encoded data removed]",
      "text/plain": [
       "<Figure size 400x300 with 2 Axes>"
      ]
     },
     "metadata": {},
     "output_type": "display_data"
    },
    {
     "data": {
      "text/html": [
       "<div>\n",
       "<style scoped>\n",
       "    .dataframe tbody tr th:only-of-type {\n",
       "        vertical-align: middle;\n",
       "    }\n",
       "\n",
       "    .dataframe tbody tr th {\n",
       "        vertical-align: top;\n",
       "    }\n",
       "\n",
       "    .dataframe thead th {\n",
       "        text-align: right;\n",
       "    }\n",
       "</style>\n",
       "<table border=\"1\" class=\"dataframe\">\n",
       "  <thead>\n",
       "    <tr style=\"text-align: right;\">\n",
       "      <th></th>\n",
       "      <th>Model</th>\n",
       "      <th>Precision</th>\n",
       "      <th>Recall</th>\n",
       "      <th>F1 Score</th>\n",
       "      <th>Specificity</th>\n",
       "      <th>AUROC</th>\n",
       "      <th>AUPRC</th>\n",
       "      <th>Accuracy</th>\n",
       "      <th>Cohen's Kappa</th>\n",
       "    </tr>\n",
       "  </thead>\n",
       "  <tbody>\n",
       "    <tr>\n",
       "      <th>0</th>\n",
       "      <td>GPBoost</td>\n",
       "      <td>0.812258</td>\n",
       "      <td>0.831984</td>\n",
       "      <td>0.822003</td>\n",
       "      <td>0.878966</td>\n",
       "      <td>0.925693</td>\n",
       "      <td>0.903118</td>\n",
       "      <td>0.860818</td>\n",
       "      <td>0.700813</td>\n",
       "    </tr>\n",
       "  </tbody>\n",
       "</table>\n",
       "</div>"
      ],
      "text/plain": [
       "     Model  Precision    Recall  F1 Score  Specificity     AUROC     AUPRC  Accuracy  Cohen's Kappa\n",
       "0  GPBoost   0.812258  0.831984  0.822003     0.878966  0.925693  0.903118  0.860818       0.700813"
      ]
     },
     "execution_count": 8,
     "metadata": {},
     "output_type": "execute_result"
    }
   ],
   "source": [
    "# calculate training scores\n",
    "prob_ls_train, len_train, true_ls_train = compute_probabilities(\n",
    "    train_sids, SW_df, final_features, 'gpb', final_gpb_model, group_variable)\n",
    "gpb_train_results_df = GPBoost_result(final_gpb_model, X_train, y_train, group_train, prob_ls_train, true_ls_train)\n",
    "\n",
    "# calculate testing scores\n",
    "prob_ls_test, len_test, true_ls_test = compute_probabilities(\n",
    "    test_sids, SW_df, final_features, 'gpb', final_gpb_model, group_variable)\n",
    "gpb_test_results_df = GPBoost_result(final_gpb_model, X_test, y_test, group_test, prob_ls_test, true_ls_test)\n",
    "gpb_test_results_df"
   ]
  },
  {
   "cell_type": "markdown",
   "metadata": {},
   "source": [
    "### GPBoost + LSTM post processing"
   ]
  },
  {
   "cell_type": "code",
   "execution_count": 9,
   "metadata": {},
   "outputs": [
    {
     "name": "stdout",
     "output_type": "stream",
     "text": [
      "Training on cpu\n"
     ]
    },
    {
     "name": "stderr",
     "output_type": "stream",
     "text": [
      "/Users/mattmacrides/miniconda3/envs/dreamt/lib/python3.10/site-packages/torch/nn/modules/rnn.py:82: UserWarning: dropout option adds dropout after all but last recurrent layer, so non-zero dropout expects num_layers greater than 1, but got dropout=0.5 and num_layers=1\n",
      "  warnings.warn(\"dropout option adds dropout after all but last \"\n"
     ]
    },
    {
     "name": "stdout",
     "output_type": "stream",
     "text": [
      "Epoch 5/300 - Loss: 0.6457, Accuracy: 0.6254\n",
      "Epoch 10/300 - Loss: 0.6094, Accuracy: 0.6295\n",
      "Epoch 15/300 - Loss: 0.5311, Accuracy: 0.8522\n",
      "Epoch 20/300 - Loss: 0.3584, Accuracy: 0.8979\n",
      "Epoch 25/300 - Loss: 0.3491, Accuracy: 0.8892\n",
      "Epoch 30/300 - Loss: 0.3252, Accuracy: 0.8975\n",
      "Epoch 35/300 - Loss: 0.3117, Accuracy: 0.9004\n",
      "Epoch 40/300 - Loss: 0.3059, Accuracy: 0.8996\n",
      "Epoch 45/300 - Loss: 0.3016, Accuracy: 0.9016\n",
      "Epoch 50/300 - Loss: 0.2982, Accuracy: 0.9025\n",
      "Epoch 55/300 - Loss: 0.2955, Accuracy: 0.9032\n",
      "Epoch 60/300 - Loss: 0.2934, Accuracy: 0.9034\n",
      "Epoch 65/300 - Loss: 0.2915, Accuracy: 0.9030\n",
      "Epoch 70/300 - Loss: 0.2897, Accuracy: 0.9031\n",
      "Epoch 75/300 - Loss: 0.2881, Accuracy: 0.9034\n",
      "Epoch 80/300 - Loss: 0.2865, Accuracy: 0.9034\n",
      "Epoch 85/300 - Loss: 0.2851, Accuracy: 0.9039\n",
      "Epoch 90/300 - Loss: 0.2837, Accuracy: 0.9042\n",
      "Epoch 95/300 - Loss: 0.2824, Accuracy: 0.9042\n",
      "Epoch 100/300 - Loss: 0.2811, Accuracy: 0.9044\n",
      "Epoch 105/300 - Loss: 0.2800, Accuracy: 0.9046\n",
      "Epoch 110/300 - Loss: 0.2788, Accuracy: 0.9048\n",
      "Epoch 115/300 - Loss: 0.2777, Accuracy: 0.9050\n",
      "Epoch 120/300 - Loss: 0.2766, Accuracy: 0.9051\n",
      "Epoch 125/300 - Loss: 0.2756, Accuracy: 0.9050\n",
      "Epoch 130/300 - Loss: 0.2745, Accuracy: 0.9052\n",
      "Epoch 135/300 - Loss: 0.2734, Accuracy: 0.9052\n",
      "Epoch 140/300 - Loss: 0.2723, Accuracy: 0.9053\n",
      "Epoch 145/300 - Loss: 0.2710, Accuracy: 0.9056\n",
      "Epoch 150/300 - Loss: 0.2695, Accuracy: 0.9056\n",
      "Epoch 155/300 - Loss: 0.2678, Accuracy: 0.9061\n",
      "Epoch 160/300 - Loss: 0.2658, Accuracy: 0.9068\n",
      "Epoch 165/300 - Loss: 0.2638, Accuracy: 0.9072\n",
      "Epoch 170/300 - Loss: 0.2621, Accuracy: 0.9076\n",
      "Epoch 175/300 - Loss: 0.2619, Accuracy: 0.9067\n",
      "Epoch 180/300 - Loss: 0.2595, Accuracy: 0.9086\n",
      "Epoch 185/300 - Loss: 0.2661, Accuracy: 0.9042\n",
      "Epoch 190/300 - Loss: 0.2605, Accuracy: 0.9068\n",
      "Epoch 195/300 - Loss: 0.2599, Accuracy: 0.9069\n",
      "Epoch 200/300 - Loss: 0.2571, Accuracy: 0.9080\n",
      "Epoch 205/300 - Loss: 0.2561, Accuracy: 0.9083\n",
      "Epoch 210/300 - Loss: 0.2576, Accuracy: 0.9080\n",
      "Epoch 215/300 - Loss: 0.2551, Accuracy: 0.9089\n",
      "Epoch 220/300 - Loss: 0.2551, Accuracy: 0.9081\n",
      "Epoch 225/300 - Loss: 0.2552, Accuracy: 0.9085\n",
      "Epoch 230/300 - Loss: 0.2541, Accuracy: 0.9088\n",
      "Epoch 235/300 - Loss: 0.2522, Accuracy: 0.9086\n",
      "Epoch 240/300 - Loss: 0.2503, Accuracy: 0.9096\n",
      "Epoch 245/300 - Loss: 0.2641, Accuracy: 0.9036\n",
      "Epoch 250/300 - Loss: 0.2599, Accuracy: 0.9066\n",
      "Epoch 255/300 - Loss: 0.2573, Accuracy: 0.9076\n",
      "Epoch 260/300 - Loss: 0.2534, Accuracy: 0.9077\n",
      "Epoch 265/300 - Loss: 0.2514, Accuracy: 0.9090\n",
      "Epoch 270/300 - Loss: 0.2502, Accuracy: 0.9088\n",
      "Epoch 275/300 - Loss: 0.2488, Accuracy: 0.9094\n",
      "Epoch 280/300 - Loss: 0.2477, Accuracy: 0.9089\n",
      "Epoch 285/300 - Loss: 0.2472, Accuracy: 0.9092\n",
      "Epoch 290/300 - Loss: 0.2473, Accuracy: 0.9089\n",
      "Epoch 295/300 - Loss: 0.2461, Accuracy: 0.9091\n",
      "Epoch 300/300 - Loss: 0.2453, Accuracy: 0.9094\n"
     ]
    }
   ],
   "source": [
    "dataloader_train = LSTM_dataloader(\n",
    "    prob_ls_train, len_train, true_ls_train, batch_size=32\n",
    ")\n",
    "\n",
    "# Run LSTM model\n",
    "LSTM_model = LSTM_engine(dataloader_train, num_epoch=300, hidden_layer_size=32, learning_rate = 0.001) # set your num_epoch"
   ]
  },
  {
   "cell_type": "code",
   "execution_count": 10,
   "metadata": {},
   "outputs": [
    {
     "name": "stdout",
     "output_type": "stream",
     "text": [
      "[[9382 1020]\n",
      " [ 825 5722]]\n"
     ]
    },
    {
     "data": {
      "image/png": "[encoded data removed]",
      "text/plain": [
       "<Figure size 400x300 with 2 Axes>"
      ]
     },
     "metadata": {},
     "output_type": "display_data"
    },
    {
     "data": {
      "text/html": [
       "<div>\n",
       "<style scoped>\n",
       "    .dataframe tbody tr th:only-of-type {\n",
       "        vertical-align: middle;\n",
       "    }\n",
       "\n",
       "    .dataframe tbody tr th {\n",
       "        vertical-align: top;\n",
       "    }\n",
       "\n",
       "    .dataframe thead th {\n",
       "        text-align: right;\n",
       "    }\n",
       "</style>\n",
       "<table border=\"1\" class=\"dataframe\">\n",
       "  <thead>\n",
       "    <tr style=\"text-align: right;\">\n",
       "      <th></th>\n",
       "      <th>Model</th>\n",
       "      <th>Precision</th>\n",
       "      <th>Recall</th>\n",
       "      <th>F1 Score</th>\n",
       "      <th>Specificity</th>\n",
       "      <th>AUROC</th>\n",
       "      <th>AUPRC</th>\n",
       "      <th>Accuracy</th>\n",
       "      <th>Cohen's Kappa</th>\n",
       "    </tr>\n",
       "  </thead>\n",
       "  <tbody>\n",
       "    <tr>\n",
       "      <th>0</th>\n",
       "      <td>GPBoost_LSTM</td>\n",
       "      <td>0.84871</td>\n",
       "      <td>0.873988</td>\n",
       "      <td>0.861163</td>\n",
       "      <td>0.901942</td>\n",
       "      <td>0.948629</td>\n",
       "      <td>0.930459</td>\n",
       "      <td>0.891144</td>\n",
       "      <td>0.768766</td>\n",
       "    </tr>\n",
       "  </tbody>\n",
       "</table>\n",
       "</div>"
      ],
      "text/plain": [
       "          Model  Precision    Recall  F1 Score  Specificity     AUROC     AUPRC  Accuracy  Cohen's Kappa\n",
       "0  GPBoost_LSTM    0.84871  0.873988  0.861163     0.901942  0.948629  0.930459  0.891144       0.768766"
      ]
     },
     "execution_count": 10,
     "metadata": {},
     "output_type": "execute_result"
    }
   ],
   "source": [
    "dataloader_test = LSTM_dataloader(\n",
    "    prob_ls_test, len_test, true_ls_test, batch_size=1\n",
    ")\n",
    "\n",
    "gpb_lstm_test_results_df = LSTM_eval(LSTM_model, dataloader_test, true_ls_test, 'GPBoost_LSTM')\n",
    "gpb_lstm_test_results_df"
   ]
  },
  {
   "cell_type": "code",
   "execution_count": null,
   "metadata": {},
   "outputs": [
    {
     "name": "stdout",
     "output_type": "stream",
     "text": [
      "['AHI_Severity']\n"
     ]
    },
    {
     "data": {
      "text/html": [
       "<div>\n",
       "<style scoped>\n",
       "    .dataframe tbody tr th:only-of-type {\n",
       "        vertical-align: middle;\n",
       "    }\n",
       "\n",
       "    .dataframe tbody tr th {\n",
       "        vertical-align: top;\n",
       "    }\n",
       "\n",
       "    .dataframe thead th {\n",
       "        text-align: right;\n",
       "    }\n",
       "</style>\n",
       "<table border=\"1\" class=\"dataframe\">\n",
       "  <thead>\n",
       "    <tr style=\"text-align: right;\">\n",
       "      <th></th>\n",
       "      <th>Model</th>\n",
       "      <th>Precision</th>\n",
       "      <th>Recall</th>\n",
       "      <th>F1 Score</th>\n",
       "      <th>Specificity</th>\n",
       "      <th>AUROC</th>\n",
       "      <th>AUPRC</th>\n",
       "      <th>Accuracy</th>\n",
       "      <th>Cohen's Kappa</th>\n",
       "    </tr>\n",
       "  </thead>\n",
       "  <tbody>\n",
       "    <tr>\n",
       "      <th>0</th>\n",
       "      <td>LightGBM</td>\n",
       "      <td>0.772759</td>\n",
       "      <td>0.854437</td>\n",
       "      <td>0.811548</td>\n",
       "      <td>0.841857</td>\n",
       "      <td>0.925547</td>\n",
       "      <td>0.903694</td>\n",
       "      <td>0.846717</td>\n",
       "      <td>0.675096</td>\n",
       "    </tr>\n",
       "    <tr>\n",
       "      <th>0</th>\n",
       "      <td>LightGBM_LSTM</td>\n",
       "      <td>0.806598</td>\n",
       "      <td>0.866351</td>\n",
       "      <td>0.835408</td>\n",
       "      <td>0.869256</td>\n",
       "      <td>0.936992</td>\n",
       "      <td>0.914593</td>\n",
       "      <td>0.868134</td>\n",
       "      <td>0.720640</td>\n",
       "    </tr>\n",
       "    <tr>\n",
       "      <th>0</th>\n",
       "      <td>GPBoost</td>\n",
       "      <td>0.807147</td>\n",
       "      <td>0.834886</td>\n",
       "      <td>0.820782</td>\n",
       "      <td>0.874447</td>\n",
       "      <td>0.928169</td>\n",
       "      <td>0.907894</td>\n",
       "      <td>0.859166</td>\n",
       "      <td>0.698573</td>\n",
       "    </tr>\n",
       "    <tr>\n",
       "      <th>0</th>\n",
       "      <td>GPBoost_LSTM</td>\n",
       "      <td>0.840999</td>\n",
       "      <td>0.874141</td>\n",
       "      <td>0.857250</td>\n",
       "      <td>0.895982</td>\n",
       "      <td>0.942558</td>\n",
       "      <td>0.915506</td>\n",
       "      <td>0.887545</td>\n",
       "      <td>0.761084</td>\n",
       "    </tr>\n",
       "  </tbody>\n",
       "</table>\n",
       "</div>"
      ],
      "text/plain": [
       "           Model  Precision    Recall  F1 Score  Specificity     AUROC     AUPRC  Accuracy  Cohen's Kappa\n",
       "0       LightGBM   0.772759  0.854437  0.811548     0.841857  0.925547  0.903694  0.846717       0.675096\n",
       "0  LightGBM_LSTM   0.806598  0.866351  0.835408     0.869256  0.936992  0.914593  0.868134       0.720640\n",
       "0        GPBoost   0.807147  0.834886  0.820782     0.874447  0.928169  0.907894  0.859166       0.698573\n",
       "0   GPBoost_LSTM   0.840999  0.874141  0.857250     0.895982  0.942558  0.915506  0.887545       0.761084"
      ]
     },
     "execution_count": 16,
     "metadata": {},
     "output_type": "execute_result"
    }
   ],
   "source": [
    "overall_result = pd.concat([lgb_test_results_df, lgb_lstm_test_results_df, \n",
    "                            gpb_test_results_df, gpb_lstm_test_results_df])\n",
    "print(group_variable)\n",
    "overall_result"
   ]
  }
 ],
 "metadata": {
  "kernelspec": {
   "display_name": "dreamt",
   "language": "python",
   "name": "python3"
  },
  "language_info": {
   "codemirror_mode": {
    "name": "ipython",
    "version": 3
   },
   "file_extension": ".py",
   "mimetype": "text/x-python",
   "name": "python",
   "nbconvert_exporter": "python",
   "pygments_lexer": "ipython3",
   "version": "3.10.13"
  }
 },
 "nbformat": 4,
 "nbformat_minor": 2
}
