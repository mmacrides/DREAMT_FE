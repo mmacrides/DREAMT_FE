{
  "cells": [
    {
      "cell_type": "code",
      "execution_count": 1,
      "metadata": {
        "id": "QdvH4gHOX_Dn"
      },
      "outputs": [],
      "source": [
        "import pandas as pd"
      ]
    },
    {
      "cell_type": "code",
      "execution_count": 2,
      "metadata": {
        "colab": {
          "base_uri": "https://localhost:8080/"
        },
        "collapsed": true,
        "id": "hL8uP3FPXdaT",
        "outputId": "7fe53e0c-0c48-42ca-bde1-101cb12cdc1e"
      },
      "outputs": [
        {
          "name": "stdout",
          "output_type": "stream",
          "text": [
            "Collecting gpboost\n",
            "  Downloading gpboost-1.5.6-py3-none-manylinux1_x86_64.whl.metadata (7.9 kB)\n",
            "Collecting mne\n",
            "  Downloading mne-1.9.0-py3-none-any.whl.metadata (20 kB)\n",
            "Collecting rdkit\n",
            "  Downloading rdkit-2024.9.6-cp311-cp311-manylinux_2_28_x86_64.whl.metadata (4.0 kB)\n",
            "Collecting aeon\n",
            "  Downloading aeon-1.1.0-py3-none-any.whl.metadata (21 kB)\n",
            "Collecting neurokit2\n",
            "  Downloading neurokit2-0.2.10-py2.py3-none-any.whl.metadata (37 kB)\n",
            "Collecting heartpy\n",
            "  Downloading heartpy-1.2.7-py3-none-any.whl.metadata (9.5 kB)\n",
            "Collecting pandarallel\n",
            "  Downloading pandarallel-1.6.5.tar.gz (14 kB)\n",
            "  Preparing metadata (setup.py) ... \u001b[?25l\u001b[?25hdone\n",
            "Requirement already satisfied: wheel in /usr/local/lib/python3.11/dist-packages (from gpboost) (0.45.1)\n",
            "Requirement already satisfied: numpy in /usr/local/lib/python3.11/dist-packages (from gpboost) (2.0.2)\n",
            "Requirement already satisfied: pandas in /usr/local/lib/python3.11/dist-packages (from gpboost) (2.2.2)\n",
            "Requirement already satisfied: scipy in /usr/local/lib/python3.11/dist-packages (from gpboost) (1.14.1)\n",
            "Requirement already satisfied: scikit-learn!=0.22.0 in /usr/local/lib/python3.11/dist-packages (from gpboost) (1.6.1)\n",
            "Collecting optuna (from gpboost)\n",
            "  Downloading optuna-4.3.0-py3-none-any.whl.metadata (17 kB)\n",
            "Requirement already satisfied: decorator in /usr/local/lib/python3.11/dist-packages (from mne) (4.4.2)\n",
            "Requirement already satisfied: jinja2 in /usr/local/lib/python3.11/dist-packages (from mne) (3.1.6)\n",
            "Requirement already satisfied: lazy-loader>=0.3 in /usr/local/lib/python3.11/dist-packages (from mne) (0.4)\n",
            "Requirement already satisfied: matplotlib>=3.6 in /usr/local/lib/python3.11/dist-packages (from mne) (3.10.0)\n",
            "Requirement already satisfied: packaging in /usr/local/lib/python3.11/dist-packages (from mne) (24.2)\n",
            "Requirement already satisfied: pooch>=1.5 in /usr/local/lib/python3.11/dist-packages (from mne) (1.8.2)\n",
            "Requirement already satisfied: tqdm in /usr/local/lib/python3.11/dist-packages (from mne) (4.67.1)\n",
            "Requirement already satisfied: Pillow in /usr/local/lib/python3.11/dist-packages (from rdkit) (11.1.0)\n",
            "Requirement already satisfied: deprecated>=1.2.13 in /usr/local/lib/python3.11/dist-packages (from aeon) (1.2.18)\n",
            "Requirement already satisfied: numba<0.62.0,>=0.55 in /usr/local/lib/python3.11/dist-packages (from aeon) (0.60.0)\n",
            "Requirement already satisfied: typing-extensions>=4.6.0 in /usr/local/lib/python3.11/dist-packages (from aeon) (4.13.2)\n",
            "Requirement already satisfied: requests in /usr/local/lib/python3.11/dist-packages (from neurokit2) (2.32.3)\n",
            "Collecting dill>=0.3.1 (from pandarallel)\n",
            "  Downloading dill-0.4.0-py3-none-any.whl.metadata (10 kB)\n",
            "Requirement already satisfied: psutil in /usr/local/lib/python3.11/dist-packages (from pandarallel) (5.9.5)\n",
            "Requirement already satisfied: wrapt<2,>=1.10 in /usr/local/lib/python3.11/dist-packages (from deprecated>=1.2.13->aeon) (1.17.2)\n",
            "Requirement already satisfied: contourpy>=1.0.1 in /usr/local/lib/python3.11/dist-packages (from matplotlib>=3.6->mne) (1.3.2)\n",
            "Requirement already satisfied: cycler>=0.10 in /usr/local/lib/python3.11/dist-packages (from matplotlib>=3.6->mne) (0.12.1)\n",
            "Requirement already satisfied: fonttools>=4.22.0 in /usr/local/lib/python3.11/dist-packages (from matplotlib>=3.6->mne) (4.57.0)\n",
            "Requirement already satisfied: kiwisolver>=1.3.1 in /usr/local/lib/python3.11/dist-packages (from matplotlib>=3.6->mne) (1.4.8)\n",
            "Requirement already satisfied: pyparsing>=2.3.1 in /usr/local/lib/python3.11/dist-packages (from matplotlib>=3.6->mne) (3.2.3)\n",
            "Requirement already satisfied: python-dateutil>=2.7 in /usr/local/lib/python3.11/dist-packages (from matplotlib>=3.6->mne) (2.8.2)\n",
            "Requirement already satisfied: llvmlite<0.44,>=0.43.0dev0 in /usr/local/lib/python3.11/dist-packages (from numba<0.62.0,>=0.55->aeon) (0.43.0)\n",
            "Requirement already satisfied: pytz>=2020.1 in /usr/local/lib/python3.11/dist-packages (from pandas->gpboost) (2025.2)\n",
            "Requirement already satisfied: tzdata>=2022.7 in /usr/local/lib/python3.11/dist-packages (from pandas->gpboost) (2025.2)\n",
            "Requirement already satisfied: platformdirs>=2.5.0 in /usr/local/lib/python3.11/dist-packages (from pooch>=1.5->mne) (4.3.7)\n",
            "Requirement already satisfied: charset-normalizer<4,>=2 in /usr/local/lib/python3.11/dist-packages (from requests->neurokit2) (3.4.1)\n",
            "Requirement already satisfied: idna<4,>=2.5 in /usr/local/lib/python3.11/dist-packages (from requests->neurokit2) (3.10)\n",
            "Requirement already satisfied: urllib3<3,>=1.21.1 in /usr/local/lib/python3.11/dist-packages (from requests->neurokit2) (2.3.0)\n",
            "Requirement already satisfied: certifi>=2017.4.17 in /usr/local/lib/python3.11/dist-packages (from requests->neurokit2) (2025.1.31)\n",
            "Requirement already satisfied: joblib>=1.2.0 in /usr/local/lib/python3.11/dist-packages (from scikit-learn!=0.22.0->gpboost) (1.4.2)\n",
            "Requirement already satisfied: threadpoolctl>=3.1.0 in /usr/local/lib/python3.11/dist-packages (from scikit-learn!=0.22.0->gpboost) (3.6.0)\n",
            "Requirement already satisfied: MarkupSafe>=2.0 in /usr/local/lib/python3.11/dist-packages (from jinja2->mne) (3.0.2)\n",
            "Collecting alembic>=1.5.0 (from optuna->gpboost)\n",
            "  Downloading alembic-1.15.2-py3-none-any.whl.metadata (7.3 kB)\n",
            "Collecting colorlog (from optuna->gpboost)\n",
            "  Downloading colorlog-6.9.0-py3-none-any.whl.metadata (10 kB)\n",
            "Requirement already satisfied: sqlalchemy>=1.4.2 in /usr/local/lib/python3.11/dist-packages (from optuna->gpboost) (2.0.40)\n",
            "Requirement already satisfied: PyYAML in /usr/local/lib/python3.11/dist-packages (from optuna->gpboost) (6.0.2)\n",
            "Requirement already satisfied: Mako in /usr/lib/python3/dist-packages (from alembic>=1.5.0->optuna->gpboost) (1.1.3)\n",
            "Requirement already satisfied: six>=1.5 in /usr/local/lib/python3.11/dist-packages (from python-dateutil>=2.7->matplotlib>=3.6->mne) (1.17.0)\n",
            "Requirement already satisfied: greenlet>=1 in /usr/local/lib/python3.11/dist-packages (from sqlalchemy>=1.4.2->optuna->gpboost) (3.2.1)\n",
            "Downloading gpboost-1.5.6-py3-none-manylinux1_x86_64.whl (4.5 MB)\n",
            "\u001b[2K   \u001b[90m━━━━━━━━━━━━━━━━━━━━━━━━━━━━━━━━━━━━━━━━\u001b[0m \u001b[32m4.5/4.5 MB\u001b[0m \u001b[31m24.3 MB/s\u001b[0m eta \u001b[36m0:00:00\u001b[0m\n",
            "\u001b[?25hDownloading mne-1.9.0-py3-none-any.whl (7.4 MB)\n",
            "\u001b[2K   \u001b[90m━━━━━━━━━━━━━━━━━━━━━━━━━━━━━━━━━━━━━━━━\u001b[0m \u001b[32m7.4/7.4 MB\u001b[0m \u001b[31m29.0 MB/s\u001b[0m eta \u001b[36m0:00:00\u001b[0m\n",
            "\u001b[?25hDownloading rdkit-2024.9.6-cp311-cp311-manylinux_2_28_x86_64.whl (34.3 MB)\n",
            "\u001b[2K   \u001b[90m━━━━━━━━━━━━━━━━━━━━━━━━━━━━━━━━━━━━━━━━\u001b[0m \u001b[32m34.3/34.3 MB\u001b[0m \u001b[31m15.4 MB/s\u001b[0m eta \u001b[36m0:00:00\u001b[0m\n",
            "\u001b[?25hDownloading aeon-1.1.0-py3-none-any.whl (8.3 MB)\n",
            "\u001b[2K   \u001b[90m━━━━━━━━━━━━━━━━━━━━━━━━━━━━━━━━━━━━━━━━\u001b[0m \u001b[32m8.3/8.3 MB\u001b[0m \u001b[31m24.2 MB/s\u001b[0m eta \u001b[36m0:00:00\u001b[0m\n",
            "\u001b[?25hDownloading neurokit2-0.2.10-py2.py3-none-any.whl (693 kB)\n",
            "\u001b[2K   \u001b[90m━━━━━━━━━━━━━━━━━━━━━━━━━━━━━━━━━━━━━━━━\u001b[0m \u001b[32m693.1/693.1 kB\u001b[0m \u001b[31m24.6 MB/s\u001b[0m eta \u001b[36m0:00:00\u001b[0m\n",
            "\u001b[?25hDownloading heartpy-1.2.7-py3-none-any.whl (1.0 MB)\n",
            "\u001b[2K   \u001b[90m━━━━━━━━━━━━━━━━━━━━━━━━━━━━━━━━━━━━━━━━\u001b[0m \u001b[32m1.0/1.0 MB\u001b[0m \u001b[31m20.2 MB/s\u001b[0m eta \u001b[36m0:00:00\u001b[0m\n",
            "\u001b[?25hDownloading dill-0.4.0-py3-none-any.whl (119 kB)\n",
            "\u001b[2K   \u001b[90m━━━━━━━━━━━━━━━━━━━━━━━━━━━━━━━━━━━━━━━━\u001b[0m \u001b[32m119.7/119.7 kB\u001b[0m \u001b[31m2.5 MB/s\u001b[0m eta \u001b[36m0:00:00\u001b[0m\n",
            "\u001b[?25hDownloading optuna-4.3.0-py3-none-any.whl (386 kB)\n",
            "\u001b[2K   \u001b[90m━━━━━━━━━━━━━━━━━━━━━━━━━━━━━━━━━━━━━━━━\u001b[0m \u001b[32m386.6/386.6 kB\u001b[0m \u001b[31m9.3 MB/s\u001b[0m eta \u001b[36m0:00:00\u001b[0m\n",
            "\u001b[?25hDownloading alembic-1.15.2-py3-none-any.whl (231 kB)\n",
            "\u001b[2K   \u001b[90m━━━━━━━━━━━━━━━━━━━━━━━━━━━━━━━━━━━━━━━━\u001b[0m \u001b[32m231.9/231.9 kB\u001b[0m \u001b[31m14.7 MB/s\u001b[0m eta \u001b[36m0:00:00\u001b[0m\n",
            "\u001b[?25hDownloading colorlog-6.9.0-py3-none-any.whl (11 kB)\n",
            "Building wheels for collected packages: pandarallel\n",
            "  Building wheel for pandarallel (setup.py) ... \u001b[?25l\u001b[?25hdone\n",
            "  Created wheel for pandarallel: filename=pandarallel-1.6.5-py3-none-any.whl size=16674 sha256=bd65a165d3607086b8f7dd552e540d7dd7354a85c0dba3e2e2889a0bc0dfc051\n",
            "  Stored in directory: /root/.cache/pip/wheels/b9/c6/5a/829298789e94348b81af52ab42c19d49da007306bbcc983827\n",
            "Successfully built pandarallel\n",
            "Installing collected packages: rdkit, dill, colorlog, alembic, pandarallel, optuna, neurokit2, mne, heartpy, aeon, gpboost\n",
            "Successfully installed aeon-1.1.0 alembic-1.15.2 colorlog-6.9.0 dill-0.4.0 gpboost-1.5.6 heartpy-1.2.7 mne-1.9.0 neurokit2-0.2.10 optuna-4.3.0 pandarallel-1.6.5 rdkit-2024.9.6\n"
          ]
        }
      ],
      "source": [
        "!pip install gpboost mne rdkit aeon neurokit2 heartpy pandarallel"
      ]
    },
    {
      "cell_type": "code",
      "execution_count": 3,
      "metadata": {
        "colab": {
          "base_uri": "https://localhost:8080/"
        },
        "id": "srs4zsWWqgnG",
        "outputId": "7b9babae-4451-4f3a-8997-8f4c77b837ba"
      },
      "outputs": [
        {
          "name": "stdout",
          "output_type": "stream",
          "text": [
            "Mounted at /content/drive\n"
          ]
        }
      ],
      "source": [
        "from google.colab import drive\n",
        "drive.mount('/content/drive')"
      ]
    },
    {
      "cell_type": "code",
      "execution_count": null,
      "metadata": {
        "colab": {
          "base_uri": "https://localhost:8080/"
        },
        "id": "yyj4ZM-FwvKC",
        "outputId": "65529c16-b56d-4183-a29d-daee646f4f74"
      },
      "outputs": [
        {
          "name": "stdout",
          "output_type": "stream",
          "text": [
            "Python 3.11.12\n"
          ]
        }
      ],
      "source": [
        "!python --version"
      ]
    },
    {
      "cell_type": "code",
      "execution_count": 4,
      "metadata": {
        "colab": {
          "base_uri": "https://localhost:8080/"
        },
        "collapsed": true,
        "id": "gCEljB6pfKjs",
        "outputId": "d6e23839-cfd6-486a-eff8-b8fc58e2789b"
      },
      "outputs": [
        {
          "name": "stdout",
          "output_type": "stream",
          "text": [
            "Cloning into 'PyHealth'...\n",
            "remote: Enumerating objects: 8749, done.\u001b[K\n",
            "remote: Counting objects: 100% (1515/1515), done.\u001b[K\n",
            "remote: Compressing objects: 100% (514/514), done.\u001b[K\n",
            "remote: Total 8749 (delta 1218), reused 1020 (delta 1001), pack-reused 7234 (from 2)\u001b[K\n",
            "Receiving objects: 100% (8749/8749), 123.53 MiB | 22.83 MiB/s, done.\n",
            "Resolving deltas: 100% (5689/5689), done.\n"
          ]
        }
      ],
      "source": [
        "!rm -rf PyHealth\n",
        "!git clone https://github.com/sunlabuiuc/PyHealth.git\n",
        "\n",
        "import sys\n",
        "sys.path.append(\"./PyHealth\")"
      ]
    },
    {
      "cell_type": "code",
      "execution_count": 5,
      "metadata": {
        "id": "sDw8zaaLf_Bp"
      },
      "outputs": [],
      "source": []
    },
    {
      "cell_type": "code",
      "execution_count": 5,
      "metadata": {
        "colab": {
          "base_uri": "https://localhost:8080/"
        },
        "id": "C3ocuUieurFG",
        "outputId": "18532d61-faea-44f9-e504-4d291b87b575"
      },
      "outputs": [
        {
          "name": "stdout",
          "output_type": "stream",
          "text": [
            "/content/drive/My Drive/CS598DLH/DREAMT_FE\n"
          ]
        }
      ],
      "source": [
        "%cd \"/content/drive/My Drive/CS598DLH/DREAMT_FE\""
      ]
    },
    {
      "cell_type": "code",
      "execution_count": null,
      "metadata": {
        "id": "bU77vd4LiJLS"
      },
      "outputs": [],
      "source": []
    },
    {
      "cell_type": "markdown",
      "metadata": {
        "id": "lWXGGb9HuMWy"
      },
      "source": [
        "# Generate an aggregated combined domain features for all patients\n",
        "\n",
        "\n"
      ]
    },
    {
      "cell_type": "code",
      "execution_count": 24,
      "metadata": {
        "colab": {
          "base_uri": "https://localhost:8080/"
        },
        "collapsed": true,
        "id": "9rvortEeSLg1",
        "outputId": "205821d3-d8cf-4107-e5ca-de0b391d77f1"
      },
      "outputs": [
        {
          "name": "stdout",
          "output_type": "stream",
          "text": [
            "['S002', 'S003', 'S004', 'S005', 'S006', 'S007', 'S008', 'S009', 'S010', 'S011', 'S012', 'S013', 'S014', 'S015', 'S016', 'S017', 'S018', 'S019', 'S020', 'S021', 'S022', 'S023', 'S024', 'S025', 'S026', 'S027', 'S028', 'S029', 'S030', 'S031', 'S032', 'S033', 'S034', 'S035', 'S036', 'S037', 'S038', 'S039', 'S040', 'S042', 'S043', 'S044', 'S045', 'S046', 'S047', 'S048', 'S049', 'S050', 'S051', 'S052', 'S053', 'S054', 'S055', 'S056', 'S057', 'S058', 'S059', 'S061', 'S062', 'S063', 'S064', 'S065', 'S066', 'S067', 'S068', 'S069', 'S070', 'S071', 'S072', 'S073', 'S074', 'S075', 'S076', 'S077', 'S078', 'S079', 'S080', 'S081', 'S082', 'S083', 'S084', 'S085', 'S086', 'S087', 'S088', 'S089', 'S090', 'S091', 'S092', 'S093', 'S094', 'S095', 'S096', 'S097', 'S098', 'S099', 'S100', 'S101', 'S102', 'S103']\n"
          ]
        },
        {
          "name": "stderr",
          "output_type": "stream",
          "text": [
            "Processing raw data: 100%|██████████| 100/100 [00:06<00:00, 15.47it/s]\n"
          ]
        },
        {
          "name": "stdout",
          "output_type": "stream",
          "text": [
            "['PPG_Rate_Mean', 'HRV_SDNN', 'HRV_MadNN', 'HRV_SDRMSSD', 'HRV_Prc20NN', 'HRV_Prc80NN', 'HRV_pNN50', 'HRV_MinNN', 'HRV_MaxNN', 'HRV_HTI', 'HRV_TINN', 'HRV_HF', 'HRV_VHF', 'HRV_HFn', 'HRV_SD1SD2', 'HRV_S', 'HRV_CVI', 'HRV_CSI_Modified', 'HRV_PIP', 'HRV_IALS', 'HRV_PSS', 'HRV_PAS', 'HRV_GI', 'HRV_PI', 'HRV_C1d', 'HRV_C2d', 'HRV_Cd', 'HRV_DFA_alpha1', 'HRV_MFDFA_alpha1_Width', 'HRV_MFDFA_alpha1_Peak', 'HRV_MFDFA_alpha1_Mean', 'HRV_MFDFA_alpha1_Max', 'HRV_MFDFA_alpha1_Delta', 'HRV_MFDFA_alpha1_Asymmetry', 'HRV_MFDFA_alpha1_Fluctuation', 'HRV_ApEn', 'HRV_ShanEn', 'HRV_FuzzyEn', 'HRV_CD', 'HRV_HFD', 'HRV_KFD', 'HRV_LZC', 'total_power', 'normalized_power', 'HF_frequency_power', 'LF_frequency_peak', 'HF_frequency_peak', 'HR_mean', 'HR_max', 'HR_min', 'BVP_mean', 'BVP_median', 'BVP_max', 'BVP_std', 'ACC_X_trimmed_mean', 'ACC_X_trimmed_max', 'ACC_Y_trimmed_mean', 'ACC_Z_trimmed_mean', 'ACC_X_MAD_trimmed_IQR', 'ACC_INDEX', 'TEMP_mean', 'TEMP_std', 'mean_SCR_Height', 'mean_SCR_RiseTime', 'max_SCR_RiseTime', 'mean_SCR_RecoveryTime', 'max_SCR_RecoveryTime', 'timestamp_start', 'circadian_cosine', 'circadian_decay', 'circadian_linear', 'rolling_var_PPG_Rate_Mean', 'rolling_var_HRV_MeanNN', 'rolling_var_HRV_SDNN', 'rolling_var_HRV_CVNN', 'rolling_var_HRV_MedianNN', 'rolling_var_HRV_MadNN', 'rolling_var_HRV_IQRNN', 'rolling_var_HRV_SDRMSSD', 'rolling_var_HRV_Prc20NN', 'rolling_var_HRV_Prc80NN', 'rolling_var_HRV_pNN50', 'rolling_var_HRV_pNN20', 'rolling_var_HRV_MinNN', 'rolling_var_HRV_HTI', 'rolling_var_HRV_TINN', 'rolling_var_HRV_HF', 'rolling_var_HRV_VHF', 'rolling_var_HRV_HFn', 'rolling_var_HRV_LnHF', 'rolling_var_HRV_SD1SD2', 'rolling_var_HRV_S', 'rolling_var_HRV_CVI', 'rolling_var_HRV_CSI_Modified', 'rolling_var_HRV_PIP', 'rolling_var_HRV_IALS', 'rolling_var_HRV_PSS', 'rolling_var_HRV_PAS', 'rolling_var_HRV_GI', 'rolling_var_HRV_PI', 'rolling_var_HRV_C1d', 'rolling_var_HRV_C2d', 'rolling_var_HRV_Cd', 'rolling_var_HRV_DFA_alpha1', 'rolling_var_HRV_MFDFA_alpha1_Width', 'rolling_var_HRV_MFDFA_alpha1_Peak', 'rolling_var_HRV_MFDFA_alpha1_Mean', 'rolling_var_HRV_MFDFA_alpha1_Max', 'rolling_var_HRV_MFDFA_alpha1_Delta', 'rolling_var_HRV_MFDFA_alpha1_Asymmetry', 'rolling_var_HRV_MFDFA_alpha1_Fluctuation', 'rolling_var_HRV_ApEn', 'rolling_var_HRV_SampEn', 'rolling_var_HRV_ShanEn', 'rolling_var_HRV_FuzzyEn', 'rolling_var_HRV_CD', 'rolling_var_HRV_HFD', 'rolling_var_HRV_KFD', 'rolling_var_HRV_LZC', 'rolling_var_total_power', 'rolling_var_normalized_power', 'rolling_var_HF_frequency_power', 'rolling_var_LF_frequency_peak', 'rolling_var_HF_frequency_peak', 'rolling_var_HR_mean', 'rolling_var_HR_median', 'rolling_var_HR_max', 'rolling_var_HR_min', 'rolling_var_HR_std', 'rolling_var_BVP_mean', 'rolling_var_BVP_median', 'rolling_var_BVP_max', 'rolling_var_BVP_min', 'rolling_var_BVP_std', 'rolling_var_ACC_X_trimmed_mean', 'rolling_var_ACC_X_trimmed_max', 'rolling_var_ACC_X_trimmed_IQR', 'rolling_var_ACC_Y_trimmed_mean', 'rolling_var_ACC_Y_trimmed_max', 'rolling_var_ACC_Z_trimmed_mean', 'rolling_var_ACC_X_MAD_trimmed_max', 'rolling_var_ACC_X_MAD_trimmed_IQR', 'rolling_var_ACC_Y_MAD_trimmed_max', 'rolling_var_ACC_Y_MAD_trimmed_IQR', 'rolling_var_ACC_Z_MAD_trimmed_max', 'rolling_var_ACC_Z_MAD_trimmed_IQR', 'rolling_var_TEMP_mean', 'rolling_var_TEMP_std', 'rolling_var_mean_SCR_Height', 'rolling_var_mean_SCR_RiseTime', 'rolling_var_max_SCR_RiseTime', 'rolling_var_mean_SCR_RecoveryTime', 'rolling_var_max_SCR_RecoveryTime', 'gaussian_PPG_Rate_Mean', 'gaussian_HRV_MeanNN', 'gaussian_HRV_SDNN', 'gaussian_HRV_SDRMSSD', 'gaussian_HRV_Prc20NN', 'gaussian_HRV_Prc80NN', 'gaussian_HRV_pNN50', 'gaussian_HRV_MinNN', 'gaussian_HRV_TINN', 'gaussian_HRV_HF', 'gaussian_HRV_VHF', 'gaussian_HRV_HFn', 'gaussian_HRV_SD1SD2', 'gaussian_HRV_S', 'gaussian_HRV_PIP', 'gaussian_HRV_PSS', 'gaussian_HRV_GI', 'gaussian_HRV_PI', 'gaussian_HRV_C1d', 'gaussian_HRV_C1a', 'gaussian_HRV_C2d', 'gaussian_HRV_C2a', 'gaussian_HRV_Cd', 'gaussian_HRV_Ca', 'gaussian_HRV_DFA_alpha1', 'gaussian_HRV_MFDFA_alpha1_Width', 'gaussian_HRV_MFDFA_alpha1_Peak', 'gaussian_HRV_MFDFA_alpha1_Mean', 'gaussian_HRV_MFDFA_alpha1_Max', 'gaussian_HRV_MFDFA_alpha1_Delta', 'gaussian_HRV_MFDFA_alpha1_Asymmetry', 'gaussian_HRV_MFDFA_alpha1_Fluctuation', 'gaussian_HRV_ApEn', 'gaussian_HRV_FuzzyEn', 'gaussian_HRV_HFD', 'gaussian_HRV_KFD', 'gaussian_HRV_LZC', 'gaussian_total_power', 'gaussian_normalized_power', 'gaussian_HF_frequency_power', 'gaussian_LF_frequency_peak', 'gaussian_HF_frequency_peak', 'gaussian_HR_mean', 'gaussian_HR_max', 'gaussian_HR_min', 'gaussian_BVP_mean', 'gaussian_BVP_max', 'gaussian_BVP_std', 'gaussian_ACC_X_trimmed_mean', 'gaussian_ACC_X_trimmed_max', 'gaussian_ACC_Y_trimmed_mean', 'gaussian_ACC_Z_trimmed_mean', 'gaussian_TEMP_mean', 'gaussian_TEMP_std', 'gaussian_mean_SCR_Height', 'gaussian_mean_SCR_RiseTime', 'gaussian_max_SCR_RiseTime', 'gaussian_mean_SCR_RecoveryTime', 'gaussian_max_SCR_RecoveryTime', 'gaussian_PPG_Rate_Mean_1st_derivative', 'raw_PPG_Rate_Mean_1st_derivative', 'gaussian_HRV_MeanNN_1st_derivative', 'gaussian_HRV_SDNN_1st_derivative', 'raw_HRV_SDNN_1st_derivative', 'raw_HRV_MedianNN_1st_derivative', 'gaussian_HRV_MadNN_1st_derivative', 'raw_HRV_MadNN_1st_derivative', 'raw_HRV_IQRNN_1st_derivative', 'gaussian_HRV_SDRMSSD_1st_derivative', 'raw_HRV_SDRMSSD_1st_derivative', 'gaussian_HRV_Prc20NN_1st_derivative', 'raw_HRV_Prc20NN_1st_derivative', 'gaussian_HRV_Prc80NN_1st_derivative', 'raw_HRV_Prc80NN_1st_derivative', 'gaussian_HRV_pNN50_1st_derivative', 'raw_HRV_pNN50_1st_derivative', 'gaussian_HRV_pNN20_1st_derivative', 'raw_HRV_pNN20_1st_derivative', 'gaussian_HRV_MinNN_1st_derivative', 'raw_HRV_MinNN_1st_derivative', 'gaussian_HRV_MaxNN_1st_derivative', 'raw_HRV_MaxNN_1st_derivative', 'gaussian_HRV_HTI_1st_derivative', 'raw_HRV_HTI_1st_derivative', 'gaussian_HRV_TINN_1st_derivative', 'raw_HRV_TINN_1st_derivative', 'gaussian_HRV_HF_1st_derivative', 'raw_HRV_HF_1st_derivative', 'gaussian_HRV_VHF_1st_derivative', 'raw_HRV_VHF_1st_derivative', 'gaussian_HRV_HFn_1st_derivative', 'raw_HRV_HFn_1st_derivative', 'gaussian_HRV_LnHF_1st_derivative', 'raw_HRV_LnHF_1st_derivative', 'gaussian_HRV_SD1SD2_1st_derivative', 'raw_HRV_SD1SD2_1st_derivative', 'gaussian_HRV_S_1st_derivative', 'raw_HRV_S_1st_derivative', 'gaussian_HRV_CVI_1st_derivative', 'raw_HRV_CVI_1st_derivative', 'gaussian_HRV_CSI_Modified_1st_derivative', 'raw_HRV_CSI_Modified_1st_derivative', 'gaussian_HRV_PIP_1st_derivative', 'raw_HRV_PIP_1st_derivative', 'raw_HRV_IALS_1st_derivative', 'gaussian_HRV_PSS_1st_derivative', 'raw_HRV_PSS_1st_derivative', 'gaussian_HRV_PAS_1st_derivative', 'raw_HRV_PAS_1st_derivative', 'gaussian_HRV_GI_1st_derivative', 'raw_HRV_GI_1st_derivative', 'gaussian_HRV_PI_1st_derivative', 'raw_HRV_PI_1st_derivative', 'gaussian_HRV_C1d_1st_derivative', 'raw_HRV_C1d_1st_derivative', 'gaussian_HRV_C1a_1st_derivative', 'gaussian_HRV_C2d_1st_derivative', 'raw_HRV_C2d_1st_derivative', 'gaussian_HRV_C2a_1st_derivative', 'gaussian_HRV_Cd_1st_derivative', 'raw_HRV_Cd_1st_derivative', 'gaussian_HRV_Ca_1st_derivative', 'gaussian_HRV_DFA_alpha1_1st_derivative', 'raw_HRV_DFA_alpha1_1st_derivative', 'gaussian_HRV_MFDFA_alpha1_Width_1st_derivative', 'raw_HRV_MFDFA_alpha1_Width_1st_derivative', 'gaussian_HRV_MFDFA_alpha1_Peak_1st_derivative', 'raw_HRV_MFDFA_alpha1_Peak_1st_derivative', 'gaussian_HRV_MFDFA_alpha1_Mean_1st_derivative', 'raw_HRV_MFDFA_alpha1_Mean_1st_derivative', 'gaussian_HRV_MFDFA_alpha1_Max_1st_derivative', 'raw_HRV_MFDFA_alpha1_Max_1st_derivative', 'gaussian_HRV_MFDFA_alpha1_Delta_1st_derivative', 'raw_HRV_MFDFA_alpha1_Delta_1st_derivative', 'gaussian_HRV_MFDFA_alpha1_Asymmetry_1st_derivative', 'raw_HRV_MFDFA_alpha1_Asymmetry_1st_derivative', 'gaussian_HRV_MFDFA_alpha1_Fluctuation_1st_derivative', 'raw_HRV_MFDFA_alpha1_Fluctuation_1st_derivative', 'gaussian_HRV_ApEn_1st_derivative', 'raw_HRV_ApEn_1st_derivative', 'raw_HRV_ShanEn_1st_derivative', 'gaussian_HRV_FuzzyEn_1st_derivative', 'raw_HRV_FuzzyEn_1st_derivative', 'gaussian_HRV_CD_1st_derivative', 'raw_HRV_CD_1st_derivative', 'gaussian_HRV_HFD_1st_derivative', 'raw_HRV_HFD_1st_derivative', 'gaussian_HRV_KFD_1st_derivative', 'raw_HRV_KFD_1st_derivative', 'gaussian_HRV_LZC_1st_derivative', 'raw_HRV_LZC_1st_derivative', 'gaussian_total_power_1st_derivative', 'raw_total_power_1st_derivative', 'gaussian_normalized_power_1st_derivative', 'raw_normalized_power_1st_derivative', 'gaussian_LF_frequency_peak_1st_derivative', 'raw_LF_frequency_peak_1st_derivative', 'gaussian_HF_frequency_peak_1st_derivative', 'raw_HF_frequency_peak_1st_derivative', 'gaussian_HR_mean_1st_derivative', 'raw_HR_mean_1st_derivative', 'raw_HR_median_1st_derivative', 'gaussian_HR_max_1st_derivative', 'raw_HR_max_1st_derivative', 'gaussian_HR_min_1st_derivative', 'raw_HR_min_1st_derivative', 'gaussian_BVP_mean_1st_derivative', 'raw_BVP_mean_1st_derivative', 'gaussian_BVP_median_1st_derivative', 'raw_BVP_median_1st_derivative', 'gaussian_BVP_max_1st_derivative', 'raw_BVP_max_1st_derivative', 'raw_BVP_min_1st_derivative', 'gaussian_BVP_std_1st_derivative', 'raw_BVP_std_1st_derivative', 'gaussian_ACC_X_trimmed_mean_1st_derivative', 'raw_ACC_X_trimmed_mean_1st_derivative', 'gaussian_ACC_X_trimmed_max_1st_derivative', 'raw_ACC_X_trimmed_max_1st_derivative', 'raw_ACC_X_trimmed_IQR_1st_derivative', 'gaussian_ACC_Y_trimmed_mean_1st_derivative', 'raw_ACC_Y_trimmed_mean_1st_derivative', 'gaussian_ACC_Y_trimmed_max_1st_derivative', 'raw_ACC_Y_trimmed_max_1st_derivative', 'raw_ACC_Y_trimmed_IQR_1st_derivative', 'gaussian_ACC_Z_trimmed_mean_1st_derivative', 'raw_ACC_Z_trimmed_mean_1st_derivative', 'raw_ACC_X_MAD_trimmed_max_1st_derivative', 'gaussian_ACC_X_MAD_trimmed_IQR_1st_derivative', 'raw_ACC_X_MAD_trimmed_IQR_1st_derivative', 'raw_ACC_Y_MAD_trimmed_max_1st_derivative', 'raw_ACC_Y_MAD_trimmed_IQR_1st_derivative', 'gaussian_TEMP_mean_1st_derivative', 'raw_TEMP_mean_1st_derivative', 'raw_TEMP_max_1st_derivative', 'raw_TEMP_min_1st_derivative', 'gaussian_TEMP_std_1st_derivative', 'raw_TEMP_std_1st_derivative', 'gaussian_mean_SCR_Height_1st_derivative', 'raw_mean_SCR_Height_1st_derivative', 'gaussian_mean_SCR_RiseTime_1st_derivative', 'raw_mean_SCR_RiseTime_1st_derivative', 'gaussian_max_SCR_RiseTime_1st_derivative', 'raw_max_SCR_RiseTime_1st_derivative', 'gaussian_mean_SCR_RecoveryTime_1st_derivative', 'raw_mean_SCR_RecoveryTime_1st_derivative', 'gaussian_max_SCR_RecoveryTime_1st_derivative', 'raw_max_SCR_RecoveryTime_1st_derivative', 'AHI_Severity', 'Obesity', 'Sleep_Stage', 'Obstructive_Apnea', 'Central_Apnea', 'Hypopnea', 'Multiple_Events', 'artifact', 'sid', 'BMI']\n"
          ]
        }
      ],
      "source": [
        "import os\n",
        "import random\n",
        "import numpy as np\n",
        "import pandas as pd\n",
        "from tqdm import tqdm\n",
        "import torch\n",
        "\n",
        "# Import your original functions\n",
        "from datasets import *\n",
        "from feature_engineering import *\n",
        "\n",
        "root = \"dataset_sample/E4_aggregate_subsample\"\n",
        "info_dir = \"dataset_sample/participant_info.csv\"\n",
        "feature_df_dir = \"dataset_sample/features_df/\"\n",
        "threshold = 0.2\n",
        "\n",
        "# Get subject IDs\n",
        "all_sids = pd.read_csv(info_dir).SID.to_list()\n",
        "print(all_sids)\n",
        "\n",
        "for sid in tqdm(all_sids, desc=\"Processing raw data\"):\n",
        "    domain_features_df = pd.read_csv(os.path.join(feature_df_dir, f\"{sid}_domain_features_df.csv\"))\n",
        "\n",
        "# Run the original data_preparation pipeline on processed files\n",
        "quality_df_dir = \"results/quality_scores_per_subject.csv\"\n",
        "clean_df, new_features, good_quality_sids = data_preparation(\n",
        "    threshold=threshold,\n",
        "    quality_df_dir=quality_df_dir,\n",
        "    features_dir=feature_df_dir,\n",
        "    info_dir=info_dir\n",
        ")\n",
        "SW_df, final_features = split_data(clean_df, good_quality_sids, new_features)\n",
        "print(SW_df.columns.to_list())\n",
        "\n",
        "SW_df = SW_df.rename(columns={\n",
        "    'HRV_CD': 'HRV_CD_UPPER',\n",
        "    'HRV_Cd': 'HRV_Cd_MIXED',\n",
        "    'rolling_var_HRV_CD': 'rolling_var_HRV_CD_UPPER',\n",
        "    'rolling_var_HRV_Cd': 'rolling_var_HRV_Cd_MIXED',\n",
        "    'gaussian_HRV_Cd_1st_derivative': 'gaussian_HRV_Cd_1st_derivative_MIXED',\n",
        "    'gaussian_HRV_CD_1st_derivative': 'gaussian_HRV_CD_1st_derivative_UPPER',\n",
        "    'raw_HRV_CD_1st_derivative': 'raw_HRV_CD_1st_derivative_UPPER',\n",
        "    'raw_HRV_Cd_1st_derivative': 'raw_HRV_Cd_1st_derivative_MIXED'\n",
        "})\n",
        "\n",
        "SW_df['timestamp_start'] = pd.to_datetime(SW_df['timestamp_start'], unit='s')\n",
        "SW_df.to_csv('dataset_sample/all_patients_domain_features.csv', index=False)\n"
      ]
    },
    {
      "cell_type": "markdown",
      "metadata": {
        "id": "4rB5SX4qujpX"
      },
      "source": [
        "# Create a Pyhealth Classification Task"
      ]
    },
    {
      "cell_type": "code",
      "execution_count": 12,
      "metadata": {
        "id": "XZcLjLY0thOv"
      },
      "outputs": [],
      "source": [
        "from typing import Any, Dict, List\n",
        "\n",
        "from pyhealth.tasks.base_task import BaseTask\n",
        "import numpy as np\n",
        "\n",
        "\n",
        "class DREAMTE4SleepingStageClassification(BaseTask):\n",
        "    \"\"\"A task for classifying sleep stages from physiological signals.\n",
        "\n",
        "    This task processes wearable device (E4) data to classify sleep stages (Sleep pr Wake)\n",
        "    using extracted physiological features. It expects sequential physiological measurements\n",
        "    and returns corresponding sleep stage labels.\n",
        "\n",
        "    Attributes:\n",
        "        task_name (str): The name of the task, set to \"DREAMTClassification\".\n",
        "        input_schema (Dict[str, str]): The input schema specifying the required\n",
        "            input format. Contains:\n",
        "            - \"features\": \"ndarray\" (physiological features as numpy array)\n",
        "        output_schema (Dict[str, str]): The output schema specifying the output\n",
        "            format. Contains:\n",
        "            - \"label\": \"binary\" (sleep stage classification label)\n",
        "\n",
        "    Note:\n",
        "        - Input features include HRV, movement, and other physiological metrics\n",
        "        - Sleep stages are mapped as: \"P\": 1, \"N\": 0, \"R\": 0, \"W\": 1, \"Missing\": np.nan\n",
        "        - Each sample represents a 30-second epoch of sleep data\n",
        "    \"\"\"\n",
        "\n",
        "    task_name: str = \"DREAMTE4SleepingStageClassification\"\n",
        "    input_schema: Dict[str, str] = {\"features\": \"text\"}\n",
        "    output_schema: Dict[str, str] = {\"label\": \"binary\"}\n",
        "\n",
        "    def __call__(self, patient: Any) -> List[Dict[str, Any]]:\n",
        "        \"\"\"Process a patient's physiological data to classify sleep stages.\n",
        "\n",
        "        Args:\n",
        "            patient: A patient object containing physiological recordings and\n",
        "                sleep stage annotations. Expected to have events of type\n",
        "                \"dreams_features\" containing:\n",
        "                - sid: Subject ID\n",
        "                - Sleep_Stage: Annotated sleep stage\n",
        "                - Various physiological features (HRV metrics, movement, etc.)\n",
        "                - Respiratory event markers\n",
        "                - Demographic information\n",
        "\n",
        "        Returns:\n",
        "            List[Dict[str, Any]]: A list of dictionaries, each containing:\n",
        "                - \"patient_id\": Unique patient identifier\n",
        "                - \"features\": Physiological features as numpy array (shape 1×N)\n",
        "                - \"label\": Sleep stage classification 0 or 1\n",
        "\n",
        "        \"\"\"\n",
        "        samples = []\n",
        "        cols_to_remove = [\n",
        "            \"sid\", \"Sleep_Stage\", \"Central_Apnea\", \"Obstructive_Apnea\",\n",
        "            \"Multiple_Events\", \"Hypopnea\", 'AHI_Severity', 'Obesity',\n",
        "            'BMI', \"circadian_decay\", \"circadian_linear\", \"circadian_cosine\",\n",
        "            \"timestamp_start\"\n",
        "        ]\n",
        "\n",
        "        records = patient.get_events(event_type=\"dreamt_features\")\n",
        "        for record in records:\n",
        "            attr = record.attr_dict\n",
        "            features = [float(v) for k, v in attr.items() if k not in cols_to_remove]\n",
        "\n",
        "            sample = {\n",
        "                \"patient_id\": patient.patient_id[0],\n",
        "                \"features\": np.array(features).reshape(1, -1),\n",
        "                \"label\": int(float(attr[\"Sleep_Stage\"])),\n",
        "            }\n",
        "            samples.append(sample)\n",
        "\n",
        "        return samples\n",
        "\n"
      ]
    },
    {
      "cell_type": "markdown",
      "metadata": {
        "id": "XYbWitvPupq9"
      },
      "source": [
        "# Create a Pyhealth Dataset"
      ]
    },
    {
      "cell_type": "code",
      "execution_count": 13,
      "metadata": {
        "colab": {
          "base_uri": "https://localhost:8080/"
        },
        "id": "32rpFjsL4XdJ",
        "outputId": "ab22afcb-2baf-4f68-b7a3-f4c951241f8a"
      },
      "outputs": [
        {
          "name": "stdout",
          "output_type": "stream",
          "text": [
            "Initializing dreamt dataset from dataset_sample\n"
          ]
        },
        {
          "name": "stderr",
          "output_type": "stream",
          "text": [
            "INFO:pyhealth.datasets.base_dataset:Initializing dreamt dataset from dataset_sample\n"
          ]
        },
        {
          "name": "stdout",
          "output_type": "stream",
          "text": [
            "Scanning table: dreamt_features from dataset_sample/all_patients_domain_features.csv\n"
          ]
        },
        {
          "name": "stderr",
          "output_type": "stream",
          "text": [
            "INFO:pyhealth.datasets.base_dataset:Scanning table: dreamt_features from dataset_sample/all_patients_domain_features.csv\n"
          ]
        }
      ],
      "source": [
        "import logging\n",
        "import os\n",
        "from pathlib import Path\n",
        "from typing import Optional\n",
        "\n",
        "import pandas as pd\n",
        "\n",
        "# from pyhealth.tasks import DREAMTE4SleepingStageClassification\n",
        "from pyhealth.datasets import BaseDataset, SampleDataset\n",
        "# Import your original functions\n",
        "from datasets import *\n",
        "from feature_engineering import *\n",
        "\n",
        "logger = logging.getLogger(__name__)\n",
        "\n",
        "\n",
        "class DREAMTE4Dataset(BaseDataset):\n",
        "    \"\"\"Base dataset for the DREAMT sleep study dataset.\n",
        "\n",
        "    The DREAMT dataset contains polysomnography recordings with sleep stage annotations\n",
        "    and respiratory event information. This dataset is designed for sleep stage\n",
        "    classification tasks using physiological signals.\n",
        "\n",
        "    Dataset is available at:\n",
        "    https://physionet.org/content/dreamt/1.0.0/\n",
        "\n",
        "    Data Description:\n",
        "    ----------------\n",
        "    - Contains polysomnography recordings from sleep studies\n",
        "    - Includes sleep stage annotations (0-4 corresponding to W, N1, N2, N3, REM)\n",
        "    - Provides respiratory event information (apneas, hypopneas)\n",
        "    - Contains derived physiological features for each 30-second epoch\n",
        "    - Includes demographic and clinical information (BMI, AHI severity)\n",
        "\n",
        "    Paper:\n",
        "    Addressing Wearable Sleep Tracking Inequity: A New Dataset and Novel Methods for a Population with Sleep Disorders\n",
        "    https://raw.githubusercontent.com/mlresearch/v248/main/assets/wang24a/wang24a.pdf\n",
        "\n",
        "    References:\n",
        "    ----------\n",
        "    [1] https://onlinelibrary.wiley.com/doi/abs/10.1002/0471751723.ch1.\n",
        "    [2] https://www.ncbi.nlm.nih.gov/pmc/articles/PMC3817449/.\n",
        "    [3] https://www.ncbi.nlm.nih.gov/pmc/articles/PMC4400203/.\n",
        "    [4] https://my.clevelandclinic.org/health/articles/11429-common-sleep-disorders.\n",
        "    [5] https://www.nature.com/articles/s41746-020-0244-4.\n",
        "    [6] https://www.ncbi.nlm.nih.gov/pmc/articles/PMC5624990/.\n",
        "    [7] https://github.com/armiro/COVID-CXNet\n",
        "    [8] https://www.kaggle.com/c/rsna-pneumonia-detection-challenge/data\n",
        "    [9] https://www.kaggle.com/paultimothymooney/chest-xray-pneumonia\n",
        "\n",
        "    Args:\n",
        "        root: Root directory containing the dataset files.\n",
        "        tables: List of tables to load (default: [\"dreams_features\"]).\n",
        "        dataset_name: Optional name of the dataset. Defaults to \"dreamt\".\n",
        "        config_path: Optional path to the configuration file. If not provided,\n",
        "            uses \"dreamt.yaml\" as default.\n",
        "\n",
        "    Attributes:\n",
        "        root: Root directory of the dataset.\n",
        "        tables: List of loaded tables.\n",
        "        dataset_name: Name of the dataset.\n",
        "        config_path: Path to the configuration file.\n",
        "        patients: Dictionary of processed patient records containing:\n",
        "            - patient_id: Unique patient identifier\n",
        "            - records: List of sleep epochs with:\n",
        "                * record_id: Unique epoch identifier\n",
        "                * features: Physiological features (numpy array)\n",
        "                * label: Sleep stage (0-4)\n",
        "\n",
        "    Examples:\n",
        "        >>> from pyhealth.datasets import DreamtDataset\n",
        "        >>> dataset = DreamtDataset(\n",
        "        ...     root=\"/path/to/dreamt_data\"\n",
        "        ... )\n",
        "        >>> dataset.stat()\n",
        "        >>> samples = dataset.set_task()\n",
        "        >>> print(samples[0])\n",
        "\n",
        "    Note:\n",
        "        The dataset requires pre-processed feature files in CSV format containing:\n",
        "        - sid: Patient/study identifier\n",
        "        - Sleep_Stage: Annotated sleep stage (0-4)\n",
        "        - Various physiological features\n",
        "        - Respiratory event markers\n",
        "        - Demographic information\n",
        "    \"\"\"\n",
        "\n",
        "    def __init__(\n",
        "        self,\n",
        "        root: str,\n",
        "        dataset_name: Optional[str] = None,\n",
        "        config_path: Optional[str] = None,\n",
        "    ) -> None:\n",
        "        if config_path is None:\n",
        "            logger.info(\"No config path provided, using default config\")\n",
        "            config_path = \"dreamt.yaml\"\n",
        "        if not os.path.exists(os.path.join(root, \"all_patients_domain_features.csv\")):\n",
        "          self.prepare_metadata(root)\n",
        "        default_tables = [\"dreamt_features\"]\n",
        "        super().__init__(\n",
        "            root=root,\n",
        "            tables=default_tables,\n",
        "            dataset_name=dataset_name or \"dreamt\",\n",
        "            config_path=config_path,\n",
        "        )\n",
        "        # self.patients = self.process()\n",
        "        return\n",
        "\n",
        "\n",
        "    def prepare_metadata(self, root: str) -> None:\n",
        "        \"\"\"Prepare metadata for the DREAMT dataset by:\n",
        "        1. Loading raw feature files\n",
        "        2. Applying quality threshold 0.2\n",
        "        3. Processing and renaming features\n",
        "        4. Saving combined metadata to CSV\n",
        "\n",
        "        Args:\n",
        "            root: Root directory containing the dataset files.\n",
        "        \"\"\"\n",
        "        # Set paths\n",
        "        info_dir = os.path.join(root, \"participant_info.csv\")\n",
        "        feature_df_dir = os.path.join(root, \"features_df/\")\n",
        "        quality_df_dir = os.path.join(root, \"quality_scores_per_subject.csv\")\n",
        "        data_folder = os.path.join(root,\"E4_aggregate_subsample\")\n",
        "\n",
        "        # Get subject IDs\n",
        "        all_sids = pd.read_csv(info_dir).SID.to_list()\n",
        "        logger.info(f\"Found {len(all_sids)} subjects in participant info\")\n",
        "\n",
        "        # Extract and aggregated domain features for E4 data\n",
        "        for sid in all_sids:\n",
        "            print(sid)\n",
        "            try:\n",
        "                # print(data_folder)\n",
        "                extract_domain_features(\n",
        "                    sid, data_folder=data_folder, segment_seconds=30, save_folder_dir= feature_df_dir\n",
        "                )\n",
        "            except:\n",
        "                print(\"ERROR\")\n",
        "\n",
        "        # Verify feature files exist\n",
        "        for sid in all_sids:\n",
        "            feature_file = os.path.join(feature_df_dir, f\"{sid}_domain_features_df.csv\")\n",
        "            if not os.path.exists(feature_file):\n",
        "                logger.warning(f\"Missing feature file for subject {sid}\")\n",
        "\n",
        "        # Calculate quality score for each participant\n",
        "        self.calculate_qaulity_score(root, feature_df_dir)\n",
        "\n",
        "        # Run data preparation pipeline\n",
        "        logger.info(\"Processing raw data with quality threshold 0.2\")\n",
        "        clean_df, new_features, good_quality_sids = data_preparation(\n",
        "            threshold=0.2,\n",
        "            quality_df_dir=quality_df_dir,\n",
        "            features_dir=feature_df_dir,\n",
        "            info_dir=info_dir\n",
        "        )\n",
        "\n",
        "        # Split and process data\n",
        "        SW_df, final_features = split_data(clean_df, good_quality_sids, new_features)\n",
        "        logger.info(f\"Processed data with {len(SW_df)} records\")\n",
        "\n",
        "        # Rename columns for consistency\n",
        "        SW_df = SW_df.rename(columns={\n",
        "            'HRV_CD': 'HRV_CD_UPPER',\n",
        "            'HRV_Cd': 'HRV_Cd_MIXED',\n",
        "            'rolling_var_HRV_CD': 'rolling_var_HRV_CD_UPPER',\n",
        "            'rolling_var_HRV_Cd': 'rolling_var_HRV_Cd_MIXED',\n",
        "            'gaussian_HRV_Cd_1st_derivative': 'gaussian_HRV_Cd_1st_derivative_MIXED',\n",
        "            'gaussian_HRV_CD_1st_derivative': 'gaussian_HRV_CD_1st_derivative_UPPER',\n",
        "            'raw_HRV_CD_1st_derivative': 'raw_HRV_CD_1st_derivative_UPPER',\n",
        "            'raw_HRV_Cd_1st_derivative': 'raw_HRV_Cd_1st_derivative_MIXED'\n",
        "        })\n",
        "\n",
        "        # Convert and save timestamp\n",
        "        SW_df['timestamp_start'] = pd.to_datetime(SW_df['timestamp_start'], unit='s')\n",
        "\n",
        "        # Save final metadata\n",
        "        output_path = os.path.join(root, \"all_patients_domain_features.csv\")\n",
        "        SW_df.to_csv(output_path, index=False)\n",
        "        logger.info(f\"Saved processed metadata to {output_path}\")\n",
        "        return\n",
        "\n",
        "    def calculate_qaulity_score(self, root, feature_df_dir):\n",
        "        \"\"\" Code used to calculate quality score of each participant\n",
        "        \"\"\"\n",
        "        files = os.listdir(feature_df_dir)\n",
        "        files.sort()\n",
        "\n",
        "        sids = []\n",
        "        total_segments = []\n",
        "        num_excludes = []\n",
        "        percentages = []\n",
        "\n",
        "        for file in files:\n",
        "            sid = file.split('_')[0]\n",
        "            file_path = str(feature_df_dir + file)\n",
        "            df = pd.read_csv(file_path)\n",
        "            segment_len = len(df)\n",
        "            segment_exclude = np.sum(df.artifact)\n",
        "            percentage = segment_exclude / segment_len\n",
        "\n",
        "            sids.append(sid)\n",
        "            total_segments.append(segment_len)\n",
        "            num_excludes.append(segment_exclude)\n",
        "            percentages.append(percentage)\n",
        "\n",
        "        qs = pd.DataFrame({'sid': sids,\n",
        "                        'total_segments': total_segments,\n",
        "                        'num_excludes': num_excludes,\n",
        "                        'percentage_excludes': percentages})\n",
        "        output_path = os.path.join(root, \"quality_scores_per_subject.csv\")\n",
        "        qs.to_csv(output_path, index=False)\n",
        "        return\n",
        "\n",
        "\n",
        "    @property\n",
        "    def default_task(self) -> DREAMTE4SleepingStageClassification:\n",
        "        \"\"\"Returns the default task for this dataset.\n",
        "\n",
        "        Returns:\n",
        "             DREAMTE4SleepingStageClassification: The default classification task.\n",
        "        \"\"\"\n",
        "        return DREAMTE4SleepingStageClassification()\n",
        "\n",
        "\n",
        "\n",
        "root = \"dataset_sample\"\n",
        "dreamt_dataset = DREAMTE4Dataset(\n",
        "    root=root\n",
        ")\n"
      ]
    },
    {
      "cell_type": "code",
      "execution_count": 14,
      "metadata": {
        "colab": {
          "base_uri": "https://localhost:8080/"
        },
        "collapsed": true,
        "id": "zv1fWGFV4054",
        "outputId": "b3a28621-88a6-4e93-db1e-7a0ecb3e2b3e"
      },
      "outputs": [
        {
          "data": {
            "text/plain": [
              "1056"
            ]
          },
          "execution_count": 14,
          "metadata": {},
          "output_type": "execute_result"
        }
      ],
      "source": [
        "len(dreamt_dataset.get_patient('S003').get_events())"
      ]
    },
    {
      "cell_type": "markdown",
      "metadata": {
        "id": "9zV0kMVyxH57"
      },
      "source": [
        "## Prepare data samples for LightGBM model"
      ]
    },
    {
      "cell_type": "code",
      "execution_count": 15,
      "metadata": {
        "colab": {
          "base_uri": "https://localhost:8080/"
        },
        "id": "eUoIGH6Ep0CX",
        "outputId": "d1b1e702-0034-4d06-eb0d-33be98882999"
      },
      "outputs": [
        {
          "name": "stdout",
          "output_type": "stream",
          "text": [
            "Initializing dreamt dataset from dataset_sample\n"
          ]
        },
        {
          "name": "stderr",
          "output_type": "stream",
          "text": [
            "INFO:pyhealth.datasets.base_dataset:Initializing dreamt dataset from dataset_sample\n"
          ]
        },
        {
          "name": "stdout",
          "output_type": "stream",
          "text": [
            "Scanning table: dreamt_features from dataset_sample/all_patients_domain_features.csv\n"
          ]
        },
        {
          "name": "stderr",
          "output_type": "stream",
          "text": [
            "INFO:pyhealth.datasets.base_dataset:Scanning table: dreamt_features from dataset_sample/all_patients_domain_features.csv\n"
          ]
        },
        {
          "name": "stdout",
          "output_type": "stream",
          "text": [
            "Setting task for dreamt base dataset...\n"
          ]
        },
        {
          "name": "stderr",
          "output_type": "stream",
          "text": [
            "INFO:pyhealth.datasets.base_dataset:Setting task for dreamt base dataset...\n",
            "Generating samples for DREAMTE4SleepingStageClassification: 80it [01:02,  1.28it/s]\n",
            "Processing samples: 100%|██████████| 82671/82671 [00:01<00:00, 77729.96it/s]"
          ]
        },
        {
          "name": "stdout",
          "output_type": "stream",
          "text": [
            "{'features': 'text'}\n",
            "{'label': 'binary'}\n",
            "82671\n"
          ]
        },
        {
          "name": "stderr",
          "output_type": "stream",
          "text": [
            "\n"
          ]
        }
      ],
      "source": [
        "root = \"dataset_sample\"\n",
        "dreamt_dataset = DREAMTE4Dataset(\n",
        "    root=root\n",
        ")\n",
        "\n",
        "task = DREAMTE4SleepingStageClassification()\n",
        "dreamt_samples = dreamt_dataset.set_task(task)\n",
        "print(dreamt_samples.input_schema)\n",
        "print(dreamt_samples.output_schema)\n",
        "print(len(dreamt_samples))"
      ]
    },
    {
      "cell_type": "code",
      "execution_count": 16,
      "metadata": {
        "colab": {
          "base_uri": "https://localhost:8080/"
        },
        "id": "nsqFnzp_b_s0",
        "outputId": "ed87abd4-01b8-4b96-d82f-a0c82e0008d7"
      },
      "outputs": [
        {
          "data": {
            "text/plain": [
              "['features']"
            ]
          },
          "execution_count": 16,
          "metadata": {},
          "output_type": "execute_result"
        }
      ],
      "source": [
        "list(dreamt_samples.input_schema.keys())"
      ]
    },
    {
      "cell_type": "code",
      "execution_count": 17,
      "metadata": {
        "colab": {
          "base_uri": "https://localhost:8080/"
        },
        "id": "Up_RKnoRY030",
        "outputId": "33220a9d-a16b-4ebb-f2cb-a2dfb1b29b41"
      },
      "outputs": [
        {
          "data": {
            "text/plain": [
              "{'features': 'text'}"
            ]
          },
          "execution_count": 17,
          "metadata": {},
          "output_type": "execute_result"
        }
      ],
      "source": [
        "dreamt_samples.input_schema"
      ]
    },
    {
      "cell_type": "code",
      "execution_count": 18,
      "metadata": {
        "colab": {
          "base_uri": "https://localhost:8080/"
        },
        "collapsed": true,
        "id": "x3CqNrmJBAA3",
        "outputId": "fdf2e972-8c92-4729-e23e-7f1304b84bd9"
      },
      "outputs": [
        {
          "name": "stdout",
          "output_type": "stream",
          "text": [
            "{'patient_id': 'S004', 'features': array([[ 7.37663552e+01,  2.52376767e+02,  2.31656250e+02,\n",
            "         7.17673668e-01,  5.93750000e+02,  1.07812500e+03,\n",
            "         7.71428571e+01,  5.31250000e+02,  1.26562500e+03,\n",
            "         8.75000000e+00,  6.25000000e+01,  1.24288029e-01,\n",
            "         2.57271689e-02,  8.28502917e-01,  9.83612822e-01,\n",
            "         2.03459836e+05,  6.01544880e+00,  1.04348961e+03,\n",
            "         6.00000000e-01,  6.47058824e-01,  8.18181818e-01,\n",
            "         2.85714286e-01,  4.94827586e+01,  5.29411765e+01,\n",
            "         4.71199628e-01,  3.83753585e-01,  4.26755583e-01,\n",
            "         5.47959782e-01,  3.17686164e+00,  1.17029068e+00,\n",
            "         1.87763316e+00, -1.59906166e+00, -2.01792507e+00,\n",
            "        -2.77345519e-01,  1.23055425e-02,  3.84840678e-01,\n",
            "         4.22900373e+00,  1.65118030e+00,  1.16986539e+00,\n",
            "         1.99295559e+00,  4.90671531e+00,  1.61206038e+00,\n",
            "         9.59289062e+02,  3.58459200e+02,  1.19228147e+02,\n",
            "         6.66666667e-02,  2.00000000e-01,  8.99909220e+01,\n",
            "         1.39477866e+02,  6.20606061e+01,  5.34250164e-01,\n",
            "         1.52342425e+00,  3.01797939e+02,  7.64531245e+01,\n",
            "         2.31314151e-05,  9.44502545e-03,  1.11371650e-04,\n",
            "         3.63765812e-06,  1.53376925e-02,  8.83235580e-02,\n",
            "         3.19046667e+01,  3.09551647e-02,  2.00661874e-02,\n",
            "         1.87500000e+00,  3.75000000e+00,  3.37037037e+00,\n",
            "         2.27500000e+01,  1.49912419e+01,  3.13248154e+03,\n",
            "         5.01102165e+03,  6.07845257e-03,  1.24104818e+03,\n",
            "         5.00869770e+03,  2.08943685e+04,  3.46058385e-03,\n",
            "         3.37239583e+03,  9.14388021e+03,  2.12611607e+01,\n",
            "         2.15242347e-01,  1.13118490e+04,  1.33078704e+01,\n",
            "         1.42415365e+04,  4.37852553e-04,  7.39046428e-05,\n",
            "         2.00395057e-03,  4.25369328e-02,  1.41096009e-02,\n",
            "         1.74454007e+10,  3.43863475e-02,  2.01539034e+05,\n",
            "         1.42346939e-02,  1.57518660e-02,  1.90200896e-02,\n",
            "         1.53061224e-02,  1.33429346e+01,  3.51901794e+01,\n",
            "         1.89505831e-03,  1.76798292e-02,  6.67763620e-03,\n",
            "         1.96541860e-02,  4.99041628e-01,  4.23543399e-03,\n",
            "         1.40988665e-01,  3.98012742e-01,  7.52837058e-01,\n",
            "         7.97015900e-03,  4.01293366e-05,  6.09644469e-04,\n",
            "         8.02002464e-01,  7.32986261e-02,  1.36338239e-02,\n",
            "         1.63144187e-01,  2.13252890e-03,  9.48743155e-01,\n",
            "         2.26477391e-02,  4.45690779e+03,  9.39008720e-01,\n",
            "         6.51440517e+02,  0.00000000e+00,  1.48148148e-03,\n",
            "         3.55578511e+01,  9.10920680e+00,  1.41043517e+02,\n",
            "         2.15604084e+01,  1.07504944e+01,  5.77687025e-01,\n",
            "         1.73869250e+00,  9.54140816e+03,  5.76818963e+03,\n",
            "         8.49900061e+01,  2.89716253e-08,  5.91053824e-04,\n",
            "         1.12006187e-04,  2.51263042e-08,  1.82576918e-04,\n",
            "         7.63341376e-09,  1.69820745e-04,  6.30876325e-05,\n",
            "         1.75002582e-04,  1.57632474e-05,  6.18012159e-05,\n",
            "         3.18579211e-05,  7.50503704e-03,  6.09498110e-06,\n",
            "         3.88601444e-04,  1.22979192e-02,  2.06875000e+01,\n",
            "         3.20464782e-01,  8.43958333e+01,  4.79995082e+01,\n",
            "         4.71226886e+02,  1.51395850e+02,  4.40107215e-01,\n",
            "         3.48209024e+02,  5.84371396e+02,  4.06125569e+01,\n",
            "         2.61741468e+02,  1.04769216e+02,  6.07509118e-02,\n",
            "         9.96572984e-03,  5.13750421e-01,  6.04949928e-01,\n",
            "         1.48852151e+05,  4.05274756e-01,  5.40834270e-01,\n",
            "         2.94013493e+01,  2.97756106e+01,  2.69967361e-01,\n",
            "         3.30192657e-01,  3.22271235e-01,  2.77888783e-01,\n",
            "         2.96476104e-01,  3.03683914e-01,  3.61090421e-01,\n",
            "         8.39516744e-01,  5.15289210e-01,  6.04379591e-01,\n",
            "        -1.29319506e-01, -3.03582113e-01, -2.48018505e-01,\n",
            "         1.49412070e-03,  2.09935489e-01,  8.69358591e-01,\n",
            "         1.19566575e+00,  2.14323209e+00,  7.49575828e-01,\n",
            "         5.64547591e+02,  2.84110885e+02,  5.66220507e+01,\n",
            "         3.50234067e-02,  1.15024253e-01,  5.57290170e+01,\n",
            "         7.82970295e+01,  3.76265893e+01, -3.60970328e-02,\n",
            "         1.60312926e+02,  3.44407055e+01, -1.89822803e-05,\n",
            "         1.09545677e-02,  1.07785908e-05, -1.68171670e-05,\n",
            "         1.92748555e+01,  1.43959834e-02,  1.21336705e-02,\n",
            "         1.26211372e+00,  4.43844474e+00,  2.23410321e+00,\n",
            "         1.40062465e+01,  4.71432119e+00, -3.34282924e+00,\n",
            "         3.20527874e+01,  5.98662524e+00, -1.00178874e+02,\n",
            "         3.12500000e+01,  1.18304033e+00, -9.26625000e+01,\n",
            "         1.56250000e+01,  3.80047323e-02, -1.03450415e-01,\n",
            "         2.96526294e+01,  1.12500000e+02,  3.21222925e+01,\n",
            "         2.27373675e-13,  1.39682318e+00, -8.57142857e+00,\n",
            "         3.28498889e+00,  0.00000000e+00,  2.58098375e+01,\n",
            "         2.03125000e+02,  6.10315581e+01, -4.53125000e+02,\n",
            "         2.15787269e-01, -2.91666667e+00,  5.48129909e+00,\n",
            "        -2.34375000e+02,  7.71979753e-03,  4.07514622e-02,\n",
            "         1.62846416e-03,  1.39132088e-02,  4.13807860e-02,\n",
            "        -4.75967702e-02, -9.36664843e-02,  3.97317223e-01,\n",
            "         4.69018569e-02,  1.87314401e-01,  2.14152538e+03,\n",
            "        -1.70177712e+05,  2.67054178e-01, -2.63971823e-01,\n",
            "         2.57434781e+01, -8.97827714e+02,  3.94869475e-02,\n",
            "         8.57142857e-02,  8.82352941e-02,  4.83993178e-02,\n",
            "         1.33971292e-01,  2.14483849e-02,  0.00000000e+00,\n",
            "         2.65216466e+00, -3.90589975e+00,  2.50988824e+00,\n",
            "         1.17647059e+01,  2.76667955e-02, -9.77259925e-03,\n",
            "         2.24057025e-02,  2.78138348e-02, -2.65262551e-01,\n",
            "         2.22586631e-02,  2.76849103e-02, -1.56943006e-01,\n",
            "         2.23875876e-02,  3.49500321e-02, -2.56178249e-01,\n",
            "         6.23987838e-02,  1.26760868e+00,  5.59421191e-02,\n",
            "         1.80299215e-02,  3.59501513e-02,  5.89601388e-01,\n",
            "         2.52323627e-02, -9.02921499e-01,  4.12489812e-02,\n",
            "        -1.46927555e+00, -4.11726077e-02,  1.51542368e-01,\n",
            "         1.52939598e-04,  1.16177860e-02,  2.88324892e-02,\n",
            "         4.08049549e-02, -4.78711071e-01,  3.40678221e-02,\n",
            "         4.03372005e-02,  6.55529396e-02, -6.67594216e-01,\n",
            "         9.96541672e-02,  4.89472038e-02,  9.45815423e-02,\n",
            "         1.94698493e+00,  4.89258858e-02,  2.93101887e-01,\n",
            "         3.48281945e+01,  1.24863525e+02,  3.40853978e+01,\n",
            "        -1.74672287e+00,  1.14130780e-05,  0.00000000e+00,\n",
            "         9.18378915e-03,  0.00000000e+00,  5.12026054e+00,\n",
            "        -1.18567518e+01, -5.49648960e+00,  7.70328849e+00,\n",
            "        -1.53803570e+01,  4.50567310e+00, -1.37770060e+00,\n",
            "         6.53197487e-03,  1.51878588e+00, -1.22360739e-01,\n",
            "         6.65065369e-01,  4.31160335e+00, -1.13889210e+02,\n",
            "        -8.73194270e+01,  1.45604000e+00, -1.81632072e+01,\n",
            "        -5.62418412e-09,  1.66123296e-04,  1.24048447e-06,\n",
            "        -4.86226165e-02, -2.10863545e-02,  5.71642939e-07,\n",
            "        -7.68450029e-05,  1.24642131e-04, -2.60637846e-02,\n",
            "        -1.37447602e-02,  2.99419498e-07,  1.63270110e-04,\n",
            "        -1.61821431e-02,  1.27457396e-05,  1.03142835e-02,\n",
            "        -2.46042619e-02, -7.21619113e-03,  1.62114246e+00,\n",
            "         1.08000000e-01,  1.20000000e-01,  1.20000000e-01,\n",
            "         9.49989818e-04,  6.97016129e-04,  9.25964733e-04,\n",
            "        -3.72858044e-02,  1.09904561e-01, -1.80970149e-01,\n",
            "         2.88339652e-01, -8.00000000e+00,  1.30012402e-01,\n",
            "         2.35754986e-01,  4.97941138e-01,  1.25000000e+00,\n",
            "         1.00000000e+00]]), 'label': tensor([0.])}\n"
          ]
        }
      ],
      "source": [
        "print(dreamt_samples[0])"
      ]
    },
    {
      "cell_type": "code",
      "execution_count": 19,
      "metadata": {
        "colab": {
          "base_uri": "https://localhost:8080/"
        },
        "id": "s6qKr8ZhoJJ2",
        "outputId": "0ada9189-b283-4e79-9c87-36b5207b3f33"
      },
      "outputs": [
        {
          "name": "stdout",
          "output_type": "stream",
          "text": [
            "(1, 358)\n"
          ]
        }
      ],
      "source": [
        "print(dreamt_samples[0]['features'].shape)"
      ]
    },
    {
      "cell_type": "code",
      "execution_count": null,
      "metadata": {
        "id": "ciOpNvmOeUk0"
      },
      "outputs": [],
      "source": []
    },
    {
      "cell_type": "code",
      "execution_count": 20,
      "metadata": {
        "colab": {
          "base_uri": "https://localhost:8080/"
        },
        "id": "rlzqHVwZjfTL",
        "outputId": "0e3a6dca-8b8d-48b1-e832-2243080e8ec9"
      },
      "outputs": [
        {
          "name": "stdout",
          "output_type": "stream",
          "text": [
            "82671\n"
          ]
        }
      ],
      "source": [
        "print(len(dreamt_samples))"
      ]
    },
    {
      "cell_type": "code",
      "execution_count": null,
      "metadata": {
        "id": "n7_x5aIcGyTZ"
      },
      "outputs": [],
      "source": []
    },
    {
      "cell_type": "markdown",
      "metadata": {
        "id": "rRdf_3bRuyFE"
      },
      "source": [
        "# Create a Pyhealth LightGBM Model"
      ]
    },
    {
      "cell_type": "code",
      "execution_count": 21,
      "metadata": {
        "id": "Tp4POY-UG93s"
      },
      "outputs": [],
      "source": [
        "from pyhealth.models import BaseModel\n",
        "import lightgbm as lgb\n",
        "import numpy as np\n",
        "import pandas as pd\n",
        "import torch\n",
        "import pickle\n",
        "from typing import List, Dict\n",
        "from sklearn.metrics import classification_report, confusion_matrix\n",
        "import matplotlib.pyplot as plt\n",
        "import seaborn as sns\n",
        "from sklearn.metrics import accuracy_score, confusion_matrix, recall_score, precision_score, f1_score, auc, precision_recall_curve, roc_auc_score, cohen_kappa_score\n",
        "\n",
        "class LightGBMClassifier(BaseModel):\n",
        "    \"\"\"LightGBM classifier for PyHealth that handles epoch_path storage.\n",
        "\n",
        "    Args:\n",
        "        dataset: PyHealth dataset (with epoch_path in samples)\n",
        "        feature_keys: Should be [\"signal\"] for your case\n",
        "        label_key: Key containing labels (\"label\")\n",
        "        mode: \"binary\" or \"multiclass\"\n",
        "        **kwargs: LightGBM parameters\n",
        "    \"\"\"\n",
        "    def __init__(\n",
        "        self,\n",
        "        dataset,\n",
        "        feature_keys: List[str],\n",
        "        label_key: str,\n",
        "        mode: str,\n",
        "        train_test_split: List[float] = None,\n",
        "        **kwargs\n",
        "    ):\n",
        "        self.feature_keys = feature_keys\n",
        "        self.label_key = label_key\n",
        "        self.train_test_split = train_test_split\n",
        "        self.train_samples, self.val_samples, self.test_samples = split_by_visit(dataset, train_test_split)\n",
        "\n",
        "\n",
        "        super().__init__(\n",
        "            dataset=dataset,\n",
        "        )\n",
        "\n",
        "        self.params = {\n",
        "            \"objective\": \"binary\" if mode == \"binary\" else \"multiclass\",\n",
        "            \"verbose\": -1,\n",
        "            **kwargs\n",
        "        }\n",
        "        self.model = None\n",
        "\n",
        "    def fit(self):\n",
        "        \"\"\"Train the model using PyHealth data samples.\"\"\"\n",
        "        X_train, y_train = self._samples_to_arrays(self.train_samples)\n",
        "        print(X_train.shape)\n",
        "        print(y_train.shape)\n",
        "\n",
        "        eval_set = None\n",
        "        if self.val_samples:\n",
        "            X_val, y_val = self._samples_to_arrays(self.val_samples)\n",
        "            eval_set = [(X_val, y_val)]\n",
        "\n",
        "        self.model = lgb.LGBMClassifier(**self.params)\n",
        "        self.model.fit(X_train, y_train, eval_set=eval_set)\n",
        "\n",
        "    def predict(self):\n",
        "        \"\"\"Make predictions using a data samples.\"\"\"\n",
        "        X, _ = self._samples_to_arrays(self.test_samples)\n",
        "        return self.model.predict(X)\n",
        "\n",
        "    def predict_proba(self):\n",
        "        \"\"\"Get prediction probabilities.\"\"\"\n",
        "        X, _ = self._samples_to_arrays(self.test_samples)\n",
        "        return self.model.predict_proba(X)\n",
        "\n",
        "    def evaluate(self, model_name=\"LightGBM\"):\n",
        "        \"\"\"Complete evaluation with metrics and visualization.\"\"\"\n",
        "        X_test, y_test = self._samples_to_arrays(self.test_samples)\n",
        "        y_pred = self.predict()\n",
        "        y_pred_proba = self.predict_proba()\n",
        "\n",
        "        # Metrics\n",
        "        results = []\n",
        "        accuracy = accuracy_score(y_test, y_pred)\n",
        "        cm = confusion_matrix(y_test, y_pred)\n",
        "        precision = precision_score(\n",
        "            y_test,\n",
        "            y_pred,\n",
        "            labels=[1],\n",
        "        )\n",
        "        recall = recall_score(\n",
        "            y_test,\n",
        "            y_pred,\n",
        "            labels=[1],\n",
        "        )  # Recall is the same as sensitivity\n",
        "        f1 = f1_score(\n",
        "            y_test,\n",
        "            y_pred,\n",
        "            labels=[1],\n",
        "        )\n",
        "        auroc = roc_auc_score(y_test, y_pred_proba[:, 1])\n",
        "        precisions, recalls, thresholds = precision_recall_curve(y_test, y_pred_proba[:,1])\n",
        "        precision_recall_auc = auc(recalls, precisions)\n",
        "        y_pred_kappa = np.argmax(y_pred_proba, axis=1)\n",
        "        cohen_kappa = cohen_kappa_score(y_test, y_pred)\n",
        "\n",
        "        report = classification_report(y_test, y_pred)\n",
        "        print(report)\n",
        "        results.append(\n",
        "            {\n",
        "                \"Model\": model_name,\n",
        "                \"Precision\": precision,\n",
        "                \"Recall\": recall,\n",
        "                \"F1 Score\": f1,\n",
        "                \"AUROC\": auroc,\n",
        "                'AUPRC': precision_recall_auc,\n",
        "                \"Accuracy\": accuracy,\n",
        "                \"Cohen's Kappa\": cohen_kappa,\n",
        "            }\n",
        "        )\n",
        "\n",
        "        return results\n",
        "\n",
        "\n",
        "    def _samples_to_arrays(self, samples):\n",
        "        \"\"\"Convert samples to numpy arrays, concatenating multiple feature keys.\"\"\"\n",
        "        X = []\n",
        "        y = []\n",
        "\n",
        "        for sample in samples:\n",
        "            features_list = []\n",
        "            for feature_key in self.feature_keys:\n",
        "                feature = sample[feature_key]\n",
        "                if isinstance(feature, torch.Tensor):\n",
        "                    feature = feature.numpy()\n",
        "                # Flatten if needed\n",
        "                if hasattr(feature, 'flatten'):\n",
        "                    feature = feature.flatten()\n",
        "                features_list.append(feature)\n",
        "\n",
        "            combined_features = np.concatenate(features_list)\n",
        "            X.append(combined_features)\n",
        "\n",
        "            label = sample[self.label_key]\n",
        "            if isinstance(label, torch.Tensor):\n",
        "                label = label.item()\n",
        "            y.append(sample[self.label_key])\n",
        "\n",
        "        return np.array(X), np.array(y)"
      ]
    },
    {
      "cell_type": "code",
      "execution_count": null,
      "metadata": {
        "id": "vKGlFNhyuvKW"
      },
      "outputs": [],
      "source": []
    },
    {
      "cell_type": "markdown",
      "metadata": {
        "id": "QieB9Pi3vNjH"
      },
      "source": [
        "## Train a LightGBm model for DREAMT E4 in pyhealth"
      ]
    },
    {
      "cell_type": "code",
      "execution_count": 23,
      "metadata": {
        "colab": {
          "base_uri": "https://localhost:8080/"
        },
        "id": "cNuQ_55yG91i",
        "outputId": "dd0b592b-0df2-47ef-abaf-815d49ac33cd"
      },
      "outputs": [
        {
          "name": "stdout",
          "output_type": "stream",
          "text": [
            "(57869, 358)\n",
            "(57869, 1)\n",
            "              precision    recall  f1-score   support\n",
            "\n",
            "         0.0       0.90      0.80      0.85      6916\n",
            "         1.0       0.87      0.94      0.90      9619\n",
            "\n",
            "    accuracy                           0.88     16535\n",
            "   macro avg       0.88      0.87      0.87     16535\n",
            "weighted avg       0.88      0.88      0.88     16535\n",
            "\n"
          ]
        },
        {
          "data": {
            "text/plain": [
              "[{'Model': 'LightGBM',\n",
              "  'Precision': 0.867013587742122,\n",
              "  'Recall': 0.9353363135461067,\n",
              "  'F1 Score': 0.8998799759951991,\n",
              "  'AUROC': np.float64(0.9452658582327932),\n",
              "  'AUPRC': np.float64(0.954917811491508),\n",
              "  'Accuracy': 0.8789234956153613,\n",
              "  \"Cohen's Kappa\": np.float64(0.7473069965943959)}]"
            ]
          },
          "execution_count": 23,
          "metadata": {},
          "output_type": "execute_result"
        }
      ],
      "source": [
        "from pyhealth.datasets import split_by_visit\n",
        "\n",
        "# Initialize\n",
        "lgb_model = LightGBMClassifier(\n",
        "    dataset=dreamt_samples,\n",
        "    train_test_split=[0.7, 0.1, 0.2],\n",
        "    feature_keys=[\"features\"],\n",
        "    label_key=\"label\",\n",
        "    mode=\"binary\",  # or \"multiclass\"\n",
        "    learning_rate=0.01,\n",
        "    n_estimators=300\n",
        ")\n",
        "\n",
        "# Train\n",
        "lgb_model.fit()\n",
        "\n",
        "# Evaluate\n",
        "report = lgb_model.evaluate()\n",
        "report"
      ]
    },
    {
      "cell_type": "code",
      "execution_count": null,
      "metadata": {
        "id": "Py93aGThZpQ7"
      },
      "outputs": [],
      "source": []
    },
    {
      "cell_type": "code",
      "execution_count": null,
      "metadata": {
        "id": "Mar0JB49vsw5"
      },
      "outputs": [],
      "source": []
    },
    {
      "cell_type": "markdown",
      "metadata": {
        "id": "YcEgWLS4vWbw"
      },
      "source": [
        "# Train a RNN model for DREAMT E4 with pyhealth (converting features in *Tensor*)"
      ]
    },
    {
      "cell_type": "code",
      "execution_count": 25,
      "metadata": {
        "id": "avHP95yHvuyy"
      },
      "outputs": [],
      "source": [
        "from typing import Any\n",
        "import numpy as np\n",
        "import torch\n",
        "from pyhealth.processors import register_processor\n",
        "from pyhealth.processors.base_processor import FeatureProcessor\n",
        "\n",
        "@register_processor(\"NumericToTensor\")\n",
        "class NumericProcessor(FeatureProcessor):\n",
        "    \"\"\"Processor for numerical feature arrays that converts inputs to PyTorch tensors.\n",
        "\n",
        "    This processor:\n",
        "    - Accepts various numerical inputs (lists, numpy arrays, etc.)\n",
        "    - Converts them to float32 tensors\n",
        "    - Preserves numerical values exactly\n",
        "    - Handles type conversion automatically\n",
        "\n",
        "    Typical use cases:\n",
        "    - Processing continuous-valued features\n",
        "    - Converting pre-computed features for neural networks\n",
        "    - Preparing numerical data for PyTorch models\n",
        "    \"\"\"\n",
        "\n",
        "    def __init__(self):\n",
        "        super().__init__()\n",
        "\n",
        "    def process(self, value: Any) -> torch.Tensor:\n",
        "        \"\"\"Converts numerical arrays to float32 tensors.\n",
        "\n",
        "        Args:\n",
        "            value: Input numerical data (list, numpy array, torch.Tensor, or similar)\n",
        "\n",
        "        Returns:\n",
        "            torch.FloatTensor: Converted tensor with dtype=float32\n",
        "\n",
        "        Raises:\n",
        "            ValueError: If input cannot be converted to numerical tensor\n",
        "        \"\"\"\n",
        "        # If already a tensor, just ensure correct dtype\n",
        "        if isinstance(value, torch.Tensor):\n",
        "            return value.float()\n",
        "\n",
        "        try:\n",
        "            # Convert to numpy array if not already\n",
        "            if not isinstance(value, np.ndarray):\n",
        "                value = np.array(value, dtype=np.float32)\n",
        "\n",
        "            # Ensure numerical dtype\n",
        "            if not np.issubdtype(value.dtype, np.number):\n",
        "                value = value.astype(np.float32)\n",
        "\n",
        "            return torch.from_numpy(value).float()\n",
        "        except Exception as e:\n",
        "            raise ValueError(f\"Cannot convert input to tensor: {value}\") from e\n",
        "\n",
        "    def size(self) -> int:\n",
        "        \"\"\"Returns feature dimension (1 for scalar processors).\n",
        "\n",
        "        Note:\n",
        "            This processor doesn't maintain a vocabulary size since it handles\n",
        "            continuous numerical features. The return value of 1 indicates\n",
        "            it processes single features (though they may be multi-dimensional).\n",
        "        \"\"\"\n",
        "        return 1\n",
        "\n",
        "    def __repr__(self) -> str:\n",
        "        return \"TensorProcessor()\""
      ]
    },
    {
      "cell_type": "code",
      "execution_count": 26,
      "metadata": {
        "id": "SftJOWJ9wJpc"
      },
      "outputs": [],
      "source": [
        "from typing import Any, Dict, List\n",
        "\n",
        "from pyhealth.tasks.base_task import BaseTask\n",
        "import numpy as np\n",
        "\n",
        "\n",
        "class DREAMTE4TensorClassification(BaseTask):\n",
        "\n",
        "    task_name: str = \"DREAMTE4SleepingStageClassification\"\n",
        "    input_schema: Dict[str, str] = {\"features\": \"NumericToTensor\"}\n",
        "    output_schema: Dict[str, str] = {\"label\": \"binary\"}\n",
        "\n",
        "    def __call__(self, patient: Any) -> List[Dict[str, Any]]:\n",
        "        samples = []\n",
        "        cols_to_remove = [\n",
        "            \"sid\", \"Sleep_Stage\", \"Central_Apnea\", \"Obstructive_Apnea\",\n",
        "            \"Multiple_Events\", \"Hypopnea\", 'AHI_Severity', 'Obesity',\n",
        "            'BMI', \"circadian_decay\", \"circadian_linear\", \"circadian_cosine\",\n",
        "            \"timestamp_start\"\n",
        "        ]\n",
        "\n",
        "        records = patient.get_events(event_type=\"dreamt_features\")\n",
        "        for record in records:\n",
        "            attr = record.attr_dict\n",
        "            features = [float(v) for k, v in attr.items() if k not in cols_to_remove]\n",
        "\n",
        "            sample = {\n",
        "                \"patient_id\": patient.patient_id[0],\n",
        "                \"features\": np.array(features).reshape(1, -1),\n",
        "                \"label\": int(float(attr[\"Sleep_Stage\"])),\n",
        "            }\n",
        "            samples.append(sample)\n",
        "\n",
        "        return samples\n",
        "\n"
      ]
    },
    {
      "cell_type": "code",
      "execution_count": 27,
      "metadata": {
        "colab": {
          "base_uri": "https://localhost:8080/"
        },
        "id": "sF4CD9D4waaW",
        "outputId": "409ea3cb-bfee-4f45-8b24-69e825f53060"
      },
      "outputs": [
        {
          "name": "stdout",
          "output_type": "stream",
          "text": [
            "Setting task for dreamt base dataset...\n"
          ]
        },
        {
          "name": "stderr",
          "output_type": "stream",
          "text": [
            "INFO:pyhealth.datasets.base_dataset:Setting task for dreamt base dataset...\n",
            "Generating samples for DREAMTE4SleepingStageClassification: 80it [01:01,  1.29it/s]\n",
            "Processing samples: 100%|██████████| 82671/82671 [00:02<00:00, 35186.67it/s]\n"
          ]
        },
        {
          "name": "stdout",
          "output_type": "stream",
          "text": [
            "{'features': 'NumericToTensor'}\n",
            "{'label': 'binary'}\n",
            "82671\n"
          ]
        }
      ],
      "source": [
        "RNNtask = DREAMTE4TensorClassification()\n",
        "dreamt_samples_RNN = dreamt_dataset.set_task(RNNtask)\n",
        "print(dreamt_samples_RNN.input_schema)\n",
        "print(dreamt_samples_RNN.output_schema)\n",
        "print(len(dreamt_samples_RNN))"
      ]
    },
    {
      "cell_type": "code",
      "execution_count": 29,
      "metadata": {
        "colab": {
          "base_uri": "https://localhost:8080/",
          "height": 1000,
          "referenced_widgets": [
            "ebbb18b0fb2842dd8ee75bc9991c9e42",
            "4937fc8ed17a40a6b0ba306835264da1",
            "20586824d2cd4bffb1fdd8b233fd02ef",
            "a9ca04067b3c4dc1901ac32721590849",
            "8a2321a633e3471b875a5e060d87b0ab",
            "94a3a69f1da0427fb22426eee3b2b265",
            "fd1fa59b497a45fab416d9cab0870d94",
            "95fea8500cae426aab4f55205257f295",
            "707fa25e9f1d490990ce3d5833954371",
            "58b7ef7c249944f8bbe72a0e85047e78",
            "b547203018a1492ca6ca42867cc7168e",
            "c4e0446fb3ee4337894439f99348f413",
            "f24a67c61f3243f6958257bece5da4f6",
            "eeb8fe8b3c004872ab885c43fe872795",
            "d3faf308d7f54adb9bcedd2dacb4e696",
            "ee405a329d264fc09771368ab2404f1b",
            "9f198322fd474bc28b8faca1f6774122",
            "9f32fe36e6ab4fc88f355c7fd40b9fb5",
            "76d2cc4cb8304436a9edc21ef6ed5770",
            "b6479ca2423049df81150af90f7f12e3",
            "d4f21a46fd4943acaa6aad5b3b028ef8",
            "9d2f6eff2321493d8bf5b6e7fb023974",
            "ee18a3c392af4bd8a97ad64d228c0f82",
            "7f8203eb69b345059a832cc53d02a2b4",
            "8498349aae2e44839a9dfba8449a6c80",
            "f328a9e46bb34a4fb8cd1a1823b4cae6",
            "1a547cb71c474eb59d1b4159fee3b919",
            "2d9cf541e1634401ad96ba92a1fa3849",
            "9d877e1653fa49009030384ecce0112a",
            "ee3bcdc12f274e2eab2c2d9ac1292273",
            "9f674998520a4c588e00dafd4b02f9fb",
            "f2b6357625464c0890f17914b68e9e88",
            "286b85e7fdc64a36afaad5f0d4c22d92",
            "2d6f26ffa59a47ba9a883c312092ac20",
            "bcf8ef62d3f84a83a793c93591144ce2",
            "6d4005a4798f4550b711792a15757e92",
            "b15e993a92494c4d90518ecabe4b69cf",
            "eadf2fec40d649868da486e3cc07ab2c",
            "53a5547898504bbdbde936659d0de5fd",
            "c1d8b432a4cd40c1a886bf736d2e477a",
            "af0bc330eee84f46989ed0b7dec300c4",
            "de1a49063cfa4ef8ace9cf02478703cd",
            "0e13ad3899c34a50bc2be7cfd07fa942",
            "a29ba846fe6d4f5e9ee1841fffa058e8",
            "2c0e6600c5a64db59c8220f6cec0495d",
            "9f123e8cd868463bb31945293644dc87",
            "45bff1412b6d447d9e7a679c5f76bd5e",
            "51000865bc954df6a8d69fb9389c661c",
            "82bf4b5d4af3444080e7817e73d46edd",
            "04d1812ba4de4887b45eec58a702cd95",
            "23d5128b677940238e074054d2acd749",
            "4fcb53eb49e04b8cb94e69dbaa8355ac",
            "84d9260df5274353b4b0bfb838f008a9",
            "13de950bf1f04bb98ded0de9c45e79af",
            "6e21f648fbfe42a99d79377fe82bba87",
            "302b859243c047fcbdd74859a300f8d9",
            "11c63e86bd5142d388b5153db59d96ae",
            "3e1b87fb408e4922bf98882dd1e7a823",
            "c3ecfeb1f0234d36a1be9ba71b0d4ca0",
            "250236f1ecb54d81a7c80a4c2c9c1ba9",
            "aaa3777a393f484cbc2e82f11ff41311",
            "721a3b4f5472468b9071bf38927e69f8",
            "5570ec20bc6445c3b3cc45b499bb2e9f",
            "20419c44eca04de492f3d7c4b67abafb",
            "e492a023cdce4978b203d8d2a63e4fc4",
            "cdaf744fd90b43e58cbe1a686d3048e1",
            "92d18988fd084c39bd27949c8e305404",
            "b8ba4965bd874761bd97c5b551b925b4",
            "807b847317774ee6a91e04649fbcd8f8",
            "660b4c87b2b74982b6ec05c856e625fd",
            "b3954604d75b4c5ab8b9b59893d220ec",
            "8e245080096c4d26a590c498e2610fa8",
            "bc482c087d8e4393a2c5b28b698f4083",
            "d9c42b6a1e624f3c829bb8bd3918f30e",
            "012f8522f8af45dc9051d5738ffa4610",
            "5f3f974c976c4195a49a49f6d6423beb",
            "91210964e7894b5f8c05ae8a4fb2f213",
            "2cbba7bfe4d146259daae964feb493a1",
            "452ef35ecb0b430c83ab8bf952585b94",
            "28b9c6b7863b4d76b2d754e9a1a3ef81",
            "37f9f7c6505c4ec1a5e6123b553bf849",
            "c365ae14aca14a00accc868ab1b73e63",
            "562200eb8b094272b0ea0dbdf5032263",
            "ec9eb61e178f4f599f43fd4235a7a706",
            "963f66e4a877427bbac73b3e52a92c84",
            "dd8dea3940204195b317b55b5b0ac7e2",
            "4593fa86cf72403a85de5158cced4d0c",
            "4528a7fa923644a290725b991dbaa229",
            "0b140a050c2d4f82832b0e339a54bdab",
            "9f929b51453f445e9e1ab65077c96e11",
            "f04aaa0b9797487580e7763ff0eb7596",
            "0a4df20598c5451282afec58b6470c47",
            "d5dbe0e4dc1f4cc59dfed3cfb1e40eea",
            "2628f6ecc57a4e43b4548a6effd1840d",
            "9b18ac4c0bc44182bb50c23add8bd76d",
            "a309554cb31641f48ff28613d80774a8",
            "6f3997b2bf664545aa1e8af24d134591",
            "6c7d8d0f08c9480ca54635775f871f05",
            "06a9e7fb214b41c1bcf54a29bd6be756",
            "af781763c09b4a66a6c2eb337a4960f3",
            "295d0435025f41f486e580e69fdf799c",
            "f268b6c870da478bb61fb62e10816131",
            "51069628d6af413ab861232a320926a0",
            "dc5c7a0a3e0946c8a26b9bf628124425",
            "85faf39574754c10b200c4954057d02e",
            "0818d12b266f472ba2d91f2778fc2dac",
            "463d482a01f844bca00d3a51b6cd8873",
            "fb8ed1b925f047bead05be55ce999d3a",
            "bd146be525ec431d8ee8356a182123e9",
            "632899eb829641379e3787f908cf08b6"
          ]
        },
        "collapsed": true,
        "id": "w4K1OzCZb_qh",
        "outputId": "123511bf-1fc1-4dbe-b9e3-f13ce6378788"
      },
      "outputs": [
        {
          "name": "stdout",
          "output_type": "stream",
          "text": [
            "RNN(\n",
            "  (embedding_model): EmbeddingModel(embedding_layers=ModuleDict())\n",
            "  (rnn): ModuleDict(\n",
            "    (features): RNNLayer(\n",
            "      (dropout_layer): Dropout(p=0.3, inplace=False)\n",
            "      (rnn): GRU(358, 256, num_layers=2, batch_first=True, dropout=0.3)\n",
            "    )\n",
            "  )\n",
            "  (fc): Linear(in_features=256, out_features=1, bias=True)\n",
            ")\n"
          ]
        },
        {
          "name": "stderr",
          "output_type": "stream",
          "text": [
            "INFO:pyhealth.trainer:RNN(\n",
            "  (embedding_model): EmbeddingModel(embedding_layers=ModuleDict())\n",
            "  (rnn): ModuleDict(\n",
            "    (features): RNNLayer(\n",
            "      (dropout_layer): Dropout(p=0.3, inplace=False)\n",
            "      (rnn): GRU(358, 256, num_layers=2, batch_first=True, dropout=0.3)\n",
            "    )\n",
            "  )\n",
            "  (fc): Linear(in_features=256, out_features=1, bias=True)\n",
            ")\n"
          ]
        },
        {
          "name": "stdout",
          "output_type": "stream",
          "text": [
            "Metrics: ['roc_auc', 'pr_auc', 'f1', 'accuracy']\n"
          ]
        },
        {
          "name": "stderr",
          "output_type": "stream",
          "text": [
            "INFO:pyhealth.trainer:Metrics: ['roc_auc', 'pr_auc', 'f1', 'accuracy']\n"
          ]
        },
        {
          "name": "stdout",
          "output_type": "stream",
          "text": [
            "Device: cpu\n"
          ]
        },
        {
          "name": "stderr",
          "output_type": "stream",
          "text": [
            "INFO:pyhealth.trainer:Device: cpu\n"
          ]
        },
        {
          "name": "stdout",
          "output_type": "stream",
          "text": [
            "\n"
          ]
        },
        {
          "name": "stderr",
          "output_type": "stream",
          "text": [
            "INFO:pyhealth.trainer:\n"
          ]
        },
        {
          "name": "stdout",
          "output_type": "stream",
          "text": [
            "Training:\n"
          ]
        },
        {
          "name": "stderr",
          "output_type": "stream",
          "text": [
            "INFO:pyhealth.trainer:Training:\n"
          ]
        },
        {
          "name": "stdout",
          "output_type": "stream",
          "text": [
            "Batch size: 32\n"
          ]
        },
        {
          "name": "stderr",
          "output_type": "stream",
          "text": [
            "INFO:pyhealth.trainer:Batch size: 32\n"
          ]
        },
        {
          "name": "stdout",
          "output_type": "stream",
          "text": [
            "Optimizer: <class 'torch.optim.adam.Adam'>\n"
          ]
        },
        {
          "name": "stderr",
          "output_type": "stream",
          "text": [
            "INFO:pyhealth.trainer:Optimizer: <class 'torch.optim.adam.Adam'>\n"
          ]
        },
        {
          "name": "stdout",
          "output_type": "stream",
          "text": [
            "Optimizer params: {'lr': 0.02, 'weight_decay': 1e-05}\n"
          ]
        },
        {
          "name": "stderr",
          "output_type": "stream",
          "text": [
            "INFO:pyhealth.trainer:Optimizer params: {'lr': 0.02, 'weight_decay': 1e-05}\n"
          ]
        },
        {
          "name": "stdout",
          "output_type": "stream",
          "text": [
            "Weight decay: 0.0\n"
          ]
        },
        {
          "name": "stderr",
          "output_type": "stream",
          "text": [
            "INFO:pyhealth.trainer:Weight decay: 0.0\n"
          ]
        },
        {
          "name": "stdout",
          "output_type": "stream",
          "text": [
            "Max grad norm: None\n"
          ]
        },
        {
          "name": "stderr",
          "output_type": "stream",
          "text": [
            "INFO:pyhealth.trainer:Max grad norm: None\n"
          ]
        },
        {
          "name": "stdout",
          "output_type": "stream",
          "text": [
            "Val dataloader: <torch.utils.data.dataloader.DataLoader object at 0x7c34d9465a10>\n"
          ]
        },
        {
          "name": "stderr",
          "output_type": "stream",
          "text": [
            "INFO:pyhealth.trainer:Val dataloader: <torch.utils.data.dataloader.DataLoader object at 0x7c34d9465a10>\n"
          ]
        },
        {
          "name": "stdout",
          "output_type": "stream",
          "text": [
            "Monitor: pr_auc\n"
          ]
        },
        {
          "name": "stderr",
          "output_type": "stream",
          "text": [
            "INFO:pyhealth.trainer:Monitor: pr_auc\n"
          ]
        },
        {
          "name": "stdout",
          "output_type": "stream",
          "text": [
            "Monitor criterion: max\n"
          ]
        },
        {
          "name": "stderr",
          "output_type": "stream",
          "text": [
            "INFO:pyhealth.trainer:Monitor criterion: max\n"
          ]
        },
        {
          "name": "stdout",
          "output_type": "stream",
          "text": [
            "Epochs: 10\n"
          ]
        },
        {
          "name": "stderr",
          "output_type": "stream",
          "text": [
            "INFO:pyhealth.trainer:Epochs: 10\n"
          ]
        },
        {
          "name": "stdout",
          "output_type": "stream",
          "text": [
            "\n"
          ]
        },
        {
          "name": "stderr",
          "output_type": "stream",
          "text": [
            "INFO:pyhealth.trainer:\n"
          ]
        },
        {
          "data": {
            "application/vnd.jupyter.widget-view+json": {
              "model_id": "ebbb18b0fb2842dd8ee75bc9991c9e42",
              "version_major": 2,
              "version_minor": 0
            },
            "text/plain": [
              "Epoch 0 / 10:   0%|          | 0/1809 [00:00<?, ?it/s]"
            ]
          },
          "metadata": {},
          "output_type": "display_data"
        },
        {
          "name": "stdout",
          "output_type": "stream",
          "text": [
            "--- Train epoch-0, step-1809 ---\n"
          ]
        },
        {
          "name": "stderr",
          "output_type": "stream",
          "text": [
            "INFO:pyhealth.trainer:--- Train epoch-0, step-1809 ---\n"
          ]
        },
        {
          "name": "stdout",
          "output_type": "stream",
          "text": [
            "loss: 0.6865\n"
          ]
        },
        {
          "name": "stderr",
          "output_type": "stream",
          "text": [
            "INFO:pyhealth.trainer:loss: 0.6865\n",
            "Evaluation: 100%|██████████| 259/259 [00:01<00:00, 132.08it/s]"
          ]
        },
        {
          "name": "stdout",
          "output_type": "stream",
          "text": [
            "--- Eval epoch-0, step-1809 ---\n"
          ]
        },
        {
          "name": "stderr",
          "output_type": "stream",
          "text": [
            "\n",
            "INFO:pyhealth.trainer:--- Eval epoch-0, step-1809 ---\n"
          ]
        },
        {
          "name": "stdout",
          "output_type": "stream",
          "text": [
            "roc_auc: 0.5792\n"
          ]
        },
        {
          "name": "stderr",
          "output_type": "stream",
          "text": [
            "INFO:pyhealth.trainer:roc_auc: 0.5792\n"
          ]
        },
        {
          "name": "stdout",
          "output_type": "stream",
          "text": [
            "pr_auc: 0.6440\n"
          ]
        },
        {
          "name": "stderr",
          "output_type": "stream",
          "text": [
            "INFO:pyhealth.trainer:pr_auc: 0.6440\n"
          ]
        },
        {
          "name": "stdout",
          "output_type": "stream",
          "text": [
            "f1: 0.2082\n"
          ]
        },
        {
          "name": "stderr",
          "output_type": "stream",
          "text": [
            "INFO:pyhealth.trainer:f1: 0.2082\n"
          ]
        },
        {
          "name": "stdout",
          "output_type": "stream",
          "text": [
            "accuracy: 0.4773\n"
          ]
        },
        {
          "name": "stderr",
          "output_type": "stream",
          "text": [
            "INFO:pyhealth.trainer:accuracy: 0.4773\n"
          ]
        },
        {
          "name": "stdout",
          "output_type": "stream",
          "text": [
            "loss: 0.6877\n"
          ]
        },
        {
          "name": "stderr",
          "output_type": "stream",
          "text": [
            "INFO:pyhealth.trainer:loss: 0.6877\n"
          ]
        },
        {
          "name": "stdout",
          "output_type": "stream",
          "text": [
            "New best pr_auc score (0.6440) at epoch-0, step-1809\n"
          ]
        },
        {
          "name": "stderr",
          "output_type": "stream",
          "text": [
            "INFO:pyhealth.trainer:New best pr_auc score (0.6440) at epoch-0, step-1809\n"
          ]
        },
        {
          "name": "stdout",
          "output_type": "stream",
          "text": [
            "\n"
          ]
        },
        {
          "name": "stderr",
          "output_type": "stream",
          "text": [
            "INFO:pyhealth.trainer:\n"
          ]
        },
        {
          "data": {
            "application/vnd.jupyter.widget-view+json": {
              "model_id": "c4e0446fb3ee4337894439f99348f413",
              "version_major": 2,
              "version_minor": 0
            },
            "text/plain": [
              "Epoch 1 / 10:   0%|          | 0/1809 [00:00<?, ?it/s]"
            ]
          },
          "metadata": {},
          "output_type": "display_data"
        },
        {
          "name": "stdout",
          "output_type": "stream",
          "text": [
            "--- Train epoch-1, step-3618 ---\n"
          ]
        },
        {
          "name": "stderr",
          "output_type": "stream",
          "text": [
            "INFO:pyhealth.trainer:--- Train epoch-1, step-3618 ---\n"
          ]
        },
        {
          "name": "stdout",
          "output_type": "stream",
          "text": [
            "loss: 0.6939\n"
          ]
        },
        {
          "name": "stderr",
          "output_type": "stream",
          "text": [
            "INFO:pyhealth.trainer:loss: 0.6939\n",
            "Evaluation: 100%|██████████| 259/259 [00:02<00:00, 99.33it/s]\n"
          ]
        },
        {
          "name": "stdout",
          "output_type": "stream",
          "text": [
            "--- Eval epoch-1, step-3618 ---\n"
          ]
        },
        {
          "name": "stderr",
          "output_type": "stream",
          "text": [
            "INFO:pyhealth.trainer:--- Eval epoch-1, step-3618 ---\n"
          ]
        },
        {
          "name": "stdout",
          "output_type": "stream",
          "text": [
            "roc_auc: 0.5922\n"
          ]
        },
        {
          "name": "stderr",
          "output_type": "stream",
          "text": [
            "INFO:pyhealth.trainer:roc_auc: 0.5922\n"
          ]
        },
        {
          "name": "stdout",
          "output_type": "stream",
          "text": [
            "pr_auc: 0.6530\n"
          ]
        },
        {
          "name": "stderr",
          "output_type": "stream",
          "text": [
            "INFO:pyhealth.trainer:pr_auc: 0.6530\n"
          ]
        },
        {
          "name": "stdout",
          "output_type": "stream",
          "text": [
            "f1: 0.7365\n"
          ]
        },
        {
          "name": "stderr",
          "output_type": "stream",
          "text": [
            "INFO:pyhealth.trainer:f1: 0.7365\n"
          ]
        },
        {
          "name": "stdout",
          "output_type": "stream",
          "text": [
            "accuracy: 0.5829\n"
          ]
        },
        {
          "name": "stderr",
          "output_type": "stream",
          "text": [
            "INFO:pyhealth.trainer:accuracy: 0.5829\n"
          ]
        },
        {
          "name": "stdout",
          "output_type": "stream",
          "text": [
            "loss: 0.6836\n"
          ]
        },
        {
          "name": "stderr",
          "output_type": "stream",
          "text": [
            "INFO:pyhealth.trainer:loss: 0.6836\n"
          ]
        },
        {
          "name": "stdout",
          "output_type": "stream",
          "text": [
            "New best pr_auc score (0.6530) at epoch-1, step-3618\n"
          ]
        },
        {
          "name": "stderr",
          "output_type": "stream",
          "text": [
            "INFO:pyhealth.trainer:New best pr_auc score (0.6530) at epoch-1, step-3618\n"
          ]
        },
        {
          "name": "stdout",
          "output_type": "stream",
          "text": [
            "\n"
          ]
        },
        {
          "name": "stderr",
          "output_type": "stream",
          "text": [
            "INFO:pyhealth.trainer:\n"
          ]
        },
        {
          "data": {
            "application/vnd.jupyter.widget-view+json": {
              "model_id": "ee18a3c392af4bd8a97ad64d228c0f82",
              "version_major": 2,
              "version_minor": 0
            },
            "text/plain": [
              "Epoch 2 / 10:   0%|          | 0/1809 [00:00<?, ?it/s]"
            ]
          },
          "metadata": {},
          "output_type": "display_data"
        },
        {
          "name": "stdout",
          "output_type": "stream",
          "text": [
            "--- Train epoch-2, step-5427 ---\n"
          ]
        },
        {
          "name": "stderr",
          "output_type": "stream",
          "text": [
            "INFO:pyhealth.trainer:--- Train epoch-2, step-5427 ---\n"
          ]
        },
        {
          "name": "stdout",
          "output_type": "stream",
          "text": [
            "loss: 0.6865\n"
          ]
        },
        {
          "name": "stderr",
          "output_type": "stream",
          "text": [
            "INFO:pyhealth.trainer:loss: 0.6865\n",
            "Evaluation: 100%|██████████| 259/259 [00:00<00:00, 272.26it/s]"
          ]
        },
        {
          "name": "stdout",
          "output_type": "stream",
          "text": [
            "--- Eval epoch-2, step-5427 ---\n"
          ]
        },
        {
          "name": "stderr",
          "output_type": "stream",
          "text": [
            "\n",
            "INFO:pyhealth.trainer:--- Eval epoch-2, step-5427 ---\n"
          ]
        },
        {
          "name": "stdout",
          "output_type": "stream",
          "text": [
            "roc_auc: 0.5921\n"
          ]
        },
        {
          "name": "stderr",
          "output_type": "stream",
          "text": [
            "INFO:pyhealth.trainer:roc_auc: 0.5921\n"
          ]
        },
        {
          "name": "stdout",
          "output_type": "stream",
          "text": [
            "pr_auc: 0.6505\n"
          ]
        },
        {
          "name": "stderr",
          "output_type": "stream",
          "text": [
            "INFO:pyhealth.trainer:pr_auc: 0.6505\n"
          ]
        },
        {
          "name": "stdout",
          "output_type": "stream",
          "text": [
            "f1: 0.1468\n"
          ]
        },
        {
          "name": "stderr",
          "output_type": "stream",
          "text": [
            "INFO:pyhealth.trainer:f1: 0.1468\n"
          ]
        },
        {
          "name": "stdout",
          "output_type": "stream",
          "text": [
            "accuracy: 0.4574\n"
          ]
        },
        {
          "name": "stderr",
          "output_type": "stream",
          "text": [
            "INFO:pyhealth.trainer:accuracy: 0.4574\n"
          ]
        },
        {
          "name": "stdout",
          "output_type": "stream",
          "text": [
            "loss: 0.7611\n"
          ]
        },
        {
          "name": "stderr",
          "output_type": "stream",
          "text": [
            "INFO:pyhealth.trainer:loss: 0.7611\n"
          ]
        },
        {
          "name": "stdout",
          "output_type": "stream",
          "text": [
            "\n"
          ]
        },
        {
          "name": "stderr",
          "output_type": "stream",
          "text": [
            "INFO:pyhealth.trainer:\n"
          ]
        },
        {
          "data": {
            "application/vnd.jupyter.widget-view+json": {
              "model_id": "2d6f26ffa59a47ba9a883c312092ac20",
              "version_major": 2,
              "version_minor": 0
            },
            "text/plain": [
              "Epoch 3 / 10:   0%|          | 0/1809 [00:00<?, ?it/s]"
            ]
          },
          "metadata": {},
          "output_type": "display_data"
        },
        {
          "name": "stdout",
          "output_type": "stream",
          "text": [
            "--- Train epoch-3, step-7236 ---\n"
          ]
        },
        {
          "name": "stderr",
          "output_type": "stream",
          "text": [
            "INFO:pyhealth.trainer:--- Train epoch-3, step-7236 ---\n"
          ]
        },
        {
          "name": "stdout",
          "output_type": "stream",
          "text": [
            "loss: 0.6820\n"
          ]
        },
        {
          "name": "stderr",
          "output_type": "stream",
          "text": [
            "INFO:pyhealth.trainer:loss: 0.6820\n",
            "Evaluation: 100%|██████████| 259/259 [00:01<00:00, 183.53it/s]"
          ]
        },
        {
          "name": "stdout",
          "output_type": "stream",
          "text": [
            "--- Eval epoch-3, step-7236 ---\n"
          ]
        },
        {
          "name": "stderr",
          "output_type": "stream",
          "text": [
            "\n",
            "INFO:pyhealth.trainer:--- Eval epoch-3, step-7236 ---\n"
          ]
        },
        {
          "name": "stdout",
          "output_type": "stream",
          "text": [
            "roc_auc: 0.5831\n"
          ]
        },
        {
          "name": "stderr",
          "output_type": "stream",
          "text": [
            "INFO:pyhealth.trainer:roc_auc: 0.5831\n"
          ]
        },
        {
          "name": "stdout",
          "output_type": "stream",
          "text": [
            "pr_auc: 0.6440\n"
          ]
        },
        {
          "name": "stderr",
          "output_type": "stream",
          "text": [
            "INFO:pyhealth.trainer:pr_auc: 0.6440\n"
          ]
        },
        {
          "name": "stdout",
          "output_type": "stream",
          "text": [
            "f1: 0.7366\n"
          ]
        },
        {
          "name": "stderr",
          "output_type": "stream",
          "text": [
            "INFO:pyhealth.trainer:f1: 0.7366\n"
          ]
        },
        {
          "name": "stdout",
          "output_type": "stream",
          "text": [
            "accuracy: 0.5830\n"
          ]
        },
        {
          "name": "stderr",
          "output_type": "stream",
          "text": [
            "INFO:pyhealth.trainer:accuracy: 0.5830\n"
          ]
        },
        {
          "name": "stdout",
          "output_type": "stream",
          "text": [
            "loss: 0.6728\n"
          ]
        },
        {
          "name": "stderr",
          "output_type": "stream",
          "text": [
            "INFO:pyhealth.trainer:loss: 0.6728\n"
          ]
        },
        {
          "name": "stdout",
          "output_type": "stream",
          "text": [
            "\n"
          ]
        },
        {
          "name": "stderr",
          "output_type": "stream",
          "text": [
            "INFO:pyhealth.trainer:\n"
          ]
        },
        {
          "data": {
            "application/vnd.jupyter.widget-view+json": {
              "model_id": "2c0e6600c5a64db59c8220f6cec0495d",
              "version_major": 2,
              "version_minor": 0
            },
            "text/plain": [
              "Epoch 4 / 10:   0%|          | 0/1809 [00:00<?, ?it/s]"
            ]
          },
          "metadata": {},
          "output_type": "display_data"
        },
        {
          "name": "stdout",
          "output_type": "stream",
          "text": [
            "--- Train epoch-4, step-9045 ---\n"
          ]
        },
        {
          "name": "stderr",
          "output_type": "stream",
          "text": [
            "INFO:pyhealth.trainer:--- Train epoch-4, step-9045 ---\n"
          ]
        },
        {
          "name": "stdout",
          "output_type": "stream",
          "text": [
            "loss: 0.6857\n"
          ]
        },
        {
          "name": "stderr",
          "output_type": "stream",
          "text": [
            "INFO:pyhealth.trainer:loss: 0.6857\n",
            "Evaluation: 100%|██████████| 259/259 [00:00<00:00, 286.19it/s]\n"
          ]
        },
        {
          "name": "stdout",
          "output_type": "stream",
          "text": [
            "--- Eval epoch-4, step-9045 ---\n"
          ]
        },
        {
          "name": "stderr",
          "output_type": "stream",
          "text": [
            "INFO:pyhealth.trainer:--- Eval epoch-4, step-9045 ---\n"
          ]
        },
        {
          "name": "stdout",
          "output_type": "stream",
          "text": [
            "roc_auc: 0.5917\n"
          ]
        },
        {
          "name": "stderr",
          "output_type": "stream",
          "text": [
            "INFO:pyhealth.trainer:roc_auc: 0.5917\n"
          ]
        },
        {
          "name": "stdout",
          "output_type": "stream",
          "text": [
            "pr_auc: 0.6498\n"
          ]
        },
        {
          "name": "stderr",
          "output_type": "stream",
          "text": [
            "INFO:pyhealth.trainer:pr_auc: 0.6498\n"
          ]
        },
        {
          "name": "stdout",
          "output_type": "stream",
          "text": [
            "f1: 0.7366\n"
          ]
        },
        {
          "name": "stderr",
          "output_type": "stream",
          "text": [
            "INFO:pyhealth.trainer:f1: 0.7366\n"
          ]
        },
        {
          "name": "stdout",
          "output_type": "stream",
          "text": [
            "accuracy: 0.5830\n"
          ]
        },
        {
          "name": "stderr",
          "output_type": "stream",
          "text": [
            "INFO:pyhealth.trainer:accuracy: 0.5830\n"
          ]
        },
        {
          "name": "stdout",
          "output_type": "stream",
          "text": [
            "loss: 0.6513\n"
          ]
        },
        {
          "name": "stderr",
          "output_type": "stream",
          "text": [
            "INFO:pyhealth.trainer:loss: 0.6513\n"
          ]
        },
        {
          "name": "stdout",
          "output_type": "stream",
          "text": [
            "\n"
          ]
        },
        {
          "name": "stderr",
          "output_type": "stream",
          "text": [
            "INFO:pyhealth.trainer:\n"
          ]
        },
        {
          "data": {
            "application/vnd.jupyter.widget-view+json": {
              "model_id": "302b859243c047fcbdd74859a300f8d9",
              "version_major": 2,
              "version_minor": 0
            },
            "text/plain": [
              "Epoch 5 / 10:   0%|          | 0/1809 [00:00<?, ?it/s]"
            ]
          },
          "metadata": {},
          "output_type": "display_data"
        },
        {
          "name": "stdout",
          "output_type": "stream",
          "text": [
            "--- Train epoch-5, step-10854 ---\n"
          ]
        },
        {
          "name": "stderr",
          "output_type": "stream",
          "text": [
            "INFO:pyhealth.trainer:--- Train epoch-5, step-10854 ---\n"
          ]
        },
        {
          "name": "stdout",
          "output_type": "stream",
          "text": [
            "loss: 0.6881\n"
          ]
        },
        {
          "name": "stderr",
          "output_type": "stream",
          "text": [
            "INFO:pyhealth.trainer:loss: 0.6881\n",
            "Evaluation: 100%|██████████| 259/259 [00:00<00:00, 279.51it/s]\n"
          ]
        },
        {
          "name": "stdout",
          "output_type": "stream",
          "text": [
            "--- Eval epoch-5, step-10854 ---\n"
          ]
        },
        {
          "name": "stderr",
          "output_type": "stream",
          "text": [
            "INFO:pyhealth.trainer:--- Eval epoch-5, step-10854 ---\n"
          ]
        },
        {
          "name": "stdout",
          "output_type": "stream",
          "text": [
            "roc_auc: 0.5981\n"
          ]
        },
        {
          "name": "stderr",
          "output_type": "stream",
          "text": [
            "INFO:pyhealth.trainer:roc_auc: 0.5981\n"
          ]
        },
        {
          "name": "stdout",
          "output_type": "stream",
          "text": [
            "pr_auc: 0.6573\n"
          ]
        },
        {
          "name": "stderr",
          "output_type": "stream",
          "text": [
            "INFO:pyhealth.trainer:pr_auc: 0.6573\n"
          ]
        },
        {
          "name": "stdout",
          "output_type": "stream",
          "text": [
            "f1: 0.0107\n"
          ]
        },
        {
          "name": "stderr",
          "output_type": "stream",
          "text": [
            "INFO:pyhealth.trainer:f1: 0.0107\n"
          ]
        },
        {
          "name": "stdout",
          "output_type": "stream",
          "text": [
            "accuracy: 0.4201\n"
          ]
        },
        {
          "name": "stderr",
          "output_type": "stream",
          "text": [
            "INFO:pyhealth.trainer:accuracy: 0.4201\n"
          ]
        },
        {
          "name": "stdout",
          "output_type": "stream",
          "text": [
            "loss: 0.7987\n"
          ]
        },
        {
          "name": "stderr",
          "output_type": "stream",
          "text": [
            "INFO:pyhealth.trainer:loss: 0.7987\n"
          ]
        },
        {
          "name": "stdout",
          "output_type": "stream",
          "text": [
            "New best pr_auc score (0.6573) at epoch-5, step-10854\n"
          ]
        },
        {
          "name": "stderr",
          "output_type": "stream",
          "text": [
            "INFO:pyhealth.trainer:New best pr_auc score (0.6573) at epoch-5, step-10854\n"
          ]
        },
        {
          "name": "stdout",
          "output_type": "stream",
          "text": [
            "\n"
          ]
        },
        {
          "name": "stderr",
          "output_type": "stream",
          "text": [
            "INFO:pyhealth.trainer:\n"
          ]
        },
        {
          "data": {
            "application/vnd.jupyter.widget-view+json": {
              "model_id": "92d18988fd084c39bd27949c8e305404",
              "version_major": 2,
              "version_minor": 0
            },
            "text/plain": [
              "Epoch 6 / 10:   0%|          | 0/1809 [00:00<?, ?it/s]"
            ]
          },
          "metadata": {},
          "output_type": "display_data"
        },
        {
          "name": "stdout",
          "output_type": "stream",
          "text": [
            "--- Train epoch-6, step-12663 ---\n"
          ]
        },
        {
          "name": "stderr",
          "output_type": "stream",
          "text": [
            "INFO:pyhealth.trainer:--- Train epoch-6, step-12663 ---\n"
          ]
        },
        {
          "name": "stdout",
          "output_type": "stream",
          "text": [
            "loss: 0.6852\n"
          ]
        },
        {
          "name": "stderr",
          "output_type": "stream",
          "text": [
            "INFO:pyhealth.trainer:loss: 0.6852\n",
            "Evaluation: 100%|██████████| 259/259 [00:00<00:00, 280.09it/s]\n"
          ]
        },
        {
          "name": "stdout",
          "output_type": "stream",
          "text": [
            "--- Eval epoch-6, step-12663 ---\n"
          ]
        },
        {
          "name": "stderr",
          "output_type": "stream",
          "text": [
            "INFO:pyhealth.trainer:--- Eval epoch-6, step-12663 ---\n"
          ]
        },
        {
          "name": "stdout",
          "output_type": "stream",
          "text": [
            "roc_auc: 0.5976\n"
          ]
        },
        {
          "name": "stderr",
          "output_type": "stream",
          "text": [
            "INFO:pyhealth.trainer:roc_auc: 0.5976\n"
          ]
        },
        {
          "name": "stdout",
          "output_type": "stream",
          "text": [
            "pr_auc: 0.6559\n"
          ]
        },
        {
          "name": "stderr",
          "output_type": "stream",
          "text": [
            "INFO:pyhealth.trainer:pr_auc: 0.6559\n"
          ]
        },
        {
          "name": "stdout",
          "output_type": "stream",
          "text": [
            "f1: 0.7366\n"
          ]
        },
        {
          "name": "stderr",
          "output_type": "stream",
          "text": [
            "INFO:pyhealth.trainer:f1: 0.7366\n"
          ]
        },
        {
          "name": "stdout",
          "output_type": "stream",
          "text": [
            "accuracy: 0.5830\n"
          ]
        },
        {
          "name": "stderr",
          "output_type": "stream",
          "text": [
            "INFO:pyhealth.trainer:accuracy: 0.5830\n"
          ]
        },
        {
          "name": "stdout",
          "output_type": "stream",
          "text": [
            "loss: 0.6775\n"
          ]
        },
        {
          "name": "stderr",
          "output_type": "stream",
          "text": [
            "INFO:pyhealth.trainer:loss: 0.6775\n"
          ]
        },
        {
          "name": "stdout",
          "output_type": "stream",
          "text": [
            "\n"
          ]
        },
        {
          "name": "stderr",
          "output_type": "stream",
          "text": [
            "INFO:pyhealth.trainer:\n"
          ]
        },
        {
          "data": {
            "application/vnd.jupyter.widget-view+json": {
              "model_id": "2cbba7bfe4d146259daae964feb493a1",
              "version_major": 2,
              "version_minor": 0
            },
            "text/plain": [
              "Epoch 7 / 10:   0%|          | 0/1809 [00:00<?, ?it/s]"
            ]
          },
          "metadata": {},
          "output_type": "display_data"
        },
        {
          "name": "stdout",
          "output_type": "stream",
          "text": [
            "--- Train epoch-7, step-14472 ---\n"
          ]
        },
        {
          "name": "stderr",
          "output_type": "stream",
          "text": [
            "INFO:pyhealth.trainer:--- Train epoch-7, step-14472 ---\n"
          ]
        },
        {
          "name": "stdout",
          "output_type": "stream",
          "text": [
            "loss: 0.6882\n"
          ]
        },
        {
          "name": "stderr",
          "output_type": "stream",
          "text": [
            "INFO:pyhealth.trainer:loss: 0.6882\n",
            "Evaluation: 100%|██████████| 259/259 [00:00<00:00, 292.63it/s]"
          ]
        },
        {
          "name": "stdout",
          "output_type": "stream",
          "text": [
            "--- Eval epoch-7, step-14472 ---\n"
          ]
        },
        {
          "name": "stderr",
          "output_type": "stream",
          "text": [
            "\n",
            "INFO:pyhealth.trainer:--- Eval epoch-7, step-14472 ---\n"
          ]
        },
        {
          "name": "stdout",
          "output_type": "stream",
          "text": [
            "roc_auc: 0.5688\n"
          ]
        },
        {
          "name": "stderr",
          "output_type": "stream",
          "text": [
            "INFO:pyhealth.trainer:roc_auc: 0.5688\n"
          ]
        },
        {
          "name": "stdout",
          "output_type": "stream",
          "text": [
            "pr_auc: 0.6337\n"
          ]
        },
        {
          "name": "stderr",
          "output_type": "stream",
          "text": [
            "INFO:pyhealth.trainer:pr_auc: 0.6337\n"
          ]
        },
        {
          "name": "stdout",
          "output_type": "stream",
          "text": [
            "f1: 0.7366\n"
          ]
        },
        {
          "name": "stderr",
          "output_type": "stream",
          "text": [
            "INFO:pyhealth.trainer:f1: 0.7366\n"
          ]
        },
        {
          "name": "stdout",
          "output_type": "stream",
          "text": [
            "accuracy: 0.5830\n"
          ]
        },
        {
          "name": "stderr",
          "output_type": "stream",
          "text": [
            "INFO:pyhealth.trainer:accuracy: 0.5830\n"
          ]
        },
        {
          "name": "stdout",
          "output_type": "stream",
          "text": [
            "loss: 0.6642\n"
          ]
        },
        {
          "name": "stderr",
          "output_type": "stream",
          "text": [
            "INFO:pyhealth.trainer:loss: 0.6642\n"
          ]
        },
        {
          "name": "stdout",
          "output_type": "stream",
          "text": [
            "\n"
          ]
        },
        {
          "name": "stderr",
          "output_type": "stream",
          "text": [
            "INFO:pyhealth.trainer:\n"
          ]
        },
        {
          "data": {
            "application/vnd.jupyter.widget-view+json": {
              "model_id": "0b140a050c2d4f82832b0e339a54bdab",
              "version_major": 2,
              "version_minor": 0
            },
            "text/plain": [
              "Epoch 8 / 10:   0%|          | 0/1809 [00:00<?, ?it/s]"
            ]
          },
          "metadata": {},
          "output_type": "display_data"
        },
        {
          "name": "stdout",
          "output_type": "stream",
          "text": [
            "--- Train epoch-8, step-16281 ---\n"
          ]
        },
        {
          "name": "stderr",
          "output_type": "stream",
          "text": [
            "INFO:pyhealth.trainer:--- Train epoch-8, step-16281 ---\n"
          ]
        },
        {
          "name": "stdout",
          "output_type": "stream",
          "text": [
            "loss: 0.6944\n"
          ]
        },
        {
          "name": "stderr",
          "output_type": "stream",
          "text": [
            "INFO:pyhealth.trainer:loss: 0.6944\n",
            "Evaluation: 100%|██████████| 259/259 [00:00<00:00, 283.67it/s]"
          ]
        },
        {
          "name": "stdout",
          "output_type": "stream",
          "text": [
            "--- Eval epoch-8, step-16281 ---\n"
          ]
        },
        {
          "name": "stderr",
          "output_type": "stream",
          "text": [
            "\n",
            "INFO:pyhealth.trainer:--- Eval epoch-8, step-16281 ---\n"
          ]
        },
        {
          "name": "stdout",
          "output_type": "stream",
          "text": [
            "roc_auc: 0.4764\n"
          ]
        },
        {
          "name": "stderr",
          "output_type": "stream",
          "text": [
            "INFO:pyhealth.trainer:roc_auc: 0.4764\n"
          ]
        },
        {
          "name": "stdout",
          "output_type": "stream",
          "text": [
            "pr_auc: 0.5908\n"
          ]
        },
        {
          "name": "stderr",
          "output_type": "stream",
          "text": [
            "INFO:pyhealth.trainer:pr_auc: 0.5908\n"
          ]
        },
        {
          "name": "stdout",
          "output_type": "stream",
          "text": [
            "f1: 0.7366\n"
          ]
        },
        {
          "name": "stderr",
          "output_type": "stream",
          "text": [
            "INFO:pyhealth.trainer:f1: 0.7366\n"
          ]
        },
        {
          "name": "stdout",
          "output_type": "stream",
          "text": [
            "accuracy: 0.5830\n"
          ]
        },
        {
          "name": "stderr",
          "output_type": "stream",
          "text": [
            "INFO:pyhealth.trainer:accuracy: 0.5830\n"
          ]
        },
        {
          "name": "stdout",
          "output_type": "stream",
          "text": [
            "loss: 0.6826\n"
          ]
        },
        {
          "name": "stderr",
          "output_type": "stream",
          "text": [
            "INFO:pyhealth.trainer:loss: 0.6826\n"
          ]
        },
        {
          "name": "stdout",
          "output_type": "stream",
          "text": [
            "\n"
          ]
        },
        {
          "name": "stderr",
          "output_type": "stream",
          "text": [
            "INFO:pyhealth.trainer:\n"
          ]
        },
        {
          "data": {
            "application/vnd.jupyter.widget-view+json": {
              "model_id": "af781763c09b4a66a6c2eb337a4960f3",
              "version_major": 2,
              "version_minor": 0
            },
            "text/plain": [
              "Epoch 9 / 10:   0%|          | 0/1809 [00:00<?, ?it/s]"
            ]
          },
          "metadata": {},
          "output_type": "display_data"
        },
        {
          "name": "stdout",
          "output_type": "stream",
          "text": [
            "--- Train epoch-9, step-18090 ---\n"
          ]
        },
        {
          "name": "stderr",
          "output_type": "stream",
          "text": [
            "INFO:pyhealth.trainer:--- Train epoch-9, step-18090 ---\n"
          ]
        },
        {
          "name": "stdout",
          "output_type": "stream",
          "text": [
            "loss: 0.6881\n"
          ]
        },
        {
          "name": "stderr",
          "output_type": "stream",
          "text": [
            "INFO:pyhealth.trainer:loss: 0.6881\n",
            "Evaluation: 100%|██████████| 259/259 [00:01<00:00, 207.55it/s]"
          ]
        },
        {
          "name": "stdout",
          "output_type": "stream",
          "text": [
            "--- Eval epoch-9, step-18090 ---\n"
          ]
        },
        {
          "name": "stderr",
          "output_type": "stream",
          "text": [
            "\n",
            "INFO:pyhealth.trainer:--- Eval epoch-9, step-18090 ---\n"
          ]
        },
        {
          "name": "stdout",
          "output_type": "stream",
          "text": [
            "roc_auc: 0.5384\n"
          ]
        },
        {
          "name": "stderr",
          "output_type": "stream",
          "text": [
            "INFO:pyhealth.trainer:roc_auc: 0.5384\n"
          ]
        },
        {
          "name": "stdout",
          "output_type": "stream",
          "text": [
            "pr_auc: 0.6135\n"
          ]
        },
        {
          "name": "stderr",
          "output_type": "stream",
          "text": [
            "INFO:pyhealth.trainer:pr_auc: 0.6135\n"
          ]
        },
        {
          "name": "stdout",
          "output_type": "stream",
          "text": [
            "f1: 0.0226\n"
          ]
        },
        {
          "name": "stderr",
          "output_type": "stream",
          "text": [
            "INFO:pyhealth.trainer:f1: 0.0226\n"
          ]
        },
        {
          "name": "stdout",
          "output_type": "stream",
          "text": [
            "accuracy: 0.4234\n"
          ]
        },
        {
          "name": "stderr",
          "output_type": "stream",
          "text": [
            "INFO:pyhealth.trainer:accuracy: 0.4234\n"
          ]
        },
        {
          "name": "stdout",
          "output_type": "stream",
          "text": [
            "loss: 0.7615\n"
          ]
        },
        {
          "name": "stderr",
          "output_type": "stream",
          "text": [
            "INFO:pyhealth.trainer:loss: 0.7615\n"
          ]
        },
        {
          "name": "stdout",
          "output_type": "stream",
          "text": [
            "Loaded best model\n"
          ]
        },
        {
          "name": "stderr",
          "output_type": "stream",
          "text": [
            "INFO:pyhealth.trainer:Loaded best model\n"
          ]
        }
      ],
      "source": [
        "from pyhealth.datasets import split_by_visit, get_dataloader\n",
        "from pyhealth.trainer import Trainer\n",
        "from pyhealth.models import SparcNet, RNN\n",
        "\n",
        "\n",
        "# Data split\n",
        "train_samples, val_samples, test_samples = split_by_visit(dreamt_samples_RNN, [0.7, 0.1, 0.2])\n",
        "\n",
        "# Create dataloaders\n",
        "train_loader = get_dataloader(train_samples, batch_size=32, shuffle=True)\n",
        "val_loader = get_dataloader(val_samples, batch_size=32, shuffle=False)\n",
        "test_loader = get_dataloader(test_samples, batch_size=32, shuffle=False)\n",
        "\n",
        "\n",
        "model = RNN(\n",
        "    dataset=dreamt_samples,\n",
        "    embedding_dim=358,\n",
        "    hidden_dim=256,\n",
        "    num_layers=2,\n",
        "    dropout=0.3\n",
        ")\n",
        "\n",
        "trainer = Trainer(\n",
        "    model=model,\n",
        "    device=\"cpu\",\n",
        "    metrics=[\"roc_auc\", \"pr_auc\", \"f1\", \"accuracy\"],\n",
        ")\n",
        "\n",
        "trainer.train(\n",
        "    train_dataloader=train_loader,\n",
        "    val_dataloader=val_loader,\n",
        "    epochs=10,\n",
        "    optimizer_class=torch.optim.Adam,  # Optimizer choice\n",
        "    optimizer_params={\"lr\": 0.02, \"weight_decay\": 1e-5},  # Optimizer parameters\n",
        "    monitor=\"pr_auc\",  # Monitor AUC-ROC for best model selection\n",
        "    monitor_criterion=\"max\",  # Maximize AUC-ROC during training\n",
        "    load_best_model_at_last=True,  # Automatically load the best-performing model\n",
        ")\n"
      ]
    },
    {
      "cell_type": "code",
      "execution_count": 30,
      "metadata": {
        "colab": {
          "base_uri": "https://localhost:8080/"
        },
        "id": "UQwvC24BcTuu",
        "outputId": "49edb133-b9f0-4e9a-db20-373425546033"
      },
      "outputs": [
        {
          "name": "stderr",
          "output_type": "stream",
          "text": [
            "Evaluation: 100%|██████████| 517/517 [00:02<00:00, 187.66it/s]"
          ]
        },
        {
          "name": "stdout",
          "output_type": "stream",
          "text": [
            "dreamt Test Set Evaluation Metrics: {'roc_auc': np.float64(0.6013204957461298), 'pr_auc': np.float64(0.6598122433682485), 'f1': 0.009476720230737536, 'accuracy': 0.41844572119745993, 'loss': 0.7985152897336727}\n"
          ]
        },
        {
          "name": "stderr",
          "output_type": "stream",
          "text": [
            "\n"
          ]
        }
      ],
      "source": [
        "dreamt_results = trainer.evaluate(test_loader)\n",
        "\n",
        "# Print evaluation metrics\n",
        "print(\"dreamt Test Set Evaluation Metrics:\", dreamt_results)"
      ]
    },
    {
      "cell_type": "code",
      "execution_count": null,
      "metadata": {
        "id": "eqPsK8GN2mv1"
      },
      "outputs": [],
      "source": []
    },
    {
      "cell_type": "code",
      "execution_count": null,
      "metadata": {
        "id": "-pkwDQR372MZ"
      },
      "outputs": [],
      "source": []
    }
  ],
  "metadata": {
    "colab": {
      "provenance": []
    },
    "kernelspec": {
      "display_name": "Python 3",
      "name": "python3"
    },
    "language_info": {
      "codemirror_mode": {
        "name": "ipython",
        "version": 3
      },
      "file_extension": ".py",
      "mimetype": "text/x-python",
      "name": "python",
      "nbconvert_exporter": "python",
      "pygments_lexer": "ipython3",
      "version": "3.10.13"
    },
    "widgets": {
      "application/vnd.jupyter.widget-state+json": {
        "012f8522f8af45dc9051d5738ffa4610": {
          "model_module": "@jupyter-widgets/controls",
          "model_module_version": "1.5.0",
          "model_name": "ProgressStyleModel",
          "state": {
            "_model_module": "@jupyter-widgets/controls",
            "_model_module_version": "1.5.0",
            "_model_name": "ProgressStyleModel",
            "_view_count": null,
            "_view_module": "@jupyter-widgets/base",
            "_view_module_version": "1.2.0",
            "_view_name": "StyleView",
            "bar_color": null,
            "description_width": ""
          }
        },
        "04d1812ba4de4887b45eec58a702cd95": {
          "model_module": "@jupyter-widgets/base",
          "model_module_version": "1.2.0",
          "model_name": "LayoutModel",
          "state": {
            "_model_module": "@jupyter-widgets/base",
            "_model_module_version": "1.2.0",
            "_model_name": "LayoutModel",
            "_view_count": null,
            "_view_module": "@jupyter-widgets/base",
            "_view_module_version": "1.2.0",
            "_view_name": "LayoutView",
            "align_content": null,
            "align_items": null,
            "align_self": null,
            "border": null,
            "bottom": null,
            "display": null,
            "flex": null,
            "flex_flow": null,
            "grid_area": null,
            "grid_auto_columns": null,
            "grid_auto_flow": null,
            "grid_auto_rows": null,
            "grid_column": null,
            "grid_gap": null,
            "grid_row": null,
            "grid_template_areas": null,
            "grid_template_columns": null,
            "grid_template_rows": null,
            "height": null,
            "justify_content": null,
            "justify_items": null,
            "left": null,
            "margin": null,
            "max_height": null,
            "max_width": null,
            "min_height": null,
            "min_width": null,
            "object_fit": null,
            "object_position": null,
            "order": null,
            "overflow": null,
            "overflow_x": null,
            "overflow_y": null,
            "padding": null,
            "right": null,
            "top": null,
            "visibility": null,
            "width": null
          }
        },
        "06a9e7fb214b41c1bcf54a29bd6be756": {
          "model_module": "@jupyter-widgets/controls",
          "model_module_version": "1.5.0",
          "model_name": "DescriptionStyleModel",
          "state": {
            "_model_module": "@jupyter-widgets/controls",
            "_model_module_version": "1.5.0",
            "_model_name": "DescriptionStyleModel",
            "_view_count": null,
            "_view_module": "@jupyter-widgets/base",
            "_view_module_version": "1.2.0",
            "_view_name": "StyleView",
            "description_width": ""
          }
        },
        "0818d12b266f472ba2d91f2778fc2dac": {
          "model_module": "@jupyter-widgets/controls",
          "model_module_version": "1.5.0",
          "model_name": "DescriptionStyleModel",
          "state": {
            "_model_module": "@jupyter-widgets/controls",
            "_model_module_version": "1.5.0",
            "_model_name": "DescriptionStyleModel",
            "_view_count": null,
            "_view_module": "@jupyter-widgets/base",
            "_view_module_version": "1.2.0",
            "_view_name": "StyleView",
            "description_width": ""
          }
        },
        "0a4df20598c5451282afec58b6470c47": {
          "model_module": "@jupyter-widgets/controls",
          "model_module_version": "1.5.0",
          "model_name": "HTMLModel",
          "state": {
            "_dom_classes": [],
            "_model_module": "@jupyter-widgets/controls",
            "_model_module_version": "1.5.0",
            "_model_name": "HTMLModel",
            "_view_count": null,
            "_view_module": "@jupyter-widgets/controls",
            "_view_module_version": "1.5.0",
            "_view_name": "HTMLView",
            "description": "",
            "description_tooltip": null,
            "layout": "IPY_MODEL_6c7d8d0f08c9480ca54635775f871f05",
            "placeholder": "​",
            "style": "IPY_MODEL_06a9e7fb214b41c1bcf54a29bd6be756",
            "value": " 1809/1809 [00:51&lt;00:00, 30.54it/s]"
          }
        },
        "0b140a050c2d4f82832b0e339a54bdab": {
          "model_module": "@jupyter-widgets/controls",
          "model_module_version": "1.5.0",
          "model_name": "HBoxModel",
          "state": {
            "_dom_classes": [],
            "_model_module": "@jupyter-widgets/controls",
            "_model_module_version": "1.5.0",
            "_model_name": "HBoxModel",
            "_view_count": null,
            "_view_module": "@jupyter-widgets/controls",
            "_view_module_version": "1.5.0",
            "_view_name": "HBoxView",
            "box_style": "",
            "children": [
              "IPY_MODEL_9f929b51453f445e9e1ab65077c96e11",
              "IPY_MODEL_f04aaa0b9797487580e7763ff0eb7596",
              "IPY_MODEL_0a4df20598c5451282afec58b6470c47"
            ],
            "layout": "IPY_MODEL_d5dbe0e4dc1f4cc59dfed3cfb1e40eea"
          }
        },
        "0e13ad3899c34a50bc2be7cfd07fa942": {
          "model_module": "@jupyter-widgets/base",
          "model_module_version": "1.2.0",
          "model_name": "LayoutModel",
          "state": {
            "_model_module": "@jupyter-widgets/base",
            "_model_module_version": "1.2.0",
            "_model_name": "LayoutModel",
            "_view_count": null,
            "_view_module": "@jupyter-widgets/base",
            "_view_module_version": "1.2.0",
            "_view_name": "LayoutView",
            "align_content": null,
            "align_items": null,
            "align_self": null,
            "border": null,
            "bottom": null,
            "display": null,
            "flex": null,
            "flex_flow": null,
            "grid_area": null,
            "grid_auto_columns": null,
            "grid_auto_flow": null,
            "grid_auto_rows": null,
            "grid_column": null,
            "grid_gap": null,
            "grid_row": null,
            "grid_template_areas": null,
            "grid_template_columns": null,
            "grid_template_rows": null,
            "height": null,
            "justify_content": null,
            "justify_items": null,
            "left": null,
            "margin": null,
            "max_height": null,
            "max_width": null,
            "min_height": null,
            "min_width": null,
            "object_fit": null,
            "object_position": null,
            "order": null,
            "overflow": null,
            "overflow_x": null,
            "overflow_y": null,
            "padding": null,
            "right": null,
            "top": null,
            "visibility": null,
            "width": null
          }
        },
        "11c63e86bd5142d388b5153db59d96ae": {
          "model_module": "@jupyter-widgets/controls",
          "model_module_version": "1.5.0",
          "model_name": "HTMLModel",
          "state": {
            "_dom_classes": [],
            "_model_module": "@jupyter-widgets/controls",
            "_model_module_version": "1.5.0",
            "_model_name": "HTMLModel",
            "_view_count": null,
            "_view_module": "@jupyter-widgets/controls",
            "_view_module_version": "1.5.0",
            "_view_name": "HTMLView",
            "description": "",
            "description_tooltip": null,
            "layout": "IPY_MODEL_aaa3777a393f484cbc2e82f11ff41311",
            "placeholder": "​",
            "style": "IPY_MODEL_721a3b4f5472468b9071bf38927e69f8",
            "value": "Epoch 5 / 10: 100%"
          }
        },
        "13de950bf1f04bb98ded0de9c45e79af": {
          "model_module": "@jupyter-widgets/base",
          "model_module_version": "1.2.0",
          "model_name": "LayoutModel",
          "state": {
            "_model_module": "@jupyter-widgets/base",
            "_model_module_version": "1.2.0",
            "_model_name": "LayoutModel",
            "_view_count": null,
            "_view_module": "@jupyter-widgets/base",
            "_view_module_version": "1.2.0",
            "_view_name": "LayoutView",
            "align_content": null,
            "align_items": null,
            "align_self": null,
            "border": null,
            "bottom": null,
            "display": null,
            "flex": null,
            "flex_flow": null,
            "grid_area": null,
            "grid_auto_columns": null,
            "grid_auto_flow": null,
            "grid_auto_rows": null,
            "grid_column": null,
            "grid_gap": null,
            "grid_row": null,
            "grid_template_areas": null,
            "grid_template_columns": null,
            "grid_template_rows": null,
            "height": null,
            "justify_content": null,
            "justify_items": null,
            "left": null,
            "margin": null,
            "max_height": null,
            "max_width": null,
            "min_height": null,
            "min_width": null,
            "object_fit": null,
            "object_position": null,
            "order": null,
            "overflow": null,
            "overflow_x": null,
            "overflow_y": null,
            "padding": null,
            "right": null,
            "top": null,
            "visibility": null,
            "width": null
          }
        },
        "1a547cb71c474eb59d1b4159fee3b919": {
          "model_module": "@jupyter-widgets/base",
          "model_module_version": "1.2.0",
          "model_name": "LayoutModel",
          "state": {
            "_model_module": "@jupyter-widgets/base",
            "_model_module_version": "1.2.0",
            "_model_name": "LayoutModel",
            "_view_count": null,
            "_view_module": "@jupyter-widgets/base",
            "_view_module_version": "1.2.0",
            "_view_name": "LayoutView",
            "align_content": null,
            "align_items": null,
            "align_self": null,
            "border": null,
            "bottom": null,
            "display": null,
            "flex": null,
            "flex_flow": null,
            "grid_area": null,
            "grid_auto_columns": null,
            "grid_auto_flow": null,
            "grid_auto_rows": null,
            "grid_column": null,
            "grid_gap": null,
            "grid_row": null,
            "grid_template_areas": null,
            "grid_template_columns": null,
            "grid_template_rows": null,
            "height": null,
            "justify_content": null,
            "justify_items": null,
            "left": null,
            "margin": null,
            "max_height": null,
            "max_width": null,
            "min_height": null,
            "min_width": null,
            "object_fit": null,
            "object_position": null,
            "order": null,
            "overflow": null,
            "overflow_x": null,
            "overflow_y": null,
            "padding": null,
            "right": null,
            "top": null,
            "visibility": null,
            "width": null
          }
        },
        "20419c44eca04de492f3d7c4b67abafb": {
          "model_module": "@jupyter-widgets/controls",
          "model_module_version": "1.5.0",
          "model_name": "ProgressStyleModel",
          "state": {
            "_model_module": "@jupyter-widgets/controls",
            "_model_module_version": "1.5.0",
            "_model_name": "ProgressStyleModel",
            "_view_count": null,
            "_view_module": "@jupyter-widgets/base",
            "_view_module_version": "1.2.0",
            "_view_name": "StyleView",
            "bar_color": null,
            "description_width": ""
          }
        },
        "20586824d2cd4bffb1fdd8b233fd02ef": {
          "model_module": "@jupyter-widgets/controls",
          "model_module_version": "1.5.0",
          "model_name": "FloatProgressModel",
          "state": {
            "_dom_classes": [],
            "_model_module": "@jupyter-widgets/controls",
            "_model_module_version": "1.5.0",
            "_model_name": "FloatProgressModel",
            "_view_count": null,
            "_view_module": "@jupyter-widgets/controls",
            "_view_module_version": "1.5.0",
            "_view_name": "ProgressView",
            "bar_style": "success",
            "description": "",
            "description_tooltip": null,
            "layout": "IPY_MODEL_95fea8500cae426aab4f55205257f295",
            "max": 1809,
            "min": 0,
            "orientation": "horizontal",
            "style": "IPY_MODEL_707fa25e9f1d490990ce3d5833954371",
            "value": 1809
          }
        },
        "23d5128b677940238e074054d2acd749": {
          "model_module": "@jupyter-widgets/controls",
          "model_module_version": "1.5.0",
          "model_name": "DescriptionStyleModel",
          "state": {
            "_model_module": "@jupyter-widgets/controls",
            "_model_module_version": "1.5.0",
            "_model_name": "DescriptionStyleModel",
            "_view_count": null,
            "_view_module": "@jupyter-widgets/base",
            "_view_module_version": "1.2.0",
            "_view_name": "StyleView",
            "description_width": ""
          }
        },
        "250236f1ecb54d81a7c80a4c2c9c1ba9": {
          "model_module": "@jupyter-widgets/base",
          "model_module_version": "1.2.0",
          "model_name": "LayoutModel",
          "state": {
            "_model_module": "@jupyter-widgets/base",
            "_model_module_version": "1.2.0",
            "_model_name": "LayoutModel",
            "_view_count": null,
            "_view_module": "@jupyter-widgets/base",
            "_view_module_version": "1.2.0",
            "_view_name": "LayoutView",
            "align_content": null,
            "align_items": null,
            "align_self": null,
            "border": null,
            "bottom": null,
            "display": null,
            "flex": null,
            "flex_flow": null,
            "grid_area": null,
            "grid_auto_columns": null,
            "grid_auto_flow": null,
            "grid_auto_rows": null,
            "grid_column": null,
            "grid_gap": null,
            "grid_row": null,
            "grid_template_areas": null,
            "grid_template_columns": null,
            "grid_template_rows": null,
            "height": null,
            "justify_content": null,
            "justify_items": null,
            "left": null,
            "margin": null,
            "max_height": null,
            "max_width": null,
            "min_height": null,
            "min_width": null,
            "object_fit": null,
            "object_position": null,
            "order": null,
            "overflow": null,
            "overflow_x": null,
            "overflow_y": null,
            "padding": null,
            "right": null,
            "top": null,
            "visibility": null,
            "width": null
          }
        },
        "2628f6ecc57a4e43b4548a6effd1840d": {
          "model_module": "@jupyter-widgets/base",
          "model_module_version": "1.2.0",
          "model_name": "LayoutModel",
          "state": {
            "_model_module": "@jupyter-widgets/base",
            "_model_module_version": "1.2.0",
            "_model_name": "LayoutModel",
            "_view_count": null,
            "_view_module": "@jupyter-widgets/base",
            "_view_module_version": "1.2.0",
            "_view_name": "LayoutView",
            "align_content": null,
            "align_items": null,
            "align_self": null,
            "border": null,
            "bottom": null,
            "display": null,
            "flex": null,
            "flex_flow": null,
            "grid_area": null,
            "grid_auto_columns": null,
            "grid_auto_flow": null,
            "grid_auto_rows": null,
            "grid_column": null,
            "grid_gap": null,
            "grid_row": null,
            "grid_template_areas": null,
            "grid_template_columns": null,
            "grid_template_rows": null,
            "height": null,
            "justify_content": null,
            "justify_items": null,
            "left": null,
            "margin": null,
            "max_height": null,
            "max_width": null,
            "min_height": null,
            "min_width": null,
            "object_fit": null,
            "object_position": null,
            "order": null,
            "overflow": null,
            "overflow_x": null,
            "overflow_y": null,
            "padding": null,
            "right": null,
            "top": null,
            "visibility": null,
            "width": null
          }
        },
        "286b85e7fdc64a36afaad5f0d4c22d92": {
          "model_module": "@jupyter-widgets/controls",
          "model_module_version": "1.5.0",
          "model_name": "DescriptionStyleModel",
          "state": {
            "_model_module": "@jupyter-widgets/controls",
            "_model_module_version": "1.5.0",
            "_model_name": "DescriptionStyleModel",
            "_view_count": null,
            "_view_module": "@jupyter-widgets/base",
            "_view_module_version": "1.2.0",
            "_view_name": "StyleView",
            "description_width": ""
          }
        },
        "28b9c6b7863b4d76b2d754e9a1a3ef81": {
          "model_module": "@jupyter-widgets/controls",
          "model_module_version": "1.5.0",
          "model_name": "FloatProgressModel",
          "state": {
            "_dom_classes": [],
            "_model_module": "@jupyter-widgets/controls",
            "_model_module_version": "1.5.0",
            "_model_name": "FloatProgressModel",
            "_view_count": null,
            "_view_module": "@jupyter-widgets/controls",
            "_view_module_version": "1.5.0",
            "_view_name": "ProgressView",
            "bar_style": "success",
            "description": "",
            "description_tooltip": null,
            "layout": "IPY_MODEL_963f66e4a877427bbac73b3e52a92c84",
            "max": 1809,
            "min": 0,
            "orientation": "horizontal",
            "style": "IPY_MODEL_dd8dea3940204195b317b55b5b0ac7e2",
            "value": 1809
          }
        },
        "295d0435025f41f486e580e69fdf799c": {
          "model_module": "@jupyter-widgets/controls",
          "model_module_version": "1.5.0",
          "model_name": "HTMLModel",
          "state": {
            "_dom_classes": [],
            "_model_module": "@jupyter-widgets/controls",
            "_model_module_version": "1.5.0",
            "_model_name": "HTMLModel",
            "_view_count": null,
            "_view_module": "@jupyter-widgets/controls",
            "_view_module_version": "1.5.0",
            "_view_name": "HTMLView",
            "description": "",
            "description_tooltip": null,
            "layout": "IPY_MODEL_85faf39574754c10b200c4954057d02e",
            "placeholder": "​",
            "style": "IPY_MODEL_0818d12b266f472ba2d91f2778fc2dac",
            "value": "Epoch 9 / 10: 100%"
          }
        },
        "2c0e6600c5a64db59c8220f6cec0495d": {
          "model_module": "@jupyter-widgets/controls",
          "model_module_version": "1.5.0",
          "model_name": "HBoxModel",
          "state": {
            "_dom_classes": [],
            "_model_module": "@jupyter-widgets/controls",
            "_model_module_version": "1.5.0",
            "_model_name": "HBoxModel",
            "_view_count": null,
            "_view_module": "@jupyter-widgets/controls",
            "_view_module_version": "1.5.0",
            "_view_name": "HBoxView",
            "box_style": "",
            "children": [
              "IPY_MODEL_9f123e8cd868463bb31945293644dc87",
              "IPY_MODEL_45bff1412b6d447d9e7a679c5f76bd5e",
              "IPY_MODEL_51000865bc954df6a8d69fb9389c661c"
            ],
            "layout": "IPY_MODEL_82bf4b5d4af3444080e7817e73d46edd"
          }
        },
        "2cbba7bfe4d146259daae964feb493a1": {
          "model_module": "@jupyter-widgets/controls",
          "model_module_version": "1.5.0",
          "model_name": "HBoxModel",
          "state": {
            "_dom_classes": [],
            "_model_module": "@jupyter-widgets/controls",
            "_model_module_version": "1.5.0",
            "_model_name": "HBoxModel",
            "_view_count": null,
            "_view_module": "@jupyter-widgets/controls",
            "_view_module_version": "1.5.0",
            "_view_name": "HBoxView",
            "box_style": "",
            "children": [
              "IPY_MODEL_452ef35ecb0b430c83ab8bf952585b94",
              "IPY_MODEL_28b9c6b7863b4d76b2d754e9a1a3ef81",
              "IPY_MODEL_37f9f7c6505c4ec1a5e6123b553bf849"
            ],
            "layout": "IPY_MODEL_c365ae14aca14a00accc868ab1b73e63"
          }
        },
        "2d6f26ffa59a47ba9a883c312092ac20": {
          "model_module": "@jupyter-widgets/controls",
          "model_module_version": "1.5.0",
          "model_name": "HBoxModel",
          "state": {
            "_dom_classes": [],
            "_model_module": "@jupyter-widgets/controls",
            "_model_module_version": "1.5.0",
            "_model_name": "HBoxModel",
            "_view_count": null,
            "_view_module": "@jupyter-widgets/controls",
            "_view_module_version": "1.5.0",
            "_view_name": "HBoxView",
            "box_style": "",
            "children": [
              "IPY_MODEL_bcf8ef62d3f84a83a793c93591144ce2",
              "IPY_MODEL_6d4005a4798f4550b711792a15757e92",
              "IPY_MODEL_b15e993a92494c4d90518ecabe4b69cf"
            ],
            "layout": "IPY_MODEL_eadf2fec40d649868da486e3cc07ab2c"
          }
        },
        "2d9cf541e1634401ad96ba92a1fa3849": {
          "model_module": "@jupyter-widgets/base",
          "model_module_version": "1.2.0",
          "model_name": "LayoutModel",
          "state": {
            "_model_module": "@jupyter-widgets/base",
            "_model_module_version": "1.2.0",
            "_model_name": "LayoutModel",
            "_view_count": null,
            "_view_module": "@jupyter-widgets/base",
            "_view_module_version": "1.2.0",
            "_view_name": "LayoutView",
            "align_content": null,
            "align_items": null,
            "align_self": null,
            "border": null,
            "bottom": null,
            "display": null,
            "flex": null,
            "flex_flow": null,
            "grid_area": null,
            "grid_auto_columns": null,
            "grid_auto_flow": null,
            "grid_auto_rows": null,
            "grid_column": null,
            "grid_gap": null,
            "grid_row": null,
            "grid_template_areas": null,
            "grid_template_columns": null,
            "grid_template_rows": null,
            "height": null,
            "justify_content": null,
            "justify_items": null,
            "left": null,
            "margin": null,
            "max_height": null,
            "max_width": null,
            "min_height": null,
            "min_width": null,
            "object_fit": null,
            "object_position": null,
            "order": null,
            "overflow": null,
            "overflow_x": null,
            "overflow_y": null,
            "padding": null,
            "right": null,
            "top": null,
            "visibility": null,
            "width": null
          }
        },
        "302b859243c047fcbdd74859a300f8d9": {
          "model_module": "@jupyter-widgets/controls",
          "model_module_version": "1.5.0",
          "model_name": "HBoxModel",
          "state": {
            "_dom_classes": [],
            "_model_module": "@jupyter-widgets/controls",
            "_model_module_version": "1.5.0",
            "_model_name": "HBoxModel",
            "_view_count": null,
            "_view_module": "@jupyter-widgets/controls",
            "_view_module_version": "1.5.0",
            "_view_name": "HBoxView",
            "box_style": "",
            "children": [
              "IPY_MODEL_11c63e86bd5142d388b5153db59d96ae",
              "IPY_MODEL_3e1b87fb408e4922bf98882dd1e7a823",
              "IPY_MODEL_c3ecfeb1f0234d36a1be9ba71b0d4ca0"
            ],
            "layout": "IPY_MODEL_250236f1ecb54d81a7c80a4c2c9c1ba9"
          }
        },
        "37f9f7c6505c4ec1a5e6123b553bf849": {
          "model_module": "@jupyter-widgets/controls",
          "model_module_version": "1.5.0",
          "model_name": "HTMLModel",
          "state": {
            "_dom_classes": [],
            "_model_module": "@jupyter-widgets/controls",
            "_model_module_version": "1.5.0",
            "_model_name": "HTMLModel",
            "_view_count": null,
            "_view_module": "@jupyter-widgets/controls",
            "_view_module_version": "1.5.0",
            "_view_name": "HTMLView",
            "description": "",
            "description_tooltip": null,
            "layout": "IPY_MODEL_4593fa86cf72403a85de5158cced4d0c",
            "placeholder": "​",
            "style": "IPY_MODEL_4528a7fa923644a290725b991dbaa229",
            "value": " 1809/1809 [00:51&lt;00:00, 37.26it/s]"
          }
        },
        "3e1b87fb408e4922bf98882dd1e7a823": {
          "model_module": "@jupyter-widgets/controls",
          "model_module_version": "1.5.0",
          "model_name": "FloatProgressModel",
          "state": {
            "_dom_classes": [],
            "_model_module": "@jupyter-widgets/controls",
            "_model_module_version": "1.5.0",
            "_model_name": "FloatProgressModel",
            "_view_count": null,
            "_view_module": "@jupyter-widgets/controls",
            "_view_module_version": "1.5.0",
            "_view_name": "ProgressView",
            "bar_style": "success",
            "description": "",
            "description_tooltip": null,
            "layout": "IPY_MODEL_5570ec20bc6445c3b3cc45b499bb2e9f",
            "max": 1809,
            "min": 0,
            "orientation": "horizontal",
            "style": "IPY_MODEL_20419c44eca04de492f3d7c4b67abafb",
            "value": 1809
          }
        },
        "4528a7fa923644a290725b991dbaa229": {
          "model_module": "@jupyter-widgets/controls",
          "model_module_version": "1.5.0",
          "model_name": "DescriptionStyleModel",
          "state": {
            "_model_module": "@jupyter-widgets/controls",
            "_model_module_version": "1.5.0",
            "_model_name": "DescriptionStyleModel",
            "_view_count": null,
            "_view_module": "@jupyter-widgets/base",
            "_view_module_version": "1.2.0",
            "_view_name": "StyleView",
            "description_width": ""
          }
        },
        "452ef35ecb0b430c83ab8bf952585b94": {
          "model_module": "@jupyter-widgets/controls",
          "model_module_version": "1.5.0",
          "model_name": "HTMLModel",
          "state": {
            "_dom_classes": [],
            "_model_module": "@jupyter-widgets/controls",
            "_model_module_version": "1.5.0",
            "_model_name": "HTMLModel",
            "_view_count": null,
            "_view_module": "@jupyter-widgets/controls",
            "_view_module_version": "1.5.0",
            "_view_name": "HTMLView",
            "description": "",
            "description_tooltip": null,
            "layout": "IPY_MODEL_562200eb8b094272b0ea0dbdf5032263",
            "placeholder": "​",
            "style": "IPY_MODEL_ec9eb61e178f4f599f43fd4235a7a706",
            "value": "Epoch 7 / 10: 100%"
          }
        },
        "4593fa86cf72403a85de5158cced4d0c": {
          "model_module": "@jupyter-widgets/base",
          "model_module_version": "1.2.0",
          "model_name": "LayoutModel",
          "state": {
            "_model_module": "@jupyter-widgets/base",
            "_model_module_version": "1.2.0",
            "_model_name": "LayoutModel",
            "_view_count": null,
            "_view_module": "@jupyter-widgets/base",
            "_view_module_version": "1.2.0",
            "_view_name": "LayoutView",
            "align_content": null,
            "align_items": null,
            "align_self": null,
            "border": null,
            "bottom": null,
            "display": null,
            "flex": null,
            "flex_flow": null,
            "grid_area": null,
            "grid_auto_columns": null,
            "grid_auto_flow": null,
            "grid_auto_rows": null,
            "grid_column": null,
            "grid_gap": null,
            "grid_row": null,
            "grid_template_areas": null,
            "grid_template_columns": null,
            "grid_template_rows": null,
            "height": null,
            "justify_content": null,
            "justify_items": null,
            "left": null,
            "margin": null,
            "max_height": null,
            "max_width": null,
            "min_height": null,
            "min_width": null,
            "object_fit": null,
            "object_position": null,
            "order": null,
            "overflow": null,
            "overflow_x": null,
            "overflow_y": null,
            "padding": null,
            "right": null,
            "top": null,
            "visibility": null,
            "width": null
          }
        },
        "45bff1412b6d447d9e7a679c5f76bd5e": {
          "model_module": "@jupyter-widgets/controls",
          "model_module_version": "1.5.0",
          "model_name": "FloatProgressModel",
          "state": {
            "_dom_classes": [],
            "_model_module": "@jupyter-widgets/controls",
            "_model_module_version": "1.5.0",
            "_model_name": "FloatProgressModel",
            "_view_count": null,
            "_view_module": "@jupyter-widgets/controls",
            "_view_module_version": "1.5.0",
            "_view_name": "ProgressView",
            "bar_style": "success",
            "description": "",
            "description_tooltip": null,
            "layout": "IPY_MODEL_4fcb53eb49e04b8cb94e69dbaa8355ac",
            "max": 1809,
            "min": 0,
            "orientation": "horizontal",
            "style": "IPY_MODEL_84d9260df5274353b4b0bfb838f008a9",
            "value": 1809
          }
        },
        "463d482a01f844bca00d3a51b6cd8873": {
          "model_module": "@jupyter-widgets/base",
          "model_module_version": "1.2.0",
          "model_name": "LayoutModel",
          "state": {
            "_model_module": "@jupyter-widgets/base",
            "_model_module_version": "1.2.0",
            "_model_name": "LayoutModel",
            "_view_count": null,
            "_view_module": "@jupyter-widgets/base",
            "_view_module_version": "1.2.0",
            "_view_name": "LayoutView",
            "align_content": null,
            "align_items": null,
            "align_self": null,
            "border": null,
            "bottom": null,
            "display": null,
            "flex": null,
            "flex_flow": null,
            "grid_area": null,
            "grid_auto_columns": null,
            "grid_auto_flow": null,
            "grid_auto_rows": null,
            "grid_column": null,
            "grid_gap": null,
            "grid_row": null,
            "grid_template_areas": null,
            "grid_template_columns": null,
            "grid_template_rows": null,
            "height": null,
            "justify_content": null,
            "justify_items": null,
            "left": null,
            "margin": null,
            "max_height": null,
            "max_width": null,
            "min_height": null,
            "min_width": null,
            "object_fit": null,
            "object_position": null,
            "order": null,
            "overflow": null,
            "overflow_x": null,
            "overflow_y": null,
            "padding": null,
            "right": null,
            "top": null,
            "visibility": null,
            "width": null
          }
        },
        "4937fc8ed17a40a6b0ba306835264da1": {
          "model_module": "@jupyter-widgets/controls",
          "model_module_version": "1.5.0",
          "model_name": "HTMLModel",
          "state": {
            "_dom_classes": [],
            "_model_module": "@jupyter-widgets/controls",
            "_model_module_version": "1.5.0",
            "_model_name": "HTMLModel",
            "_view_count": null,
            "_view_module": "@jupyter-widgets/controls",
            "_view_module_version": "1.5.0",
            "_view_name": "HTMLView",
            "description": "",
            "description_tooltip": null,
            "layout": "IPY_MODEL_94a3a69f1da0427fb22426eee3b2b265",
            "placeholder": "​",
            "style": "IPY_MODEL_fd1fa59b497a45fab416d9cab0870d94",
            "value": "Epoch 0 / 10: 100%"
          }
        },
        "4fcb53eb49e04b8cb94e69dbaa8355ac": {
          "model_module": "@jupyter-widgets/base",
          "model_module_version": "1.2.0",
          "model_name": "LayoutModel",
          "state": {
            "_model_module": "@jupyter-widgets/base",
            "_model_module_version": "1.2.0",
            "_model_name": "LayoutModel",
            "_view_count": null,
            "_view_module": "@jupyter-widgets/base",
            "_view_module_version": "1.2.0",
            "_view_name": "LayoutView",
            "align_content": null,
            "align_items": null,
            "align_self": null,
            "border": null,
            "bottom": null,
            "display": null,
            "flex": null,
            "flex_flow": null,
            "grid_area": null,
            "grid_auto_columns": null,
            "grid_auto_flow": null,
            "grid_auto_rows": null,
            "grid_column": null,
            "grid_gap": null,
            "grid_row": null,
            "grid_template_areas": null,
            "grid_template_columns": null,
            "grid_template_rows": null,
            "height": null,
            "justify_content": null,
            "justify_items": null,
            "left": null,
            "margin": null,
            "max_height": null,
            "max_width": null,
            "min_height": null,
            "min_width": null,
            "object_fit": null,
            "object_position": null,
            "order": null,
            "overflow": null,
            "overflow_x": null,
            "overflow_y": null,
            "padding": null,
            "right": null,
            "top": null,
            "visibility": null,
            "width": null
          }
        },
        "51000865bc954df6a8d69fb9389c661c": {
          "model_module": "@jupyter-widgets/controls",
          "model_module_version": "1.5.0",
          "model_name": "HTMLModel",
          "state": {
            "_dom_classes": [],
            "_model_module": "@jupyter-widgets/controls",
            "_model_module_version": "1.5.0",
            "_model_name": "HTMLModel",
            "_view_count": null,
            "_view_module": "@jupyter-widgets/controls",
            "_view_module_version": "1.5.0",
            "_view_name": "HTMLView",
            "description": "",
            "description_tooltip": null,
            "layout": "IPY_MODEL_13de950bf1f04bb98ded0de9c45e79af",
            "placeholder": "​",
            "style": "IPY_MODEL_6e21f648fbfe42a99d79377fe82bba87",
            "value": " 1809/1809 [00:48&lt;00:00, 39.29it/s]"
          }
        },
        "51069628d6af413ab861232a320926a0": {
          "model_module": "@jupyter-widgets/controls",
          "model_module_version": "1.5.0",
          "model_name": "HTMLModel",
          "state": {
            "_dom_classes": [],
            "_model_module": "@jupyter-widgets/controls",
            "_model_module_version": "1.5.0",
            "_model_name": "HTMLModel",
            "_view_count": null,
            "_view_module": "@jupyter-widgets/controls",
            "_view_module_version": "1.5.0",
            "_view_name": "HTMLView",
            "description": "",
            "description_tooltip": null,
            "layout": "IPY_MODEL_bd146be525ec431d8ee8356a182123e9",
            "placeholder": "​",
            "style": "IPY_MODEL_632899eb829641379e3787f908cf08b6",
            "value": " 1809/1809 [00:50&lt;00:00, 38.12it/s]"
          }
        },
        "53a5547898504bbdbde936659d0de5fd": {
          "model_module": "@jupyter-widgets/base",
          "model_module_version": "1.2.0",
          "model_name": "LayoutModel",
          "state": {
            "_model_module": "@jupyter-widgets/base",
            "_model_module_version": "1.2.0",
            "_model_name": "LayoutModel",
            "_view_count": null,
            "_view_module": "@jupyter-widgets/base",
            "_view_module_version": "1.2.0",
            "_view_name": "LayoutView",
            "align_content": null,
            "align_items": null,
            "align_self": null,
            "border": null,
            "bottom": null,
            "display": null,
            "flex": null,
            "flex_flow": null,
            "grid_area": null,
            "grid_auto_columns": null,
            "grid_auto_flow": null,
            "grid_auto_rows": null,
            "grid_column": null,
            "grid_gap": null,
            "grid_row": null,
            "grid_template_areas": null,
            "grid_template_columns": null,
            "grid_template_rows": null,
            "height": null,
            "justify_content": null,
            "justify_items": null,
            "left": null,
            "margin": null,
            "max_height": null,
            "max_width": null,
            "min_height": null,
            "min_width": null,
            "object_fit": null,
            "object_position": null,
            "order": null,
            "overflow": null,
            "overflow_x": null,
            "overflow_y": null,
            "padding": null,
            "right": null,
            "top": null,
            "visibility": null,
            "width": null
          }
        },
        "5570ec20bc6445c3b3cc45b499bb2e9f": {
          "model_module": "@jupyter-widgets/base",
          "model_module_version": "1.2.0",
          "model_name": "LayoutModel",
          "state": {
            "_model_module": "@jupyter-widgets/base",
            "_model_module_version": "1.2.0",
            "_model_name": "LayoutModel",
            "_view_count": null,
            "_view_module": "@jupyter-widgets/base",
            "_view_module_version": "1.2.0",
            "_view_name": "LayoutView",
            "align_content": null,
            "align_items": null,
            "align_self": null,
            "border": null,
            "bottom": null,
            "display": null,
            "flex": null,
            "flex_flow": null,
            "grid_area": null,
            "grid_auto_columns": null,
            "grid_auto_flow": null,
            "grid_auto_rows": null,
            "grid_column": null,
            "grid_gap": null,
            "grid_row": null,
            "grid_template_areas": null,
            "grid_template_columns": null,
            "grid_template_rows": null,
            "height": null,
            "justify_content": null,
            "justify_items": null,
            "left": null,
            "margin": null,
            "max_height": null,
            "max_width": null,
            "min_height": null,
            "min_width": null,
            "object_fit": null,
            "object_position": null,
            "order": null,
            "overflow": null,
            "overflow_x": null,
            "overflow_y": null,
            "padding": null,
            "right": null,
            "top": null,
            "visibility": null,
            "width": null
          }
        },
        "562200eb8b094272b0ea0dbdf5032263": {
          "model_module": "@jupyter-widgets/base",
          "model_module_version": "1.2.0",
          "model_name": "LayoutModel",
          "state": {
            "_model_module": "@jupyter-widgets/base",
            "_model_module_version": "1.2.0",
            "_model_name": "LayoutModel",
            "_view_count": null,
            "_view_module": "@jupyter-widgets/base",
            "_view_module_version": "1.2.0",
            "_view_name": "LayoutView",
            "align_content": null,
            "align_items": null,
            "align_self": null,
            "border": null,
            "bottom": null,
            "display": null,
            "flex": null,
            "flex_flow": null,
            "grid_area": null,
            "grid_auto_columns": null,
            "grid_auto_flow": null,
            "grid_auto_rows": null,
            "grid_column": null,
            "grid_gap": null,
            "grid_row": null,
            "grid_template_areas": null,
            "grid_template_columns": null,
            "grid_template_rows": null,
            "height": null,
            "justify_content": null,
            "justify_items": null,
            "left": null,
            "margin": null,
            "max_height": null,
            "max_width": null,
            "min_height": null,
            "min_width": null,
            "object_fit": null,
            "object_position": null,
            "order": null,
            "overflow": null,
            "overflow_x": null,
            "overflow_y": null,
            "padding": null,
            "right": null,
            "top": null,
            "visibility": null,
            "width": null
          }
        },
        "58b7ef7c249944f8bbe72a0e85047e78": {
          "model_module": "@jupyter-widgets/base",
          "model_module_version": "1.2.0",
          "model_name": "LayoutModel",
          "state": {
            "_model_module": "@jupyter-widgets/base",
            "_model_module_version": "1.2.0",
            "_model_name": "LayoutModel",
            "_view_count": null,
            "_view_module": "@jupyter-widgets/base",
            "_view_module_version": "1.2.0",
            "_view_name": "LayoutView",
            "align_content": null,
            "align_items": null,
            "align_self": null,
            "border": null,
            "bottom": null,
            "display": null,
            "flex": null,
            "flex_flow": null,
            "grid_area": null,
            "grid_auto_columns": null,
            "grid_auto_flow": null,
            "grid_auto_rows": null,
            "grid_column": null,
            "grid_gap": null,
            "grid_row": null,
            "grid_template_areas": null,
            "grid_template_columns": null,
            "grid_template_rows": null,
            "height": null,
            "justify_content": null,
            "justify_items": null,
            "left": null,
            "margin": null,
            "max_height": null,
            "max_width": null,
            "min_height": null,
            "min_width": null,
            "object_fit": null,
            "object_position": null,
            "order": null,
            "overflow": null,
            "overflow_x": null,
            "overflow_y": null,
            "padding": null,
            "right": null,
            "top": null,
            "visibility": null,
            "width": null
          }
        },
        "5f3f974c976c4195a49a49f6d6423beb": {
          "model_module": "@jupyter-widgets/base",
          "model_module_version": "1.2.0",
          "model_name": "LayoutModel",
          "state": {
            "_model_module": "@jupyter-widgets/base",
            "_model_module_version": "1.2.0",
            "_model_name": "LayoutModel",
            "_view_count": null,
            "_view_module": "@jupyter-widgets/base",
            "_view_module_version": "1.2.0",
            "_view_name": "LayoutView",
            "align_content": null,
            "align_items": null,
            "align_self": null,
            "border": null,
            "bottom": null,
            "display": null,
            "flex": null,
            "flex_flow": null,
            "grid_area": null,
            "grid_auto_columns": null,
            "grid_auto_flow": null,
            "grid_auto_rows": null,
            "grid_column": null,
            "grid_gap": null,
            "grid_row": null,
            "grid_template_areas": null,
            "grid_template_columns": null,
            "grid_template_rows": null,
            "height": null,
            "justify_content": null,
            "justify_items": null,
            "left": null,
            "margin": null,
            "max_height": null,
            "max_width": null,
            "min_height": null,
            "min_width": null,
            "object_fit": null,
            "object_position": null,
            "order": null,
            "overflow": null,
            "overflow_x": null,
            "overflow_y": null,
            "padding": null,
            "right": null,
            "top": null,
            "visibility": null,
            "width": null
          }
        },
        "632899eb829641379e3787f908cf08b6": {
          "model_module": "@jupyter-widgets/controls",
          "model_module_version": "1.5.0",
          "model_name": "DescriptionStyleModel",
          "state": {
            "_model_module": "@jupyter-widgets/controls",
            "_model_module_version": "1.5.0",
            "_model_name": "DescriptionStyleModel",
            "_view_count": null,
            "_view_module": "@jupyter-widgets/base",
            "_view_module_version": "1.2.0",
            "_view_name": "StyleView",
            "description_width": ""
          }
        },
        "660b4c87b2b74982b6ec05c856e625fd": {
          "model_module": "@jupyter-widgets/controls",
          "model_module_version": "1.5.0",
          "model_name": "HTMLModel",
          "state": {
            "_dom_classes": [],
            "_model_module": "@jupyter-widgets/controls",
            "_model_module_version": "1.5.0",
            "_model_name": "HTMLModel",
            "_view_count": null,
            "_view_module": "@jupyter-widgets/controls",
            "_view_module_version": "1.5.0",
            "_view_name": "HTMLView",
            "description": "",
            "description_tooltip": null,
            "layout": "IPY_MODEL_5f3f974c976c4195a49a49f6d6423beb",
            "placeholder": "​",
            "style": "IPY_MODEL_91210964e7894b5f8c05ae8a4fb2f213",
            "value": " 1809/1809 [00:49&lt;00:00, 38.57it/s]"
          }
        },
        "6c7d8d0f08c9480ca54635775f871f05": {
          "model_module": "@jupyter-widgets/base",
          "model_module_version": "1.2.0",
          "model_name": "LayoutModel",
          "state": {
            "_model_module": "@jupyter-widgets/base",
            "_model_module_version": "1.2.0",
            "_model_name": "LayoutModel",
            "_view_count": null,
            "_view_module": "@jupyter-widgets/base",
            "_view_module_version": "1.2.0",
            "_view_name": "LayoutView",
            "align_content": null,
            "align_items": null,
            "align_self": null,
            "border": null,
            "bottom": null,
            "display": null,
            "flex": null,
            "flex_flow": null,
            "grid_area": null,
            "grid_auto_columns": null,
            "grid_auto_flow": null,
            "grid_auto_rows": null,
            "grid_column": null,
            "grid_gap": null,
            "grid_row": null,
            "grid_template_areas": null,
            "grid_template_columns": null,
            "grid_template_rows": null,
            "height": null,
            "justify_content": null,
            "justify_items": null,
            "left": null,
            "margin": null,
            "max_height": null,
            "max_width": null,
            "min_height": null,
            "min_width": null,
            "object_fit": null,
            "object_position": null,
            "order": null,
            "overflow": null,
            "overflow_x": null,
            "overflow_y": null,
            "padding": null,
            "right": null,
            "top": null,
            "visibility": null,
            "width": null
          }
        },
        "6d4005a4798f4550b711792a15757e92": {
          "model_module": "@jupyter-widgets/controls",
          "model_module_version": "1.5.0",
          "model_name": "FloatProgressModel",
          "state": {
            "_dom_classes": [],
            "_model_module": "@jupyter-widgets/controls",
            "_model_module_version": "1.5.0",
            "_model_name": "FloatProgressModel",
            "_view_count": null,
            "_view_module": "@jupyter-widgets/controls",
            "_view_module_version": "1.5.0",
            "_view_name": "ProgressView",
            "bar_style": "success",
            "description": "",
            "description_tooltip": null,
            "layout": "IPY_MODEL_af0bc330eee84f46989ed0b7dec300c4",
            "max": 1809,
            "min": 0,
            "orientation": "horizontal",
            "style": "IPY_MODEL_de1a49063cfa4ef8ace9cf02478703cd",
            "value": 1809
          }
        },
        "6e21f648fbfe42a99d79377fe82bba87": {
          "model_module": "@jupyter-widgets/controls",
          "model_module_version": "1.5.0",
          "model_name": "DescriptionStyleModel",
          "state": {
            "_model_module": "@jupyter-widgets/controls",
            "_model_module_version": "1.5.0",
            "_model_name": "DescriptionStyleModel",
            "_view_count": null,
            "_view_module": "@jupyter-widgets/base",
            "_view_module_version": "1.2.0",
            "_view_name": "StyleView",
            "description_width": ""
          }
        },
        "6f3997b2bf664545aa1e8af24d134591": {
          "model_module": "@jupyter-widgets/controls",
          "model_module_version": "1.5.0",
          "model_name": "ProgressStyleModel",
          "state": {
            "_model_module": "@jupyter-widgets/controls",
            "_model_module_version": "1.5.0",
            "_model_name": "ProgressStyleModel",
            "_view_count": null,
            "_view_module": "@jupyter-widgets/base",
            "_view_module_version": "1.2.0",
            "_view_name": "StyleView",
            "bar_color": null,
            "description_width": ""
          }
        },
        "707fa25e9f1d490990ce3d5833954371": {
          "model_module": "@jupyter-widgets/controls",
          "model_module_version": "1.5.0",
          "model_name": "ProgressStyleModel",
          "state": {
            "_model_module": "@jupyter-widgets/controls",
            "_model_module_version": "1.5.0",
            "_model_name": "ProgressStyleModel",
            "_view_count": null,
            "_view_module": "@jupyter-widgets/base",
            "_view_module_version": "1.2.0",
            "_view_name": "StyleView",
            "bar_color": null,
            "description_width": ""
          }
        },
        "721a3b4f5472468b9071bf38927e69f8": {
          "model_module": "@jupyter-widgets/controls",
          "model_module_version": "1.5.0",
          "model_name": "DescriptionStyleModel",
          "state": {
            "_model_module": "@jupyter-widgets/controls",
            "_model_module_version": "1.5.0",
            "_model_name": "DescriptionStyleModel",
            "_view_count": null,
            "_view_module": "@jupyter-widgets/base",
            "_view_module_version": "1.2.0",
            "_view_name": "StyleView",
            "description_width": ""
          }
        },
        "76d2cc4cb8304436a9edc21ef6ed5770": {
          "model_module": "@jupyter-widgets/base",
          "model_module_version": "1.2.0",
          "model_name": "LayoutModel",
          "state": {
            "_model_module": "@jupyter-widgets/base",
            "_model_module_version": "1.2.0",
            "_model_name": "LayoutModel",
            "_view_count": null,
            "_view_module": "@jupyter-widgets/base",
            "_view_module_version": "1.2.0",
            "_view_name": "LayoutView",
            "align_content": null,
            "align_items": null,
            "align_self": null,
            "border": null,
            "bottom": null,
            "display": null,
            "flex": null,
            "flex_flow": null,
            "grid_area": null,
            "grid_auto_columns": null,
            "grid_auto_flow": null,
            "grid_auto_rows": null,
            "grid_column": null,
            "grid_gap": null,
            "grid_row": null,
            "grid_template_areas": null,
            "grid_template_columns": null,
            "grid_template_rows": null,
            "height": null,
            "justify_content": null,
            "justify_items": null,
            "left": null,
            "margin": null,
            "max_height": null,
            "max_width": null,
            "min_height": null,
            "min_width": null,
            "object_fit": null,
            "object_position": null,
            "order": null,
            "overflow": null,
            "overflow_x": null,
            "overflow_y": null,
            "padding": null,
            "right": null,
            "top": null,
            "visibility": null,
            "width": null
          }
        },
        "7f8203eb69b345059a832cc53d02a2b4": {
          "model_module": "@jupyter-widgets/controls",
          "model_module_version": "1.5.0",
          "model_name": "HTMLModel",
          "state": {
            "_dom_classes": [],
            "_model_module": "@jupyter-widgets/controls",
            "_model_module_version": "1.5.0",
            "_model_name": "HTMLModel",
            "_view_count": null,
            "_view_module": "@jupyter-widgets/controls",
            "_view_module_version": "1.5.0",
            "_view_name": "HTMLView",
            "description": "",
            "description_tooltip": null,
            "layout": "IPY_MODEL_2d9cf541e1634401ad96ba92a1fa3849",
            "placeholder": "​",
            "style": "IPY_MODEL_9d877e1653fa49009030384ecce0112a",
            "value": "Epoch 2 / 10: 100%"
          }
        },
        "807b847317774ee6a91e04649fbcd8f8": {
          "model_module": "@jupyter-widgets/controls",
          "model_module_version": "1.5.0",
          "model_name": "FloatProgressModel",
          "state": {
            "_dom_classes": [],
            "_model_module": "@jupyter-widgets/controls",
            "_model_module_version": "1.5.0",
            "_model_name": "FloatProgressModel",
            "_view_count": null,
            "_view_module": "@jupyter-widgets/controls",
            "_view_module_version": "1.5.0",
            "_view_name": "ProgressView",
            "bar_style": "success",
            "description": "",
            "description_tooltip": null,
            "layout": "IPY_MODEL_d9c42b6a1e624f3c829bb8bd3918f30e",
            "max": 1809,
            "min": 0,
            "orientation": "horizontal",
            "style": "IPY_MODEL_012f8522f8af45dc9051d5738ffa4610",
            "value": 1809
          }
        },
        "82bf4b5d4af3444080e7817e73d46edd": {
          "model_module": "@jupyter-widgets/base",
          "model_module_version": "1.2.0",
          "model_name": "LayoutModel",
          "state": {
            "_model_module": "@jupyter-widgets/base",
            "_model_module_version": "1.2.0",
            "_model_name": "LayoutModel",
            "_view_count": null,
            "_view_module": "@jupyter-widgets/base",
            "_view_module_version": "1.2.0",
            "_view_name": "LayoutView",
            "align_content": null,
            "align_items": null,
            "align_self": null,
            "border": null,
            "bottom": null,
            "display": null,
            "flex": null,
            "flex_flow": null,
            "grid_area": null,
            "grid_auto_columns": null,
            "grid_auto_flow": null,
            "grid_auto_rows": null,
            "grid_column": null,
            "grid_gap": null,
            "grid_row": null,
            "grid_template_areas": null,
            "grid_template_columns": null,
            "grid_template_rows": null,
            "height": null,
            "justify_content": null,
            "justify_items": null,
            "left": null,
            "margin": null,
            "max_height": null,
            "max_width": null,
            "min_height": null,
            "min_width": null,
            "object_fit": null,
            "object_position": null,
            "order": null,
            "overflow": null,
            "overflow_x": null,
            "overflow_y": null,
            "padding": null,
            "right": null,
            "top": null,
            "visibility": null,
            "width": null
          }
        },
        "8498349aae2e44839a9dfba8449a6c80": {
          "model_module": "@jupyter-widgets/controls",
          "model_module_version": "1.5.0",
          "model_name": "FloatProgressModel",
          "state": {
            "_dom_classes": [],
            "_model_module": "@jupyter-widgets/controls",
            "_model_module_version": "1.5.0",
            "_model_name": "FloatProgressModel",
            "_view_count": null,
            "_view_module": "@jupyter-widgets/controls",
            "_view_module_version": "1.5.0",
            "_view_name": "ProgressView",
            "bar_style": "success",
            "description": "",
            "description_tooltip": null,
            "layout": "IPY_MODEL_ee3bcdc12f274e2eab2c2d9ac1292273",
            "max": 1809,
            "min": 0,
            "orientation": "horizontal",
            "style": "IPY_MODEL_9f674998520a4c588e00dafd4b02f9fb",
            "value": 1809
          }
        },
        "84d9260df5274353b4b0bfb838f008a9": {
          "model_module": "@jupyter-widgets/controls",
          "model_module_version": "1.5.0",
          "model_name": "ProgressStyleModel",
          "state": {
            "_model_module": "@jupyter-widgets/controls",
            "_model_module_version": "1.5.0",
            "_model_name": "ProgressStyleModel",
            "_view_count": null,
            "_view_module": "@jupyter-widgets/base",
            "_view_module_version": "1.2.0",
            "_view_name": "StyleView",
            "bar_color": null,
            "description_width": ""
          }
        },
        "85faf39574754c10b200c4954057d02e": {
          "model_module": "@jupyter-widgets/base",
          "model_module_version": "1.2.0",
          "model_name": "LayoutModel",
          "state": {
            "_model_module": "@jupyter-widgets/base",
            "_model_module_version": "1.2.0",
            "_model_name": "LayoutModel",
            "_view_count": null,
            "_view_module": "@jupyter-widgets/base",
            "_view_module_version": "1.2.0",
            "_view_name": "LayoutView",
            "align_content": null,
            "align_items": null,
            "align_self": null,
            "border": null,
            "bottom": null,
            "display": null,
            "flex": null,
            "flex_flow": null,
            "grid_area": null,
            "grid_auto_columns": null,
            "grid_auto_flow": null,
            "grid_auto_rows": null,
            "grid_column": null,
            "grid_gap": null,
            "grid_row": null,
            "grid_template_areas": null,
            "grid_template_columns": null,
            "grid_template_rows": null,
            "height": null,
            "justify_content": null,
            "justify_items": null,
            "left": null,
            "margin": null,
            "max_height": null,
            "max_width": null,
            "min_height": null,
            "min_width": null,
            "object_fit": null,
            "object_position": null,
            "order": null,
            "overflow": null,
            "overflow_x": null,
            "overflow_y": null,
            "padding": null,
            "right": null,
            "top": null,
            "visibility": null,
            "width": null
          }
        },
        "8a2321a633e3471b875a5e060d87b0ab": {
          "model_module": "@jupyter-widgets/base",
          "model_module_version": "1.2.0",
          "model_name": "LayoutModel",
          "state": {
            "_model_module": "@jupyter-widgets/base",
            "_model_module_version": "1.2.0",
            "_model_name": "LayoutModel",
            "_view_count": null,
            "_view_module": "@jupyter-widgets/base",
            "_view_module_version": "1.2.0",
            "_view_name": "LayoutView",
            "align_content": null,
            "align_items": null,
            "align_self": null,
            "border": null,
            "bottom": null,
            "display": null,
            "flex": null,
            "flex_flow": null,
            "grid_area": null,
            "grid_auto_columns": null,
            "grid_auto_flow": null,
            "grid_auto_rows": null,
            "grid_column": null,
            "grid_gap": null,
            "grid_row": null,
            "grid_template_areas": null,
            "grid_template_columns": null,
            "grid_template_rows": null,
            "height": null,
            "justify_content": null,
            "justify_items": null,
            "left": null,
            "margin": null,
            "max_height": null,
            "max_width": null,
            "min_height": null,
            "min_width": null,
            "object_fit": null,
            "object_position": null,
            "order": null,
            "overflow": null,
            "overflow_x": null,
            "overflow_y": null,
            "padding": null,
            "right": null,
            "top": null,
            "visibility": null,
            "width": null
          }
        },
        "8e245080096c4d26a590c498e2610fa8": {
          "model_module": "@jupyter-widgets/base",
          "model_module_version": "1.2.0",
          "model_name": "LayoutModel",
          "state": {
            "_model_module": "@jupyter-widgets/base",
            "_model_module_version": "1.2.0",
            "_model_name": "LayoutModel",
            "_view_count": null,
            "_view_module": "@jupyter-widgets/base",
            "_view_module_version": "1.2.0",
            "_view_name": "LayoutView",
            "align_content": null,
            "align_items": null,
            "align_self": null,
            "border": null,
            "bottom": null,
            "display": null,
            "flex": null,
            "flex_flow": null,
            "grid_area": null,
            "grid_auto_columns": null,
            "grid_auto_flow": null,
            "grid_auto_rows": null,
            "grid_column": null,
            "grid_gap": null,
            "grid_row": null,
            "grid_template_areas": null,
            "grid_template_columns": null,
            "grid_template_rows": null,
            "height": null,
            "justify_content": null,
            "justify_items": null,
            "left": null,
            "margin": null,
            "max_height": null,
            "max_width": null,
            "min_height": null,
            "min_width": null,
            "object_fit": null,
            "object_position": null,
            "order": null,
            "overflow": null,
            "overflow_x": null,
            "overflow_y": null,
            "padding": null,
            "right": null,
            "top": null,
            "visibility": null,
            "width": null
          }
        },
        "91210964e7894b5f8c05ae8a4fb2f213": {
          "model_module": "@jupyter-widgets/controls",
          "model_module_version": "1.5.0",
          "model_name": "DescriptionStyleModel",
          "state": {
            "_model_module": "@jupyter-widgets/controls",
            "_model_module_version": "1.5.0",
            "_model_name": "DescriptionStyleModel",
            "_view_count": null,
            "_view_module": "@jupyter-widgets/base",
            "_view_module_version": "1.2.0",
            "_view_name": "StyleView",
            "description_width": ""
          }
        },
        "92d18988fd084c39bd27949c8e305404": {
          "model_module": "@jupyter-widgets/controls",
          "model_module_version": "1.5.0",
          "model_name": "HBoxModel",
          "state": {
            "_dom_classes": [],
            "_model_module": "@jupyter-widgets/controls",
            "_model_module_version": "1.5.0",
            "_model_name": "HBoxModel",
            "_view_count": null,
            "_view_module": "@jupyter-widgets/controls",
            "_view_module_version": "1.5.0",
            "_view_name": "HBoxView",
            "box_style": "",
            "children": [
              "IPY_MODEL_b8ba4965bd874761bd97c5b551b925b4",
              "IPY_MODEL_807b847317774ee6a91e04649fbcd8f8",
              "IPY_MODEL_660b4c87b2b74982b6ec05c856e625fd"
            ],
            "layout": "IPY_MODEL_b3954604d75b4c5ab8b9b59893d220ec"
          }
        },
        "94a3a69f1da0427fb22426eee3b2b265": {
          "model_module": "@jupyter-widgets/base",
          "model_module_version": "1.2.0",
          "model_name": "LayoutModel",
          "state": {
            "_model_module": "@jupyter-widgets/base",
            "_model_module_version": "1.2.0",
            "_model_name": "LayoutModel",
            "_view_count": null,
            "_view_module": "@jupyter-widgets/base",
            "_view_module_version": "1.2.0",
            "_view_name": "LayoutView",
            "align_content": null,
            "align_items": null,
            "align_self": null,
            "border": null,
            "bottom": null,
            "display": null,
            "flex": null,
            "flex_flow": null,
            "grid_area": null,
            "grid_auto_columns": null,
            "grid_auto_flow": null,
            "grid_auto_rows": null,
            "grid_column": null,
            "grid_gap": null,
            "grid_row": null,
            "grid_template_areas": null,
            "grid_template_columns": null,
            "grid_template_rows": null,
            "height": null,
            "justify_content": null,
            "justify_items": null,
            "left": null,
            "margin": null,
            "max_height": null,
            "max_width": null,
            "min_height": null,
            "min_width": null,
            "object_fit": null,
            "object_position": null,
            "order": null,
            "overflow": null,
            "overflow_x": null,
            "overflow_y": null,
            "padding": null,
            "right": null,
            "top": null,
            "visibility": null,
            "width": null
          }
        },
        "95fea8500cae426aab4f55205257f295": {
          "model_module": "@jupyter-widgets/base",
          "model_module_version": "1.2.0",
          "model_name": "LayoutModel",
          "state": {
            "_model_module": "@jupyter-widgets/base",
            "_model_module_version": "1.2.0",
            "_model_name": "LayoutModel",
            "_view_count": null,
            "_view_module": "@jupyter-widgets/base",
            "_view_module_version": "1.2.0",
            "_view_name": "LayoutView",
            "align_content": null,
            "align_items": null,
            "align_self": null,
            "border": null,
            "bottom": null,
            "display": null,
            "flex": null,
            "flex_flow": null,
            "grid_area": null,
            "grid_auto_columns": null,
            "grid_auto_flow": null,
            "grid_auto_rows": null,
            "grid_column": null,
            "grid_gap": null,
            "grid_row": null,
            "grid_template_areas": null,
            "grid_template_columns": null,
            "grid_template_rows": null,
            "height": null,
            "justify_content": null,
            "justify_items": null,
            "left": null,
            "margin": null,
            "max_height": null,
            "max_width": null,
            "min_height": null,
            "min_width": null,
            "object_fit": null,
            "object_position": null,
            "order": null,
            "overflow": null,
            "overflow_x": null,
            "overflow_y": null,
            "padding": null,
            "right": null,
            "top": null,
            "visibility": null,
            "width": null
          }
        },
        "963f66e4a877427bbac73b3e52a92c84": {
          "model_module": "@jupyter-widgets/base",
          "model_module_version": "1.2.0",
          "model_name": "LayoutModel",
          "state": {
            "_model_module": "@jupyter-widgets/base",
            "_model_module_version": "1.2.0",
            "_model_name": "LayoutModel",
            "_view_count": null,
            "_view_module": "@jupyter-widgets/base",
            "_view_module_version": "1.2.0",
            "_view_name": "LayoutView",
            "align_content": null,
            "align_items": null,
            "align_self": null,
            "border": null,
            "bottom": null,
            "display": null,
            "flex": null,
            "flex_flow": null,
            "grid_area": null,
            "grid_auto_columns": null,
            "grid_auto_flow": null,
            "grid_auto_rows": null,
            "grid_column": null,
            "grid_gap": null,
            "grid_row": null,
            "grid_template_areas": null,
            "grid_template_columns": null,
            "grid_template_rows": null,
            "height": null,
            "justify_content": null,
            "justify_items": null,
            "left": null,
            "margin": null,
            "max_height": null,
            "max_width": null,
            "min_height": null,
            "min_width": null,
            "object_fit": null,
            "object_position": null,
            "order": null,
            "overflow": null,
            "overflow_x": null,
            "overflow_y": null,
            "padding": null,
            "right": null,
            "top": null,
            "visibility": null,
            "width": null
          }
        },
        "9b18ac4c0bc44182bb50c23add8bd76d": {
          "model_module": "@jupyter-widgets/controls",
          "model_module_version": "1.5.0",
          "model_name": "DescriptionStyleModel",
          "state": {
            "_model_module": "@jupyter-widgets/controls",
            "_model_module_version": "1.5.0",
            "_model_name": "DescriptionStyleModel",
            "_view_count": null,
            "_view_module": "@jupyter-widgets/base",
            "_view_module_version": "1.2.0",
            "_view_name": "StyleView",
            "description_width": ""
          }
        },
        "9d2f6eff2321493d8bf5b6e7fb023974": {
          "model_module": "@jupyter-widgets/controls",
          "model_module_version": "1.5.0",
          "model_name": "DescriptionStyleModel",
          "state": {
            "_model_module": "@jupyter-widgets/controls",
            "_model_module_version": "1.5.0",
            "_model_name": "DescriptionStyleModel",
            "_view_count": null,
            "_view_module": "@jupyter-widgets/base",
            "_view_module_version": "1.2.0",
            "_view_name": "StyleView",
            "description_width": ""
          }
        },
        "9d877e1653fa49009030384ecce0112a": {
          "model_module": "@jupyter-widgets/controls",
          "model_module_version": "1.5.0",
          "model_name": "DescriptionStyleModel",
          "state": {
            "_model_module": "@jupyter-widgets/controls",
            "_model_module_version": "1.5.0",
            "_model_name": "DescriptionStyleModel",
            "_view_count": null,
            "_view_module": "@jupyter-widgets/base",
            "_view_module_version": "1.2.0",
            "_view_name": "StyleView",
            "description_width": ""
          }
        },
        "9f123e8cd868463bb31945293644dc87": {
          "model_module": "@jupyter-widgets/controls",
          "model_module_version": "1.5.0",
          "model_name": "HTMLModel",
          "state": {
            "_dom_classes": [],
            "_model_module": "@jupyter-widgets/controls",
            "_model_module_version": "1.5.0",
            "_model_name": "HTMLModel",
            "_view_count": null,
            "_view_module": "@jupyter-widgets/controls",
            "_view_module_version": "1.5.0",
            "_view_name": "HTMLView",
            "description": "",
            "description_tooltip": null,
            "layout": "IPY_MODEL_04d1812ba4de4887b45eec58a702cd95",
            "placeholder": "​",
            "style": "IPY_MODEL_23d5128b677940238e074054d2acd749",
            "value": "Epoch 4 / 10: 100%"
          }
        },
        "9f198322fd474bc28b8faca1f6774122": {
          "model_module": "@jupyter-widgets/base",
          "model_module_version": "1.2.0",
          "model_name": "LayoutModel",
          "state": {
            "_model_module": "@jupyter-widgets/base",
            "_model_module_version": "1.2.0",
            "_model_name": "LayoutModel",
            "_view_count": null,
            "_view_module": "@jupyter-widgets/base",
            "_view_module_version": "1.2.0",
            "_view_name": "LayoutView",
            "align_content": null,
            "align_items": null,
            "align_self": null,
            "border": null,
            "bottom": null,
            "display": null,
            "flex": null,
            "flex_flow": null,
            "grid_area": null,
            "grid_auto_columns": null,
            "grid_auto_flow": null,
            "grid_auto_rows": null,
            "grid_column": null,
            "grid_gap": null,
            "grid_row": null,
            "grid_template_areas": null,
            "grid_template_columns": null,
            "grid_template_rows": null,
            "height": null,
            "justify_content": null,
            "justify_items": null,
            "left": null,
            "margin": null,
            "max_height": null,
            "max_width": null,
            "min_height": null,
            "min_width": null,
            "object_fit": null,
            "object_position": null,
            "order": null,
            "overflow": null,
            "overflow_x": null,
            "overflow_y": null,
            "padding": null,
            "right": null,
            "top": null,
            "visibility": null,
            "width": null
          }
        },
        "9f32fe36e6ab4fc88f355c7fd40b9fb5": {
          "model_module": "@jupyter-widgets/controls",
          "model_module_version": "1.5.0",
          "model_name": "DescriptionStyleModel",
          "state": {
            "_model_module": "@jupyter-widgets/controls",
            "_model_module_version": "1.5.0",
            "_model_name": "DescriptionStyleModel",
            "_view_count": null,
            "_view_module": "@jupyter-widgets/base",
            "_view_module_version": "1.2.0",
            "_view_name": "StyleView",
            "description_width": ""
          }
        },
        "9f674998520a4c588e00dafd4b02f9fb": {
          "model_module": "@jupyter-widgets/controls",
          "model_module_version": "1.5.0",
          "model_name": "ProgressStyleModel",
          "state": {
            "_model_module": "@jupyter-widgets/controls",
            "_model_module_version": "1.5.0",
            "_model_name": "ProgressStyleModel",
            "_view_count": null,
            "_view_module": "@jupyter-widgets/base",
            "_view_module_version": "1.2.0",
            "_view_name": "StyleView",
            "bar_color": null,
            "description_width": ""
          }
        },
        "9f929b51453f445e9e1ab65077c96e11": {
          "model_module": "@jupyter-widgets/controls",
          "model_module_version": "1.5.0",
          "model_name": "HTMLModel",
          "state": {
            "_dom_classes": [],
            "_model_module": "@jupyter-widgets/controls",
            "_model_module_version": "1.5.0",
            "_model_name": "HTMLModel",
            "_view_count": null,
            "_view_module": "@jupyter-widgets/controls",
            "_view_module_version": "1.5.0",
            "_view_name": "HTMLView",
            "description": "",
            "description_tooltip": null,
            "layout": "IPY_MODEL_2628f6ecc57a4e43b4548a6effd1840d",
            "placeholder": "​",
            "style": "IPY_MODEL_9b18ac4c0bc44182bb50c23add8bd76d",
            "value": "Epoch 8 / 10: 100%"
          }
        },
        "a29ba846fe6d4f5e9ee1841fffa058e8": {
          "model_module": "@jupyter-widgets/controls",
          "model_module_version": "1.5.0",
          "model_name": "DescriptionStyleModel",
          "state": {
            "_model_module": "@jupyter-widgets/controls",
            "_model_module_version": "1.5.0",
            "_model_name": "DescriptionStyleModel",
            "_view_count": null,
            "_view_module": "@jupyter-widgets/base",
            "_view_module_version": "1.2.0",
            "_view_name": "StyleView",
            "description_width": ""
          }
        },
        "a309554cb31641f48ff28613d80774a8": {
          "model_module": "@jupyter-widgets/base",
          "model_module_version": "1.2.0",
          "model_name": "LayoutModel",
          "state": {
            "_model_module": "@jupyter-widgets/base",
            "_model_module_version": "1.2.0",
            "_model_name": "LayoutModel",
            "_view_count": null,
            "_view_module": "@jupyter-widgets/base",
            "_view_module_version": "1.2.0",
            "_view_name": "LayoutView",
            "align_content": null,
            "align_items": null,
            "align_self": null,
            "border": null,
            "bottom": null,
            "display": null,
            "flex": null,
            "flex_flow": null,
            "grid_area": null,
            "grid_auto_columns": null,
            "grid_auto_flow": null,
            "grid_auto_rows": null,
            "grid_column": null,
            "grid_gap": null,
            "grid_row": null,
            "grid_template_areas": null,
            "grid_template_columns": null,
            "grid_template_rows": null,
            "height": null,
            "justify_content": null,
            "justify_items": null,
            "left": null,
            "margin": null,
            "max_height": null,
            "max_width": null,
            "min_height": null,
            "min_width": null,
            "object_fit": null,
            "object_position": null,
            "order": null,
            "overflow": null,
            "overflow_x": null,
            "overflow_y": null,
            "padding": null,
            "right": null,
            "top": null,
            "visibility": null,
            "width": null
          }
        },
        "a9ca04067b3c4dc1901ac32721590849": {
          "model_module": "@jupyter-widgets/controls",
          "model_module_version": "1.5.0",
          "model_name": "HTMLModel",
          "state": {
            "_dom_classes": [],
            "_model_module": "@jupyter-widgets/controls",
            "_model_module_version": "1.5.0",
            "_model_name": "HTMLModel",
            "_view_count": null,
            "_view_module": "@jupyter-widgets/controls",
            "_view_module_version": "1.5.0",
            "_view_name": "HTMLView",
            "description": "",
            "description_tooltip": null,
            "layout": "IPY_MODEL_58b7ef7c249944f8bbe72a0e85047e78",
            "placeholder": "​",
            "style": "IPY_MODEL_b547203018a1492ca6ca42867cc7168e",
            "value": " 1809/1809 [00:41&lt;00:00, 36.30it/s]"
          }
        },
        "aaa3777a393f484cbc2e82f11ff41311": {
          "model_module": "@jupyter-widgets/base",
          "model_module_version": "1.2.0",
          "model_name": "LayoutModel",
          "state": {
            "_model_module": "@jupyter-widgets/base",
            "_model_module_version": "1.2.0",
            "_model_name": "LayoutModel",
            "_view_count": null,
            "_view_module": "@jupyter-widgets/base",
            "_view_module_version": "1.2.0",
            "_view_name": "LayoutView",
            "align_content": null,
            "align_items": null,
            "align_self": null,
            "border": null,
            "bottom": null,
            "display": null,
            "flex": null,
            "flex_flow": null,
            "grid_area": null,
            "grid_auto_columns": null,
            "grid_auto_flow": null,
            "grid_auto_rows": null,
            "grid_column": null,
            "grid_gap": null,
            "grid_row": null,
            "grid_template_areas": null,
            "grid_template_columns": null,
            "grid_template_rows": null,
            "height": null,
            "justify_content": null,
            "justify_items": null,
            "left": null,
            "margin": null,
            "max_height": null,
            "max_width": null,
            "min_height": null,
            "min_width": null,
            "object_fit": null,
            "object_position": null,
            "order": null,
            "overflow": null,
            "overflow_x": null,
            "overflow_y": null,
            "padding": null,
            "right": null,
            "top": null,
            "visibility": null,
            "width": null
          }
        },
        "af0bc330eee84f46989ed0b7dec300c4": {
          "model_module": "@jupyter-widgets/base",
          "model_module_version": "1.2.0",
          "model_name": "LayoutModel",
          "state": {
            "_model_module": "@jupyter-widgets/base",
            "_model_module_version": "1.2.0",
            "_model_name": "LayoutModel",
            "_view_count": null,
            "_view_module": "@jupyter-widgets/base",
            "_view_module_version": "1.2.0",
            "_view_name": "LayoutView",
            "align_content": null,
            "align_items": null,
            "align_self": null,
            "border": null,
            "bottom": null,
            "display": null,
            "flex": null,
            "flex_flow": null,
            "grid_area": null,
            "grid_auto_columns": null,
            "grid_auto_flow": null,
            "grid_auto_rows": null,
            "grid_column": null,
            "grid_gap": null,
            "grid_row": null,
            "grid_template_areas": null,
            "grid_template_columns": null,
            "grid_template_rows": null,
            "height": null,
            "justify_content": null,
            "justify_items": null,
            "left": null,
            "margin": null,
            "max_height": null,
            "max_width": null,
            "min_height": null,
            "min_width": null,
            "object_fit": null,
            "object_position": null,
            "order": null,
            "overflow": null,
            "overflow_x": null,
            "overflow_y": null,
            "padding": null,
            "right": null,
            "top": null,
            "visibility": null,
            "width": null
          }
        },
        "af781763c09b4a66a6c2eb337a4960f3": {
          "model_module": "@jupyter-widgets/controls",
          "model_module_version": "1.5.0",
          "model_name": "HBoxModel",
          "state": {
            "_dom_classes": [],
            "_model_module": "@jupyter-widgets/controls",
            "_model_module_version": "1.5.0",
            "_model_name": "HBoxModel",
            "_view_count": null,
            "_view_module": "@jupyter-widgets/controls",
            "_view_module_version": "1.5.0",
            "_view_name": "HBoxView",
            "box_style": "",
            "children": [
              "IPY_MODEL_295d0435025f41f486e580e69fdf799c",
              "IPY_MODEL_f268b6c870da478bb61fb62e10816131",
              "IPY_MODEL_51069628d6af413ab861232a320926a0"
            ],
            "layout": "IPY_MODEL_dc5c7a0a3e0946c8a26b9bf628124425"
          }
        },
        "b15e993a92494c4d90518ecabe4b69cf": {
          "model_module": "@jupyter-widgets/controls",
          "model_module_version": "1.5.0",
          "model_name": "HTMLModel",
          "state": {
            "_dom_classes": [],
            "_model_module": "@jupyter-widgets/controls",
            "_model_module_version": "1.5.0",
            "_model_name": "HTMLModel",
            "_view_count": null,
            "_view_module": "@jupyter-widgets/controls",
            "_view_module_version": "1.5.0",
            "_view_name": "HTMLView",
            "description": "",
            "description_tooltip": null,
            "layout": "IPY_MODEL_0e13ad3899c34a50bc2be7cfd07fa942",
            "placeholder": "​",
            "style": "IPY_MODEL_a29ba846fe6d4f5e9ee1841fffa058e8",
            "value": " 1809/1809 [00:48&lt;00:00, 33.82it/s]"
          }
        },
        "b3954604d75b4c5ab8b9b59893d220ec": {
          "model_module": "@jupyter-widgets/base",
          "model_module_version": "1.2.0",
          "model_name": "LayoutModel",
          "state": {
            "_model_module": "@jupyter-widgets/base",
            "_model_module_version": "1.2.0",
            "_model_name": "LayoutModel",
            "_view_count": null,
            "_view_module": "@jupyter-widgets/base",
            "_view_module_version": "1.2.0",
            "_view_name": "LayoutView",
            "align_content": null,
            "align_items": null,
            "align_self": null,
            "border": null,
            "bottom": null,
            "display": null,
            "flex": null,
            "flex_flow": null,
            "grid_area": null,
            "grid_auto_columns": null,
            "grid_auto_flow": null,
            "grid_auto_rows": null,
            "grid_column": null,
            "grid_gap": null,
            "grid_row": null,
            "grid_template_areas": null,
            "grid_template_columns": null,
            "grid_template_rows": null,
            "height": null,
            "justify_content": null,
            "justify_items": null,
            "left": null,
            "margin": null,
            "max_height": null,
            "max_width": null,
            "min_height": null,
            "min_width": null,
            "object_fit": null,
            "object_position": null,
            "order": null,
            "overflow": null,
            "overflow_x": null,
            "overflow_y": null,
            "padding": null,
            "right": null,
            "top": null,
            "visibility": null,
            "width": null
          }
        },
        "b547203018a1492ca6ca42867cc7168e": {
          "model_module": "@jupyter-widgets/controls",
          "model_module_version": "1.5.0",
          "model_name": "DescriptionStyleModel",
          "state": {
            "_model_module": "@jupyter-widgets/controls",
            "_model_module_version": "1.5.0",
            "_model_name": "DescriptionStyleModel",
            "_view_count": null,
            "_view_module": "@jupyter-widgets/base",
            "_view_module_version": "1.2.0",
            "_view_name": "StyleView",
            "description_width": ""
          }
        },
        "b6479ca2423049df81150af90f7f12e3": {
          "model_module": "@jupyter-widgets/controls",
          "model_module_version": "1.5.0",
          "model_name": "ProgressStyleModel",
          "state": {
            "_model_module": "@jupyter-widgets/controls",
            "_model_module_version": "1.5.0",
            "_model_name": "ProgressStyleModel",
            "_view_count": null,
            "_view_module": "@jupyter-widgets/base",
            "_view_module_version": "1.2.0",
            "_view_name": "StyleView",
            "bar_color": null,
            "description_width": ""
          }
        },
        "b8ba4965bd874761bd97c5b551b925b4": {
          "model_module": "@jupyter-widgets/controls",
          "model_module_version": "1.5.0",
          "model_name": "HTMLModel",
          "state": {
            "_dom_classes": [],
            "_model_module": "@jupyter-widgets/controls",
            "_model_module_version": "1.5.0",
            "_model_name": "HTMLModel",
            "_view_count": null,
            "_view_module": "@jupyter-widgets/controls",
            "_view_module_version": "1.5.0",
            "_view_name": "HTMLView",
            "description": "",
            "description_tooltip": null,
            "layout": "IPY_MODEL_8e245080096c4d26a590c498e2610fa8",
            "placeholder": "​",
            "style": "IPY_MODEL_bc482c087d8e4393a2c5b28b698f4083",
            "value": "Epoch 6 / 10: 100%"
          }
        },
        "bc482c087d8e4393a2c5b28b698f4083": {
          "model_module": "@jupyter-widgets/controls",
          "model_module_version": "1.5.0",
          "model_name": "DescriptionStyleModel",
          "state": {
            "_model_module": "@jupyter-widgets/controls",
            "_model_module_version": "1.5.0",
            "_model_name": "DescriptionStyleModel",
            "_view_count": null,
            "_view_module": "@jupyter-widgets/base",
            "_view_module_version": "1.2.0",
            "_view_name": "StyleView",
            "description_width": ""
          }
        },
        "bcf8ef62d3f84a83a793c93591144ce2": {
          "model_module": "@jupyter-widgets/controls",
          "model_module_version": "1.5.0",
          "model_name": "HTMLModel",
          "state": {
            "_dom_classes": [],
            "_model_module": "@jupyter-widgets/controls",
            "_model_module_version": "1.5.0",
            "_model_name": "HTMLModel",
            "_view_count": null,
            "_view_module": "@jupyter-widgets/controls",
            "_view_module_version": "1.5.0",
            "_view_name": "HTMLView",
            "description": "",
            "description_tooltip": null,
            "layout": "IPY_MODEL_53a5547898504bbdbde936659d0de5fd",
            "placeholder": "​",
            "style": "IPY_MODEL_c1d8b432a4cd40c1a886bf736d2e477a",
            "value": "Epoch 3 / 10: 100%"
          }
        },
        "bd146be525ec431d8ee8356a182123e9": {
          "model_module": "@jupyter-widgets/base",
          "model_module_version": "1.2.0",
          "model_name": "LayoutModel",
          "state": {
            "_model_module": "@jupyter-widgets/base",
            "_model_module_version": "1.2.0",
            "_model_name": "LayoutModel",
            "_view_count": null,
            "_view_module": "@jupyter-widgets/base",
            "_view_module_version": "1.2.0",
            "_view_name": "LayoutView",
            "align_content": null,
            "align_items": null,
            "align_self": null,
            "border": null,
            "bottom": null,
            "display": null,
            "flex": null,
            "flex_flow": null,
            "grid_area": null,
            "grid_auto_columns": null,
            "grid_auto_flow": null,
            "grid_auto_rows": null,
            "grid_column": null,
            "grid_gap": null,
            "grid_row": null,
            "grid_template_areas": null,
            "grid_template_columns": null,
            "grid_template_rows": null,
            "height": null,
            "justify_content": null,
            "justify_items": null,
            "left": null,
            "margin": null,
            "max_height": null,
            "max_width": null,
            "min_height": null,
            "min_width": null,
            "object_fit": null,
            "object_position": null,
            "order": null,
            "overflow": null,
            "overflow_x": null,
            "overflow_y": null,
            "padding": null,
            "right": null,
            "top": null,
            "visibility": null,
            "width": null
          }
        },
        "c1d8b432a4cd40c1a886bf736d2e477a": {
          "model_module": "@jupyter-widgets/controls",
          "model_module_version": "1.5.0",
          "model_name": "DescriptionStyleModel",
          "state": {
            "_model_module": "@jupyter-widgets/controls",
            "_model_module_version": "1.5.0",
            "_model_name": "DescriptionStyleModel",
            "_view_count": null,
            "_view_module": "@jupyter-widgets/base",
            "_view_module_version": "1.2.0",
            "_view_name": "StyleView",
            "description_width": ""
          }
        },
        "c365ae14aca14a00accc868ab1b73e63": {
          "model_module": "@jupyter-widgets/base",
          "model_module_version": "1.2.0",
          "model_name": "LayoutModel",
          "state": {
            "_model_module": "@jupyter-widgets/base",
            "_model_module_version": "1.2.0",
            "_model_name": "LayoutModel",
            "_view_count": null,
            "_view_module": "@jupyter-widgets/base",
            "_view_module_version": "1.2.0",
            "_view_name": "LayoutView",
            "align_content": null,
            "align_items": null,
            "align_self": null,
            "border": null,
            "bottom": null,
            "display": null,
            "flex": null,
            "flex_flow": null,
            "grid_area": null,
            "grid_auto_columns": null,
            "grid_auto_flow": null,
            "grid_auto_rows": null,
            "grid_column": null,
            "grid_gap": null,
            "grid_row": null,
            "grid_template_areas": null,
            "grid_template_columns": null,
            "grid_template_rows": null,
            "height": null,
            "justify_content": null,
            "justify_items": null,
            "left": null,
            "margin": null,
            "max_height": null,
            "max_width": null,
            "min_height": null,
            "min_width": null,
            "object_fit": null,
            "object_position": null,
            "order": null,
            "overflow": null,
            "overflow_x": null,
            "overflow_y": null,
            "padding": null,
            "right": null,
            "top": null,
            "visibility": null,
            "width": null
          }
        },
        "c3ecfeb1f0234d36a1be9ba71b0d4ca0": {
          "model_module": "@jupyter-widgets/controls",
          "model_module_version": "1.5.0",
          "model_name": "HTMLModel",
          "state": {
            "_dom_classes": [],
            "_model_module": "@jupyter-widgets/controls",
            "_model_module_version": "1.5.0",
            "_model_name": "HTMLModel",
            "_view_count": null,
            "_view_module": "@jupyter-widgets/controls",
            "_view_module_version": "1.5.0",
            "_view_name": "HTMLView",
            "description": "",
            "description_tooltip": null,
            "layout": "IPY_MODEL_e492a023cdce4978b203d8d2a63e4fc4",
            "placeholder": "​",
            "style": "IPY_MODEL_cdaf744fd90b43e58cbe1a686d3048e1",
            "value": " 1809/1809 [00:50&lt;00:00, 32.02it/s]"
          }
        },
        "c4e0446fb3ee4337894439f99348f413": {
          "model_module": "@jupyter-widgets/controls",
          "model_module_version": "1.5.0",
          "model_name": "HBoxModel",
          "state": {
            "_dom_classes": [],
            "_model_module": "@jupyter-widgets/controls",
            "_model_module_version": "1.5.0",
            "_model_name": "HBoxModel",
            "_view_count": null,
            "_view_module": "@jupyter-widgets/controls",
            "_view_module_version": "1.5.0",
            "_view_name": "HBoxView",
            "box_style": "",
            "children": [
              "IPY_MODEL_f24a67c61f3243f6958257bece5da4f6",
              "IPY_MODEL_eeb8fe8b3c004872ab885c43fe872795",
              "IPY_MODEL_d3faf308d7f54adb9bcedd2dacb4e696"
            ],
            "layout": "IPY_MODEL_ee405a329d264fc09771368ab2404f1b"
          }
        },
        "cdaf744fd90b43e58cbe1a686d3048e1": {
          "model_module": "@jupyter-widgets/controls",
          "model_module_version": "1.5.0",
          "model_name": "DescriptionStyleModel",
          "state": {
            "_model_module": "@jupyter-widgets/controls",
            "_model_module_version": "1.5.0",
            "_model_name": "DescriptionStyleModel",
            "_view_count": null,
            "_view_module": "@jupyter-widgets/base",
            "_view_module_version": "1.2.0",
            "_view_name": "StyleView",
            "description_width": ""
          }
        },
        "d3faf308d7f54adb9bcedd2dacb4e696": {
          "model_module": "@jupyter-widgets/controls",
          "model_module_version": "1.5.0",
          "model_name": "HTMLModel",
          "state": {
            "_dom_classes": [],
            "_model_module": "@jupyter-widgets/controls",
            "_model_module_version": "1.5.0",
            "_model_name": "HTMLModel",
            "_view_count": null,
            "_view_module": "@jupyter-widgets/controls",
            "_view_module_version": "1.5.0",
            "_view_name": "HTMLView",
            "description": "",
            "description_tooltip": null,
            "layout": "IPY_MODEL_d4f21a46fd4943acaa6aad5b3b028ef8",
            "placeholder": "​",
            "style": "IPY_MODEL_9d2f6eff2321493d8bf5b6e7fb023974",
            "value": " 1809/1809 [00:52&lt;00:00, 32.59it/s]"
          }
        },
        "d4f21a46fd4943acaa6aad5b3b028ef8": {
          "model_module": "@jupyter-widgets/base",
          "model_module_version": "1.2.0",
          "model_name": "LayoutModel",
          "state": {
            "_model_module": "@jupyter-widgets/base",
            "_model_module_version": "1.2.0",
            "_model_name": "LayoutModel",
            "_view_count": null,
            "_view_module": "@jupyter-widgets/base",
            "_view_module_version": "1.2.0",
            "_view_name": "LayoutView",
            "align_content": null,
            "align_items": null,
            "align_self": null,
            "border": null,
            "bottom": null,
            "display": null,
            "flex": null,
            "flex_flow": null,
            "grid_area": null,
            "grid_auto_columns": null,
            "grid_auto_flow": null,
            "grid_auto_rows": null,
            "grid_column": null,
            "grid_gap": null,
            "grid_row": null,
            "grid_template_areas": null,
            "grid_template_columns": null,
            "grid_template_rows": null,
            "height": null,
            "justify_content": null,
            "justify_items": null,
            "left": null,
            "margin": null,
            "max_height": null,
            "max_width": null,
            "min_height": null,
            "min_width": null,
            "object_fit": null,
            "object_position": null,
            "order": null,
            "overflow": null,
            "overflow_x": null,
            "overflow_y": null,
            "padding": null,
            "right": null,
            "top": null,
            "visibility": null,
            "width": null
          }
        },
        "d5dbe0e4dc1f4cc59dfed3cfb1e40eea": {
          "model_module": "@jupyter-widgets/base",
          "model_module_version": "1.2.0",
          "model_name": "LayoutModel",
          "state": {
            "_model_module": "@jupyter-widgets/base",
            "_model_module_version": "1.2.0",
            "_model_name": "LayoutModel",
            "_view_count": null,
            "_view_module": "@jupyter-widgets/base",
            "_view_module_version": "1.2.0",
            "_view_name": "LayoutView",
            "align_content": null,
            "align_items": null,
            "align_self": null,
            "border": null,
            "bottom": null,
            "display": null,
            "flex": null,
            "flex_flow": null,
            "grid_area": null,
            "grid_auto_columns": null,
            "grid_auto_flow": null,
            "grid_auto_rows": null,
            "grid_column": null,
            "grid_gap": null,
            "grid_row": null,
            "grid_template_areas": null,
            "grid_template_columns": null,
            "grid_template_rows": null,
            "height": null,
            "justify_content": null,
            "justify_items": null,
            "left": null,
            "margin": null,
            "max_height": null,
            "max_width": null,
            "min_height": null,
            "min_width": null,
            "object_fit": null,
            "object_position": null,
            "order": null,
            "overflow": null,
            "overflow_x": null,
            "overflow_y": null,
            "padding": null,
            "right": null,
            "top": null,
            "visibility": null,
            "width": null
          }
        },
        "d9c42b6a1e624f3c829bb8bd3918f30e": {
          "model_module": "@jupyter-widgets/base",
          "model_module_version": "1.2.0",
          "model_name": "LayoutModel",
          "state": {
            "_model_module": "@jupyter-widgets/base",
            "_model_module_version": "1.2.0",
            "_model_name": "LayoutModel",
            "_view_count": null,
            "_view_module": "@jupyter-widgets/base",
            "_view_module_version": "1.2.0",
            "_view_name": "LayoutView",
            "align_content": null,
            "align_items": null,
            "align_self": null,
            "border": null,
            "bottom": null,
            "display": null,
            "flex": null,
            "flex_flow": null,
            "grid_area": null,
            "grid_auto_columns": null,
            "grid_auto_flow": null,
            "grid_auto_rows": null,
            "grid_column": null,
            "grid_gap": null,
            "grid_row": null,
            "grid_template_areas": null,
            "grid_template_columns": null,
            "grid_template_rows": null,
            "height": null,
            "justify_content": null,
            "justify_items": null,
            "left": null,
            "margin": null,
            "max_height": null,
            "max_width": null,
            "min_height": null,
            "min_width": null,
            "object_fit": null,
            "object_position": null,
            "order": null,
            "overflow": null,
            "overflow_x": null,
            "overflow_y": null,
            "padding": null,
            "right": null,
            "top": null,
            "visibility": null,
            "width": null
          }
        },
        "dc5c7a0a3e0946c8a26b9bf628124425": {
          "model_module": "@jupyter-widgets/base",
          "model_module_version": "1.2.0",
          "model_name": "LayoutModel",
          "state": {
            "_model_module": "@jupyter-widgets/base",
            "_model_module_version": "1.2.0",
            "_model_name": "LayoutModel",
            "_view_count": null,
            "_view_module": "@jupyter-widgets/base",
            "_view_module_version": "1.2.0",
            "_view_name": "LayoutView",
            "align_content": null,
            "align_items": null,
            "align_self": null,
            "border": null,
            "bottom": null,
            "display": null,
            "flex": null,
            "flex_flow": null,
            "grid_area": null,
            "grid_auto_columns": null,
            "grid_auto_flow": null,
            "grid_auto_rows": null,
            "grid_column": null,
            "grid_gap": null,
            "grid_row": null,
            "grid_template_areas": null,
            "grid_template_columns": null,
            "grid_template_rows": null,
            "height": null,
            "justify_content": null,
            "justify_items": null,
            "left": null,
            "margin": null,
            "max_height": null,
            "max_width": null,
            "min_height": null,
            "min_width": null,
            "object_fit": null,
            "object_position": null,
            "order": null,
            "overflow": null,
            "overflow_x": null,
            "overflow_y": null,
            "padding": null,
            "right": null,
            "top": null,
            "visibility": null,
            "width": null
          }
        },
        "dd8dea3940204195b317b55b5b0ac7e2": {
          "model_module": "@jupyter-widgets/controls",
          "model_module_version": "1.5.0",
          "model_name": "ProgressStyleModel",
          "state": {
            "_model_module": "@jupyter-widgets/controls",
            "_model_module_version": "1.5.0",
            "_model_name": "ProgressStyleModel",
            "_view_count": null,
            "_view_module": "@jupyter-widgets/base",
            "_view_module_version": "1.2.0",
            "_view_name": "StyleView",
            "bar_color": null,
            "description_width": ""
          }
        },
        "de1a49063cfa4ef8ace9cf02478703cd": {
          "model_module": "@jupyter-widgets/controls",
          "model_module_version": "1.5.0",
          "model_name": "ProgressStyleModel",
          "state": {
            "_model_module": "@jupyter-widgets/controls",
            "_model_module_version": "1.5.0",
            "_model_name": "ProgressStyleModel",
            "_view_count": null,
            "_view_module": "@jupyter-widgets/base",
            "_view_module_version": "1.2.0",
            "_view_name": "StyleView",
            "bar_color": null,
            "description_width": ""
          }
        },
        "e492a023cdce4978b203d8d2a63e4fc4": {
          "model_module": "@jupyter-widgets/base",
          "model_module_version": "1.2.0",
          "model_name": "LayoutModel",
          "state": {
            "_model_module": "@jupyter-widgets/base",
            "_model_module_version": "1.2.0",
            "_model_name": "LayoutModel",
            "_view_count": null,
            "_view_module": "@jupyter-widgets/base",
            "_view_module_version": "1.2.0",
            "_view_name": "LayoutView",
            "align_content": null,
            "align_items": null,
            "align_self": null,
            "border": null,
            "bottom": null,
            "display": null,
            "flex": null,
            "flex_flow": null,
            "grid_area": null,
            "grid_auto_columns": null,
            "grid_auto_flow": null,
            "grid_auto_rows": null,
            "grid_column": null,
            "grid_gap": null,
            "grid_row": null,
            "grid_template_areas": null,
            "grid_template_columns": null,
            "grid_template_rows": null,
            "height": null,
            "justify_content": null,
            "justify_items": null,
            "left": null,
            "margin": null,
            "max_height": null,
            "max_width": null,
            "min_height": null,
            "min_width": null,
            "object_fit": null,
            "object_position": null,
            "order": null,
            "overflow": null,
            "overflow_x": null,
            "overflow_y": null,
            "padding": null,
            "right": null,
            "top": null,
            "visibility": null,
            "width": null
          }
        },
        "eadf2fec40d649868da486e3cc07ab2c": {
          "model_module": "@jupyter-widgets/base",
          "model_module_version": "1.2.0",
          "model_name": "LayoutModel",
          "state": {
            "_model_module": "@jupyter-widgets/base",
            "_model_module_version": "1.2.0",
            "_model_name": "LayoutModel",
            "_view_count": null,
            "_view_module": "@jupyter-widgets/base",
            "_view_module_version": "1.2.0",
            "_view_name": "LayoutView",
            "align_content": null,
            "align_items": null,
            "align_self": null,
            "border": null,
            "bottom": null,
            "display": null,
            "flex": null,
            "flex_flow": null,
            "grid_area": null,
            "grid_auto_columns": null,
            "grid_auto_flow": null,
            "grid_auto_rows": null,
            "grid_column": null,
            "grid_gap": null,
            "grid_row": null,
            "grid_template_areas": null,
            "grid_template_columns": null,
            "grid_template_rows": null,
            "height": null,
            "justify_content": null,
            "justify_items": null,
            "left": null,
            "margin": null,
            "max_height": null,
            "max_width": null,
            "min_height": null,
            "min_width": null,
            "object_fit": null,
            "object_position": null,
            "order": null,
            "overflow": null,
            "overflow_x": null,
            "overflow_y": null,
            "padding": null,
            "right": null,
            "top": null,
            "visibility": null,
            "width": null
          }
        },
        "ebbb18b0fb2842dd8ee75bc9991c9e42": {
          "model_module": "@jupyter-widgets/controls",
          "model_module_version": "1.5.0",
          "model_name": "HBoxModel",
          "state": {
            "_dom_classes": [],
            "_model_module": "@jupyter-widgets/controls",
            "_model_module_version": "1.5.0",
            "_model_name": "HBoxModel",
            "_view_count": null,
            "_view_module": "@jupyter-widgets/controls",
            "_view_module_version": "1.5.0",
            "_view_name": "HBoxView",
            "box_style": "",
            "children": [
              "IPY_MODEL_4937fc8ed17a40a6b0ba306835264da1",
              "IPY_MODEL_20586824d2cd4bffb1fdd8b233fd02ef",
              "IPY_MODEL_a9ca04067b3c4dc1901ac32721590849"
            ],
            "layout": "IPY_MODEL_8a2321a633e3471b875a5e060d87b0ab"
          }
        },
        "ec9eb61e178f4f599f43fd4235a7a706": {
          "model_module": "@jupyter-widgets/controls",
          "model_module_version": "1.5.0",
          "model_name": "DescriptionStyleModel",
          "state": {
            "_model_module": "@jupyter-widgets/controls",
            "_model_module_version": "1.5.0",
            "_model_name": "DescriptionStyleModel",
            "_view_count": null,
            "_view_module": "@jupyter-widgets/base",
            "_view_module_version": "1.2.0",
            "_view_name": "StyleView",
            "description_width": ""
          }
        },
        "ee18a3c392af4bd8a97ad64d228c0f82": {
          "model_module": "@jupyter-widgets/controls",
          "model_module_version": "1.5.0",
          "model_name": "HBoxModel",
          "state": {
            "_dom_classes": [],
            "_model_module": "@jupyter-widgets/controls",
            "_model_module_version": "1.5.0",
            "_model_name": "HBoxModel",
            "_view_count": null,
            "_view_module": "@jupyter-widgets/controls",
            "_view_module_version": "1.5.0",
            "_view_name": "HBoxView",
            "box_style": "",
            "children": [
              "IPY_MODEL_7f8203eb69b345059a832cc53d02a2b4",
              "IPY_MODEL_8498349aae2e44839a9dfba8449a6c80",
              "IPY_MODEL_f328a9e46bb34a4fb8cd1a1823b4cae6"
            ],
            "layout": "IPY_MODEL_1a547cb71c474eb59d1b4159fee3b919"
          }
        },
        "ee3bcdc12f274e2eab2c2d9ac1292273": {
          "model_module": "@jupyter-widgets/base",
          "model_module_version": "1.2.0",
          "model_name": "LayoutModel",
          "state": {
            "_model_module": "@jupyter-widgets/base",
            "_model_module_version": "1.2.0",
            "_model_name": "LayoutModel",
            "_view_count": null,
            "_view_module": "@jupyter-widgets/base",
            "_view_module_version": "1.2.0",
            "_view_name": "LayoutView",
            "align_content": null,
            "align_items": null,
            "align_self": null,
            "border": null,
            "bottom": null,
            "display": null,
            "flex": null,
            "flex_flow": null,
            "grid_area": null,
            "grid_auto_columns": null,
            "grid_auto_flow": null,
            "grid_auto_rows": null,
            "grid_column": null,
            "grid_gap": null,
            "grid_row": null,
            "grid_template_areas": null,
            "grid_template_columns": null,
            "grid_template_rows": null,
            "height": null,
            "justify_content": null,
            "justify_items": null,
            "left": null,
            "margin": null,
            "max_height": null,
            "max_width": null,
            "min_height": null,
            "min_width": null,
            "object_fit": null,
            "object_position": null,
            "order": null,
            "overflow": null,
            "overflow_x": null,
            "overflow_y": null,
            "padding": null,
            "right": null,
            "top": null,
            "visibility": null,
            "width": null
          }
        },
        "ee405a329d264fc09771368ab2404f1b": {
          "model_module": "@jupyter-widgets/base",
          "model_module_version": "1.2.0",
          "model_name": "LayoutModel",
          "state": {
            "_model_module": "@jupyter-widgets/base",
            "_model_module_version": "1.2.0",
            "_model_name": "LayoutModel",
            "_view_count": null,
            "_view_module": "@jupyter-widgets/base",
            "_view_module_version": "1.2.0",
            "_view_name": "LayoutView",
            "align_content": null,
            "align_items": null,
            "align_self": null,
            "border": null,
            "bottom": null,
            "display": null,
            "flex": null,
            "flex_flow": null,
            "grid_area": null,
            "grid_auto_columns": null,
            "grid_auto_flow": null,
            "grid_auto_rows": null,
            "grid_column": null,
            "grid_gap": null,
            "grid_row": null,
            "grid_template_areas": null,
            "grid_template_columns": null,
            "grid_template_rows": null,
            "height": null,
            "justify_content": null,
            "justify_items": null,
            "left": null,
            "margin": null,
            "max_height": null,
            "max_width": null,
            "min_height": null,
            "min_width": null,
            "object_fit": null,
            "object_position": null,
            "order": null,
            "overflow": null,
            "overflow_x": null,
            "overflow_y": null,
            "padding": null,
            "right": null,
            "top": null,
            "visibility": null,
            "width": null
          }
        },
        "eeb8fe8b3c004872ab885c43fe872795": {
          "model_module": "@jupyter-widgets/controls",
          "model_module_version": "1.5.0",
          "model_name": "FloatProgressModel",
          "state": {
            "_dom_classes": [],
            "_model_module": "@jupyter-widgets/controls",
            "_model_module_version": "1.5.0",
            "_model_name": "FloatProgressModel",
            "_view_count": null,
            "_view_module": "@jupyter-widgets/controls",
            "_view_module_version": "1.5.0",
            "_view_name": "ProgressView",
            "bar_style": "success",
            "description": "",
            "description_tooltip": null,
            "layout": "IPY_MODEL_76d2cc4cb8304436a9edc21ef6ed5770",
            "max": 1809,
            "min": 0,
            "orientation": "horizontal",
            "style": "IPY_MODEL_b6479ca2423049df81150af90f7f12e3",
            "value": 1809
          }
        },
        "f04aaa0b9797487580e7763ff0eb7596": {
          "model_module": "@jupyter-widgets/controls",
          "model_module_version": "1.5.0",
          "model_name": "FloatProgressModel",
          "state": {
            "_dom_classes": [],
            "_model_module": "@jupyter-widgets/controls",
            "_model_module_version": "1.5.0",
            "_model_name": "FloatProgressModel",
            "_view_count": null,
            "_view_module": "@jupyter-widgets/controls",
            "_view_module_version": "1.5.0",
            "_view_name": "ProgressView",
            "bar_style": "success",
            "description": "",
            "description_tooltip": null,
            "layout": "IPY_MODEL_a309554cb31641f48ff28613d80774a8",
            "max": 1809,
            "min": 0,
            "orientation": "horizontal",
            "style": "IPY_MODEL_6f3997b2bf664545aa1e8af24d134591",
            "value": 1809
          }
        },
        "f24a67c61f3243f6958257bece5da4f6": {
          "model_module": "@jupyter-widgets/controls",
          "model_module_version": "1.5.0",
          "model_name": "HTMLModel",
          "state": {
            "_dom_classes": [],
            "_model_module": "@jupyter-widgets/controls",
            "_model_module_version": "1.5.0",
            "_model_name": "HTMLModel",
            "_view_count": null,
            "_view_module": "@jupyter-widgets/controls",
            "_view_module_version": "1.5.0",
            "_view_name": "HTMLView",
            "description": "",
            "description_tooltip": null,
            "layout": "IPY_MODEL_9f198322fd474bc28b8faca1f6774122",
            "placeholder": "​",
            "style": "IPY_MODEL_9f32fe36e6ab4fc88f355c7fd40b9fb5",
            "value": "Epoch 1 / 10: 100%"
          }
        },
        "f268b6c870da478bb61fb62e10816131": {
          "model_module": "@jupyter-widgets/controls",
          "model_module_version": "1.5.0",
          "model_name": "FloatProgressModel",
          "state": {
            "_dom_classes": [],
            "_model_module": "@jupyter-widgets/controls",
            "_model_module_version": "1.5.0",
            "_model_name": "FloatProgressModel",
            "_view_count": null,
            "_view_module": "@jupyter-widgets/controls",
            "_view_module_version": "1.5.0",
            "_view_name": "ProgressView",
            "bar_style": "success",
            "description": "",
            "description_tooltip": null,
            "layout": "IPY_MODEL_463d482a01f844bca00d3a51b6cd8873",
            "max": 1809,
            "min": 0,
            "orientation": "horizontal",
            "style": "IPY_MODEL_fb8ed1b925f047bead05be55ce999d3a",
            "value": 1809
          }
        },
        "f2b6357625464c0890f17914b68e9e88": {
          "model_module": "@jupyter-widgets/base",
          "model_module_version": "1.2.0",
          "model_name": "LayoutModel",
          "state": {
            "_model_module": "@jupyter-widgets/base",
            "_model_module_version": "1.2.0",
            "_model_name": "LayoutModel",
            "_view_count": null,
            "_view_module": "@jupyter-widgets/base",
            "_view_module_version": "1.2.0",
            "_view_name": "LayoutView",
            "align_content": null,
            "align_items": null,
            "align_self": null,
            "border": null,
            "bottom": null,
            "display": null,
            "flex": null,
            "flex_flow": null,
            "grid_area": null,
            "grid_auto_columns": null,
            "grid_auto_flow": null,
            "grid_auto_rows": null,
            "grid_column": null,
            "grid_gap": null,
            "grid_row": null,
            "grid_template_areas": null,
            "grid_template_columns": null,
            "grid_template_rows": null,
            "height": null,
            "justify_content": null,
            "justify_items": null,
            "left": null,
            "margin": null,
            "max_height": null,
            "max_width": null,
            "min_height": null,
            "min_width": null,
            "object_fit": null,
            "object_position": null,
            "order": null,
            "overflow": null,
            "overflow_x": null,
            "overflow_y": null,
            "padding": null,
            "right": null,
            "top": null,
            "visibility": null,
            "width": null
          }
        },
        "f328a9e46bb34a4fb8cd1a1823b4cae6": {
          "model_module": "@jupyter-widgets/controls",
          "model_module_version": "1.5.0",
          "model_name": "HTMLModel",
          "state": {
            "_dom_classes": [],
            "_model_module": "@jupyter-widgets/controls",
            "_model_module_version": "1.5.0",
            "_model_name": "HTMLModel",
            "_view_count": null,
            "_view_module": "@jupyter-widgets/controls",
            "_view_module_version": "1.5.0",
            "_view_name": "HTMLView",
            "description": "",
            "description_tooltip": null,
            "layout": "IPY_MODEL_f2b6357625464c0890f17914b68e9e88",
            "placeholder": "​",
            "style": "IPY_MODEL_286b85e7fdc64a36afaad5f0d4c22d92",
            "value": " 1809/1809 [00:50&lt;00:00, 40.52it/s]"
          }
        },
        "fb8ed1b925f047bead05be55ce999d3a": {
          "model_module": "@jupyter-widgets/controls",
          "model_module_version": "1.5.0",
          "model_name": "ProgressStyleModel",
          "state": {
            "_model_module": "@jupyter-widgets/controls",
            "_model_module_version": "1.5.0",
            "_model_name": "ProgressStyleModel",
            "_view_count": null,
            "_view_module": "@jupyter-widgets/base",
            "_view_module_version": "1.2.0",
            "_view_name": "StyleView",
            "bar_color": null,
            "description_width": ""
          }
        },
        "fd1fa59b497a45fab416d9cab0870d94": {
          "model_module": "@jupyter-widgets/controls",
          "model_module_version": "1.5.0",
          "model_name": "DescriptionStyleModel",
          "state": {
            "_model_module": "@jupyter-widgets/controls",
            "_model_module_version": "1.5.0",
            "_model_name": "DescriptionStyleModel",
            "_view_count": null,
            "_view_module": "@jupyter-widgets/base",
            "_view_module_version": "1.2.0",
            "_view_name": "StyleView",
            "description_width": ""
          }
        }
      }
    }
  },
  "nbformat": 4,
  "nbformat_minor": 0
}
