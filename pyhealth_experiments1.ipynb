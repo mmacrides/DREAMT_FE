{
  "cells": [
    {
      "cell_type": "code",
      "execution_count": 1,
      "metadata": {
        "id": "QdvH4gHOX_Dn"
      },
      "outputs": [],
      "source": [
        "import pandas as pd"
      ]
    },
    {
      "cell_type": "code",
      "execution_count": 1,
      "metadata": {
        "colab": {
          "base_uri": "https://localhost:8080/"
        },
        "collapsed": true,
        "id": "hL8uP3FPXdaT",
        "outputId": "83ac1612-9f19-4e53-84fd-f34b7a46b6ec"
      },
      "outputs": [
        {
          "name": "stdout",
          "output_type": "stream",
          "text": [
            "Collecting gpboost\n",
            "  Downloading gpboost-1.5.6-py3-none-manylinux1_x86_64.whl.metadata (7.9 kB)\n",
            "Collecting mne\n",
            "  Downloading mne-1.9.0-py3-none-any.whl.metadata (20 kB)\n",
            "Collecting rdkit\n",
            "  Downloading rdkit-2024.9.6-cp311-cp311-manylinux_2_28_x86_64.whl.metadata (4.0 kB)\n",
            "Collecting aeon\n",
            "  Downloading aeon-1.1.0-py3-none-any.whl.metadata (21 kB)\n",
            "Collecting neurokit2\n",
            "  Downloading neurokit2-0.2.10-py2.py3-none-any.whl.metadata (37 kB)\n",
            "Collecting heartpy\n",
            "  Downloading heartpy-1.2.7-py3-none-any.whl.metadata (9.5 kB)\n",
            "Collecting pandarallel\n",
            "  Downloading pandarallel-1.6.5.tar.gz (14 kB)\n",
            "  Preparing metadata (setup.py) ... \u001b[?25l\u001b[?25hdone\n",
            "Requirement already satisfied: wheel in /usr/local/lib/python3.11/dist-packages (from gpboost) (0.45.1)\n",
            "Requirement already satisfied: numpy in /usr/local/lib/python3.11/dist-packages (from gpboost) (2.0.2)\n",
            "Requirement already satisfied: pandas in /usr/local/lib/python3.11/dist-packages (from gpboost) (2.2.2)\n",
            "Requirement already satisfied: scipy in /usr/local/lib/python3.11/dist-packages (from gpboost) (1.14.1)\n",
            "Requirement already satisfied: scikit-learn!=0.22.0 in /usr/local/lib/python3.11/dist-packages (from gpboost) (1.6.1)\n",
            "Collecting optuna (from gpboost)\n",
            "  Downloading optuna-4.3.0-py3-none-any.whl.metadata (17 kB)\n",
            "Requirement already satisfied: decorator in /usr/local/lib/python3.11/dist-packages (from mne) (4.4.2)\n",
            "Requirement already satisfied: jinja2 in /usr/local/lib/python3.11/dist-packages (from mne) (3.1.6)\n",
            "Requirement already satisfied: lazy-loader>=0.3 in /usr/local/lib/python3.11/dist-packages (from mne) (0.4)\n",
            "Requirement already satisfied: matplotlib>=3.6 in /usr/local/lib/python3.11/dist-packages (from mne) (3.10.0)\n",
            "Requirement already satisfied: packaging in /usr/local/lib/python3.11/dist-packages (from mne) (24.2)\n",
            "Requirement already satisfied: pooch>=1.5 in /usr/local/lib/python3.11/dist-packages (from mne) (1.8.2)\n",
            "Requirement already satisfied: tqdm in /usr/local/lib/python3.11/dist-packages (from mne) (4.67.1)\n",
            "Requirement already satisfied: Pillow in /usr/local/lib/python3.11/dist-packages (from rdkit) (11.1.0)\n",
            "Requirement already satisfied: deprecated>=1.2.13 in /usr/local/lib/python3.11/dist-packages (from aeon) (1.2.18)\n",
            "Requirement already satisfied: numba<0.62.0,>=0.55 in /usr/local/lib/python3.11/dist-packages (from aeon) (0.60.0)\n",
            "Requirement already satisfied: typing-extensions>=4.6.0 in /usr/local/lib/python3.11/dist-packages (from aeon) (4.13.2)\n",
            "Requirement already satisfied: requests in /usr/local/lib/python3.11/dist-packages (from neurokit2) (2.32.3)\n",
            "Collecting dill>=0.3.1 (from pandarallel)\n",
            "  Downloading dill-0.4.0-py3-none-any.whl.metadata (10 kB)\n",
            "Requirement already satisfied: psutil in /usr/local/lib/python3.11/dist-packages (from pandarallel) (5.9.5)\n",
            "Requirement already satisfied: wrapt<2,>=1.10 in /usr/local/lib/python3.11/dist-packages (from deprecated>=1.2.13->aeon) (1.17.2)\n",
            "Requirement already satisfied: contourpy>=1.0.1 in /usr/local/lib/python3.11/dist-packages (from matplotlib>=3.6->mne) (1.3.2)\n",
            "Requirement already satisfied: cycler>=0.10 in /usr/local/lib/python3.11/dist-packages (from matplotlib>=3.6->mne) (0.12.1)\n",
            "Requirement already satisfied: fonttools>=4.22.0 in /usr/local/lib/python3.11/dist-packages (from matplotlib>=3.6->mne) (4.57.0)\n",
            "Requirement already satisfied: kiwisolver>=1.3.1 in /usr/local/lib/python3.11/dist-packages (from matplotlib>=3.6->mne) (1.4.8)\n",
            "Requirement already satisfied: pyparsing>=2.3.1 in /usr/local/lib/python3.11/dist-packages (from matplotlib>=3.6->mne) (3.2.3)\n",
            "Requirement already satisfied: python-dateutil>=2.7 in /usr/local/lib/python3.11/dist-packages (from matplotlib>=3.6->mne) (2.8.2)\n",
            "Requirement already satisfied: llvmlite<0.44,>=0.43.0dev0 in /usr/local/lib/python3.11/dist-packages (from numba<0.62.0,>=0.55->aeon) (0.43.0)\n",
            "Requirement already satisfied: pytz>=2020.1 in /usr/local/lib/python3.11/dist-packages (from pandas->gpboost) (2025.2)\n",
            "Requirement already satisfied: tzdata>=2022.7 in /usr/local/lib/python3.11/dist-packages (from pandas->gpboost) (2025.2)\n",
            "Requirement already satisfied: platformdirs>=2.5.0 in /usr/local/lib/python3.11/dist-packages (from pooch>=1.5->mne) (4.3.7)\n",
            "Requirement already satisfied: charset-normalizer<4,>=2 in /usr/local/lib/python3.11/dist-packages (from requests->neurokit2) (3.4.1)\n",
            "Requirement already satisfied: idna<4,>=2.5 in /usr/local/lib/python3.11/dist-packages (from requests->neurokit2) (3.10)\n",
            "Requirement already satisfied: urllib3<3,>=1.21.1 in /usr/local/lib/python3.11/dist-packages (from requests->neurokit2) (2.3.0)\n",
            "Requirement already satisfied: certifi>=2017.4.17 in /usr/local/lib/python3.11/dist-packages (from requests->neurokit2) (2025.1.31)\n",
            "Requirement already satisfied: joblib>=1.2.0 in /usr/local/lib/python3.11/dist-packages (from scikit-learn!=0.22.0->gpboost) (1.4.2)\n",
            "Requirement already satisfied: threadpoolctl>=3.1.0 in /usr/local/lib/python3.11/dist-packages (from scikit-learn!=0.22.0->gpboost) (3.6.0)\n",
            "Requirement already satisfied: MarkupSafe>=2.0 in /usr/local/lib/python3.11/dist-packages (from jinja2->mne) (3.0.2)\n",
            "Collecting alembic>=1.5.0 (from optuna->gpboost)\n",
            "  Downloading alembic-1.15.2-py3-none-any.whl.metadata (7.3 kB)\n",
            "Collecting colorlog (from optuna->gpboost)\n",
            "  Downloading colorlog-6.9.0-py3-none-any.whl.metadata (10 kB)\n",
            "Requirement already satisfied: sqlalchemy>=1.4.2 in /usr/local/lib/python3.11/dist-packages (from optuna->gpboost) (2.0.40)\n",
            "Requirement already satisfied: PyYAML in /usr/local/lib/python3.11/dist-packages (from optuna->gpboost) (6.0.2)\n",
            "Requirement already satisfied: Mako in /usr/lib/python3/dist-packages (from alembic>=1.5.0->optuna->gpboost) (1.1.3)\n",
            "Requirement already satisfied: six>=1.5 in /usr/local/lib/python3.11/dist-packages (from python-dateutil>=2.7->matplotlib>=3.6->mne) (1.17.0)\n",
            "Requirement already satisfied: greenlet>=1 in /usr/local/lib/python3.11/dist-packages (from sqlalchemy>=1.4.2->optuna->gpboost) (3.2.1)\n",
            "Downloading gpboost-1.5.6-py3-none-manylinux1_x86_64.whl (4.5 MB)\n",
            "\u001b[2K   \u001b[90m━━━━━━━━━━━━━━━━━━━━━━━━━━━━━━━━━━━━━━━━\u001b[0m \u001b[32m4.5/4.5 MB\u001b[0m \u001b[31m22.3 MB/s\u001b[0m eta \u001b[36m0:00:00\u001b[0m\n",
            "\u001b[?25hDownloading mne-1.9.0-py3-none-any.whl (7.4 MB)\n",
            "\u001b[2K   \u001b[90m━━━━━━━━━━━━━━━━━━━━━━━━━━━━━━━━━━━━━━━━\u001b[0m \u001b[32m7.4/7.4 MB\u001b[0m \u001b[31m28.9 MB/s\u001b[0m eta \u001b[36m0:00:00\u001b[0m\n",
            "\u001b[?25hDownloading rdkit-2024.9.6-cp311-cp311-manylinux_2_28_x86_64.whl (34.3 MB)\n",
            "\u001b[2K   \u001b[90m━━━━━━━━━━━━━━━━━━━━━━━━━━━━━━━━━━━━━━━━\u001b[0m \u001b[32m34.3/34.3 MB\u001b[0m \u001b[31m15.3 MB/s\u001b[0m eta \u001b[36m0:00:00\u001b[0m\n",
            "\u001b[?25hDownloading aeon-1.1.0-py3-none-any.whl (8.3 MB)\n",
            "\u001b[2K   \u001b[90m━━━━━━━━━━━━━━━━━━━━━━━━━━━━━━━━━━━━━━━━\u001b[0m \u001b[32m8.3/8.3 MB\u001b[0m \u001b[31m46.0 MB/s\u001b[0m eta \u001b[36m0:00:00\u001b[0m\n",
            "\u001b[?25hDownloading neurokit2-0.2.10-py2.py3-none-any.whl (693 kB)\n",
            "\u001b[2K   \u001b[90m━━━━━━━━━━━━━━━━━━━━━━━━━━━━━━━━━━━━━━━━\u001b[0m \u001b[32m693.1/693.1 kB\u001b[0m \u001b[31m25.7 MB/s\u001b[0m eta \u001b[36m0:00:00\u001b[0m\n",
            "\u001b[?25hDownloading heartpy-1.2.7-py3-none-any.whl (1.0 MB)\n",
            "\u001b[2K   \u001b[90m━━━━━━━━━━━━━━━━━━━━━━━━━━━━━━━━━━━━━━━━\u001b[0m \u001b[32m1.0/1.0 MB\u001b[0m \u001b[31m25.0 MB/s\u001b[0m eta \u001b[36m0:00:00\u001b[0m\n",
            "\u001b[?25hDownloading dill-0.4.0-py3-none-any.whl (119 kB)\n",
            "\u001b[2K   \u001b[90m━━━━━━━━━━━━━━━━━━━━━━━━━━━━━━━━━━━━━━━━\u001b[0m \u001b[32m119.7/119.7 kB\u001b[0m \u001b[31m6.7 MB/s\u001b[0m eta \u001b[36m0:00:00\u001b[0m\n",
            "\u001b[?25hDownloading optuna-4.3.0-py3-none-any.whl (386 kB)\n",
            "\u001b[2K   \u001b[90m━━━━━━━━━━━━━━━━━━━━━━━━━━━━━━━━━━━━━━━━\u001b[0m \u001b[32m386.6/386.6 kB\u001b[0m \u001b[31m19.8 MB/s\u001b[0m eta \u001b[36m0:00:00\u001b[0m\n",
            "\u001b[?25hDownloading alembic-1.15.2-py3-none-any.whl (231 kB)\n",
            "\u001b[2K   \u001b[90m━━━━━━━━━━━━━━━━━━━━━━━━━━━━━━━━━━━━━━━━\u001b[0m \u001b[32m231.9/231.9 kB\u001b[0m \u001b[31m12.9 MB/s\u001b[0m eta \u001b[36m0:00:00\u001b[0m\n",
            "\u001b[?25hDownloading colorlog-6.9.0-py3-none-any.whl (11 kB)\n",
            "Building wheels for collected packages: pandarallel\n",
            "  Building wheel for pandarallel (setup.py) ... \u001b[?25l\u001b[?25hdone\n",
            "  Created wheel for pandarallel: filename=pandarallel-1.6.5-py3-none-any.whl size=16674 sha256=4686a9dda43412bdc81cf1eeba87db7216d4baa42be8f919bc9ecf95c6ce3b72\n",
            "  Stored in directory: /root/.cache/pip/wheels/b9/c6/5a/829298789e94348b81af52ab42c19d49da007306bbcc983827\n",
            "Successfully built pandarallel\n",
            "Installing collected packages: rdkit, dill, colorlog, alembic, pandarallel, optuna, neurokit2, mne, heartpy, aeon, gpboost\n",
            "Successfully installed aeon-1.1.0 alembic-1.15.2 colorlog-6.9.0 dill-0.4.0 gpboost-1.5.6 heartpy-1.2.7 mne-1.9.0 neurokit2-0.2.10 optuna-4.3.0 pandarallel-1.6.5 rdkit-2024.9.6\n"
          ]
        }
      ],
      "source": [
        "!pip install gpboost mne rdkit aeon neurokit2 heartpy pandarallel"
      ]
    },
    {
      "cell_type": "code",
      "execution_count": 2,
      "metadata": {
        "colab": {
          "base_uri": "https://localhost:8080/"
        },
        "id": "srs4zsWWqgnG",
        "outputId": "1518c611-0c8d-4ad3-9c4b-cc856e2e2384"
      },
      "outputs": [
        {
          "name": "stdout",
          "output_type": "stream",
          "text": [
            "Mounted at /content/drive\n"
          ]
        }
      ],
      "source": [
        "from google.colab import drive\n",
        "drive.mount('/content/drive')"
      ]
    },
    {
      "cell_type": "code",
      "execution_count": 3,
      "metadata": {
        "colab": {
          "base_uri": "https://localhost:8080/"
        },
        "id": "yyj4ZM-FwvKC",
        "outputId": "68f54b40-dce1-4c65-d742-0c7e5dc172a4"
      },
      "outputs": [
        {
          "name": "stdout",
          "output_type": "stream",
          "text": [
            "Python 3.11.12\n"
          ]
        }
      ],
      "source": [
        "!python --version"
      ]
    },
    {
      "cell_type": "code",
      "execution_count": 4,
      "metadata": {
        "colab": {
          "base_uri": "https://localhost:8080/"
        },
        "collapsed": true,
        "id": "gCEljB6pfKjs",
        "outputId": "ae1a07b4-33d5-4925-d75b-97235c7a2fd7"
      },
      "outputs": [
        {
          "name": "stdout",
          "output_type": "stream",
          "text": [
            "Cloning into 'PyHealth'...\n",
            "remote: Enumerating objects: 8749, done.\u001b[K\n",
            "remote: Counting objects: 100% (1532/1532), done.\u001b[K\n",
            "remote: Compressing objects: 100% (515/515), done.\u001b[K\n",
            "remote: Total 8749 (delta 1238), reused 1036 (delta 1017), pack-reused 7217 (from 2)\u001b[K\n",
            "Receiving objects: 100% (8749/8749), 123.52 MiB | 9.50 MiB/s, done.\n",
            "Resolving deltas: 100% (5692/5692), done.\n"
          ]
        }
      ],
      "source": [
        "!rm -rf PyHealth\n",
        "!git clone https://github.com/sunlabuiuc/PyHealth.git\n",
        "\n",
        "import sys\n",
        "sys.path.append(\"./PyHealth\")"
      ]
    },
    {
      "cell_type": "code",
      "execution_count": 5,
      "metadata": {
        "id": "sDw8zaaLf_Bp"
      },
      "outputs": [],
      "source": []
    },
    {
      "cell_type": "code",
      "execution_count": 5,
      "metadata": {
        "colab": {
          "base_uri": "https://localhost:8080/"
        },
        "id": "C3ocuUieurFG",
        "outputId": "42e24bd1-6503-4ebc-d9c8-1d4246044ad9"
      },
      "outputs": [
        {
          "name": "stdout",
          "output_type": "stream",
          "text": [
            "/content/drive/My Drive/CS598DLH/DREAMT_FE\n"
          ]
        }
      ],
      "source": [
        "%cd \"/content/drive/My Drive/CS598DLH/DREAMT_FE\""
      ]
    },
    {
      "cell_type": "code",
      "execution_count": null,
      "metadata": {
        "id": "bU77vd4LiJLS"
      },
      "outputs": [],
      "source": []
    },
    {
      "cell_type": "markdown",
      "metadata": {
        "id": "lWXGGb9HuMWy"
      },
      "source": [
        "# Generate an aggregated combined domain features for all patients\n",
        "\n",
        "\n"
      ]
    },
    {
      "cell_type": "code",
      "execution_count": 24,
      "metadata": {
        "colab": {
          "base_uri": "https://localhost:8080/"
        },
        "collapsed": true,
        "id": "9rvortEeSLg1",
        "outputId": "205821d3-d8cf-4107-e5ca-de0b391d77f1"
      },
      "outputs": [
        {
          "name": "stdout",
          "output_type": "stream",
          "text": [
            "['S002', 'S003', 'S004', 'S005', 'S006', 'S007', 'S008', 'S009', 'S010', 'S011', 'S012', 'S013', 'S014', 'S015', 'S016', 'S017', 'S018', 'S019', 'S020', 'S021', 'S022', 'S023', 'S024', 'S025', 'S026', 'S027', 'S028', 'S029', 'S030', 'S031', 'S032', 'S033', 'S034', 'S035', 'S036', 'S037', 'S038', 'S039', 'S040', 'S042', 'S043', 'S044', 'S045', 'S046', 'S047', 'S048', 'S049', 'S050', 'S051', 'S052', 'S053', 'S054', 'S055', 'S056', 'S057', 'S058', 'S059', 'S061', 'S062', 'S063', 'S064', 'S065', 'S066', 'S067', 'S068', 'S069', 'S070', 'S071', 'S072', 'S073', 'S074', 'S075', 'S076', 'S077', 'S078', 'S079', 'S080', 'S081', 'S082', 'S083', 'S084', 'S085', 'S086', 'S087', 'S088', 'S089', 'S090', 'S091', 'S092', 'S093', 'S094', 'S095', 'S096', 'S097', 'S098', 'S099', 'S100', 'S101', 'S102', 'S103']\n"
          ]
        },
        {
          "name": "stderr",
          "output_type": "stream",
          "text": [
            "Processing raw data: 100%|██████████| 100/100 [00:06<00:00, 15.47it/s]\n"
          ]
        },
        {
          "name": "stdout",
          "output_type": "stream",
          "text": [
            "['PPG_Rate_Mean', 'HRV_SDNN', 'HRV_MadNN', 'HRV_SDRMSSD', 'HRV_Prc20NN', 'HRV_Prc80NN', 'HRV_pNN50', 'HRV_MinNN', 'HRV_MaxNN', 'HRV_HTI', 'HRV_TINN', 'HRV_HF', 'HRV_VHF', 'HRV_HFn', 'HRV_SD1SD2', 'HRV_S', 'HRV_CVI', 'HRV_CSI_Modified', 'HRV_PIP', 'HRV_IALS', 'HRV_PSS', 'HRV_PAS', 'HRV_GI', 'HRV_PI', 'HRV_C1d', 'HRV_C2d', 'HRV_Cd', 'HRV_DFA_alpha1', 'HRV_MFDFA_alpha1_Width', 'HRV_MFDFA_alpha1_Peak', 'HRV_MFDFA_alpha1_Mean', 'HRV_MFDFA_alpha1_Max', 'HRV_MFDFA_alpha1_Delta', 'HRV_MFDFA_alpha1_Asymmetry', 'HRV_MFDFA_alpha1_Fluctuation', 'HRV_ApEn', 'HRV_ShanEn', 'HRV_FuzzyEn', 'HRV_CD', 'HRV_HFD', 'HRV_KFD', 'HRV_LZC', 'total_power', 'normalized_power', 'HF_frequency_power', 'LF_frequency_peak', 'HF_frequency_peak', 'HR_mean', 'HR_max', 'HR_min', 'BVP_mean', 'BVP_median', 'BVP_max', 'BVP_std', 'ACC_X_trimmed_mean', 'ACC_X_trimmed_max', 'ACC_Y_trimmed_mean', 'ACC_Z_trimmed_mean', 'ACC_X_MAD_trimmed_IQR', 'ACC_INDEX', 'TEMP_mean', 'TEMP_std', 'mean_SCR_Height', 'mean_SCR_RiseTime', 'max_SCR_RiseTime', 'mean_SCR_RecoveryTime', 'max_SCR_RecoveryTime', 'timestamp_start', 'circadian_cosine', 'circadian_decay', 'circadian_linear', 'rolling_var_PPG_Rate_Mean', 'rolling_var_HRV_MeanNN', 'rolling_var_HRV_SDNN', 'rolling_var_HRV_CVNN', 'rolling_var_HRV_MedianNN', 'rolling_var_HRV_MadNN', 'rolling_var_HRV_IQRNN', 'rolling_var_HRV_SDRMSSD', 'rolling_var_HRV_Prc20NN', 'rolling_var_HRV_Prc80NN', 'rolling_var_HRV_pNN50', 'rolling_var_HRV_pNN20', 'rolling_var_HRV_MinNN', 'rolling_var_HRV_HTI', 'rolling_var_HRV_TINN', 'rolling_var_HRV_HF', 'rolling_var_HRV_VHF', 'rolling_var_HRV_HFn', 'rolling_var_HRV_LnHF', 'rolling_var_HRV_SD1SD2', 'rolling_var_HRV_S', 'rolling_var_HRV_CVI', 'rolling_var_HRV_CSI_Modified', 'rolling_var_HRV_PIP', 'rolling_var_HRV_IALS', 'rolling_var_HRV_PSS', 'rolling_var_HRV_PAS', 'rolling_var_HRV_GI', 'rolling_var_HRV_PI', 'rolling_var_HRV_C1d', 'rolling_var_HRV_C2d', 'rolling_var_HRV_Cd', 'rolling_var_HRV_DFA_alpha1', 'rolling_var_HRV_MFDFA_alpha1_Width', 'rolling_var_HRV_MFDFA_alpha1_Peak', 'rolling_var_HRV_MFDFA_alpha1_Mean', 'rolling_var_HRV_MFDFA_alpha1_Max', 'rolling_var_HRV_MFDFA_alpha1_Delta', 'rolling_var_HRV_MFDFA_alpha1_Asymmetry', 'rolling_var_HRV_MFDFA_alpha1_Fluctuation', 'rolling_var_HRV_ApEn', 'rolling_var_HRV_SampEn', 'rolling_var_HRV_ShanEn', 'rolling_var_HRV_FuzzyEn', 'rolling_var_HRV_CD', 'rolling_var_HRV_HFD', 'rolling_var_HRV_KFD', 'rolling_var_HRV_LZC', 'rolling_var_total_power', 'rolling_var_normalized_power', 'rolling_var_HF_frequency_power', 'rolling_var_LF_frequency_peak', 'rolling_var_HF_frequency_peak', 'rolling_var_HR_mean', 'rolling_var_HR_median', 'rolling_var_HR_max', 'rolling_var_HR_min', 'rolling_var_HR_std', 'rolling_var_BVP_mean', 'rolling_var_BVP_median', 'rolling_var_BVP_max', 'rolling_var_BVP_min', 'rolling_var_BVP_std', 'rolling_var_ACC_X_trimmed_mean', 'rolling_var_ACC_X_trimmed_max', 'rolling_var_ACC_X_trimmed_IQR', 'rolling_var_ACC_Y_trimmed_mean', 'rolling_var_ACC_Y_trimmed_max', 'rolling_var_ACC_Z_trimmed_mean', 'rolling_var_ACC_X_MAD_trimmed_max', 'rolling_var_ACC_X_MAD_trimmed_IQR', 'rolling_var_ACC_Y_MAD_trimmed_max', 'rolling_var_ACC_Y_MAD_trimmed_IQR', 'rolling_var_ACC_Z_MAD_trimmed_max', 'rolling_var_ACC_Z_MAD_trimmed_IQR', 'rolling_var_TEMP_mean', 'rolling_var_TEMP_std', 'rolling_var_mean_SCR_Height', 'rolling_var_mean_SCR_RiseTime', 'rolling_var_max_SCR_RiseTime', 'rolling_var_mean_SCR_RecoveryTime', 'rolling_var_max_SCR_RecoveryTime', 'gaussian_PPG_Rate_Mean', 'gaussian_HRV_MeanNN', 'gaussian_HRV_SDNN', 'gaussian_HRV_SDRMSSD', 'gaussian_HRV_Prc20NN', 'gaussian_HRV_Prc80NN', 'gaussian_HRV_pNN50', 'gaussian_HRV_MinNN', 'gaussian_HRV_TINN', 'gaussian_HRV_HF', 'gaussian_HRV_VHF', 'gaussian_HRV_HFn', 'gaussian_HRV_SD1SD2', 'gaussian_HRV_S', 'gaussian_HRV_PIP', 'gaussian_HRV_PSS', 'gaussian_HRV_GI', 'gaussian_HRV_PI', 'gaussian_HRV_C1d', 'gaussian_HRV_C1a', 'gaussian_HRV_C2d', 'gaussian_HRV_C2a', 'gaussian_HRV_Cd', 'gaussian_HRV_Ca', 'gaussian_HRV_DFA_alpha1', 'gaussian_HRV_MFDFA_alpha1_Width', 'gaussian_HRV_MFDFA_alpha1_Peak', 'gaussian_HRV_MFDFA_alpha1_Mean', 'gaussian_HRV_MFDFA_alpha1_Max', 'gaussian_HRV_MFDFA_alpha1_Delta', 'gaussian_HRV_MFDFA_alpha1_Asymmetry', 'gaussian_HRV_MFDFA_alpha1_Fluctuation', 'gaussian_HRV_ApEn', 'gaussian_HRV_FuzzyEn', 'gaussian_HRV_HFD', 'gaussian_HRV_KFD', 'gaussian_HRV_LZC', 'gaussian_total_power', 'gaussian_normalized_power', 'gaussian_HF_frequency_power', 'gaussian_LF_frequency_peak', 'gaussian_HF_frequency_peak', 'gaussian_HR_mean', 'gaussian_HR_max', 'gaussian_HR_min', 'gaussian_BVP_mean', 'gaussian_BVP_max', 'gaussian_BVP_std', 'gaussian_ACC_X_trimmed_mean', 'gaussian_ACC_X_trimmed_max', 'gaussian_ACC_Y_trimmed_mean', 'gaussian_ACC_Z_trimmed_mean', 'gaussian_TEMP_mean', 'gaussian_TEMP_std', 'gaussian_mean_SCR_Height', 'gaussian_mean_SCR_RiseTime', 'gaussian_max_SCR_RiseTime', 'gaussian_mean_SCR_RecoveryTime', 'gaussian_max_SCR_RecoveryTime', 'gaussian_PPG_Rate_Mean_1st_derivative', 'raw_PPG_Rate_Mean_1st_derivative', 'gaussian_HRV_MeanNN_1st_derivative', 'gaussian_HRV_SDNN_1st_derivative', 'raw_HRV_SDNN_1st_derivative', 'raw_HRV_MedianNN_1st_derivative', 'gaussian_HRV_MadNN_1st_derivative', 'raw_HRV_MadNN_1st_derivative', 'raw_HRV_IQRNN_1st_derivative', 'gaussian_HRV_SDRMSSD_1st_derivative', 'raw_HRV_SDRMSSD_1st_derivative', 'gaussian_HRV_Prc20NN_1st_derivative', 'raw_HRV_Prc20NN_1st_derivative', 'gaussian_HRV_Prc80NN_1st_derivative', 'raw_HRV_Prc80NN_1st_derivative', 'gaussian_HRV_pNN50_1st_derivative', 'raw_HRV_pNN50_1st_derivative', 'gaussian_HRV_pNN20_1st_derivative', 'raw_HRV_pNN20_1st_derivative', 'gaussian_HRV_MinNN_1st_derivative', 'raw_HRV_MinNN_1st_derivative', 'gaussian_HRV_MaxNN_1st_derivative', 'raw_HRV_MaxNN_1st_derivative', 'gaussian_HRV_HTI_1st_derivative', 'raw_HRV_HTI_1st_derivative', 'gaussian_HRV_TINN_1st_derivative', 'raw_HRV_TINN_1st_derivative', 'gaussian_HRV_HF_1st_derivative', 'raw_HRV_HF_1st_derivative', 'gaussian_HRV_VHF_1st_derivative', 'raw_HRV_VHF_1st_derivative', 'gaussian_HRV_HFn_1st_derivative', 'raw_HRV_HFn_1st_derivative', 'gaussian_HRV_LnHF_1st_derivative', 'raw_HRV_LnHF_1st_derivative', 'gaussian_HRV_SD1SD2_1st_derivative', 'raw_HRV_SD1SD2_1st_derivative', 'gaussian_HRV_S_1st_derivative', 'raw_HRV_S_1st_derivative', 'gaussian_HRV_CVI_1st_derivative', 'raw_HRV_CVI_1st_derivative', 'gaussian_HRV_CSI_Modified_1st_derivative', 'raw_HRV_CSI_Modified_1st_derivative', 'gaussian_HRV_PIP_1st_derivative', 'raw_HRV_PIP_1st_derivative', 'raw_HRV_IALS_1st_derivative', 'gaussian_HRV_PSS_1st_derivative', 'raw_HRV_PSS_1st_derivative', 'gaussian_HRV_PAS_1st_derivative', 'raw_HRV_PAS_1st_derivative', 'gaussian_HRV_GI_1st_derivative', 'raw_HRV_GI_1st_derivative', 'gaussian_HRV_PI_1st_derivative', 'raw_HRV_PI_1st_derivative', 'gaussian_HRV_C1d_1st_derivative', 'raw_HRV_C1d_1st_derivative', 'gaussian_HRV_C1a_1st_derivative', 'gaussian_HRV_C2d_1st_derivative', 'raw_HRV_C2d_1st_derivative', 'gaussian_HRV_C2a_1st_derivative', 'gaussian_HRV_Cd_1st_derivative', 'raw_HRV_Cd_1st_derivative', 'gaussian_HRV_Ca_1st_derivative', 'gaussian_HRV_DFA_alpha1_1st_derivative', 'raw_HRV_DFA_alpha1_1st_derivative', 'gaussian_HRV_MFDFA_alpha1_Width_1st_derivative', 'raw_HRV_MFDFA_alpha1_Width_1st_derivative', 'gaussian_HRV_MFDFA_alpha1_Peak_1st_derivative', 'raw_HRV_MFDFA_alpha1_Peak_1st_derivative', 'gaussian_HRV_MFDFA_alpha1_Mean_1st_derivative', 'raw_HRV_MFDFA_alpha1_Mean_1st_derivative', 'gaussian_HRV_MFDFA_alpha1_Max_1st_derivative', 'raw_HRV_MFDFA_alpha1_Max_1st_derivative', 'gaussian_HRV_MFDFA_alpha1_Delta_1st_derivative', 'raw_HRV_MFDFA_alpha1_Delta_1st_derivative', 'gaussian_HRV_MFDFA_alpha1_Asymmetry_1st_derivative', 'raw_HRV_MFDFA_alpha1_Asymmetry_1st_derivative', 'gaussian_HRV_MFDFA_alpha1_Fluctuation_1st_derivative', 'raw_HRV_MFDFA_alpha1_Fluctuation_1st_derivative', 'gaussian_HRV_ApEn_1st_derivative', 'raw_HRV_ApEn_1st_derivative', 'raw_HRV_ShanEn_1st_derivative', 'gaussian_HRV_FuzzyEn_1st_derivative', 'raw_HRV_FuzzyEn_1st_derivative', 'gaussian_HRV_CD_1st_derivative', 'raw_HRV_CD_1st_derivative', 'gaussian_HRV_HFD_1st_derivative', 'raw_HRV_HFD_1st_derivative', 'gaussian_HRV_KFD_1st_derivative', 'raw_HRV_KFD_1st_derivative', 'gaussian_HRV_LZC_1st_derivative', 'raw_HRV_LZC_1st_derivative', 'gaussian_total_power_1st_derivative', 'raw_total_power_1st_derivative', 'gaussian_normalized_power_1st_derivative', 'raw_normalized_power_1st_derivative', 'gaussian_LF_frequency_peak_1st_derivative', 'raw_LF_frequency_peak_1st_derivative', 'gaussian_HF_frequency_peak_1st_derivative', 'raw_HF_frequency_peak_1st_derivative', 'gaussian_HR_mean_1st_derivative', 'raw_HR_mean_1st_derivative', 'raw_HR_median_1st_derivative', 'gaussian_HR_max_1st_derivative', 'raw_HR_max_1st_derivative', 'gaussian_HR_min_1st_derivative', 'raw_HR_min_1st_derivative', 'gaussian_BVP_mean_1st_derivative', 'raw_BVP_mean_1st_derivative', 'gaussian_BVP_median_1st_derivative', 'raw_BVP_median_1st_derivative', 'gaussian_BVP_max_1st_derivative', 'raw_BVP_max_1st_derivative', 'raw_BVP_min_1st_derivative', 'gaussian_BVP_std_1st_derivative', 'raw_BVP_std_1st_derivative', 'gaussian_ACC_X_trimmed_mean_1st_derivative', 'raw_ACC_X_trimmed_mean_1st_derivative', 'gaussian_ACC_X_trimmed_max_1st_derivative', 'raw_ACC_X_trimmed_max_1st_derivative', 'raw_ACC_X_trimmed_IQR_1st_derivative', 'gaussian_ACC_Y_trimmed_mean_1st_derivative', 'raw_ACC_Y_trimmed_mean_1st_derivative', 'gaussian_ACC_Y_trimmed_max_1st_derivative', 'raw_ACC_Y_trimmed_max_1st_derivative', 'raw_ACC_Y_trimmed_IQR_1st_derivative', 'gaussian_ACC_Z_trimmed_mean_1st_derivative', 'raw_ACC_Z_trimmed_mean_1st_derivative', 'raw_ACC_X_MAD_trimmed_max_1st_derivative', 'gaussian_ACC_X_MAD_trimmed_IQR_1st_derivative', 'raw_ACC_X_MAD_trimmed_IQR_1st_derivative', 'raw_ACC_Y_MAD_trimmed_max_1st_derivative', 'raw_ACC_Y_MAD_trimmed_IQR_1st_derivative', 'gaussian_TEMP_mean_1st_derivative', 'raw_TEMP_mean_1st_derivative', 'raw_TEMP_max_1st_derivative', 'raw_TEMP_min_1st_derivative', 'gaussian_TEMP_std_1st_derivative', 'raw_TEMP_std_1st_derivative', 'gaussian_mean_SCR_Height_1st_derivative', 'raw_mean_SCR_Height_1st_derivative', 'gaussian_mean_SCR_RiseTime_1st_derivative', 'raw_mean_SCR_RiseTime_1st_derivative', 'gaussian_max_SCR_RiseTime_1st_derivative', 'raw_max_SCR_RiseTime_1st_derivative', 'gaussian_mean_SCR_RecoveryTime_1st_derivative', 'raw_mean_SCR_RecoveryTime_1st_derivative', 'gaussian_max_SCR_RecoveryTime_1st_derivative', 'raw_max_SCR_RecoveryTime_1st_derivative', 'AHI_Severity', 'Obesity', 'Sleep_Stage', 'Obstructive_Apnea', 'Central_Apnea', 'Hypopnea', 'Multiple_Events', 'artifact', 'sid', 'BMI']\n"
          ]
        }
      ],
      "source": [
        "import os\n",
        "import random\n",
        "import numpy as np\n",
        "import pandas as pd\n",
        "from tqdm import tqdm\n",
        "import torch\n",
        "\n",
        "# Import your original functions\n",
        "from datasets import *\n",
        "from feature_engineering import *\n",
        "\n",
        "root = \"dataset_sample/E4_aggregate_subsample\"\n",
        "info_dir = \"dataset_sample/participant_info.csv\"\n",
        "feature_df_dir = \"dataset_sample/features_df/\"\n",
        "threshold = 0.2\n",
        "\n",
        "# Get subject IDs\n",
        "all_sids = pd.read_csv(info_dir).SID.to_list()\n",
        "print(all_sids)\n",
        "\n",
        "for sid in tqdm(all_sids, desc=\"Processing raw data\"):\n",
        "    domain_features_df = pd.read_csv(os.path.join(feature_df_dir, f\"{sid}_domain_features_df.csv\"))\n",
        "\n",
        "# Run the original data_preparation pipeline on processed files\n",
        "quality_df_dir = \"results/quality_scores_per_subject.csv\"\n",
        "clean_df, new_features, good_quality_sids = data_preparation(\n",
        "    threshold=threshold,\n",
        "    quality_df_dir=quality_df_dir,\n",
        "    features_dir=feature_df_dir,\n",
        "    info_dir=info_dir\n",
        ")\n",
        "SW_df, final_features = split_data(clean_df, good_quality_sids, new_features)\n",
        "print(SW_df.columns.to_list())\n",
        "\n",
        "SW_df = SW_df.rename(columns={\n",
        "    'HRV_CD': 'HRV_CD_UPPER',\n",
        "    'HRV_Cd': 'HRV_Cd_MIXED',\n",
        "    'rolling_var_HRV_CD': 'rolling_var_HRV_CD_UPPER',\n",
        "    'rolling_var_HRV_Cd': 'rolling_var_HRV_Cd_MIXED',\n",
        "    'gaussian_HRV_Cd_1st_derivative': 'gaussian_HRV_Cd_1st_derivative_MIXED',\n",
        "    'gaussian_HRV_CD_1st_derivative': 'gaussian_HRV_CD_1st_derivative_UPPER',\n",
        "    'raw_HRV_CD_1st_derivative': 'raw_HRV_CD_1st_derivative_UPPER',\n",
        "    'raw_HRV_Cd_1st_derivative': 'raw_HRV_Cd_1st_derivative_MIXED'\n",
        "})\n",
        "\n",
        "SW_df['timestamp_start'] = pd.to_datetime(SW_df['timestamp_start'], unit='s')\n",
        "SW_df.to_csv('dataset_sample/all_patients_domain_features.csv', index=False)\n"
      ]
    },
    {
      "cell_type": "markdown",
      "metadata": {
        "id": "4rB5SX4qujpX"
      },
      "source": [
        "# Create a Pyhealth Classification Task"
      ]
    },
    {
      "cell_type": "code",
      "execution_count": 13,
      "metadata": {
        "id": "XZcLjLY0thOv"
      },
      "outputs": [],
      "source": [
        "from typing import Any, Dict, List\n",
        "import torch\n",
        "\n",
        "from pyhealth.tasks.base_task import BaseTask\n",
        "import numpy as np\n",
        "\n",
        "\n",
        "class DREAMTE4SleepingStageClassification(BaseTask):\n",
        "    \"\"\"A task for classifying sleep stages from physiological signals.\n",
        "\n",
        "    This task processes wearable device (E4) data to classify sleep stages (Sleep pr Wake)\n",
        "    using extracted physiological features. It expects sequential physiological measurements\n",
        "    and returns corresponding sleep stage labels.\n",
        "\n",
        "    Attributes:\n",
        "        task_name (str): The name of the task, set to \"DREAMTClassification\".\n",
        "        input_schema (Dict[str, str]): The input schema specifying the required\n",
        "            input format. Contains:\n",
        "            - \"features\": \"ndarray\" (physiological features as numpy array)\n",
        "        output_schema (Dict[str, str]): The output schema specifying the output\n",
        "            format. Contains:\n",
        "            - \"label\": \"binary\" (sleep stage classification label)\n",
        "\n",
        "    Note:\n",
        "        - Input features include HRV, movement, and other physiological metrics\n",
        "        - Sleep stages are mapped as: \"P\": 1, \"N\": 0, \"R\": 0, \"W\": 1, \"Missing\": np.nan\n",
        "        - Each sample represents a 30-second epoch of sleep data\n",
        "    \"\"\"\n",
        "\n",
        "    task_name: str = \"DREAMTE4SleepingStageClassification\"\n",
        "    input_schema: Dict[str, str] = {\"features\": \"text\"}\n",
        "    output_schema: Dict[str, str] = {\"label\": \"binary\"}\n",
        "\n",
        "    def __call__(self, patient: Any) -> List[Dict[str, Any]]:\n",
        "        \"\"\"Process a patient's physiological data to classify sleep stages.\n",
        "\n",
        "        Args:\n",
        "            patient: A patient object containing physiological recordings and\n",
        "                sleep stage annotations. Expected to have events of type\n",
        "                \"dreams_features\" containing:\n",
        "                - sid: Subject ID\n",
        "                - Sleep_Stage: Annotated sleep stage\n",
        "                - Various physiological features (HRV metrics, movement, etc.)\n",
        "                - Respiratory event markers\n",
        "                - Demographic information\n",
        "\n",
        "        Returns:\n",
        "            List[Dict[str, Any]]: A list of dictionaries, each containing:\n",
        "                - \"patient_id\": Unique patient identifier\n",
        "                - \"features\": Physiological features as numpy array (shape 1×N)\n",
        "                - \"label\": Sleep stage classification 0 or 1\n",
        "\n",
        "        \"\"\"\n",
        "        samples = []\n",
        "        cols_to_remove = [\n",
        "            \"sid\", \"Sleep_Stage\", \"Central_Apnea\", \"Obstructive_Apnea\",\n",
        "            \"Multiple_Events\", \"Hypopnea\", 'AHI_Severity', 'Obesity',\n",
        "            'BMI', \"circadian_decay\", \"circadian_linear\", \"circadian_cosine\",\n",
        "            \"timestamp_start\"\n",
        "        ]\n",
        "\n",
        "        records = patient.get_events(event_type=\"dreamt_features\")\n",
        "        for record in records:\n",
        "            attr = record.attr_dict\n",
        "            features = [float(v) for k, v in attr.items() if k not in cols_to_remove]\n",
        "            values = np.array(features).reshape(1, -1)\n",
        "\n",
        "            sample = {\n",
        "                \"patient_id\": patient.patient_id[0],\n",
        "                \"features\": self.toTensor(values),\n",
        "                \"label\": int(float(attr[\"Sleep_Stage\"])),\n",
        "            }\n",
        "            samples.append(sample)\n",
        "\n",
        "        return samples\n",
        "\n",
        "\n",
        "    def toTensor(self, value: Any) -> torch.Tensor:\n",
        "      if isinstance(value, torch.Tensor):\n",
        "          return value.float()\n",
        "      try:\n",
        "          # Convert to numpy array if not already\n",
        "          if not isinstance(value, np.ndarray):\n",
        "              value = np.array(value, dtype=np.float32)\n",
        "\n",
        "          # Ensure numerical dtype\n",
        "          if not np.issubdtype(value.dtype, np.number):\n",
        "              value = value.astype(np.float32)\n",
        "\n",
        "          return torch.from_numpy(value).float()\n",
        "      except Exception as e:\n",
        "            raise ValueError(f\"Cannot convert input to tensor: {value}\") from e\n",
        "\n"
      ]
    },
    {
      "cell_type": "markdown",
      "metadata": {
        "id": "XYbWitvPupq9"
      },
      "source": [
        "# Create a Pyhealth Dataset"
      ]
    },
    {
      "cell_type": "code",
      "execution_count": 14,
      "metadata": {
        "colab": {
          "base_uri": "https://localhost:8080/"
        },
        "id": "32rpFjsL4XdJ",
        "outputId": "d4e7a857-28e3-4917-b66e-670313b77b93"
      },
      "outputs": [
        {
          "name": "stdout",
          "output_type": "stream",
          "text": [
            "Initializing dreamt dataset from dataset_sample\n"
          ]
        },
        {
          "name": "stderr",
          "output_type": "stream",
          "text": [
            "INFO:pyhealth.datasets.base_dataset:Initializing dreamt dataset from dataset_sample\n"
          ]
        },
        {
          "name": "stdout",
          "output_type": "stream",
          "text": [
            "Scanning table: dreamt_features from dataset_sample/all_patients_domain_features.csv\n"
          ]
        },
        {
          "name": "stderr",
          "output_type": "stream",
          "text": [
            "INFO:pyhealth.datasets.base_dataset:Scanning table: dreamt_features from dataset_sample/all_patients_domain_features.csv\n"
          ]
        }
      ],
      "source": [
        "import logging\n",
        "import os\n",
        "from pathlib import Path\n",
        "from typing import Optional\n",
        "\n",
        "import pandas as pd\n",
        "\n",
        "# from pyhealth.tasks import DREAMTE4SleepingStageClassification\n",
        "from pyhealth.datasets import BaseDataset, SampleDataset\n",
        "# Import your original functions\n",
        "from datasets import *\n",
        "from feature_engineering import *\n",
        "\n",
        "logger = logging.getLogger(__name__)\n",
        "\n",
        "\n",
        "class DREAMTE4Dataset(BaseDataset):\n",
        "    \"\"\"Base dataset for the DREAMT sleep study dataset.\n",
        "\n",
        "    The DREAMT dataset contains polysomnography recordings with sleep stage annotations\n",
        "    and respiratory event information. This dataset is designed for sleep stage\n",
        "    classification tasks using physiological signals.\n",
        "\n",
        "    Dataset is available at:\n",
        "    https://physionet.org/content/dreamt/1.0.0/\n",
        "\n",
        "    Data Description:\n",
        "    ----------------\n",
        "    - Contains polysomnography recordings from sleep studies\n",
        "    - Includes sleep stage annotations (0-4 corresponding to W, N1, N2, N3, REM)\n",
        "    - Provides respiratory event information (apneas, hypopneas)\n",
        "    - Contains derived physiological features for each 30-second epoch\n",
        "    - Includes demographic and clinical information (BMI, AHI severity)\n",
        "\n",
        "    Paper:\n",
        "    Addressing Wearable Sleep Tracking Inequity: A New Dataset and Novel Methods for a Population with Sleep Disorders\n",
        "    https://raw.githubusercontent.com/mlresearch/v248/main/assets/wang24a/wang24a.pdf\n",
        "\n",
        "    References:\n",
        "    ----------\n",
        "    [1] https://onlinelibrary.wiley.com/doi/abs/10.1002/0471751723.ch1.\n",
        "    [2] https://www.ncbi.nlm.nih.gov/pmc/articles/PMC3817449/.\n",
        "    [3] https://www.ncbi.nlm.nih.gov/pmc/articles/PMC4400203/.\n",
        "    [4] https://my.clevelandclinic.org/health/articles/11429-common-sleep-disorders.\n",
        "    [5] https://www.nature.com/articles/s41746-020-0244-4.\n",
        "    [6] https://www.ncbi.nlm.nih.gov/pmc/articles/PMC5624990/.\n",
        "    [7] https://github.com/armiro/COVID-CXNet\n",
        "    [8] https://www.kaggle.com/c/rsna-pneumonia-detection-challenge/data\n",
        "    [9] https://www.kaggle.com/paultimothymooney/chest-xray-pneumonia\n",
        "\n",
        "    Args:\n",
        "        root: Root directory containing the dataset files.\n",
        "        tables: List of tables to load (default: [\"dreams_features\"]).\n",
        "        dataset_name: Optional name of the dataset. Defaults to \"dreamt\".\n",
        "        config_path: Optional path to the configuration file. If not provided,\n",
        "            uses \"dreamt.yaml\" as default.\n",
        "\n",
        "    Attributes:\n",
        "        root: Root directory of the dataset.\n",
        "        tables: List of loaded tables.\n",
        "        dataset_name: Name of the dataset.\n",
        "        config_path: Path to the configuration file.\n",
        "        patients: Dictionary of processed patient records containing:\n",
        "            - patient_id: Unique patient identifier\n",
        "            - records: List of sleep epochs with:\n",
        "                * record_id: Unique epoch identifier\n",
        "                * features: Physiological features (numpy array)\n",
        "                * label: Sleep stage (0-4)\n",
        "\n",
        "    Examples:\n",
        "        >>> from pyhealth.datasets import DreamtDataset\n",
        "        >>> dataset = DreamtDataset(\n",
        "        ...     root=\"/path/to/dreamt_data\"\n",
        "        ... )\n",
        "        >>> dataset.stat()\n",
        "        >>> samples = dataset.set_task()\n",
        "        >>> print(samples[0])\n",
        "\n",
        "    Note:\n",
        "        The dataset requires pre-processed feature files in CSV format containing:\n",
        "        - sid: Patient/study identifier\n",
        "        - Sleep_Stage: Annotated sleep stage (0-4)\n",
        "        - Various physiological features\n",
        "        - Respiratory event markers\n",
        "        - Demographic information\n",
        "    \"\"\"\n",
        "\n",
        "    def __init__(\n",
        "        self,\n",
        "        root: str,\n",
        "        dataset_name: Optional[str] = None,\n",
        "        config_path: Optional[str] = None,\n",
        "    ) -> None:\n",
        "        if config_path is None:\n",
        "            logger.info(\"No config path provided, using default config\")\n",
        "            config_path = \"dreamt.yaml\"\n",
        "        if not os.path.exists(os.path.join(root, \"all_patients_domain_features.csv\")):\n",
        "          self.prepare_metadata(root)\n",
        "        default_tables = [\"dreamt_features\"]\n",
        "        super().__init__(\n",
        "            root=root,\n",
        "            tables=default_tables,\n",
        "            dataset_name=dataset_name or \"dreamt\",\n",
        "            config_path=config_path,\n",
        "        )\n",
        "        # self.patients = self.process()\n",
        "        return\n",
        "\n",
        "\n",
        "    def prepare_metadata(self, root: str) -> None:\n",
        "        \"\"\"Prepare metadata for the DREAMT dataset by:\n",
        "        1. Loading raw feature files\n",
        "        2. Applying quality threshold 0.2\n",
        "        3. Processing and renaming features\n",
        "        4. Saving combined metadata to CSV\n",
        "\n",
        "        Args:\n",
        "            root: Root directory containing the dataset files.\n",
        "        \"\"\"\n",
        "        # Set paths\n",
        "        info_dir = os.path.join(root, \"participant_info.csv\")\n",
        "        feature_df_dir = os.path.join(root, \"features_df/\")\n",
        "        quality_df_dir = os.path.join(root, \"quality_scores_per_subject.csv\")\n",
        "        data_folder = os.path.join(root,\"E4_aggregate_subsample\")\n",
        "\n",
        "        # Get subject IDs\n",
        "        all_sids = pd.read_csv(info_dir).SID.to_list()\n",
        "        logger.info(f\"Found {len(all_sids)} subjects in participant info\")\n",
        "\n",
        "        # Extract and aggregated domain features for E4 data\n",
        "        for sid in all_sids:\n",
        "            print(sid)\n",
        "            try:\n",
        "                # print(data_folder)\n",
        "                extract_domain_features(\n",
        "                    sid, data_folder=data_folder, segment_seconds=30, save_folder_dir= feature_df_dir\n",
        "                )\n",
        "            except:\n",
        "                print(\"ERROR\")\n",
        "\n",
        "        # Verify feature files exist\n",
        "        for sid in all_sids:\n",
        "            feature_file = os.path.join(feature_df_dir, f\"{sid}_domain_features_df.csv\")\n",
        "            if not os.path.exists(feature_file):\n",
        "                logger.warning(f\"Missing feature file for subject {sid}\")\n",
        "\n",
        "        # Calculate quality score for each participant\n",
        "        self.calculate_qaulity_score(root, feature_df_dir)\n",
        "\n",
        "        # Run data preparation pipeline\n",
        "        logger.info(\"Processing raw data with quality threshold 0.2\")\n",
        "        clean_df, new_features, good_quality_sids = data_preparation(\n",
        "            threshold=0.2,\n",
        "            quality_df_dir=quality_df_dir,\n",
        "            features_dir=feature_df_dir,\n",
        "            info_dir=info_dir\n",
        "        )\n",
        "\n",
        "        # Split and process data\n",
        "        SW_df, final_features = split_data(clean_df, good_quality_sids, new_features)\n",
        "        logger.info(f\"Processed data with {len(SW_df)} records\")\n",
        "\n",
        "        # Rename columns for consistency\n",
        "        SW_df = SW_df.rename(columns={\n",
        "            'HRV_CD': 'HRV_CD_UPPER',\n",
        "            'HRV_Cd': 'HRV_Cd_MIXED',\n",
        "            'rolling_var_HRV_CD': 'rolling_var_HRV_CD_UPPER',\n",
        "            'rolling_var_HRV_Cd': 'rolling_var_HRV_Cd_MIXED',\n",
        "            'gaussian_HRV_Cd_1st_derivative': 'gaussian_HRV_Cd_1st_derivative_MIXED',\n",
        "            'gaussian_HRV_CD_1st_derivative': 'gaussian_HRV_CD_1st_derivative_UPPER',\n",
        "            'raw_HRV_CD_1st_derivative': 'raw_HRV_CD_1st_derivative_UPPER',\n",
        "            'raw_HRV_Cd_1st_derivative': 'raw_HRV_Cd_1st_derivative_MIXED'\n",
        "        })\n",
        "\n",
        "        # Convert and save timestamp\n",
        "        SW_df['timestamp_start'] = pd.to_datetime(SW_df['timestamp_start'], unit='s')\n",
        "\n",
        "        # Save final metadata\n",
        "        output_path = os.path.join(root, \"all_patients_domain_features.csv\")\n",
        "        SW_df.to_csv(output_path, index=False)\n",
        "        logger.info(f\"Saved processed metadata to {output_path}\")\n",
        "        return\n",
        "\n",
        "    def calculate_qaulity_score(self, root, feature_df_dir):\n",
        "        \"\"\" Code used to calculate quality score of each participant\n",
        "        \"\"\"\n",
        "        files = os.listdir(feature_df_dir)\n",
        "        files.sort()\n",
        "\n",
        "        sids = []\n",
        "        total_segments = []\n",
        "        num_excludes = []\n",
        "        percentages = []\n",
        "\n",
        "        for file in files:\n",
        "            sid = file.split('_')[0]\n",
        "            file_path = str(feature_df_dir + file)\n",
        "            df = pd.read_csv(file_path)\n",
        "            segment_len = len(df)\n",
        "            segment_exclude = np.sum(df.artifact)\n",
        "            percentage = segment_exclude / segment_len\n",
        "\n",
        "            sids.append(sid)\n",
        "            total_segments.append(segment_len)\n",
        "            num_excludes.append(segment_exclude)\n",
        "            percentages.append(percentage)\n",
        "\n",
        "        qs = pd.DataFrame({'sid': sids,\n",
        "                        'total_segments': total_segments,\n",
        "                        'num_excludes': num_excludes,\n",
        "                        'percentage_excludes': percentages})\n",
        "        output_path = os.path.join(root, \"quality_scores_per_subject.csv\")\n",
        "        qs.to_csv(output_path, index=False)\n",
        "        return\n",
        "\n",
        "\n",
        "    @property\n",
        "    def default_task(self) -> DREAMTE4SleepingStageClassification:\n",
        "        \"\"\"Returns the default task for this dataset.\n",
        "\n",
        "        Returns:\n",
        "             DREAMTE4SleepingStageClassification: The default classification task.\n",
        "        \"\"\"\n",
        "        return DREAMTE4SleepingStageClassification()\n",
        "\n",
        "\n",
        "\n",
        "root = \"dataset_sample\"\n",
        "dreamt_dataset = DREAMTE4Dataset(\n",
        "    root=root\n",
        ")\n"
      ]
    },
    {
      "cell_type": "code",
      "execution_count": 14,
      "metadata": {
        "colab": {
          "base_uri": "https://localhost:8080/"
        },
        "collapsed": true,
        "id": "zv1fWGFV4054",
        "outputId": "b3a28621-88a6-4e93-db1e-7a0ecb3e2b3e"
      },
      "outputs": [
        {
          "data": {
            "text/plain": [
              "1056"
            ]
          },
          "execution_count": 14,
          "metadata": {},
          "output_type": "execute_result"
        }
      ],
      "source": [
        "len(dreamt_dataset.get_patient('S003').get_events())"
      ]
    },
    {
      "cell_type": "markdown",
      "metadata": {
        "id": "9zV0kMVyxH57"
      },
      "source": [
        "## Prepare data samples for LightGBM model"
      ]
    },
    {
      "cell_type": "code",
      "execution_count": 15,
      "metadata": {
        "colab": {
          "base_uri": "https://localhost:8080/"
        },
        "id": "eUoIGH6Ep0CX",
        "outputId": "9163b729-2e73-4ed3-f877-0df0d5bbadae"
      },
      "outputs": [
        {
          "name": "stdout",
          "output_type": "stream",
          "text": [
            "Initializing dreamt dataset from dataset_sample\n"
          ]
        },
        {
          "name": "stderr",
          "output_type": "stream",
          "text": [
            "INFO:pyhealth.datasets.base_dataset:Initializing dreamt dataset from dataset_sample\n"
          ]
        },
        {
          "name": "stdout",
          "output_type": "stream",
          "text": [
            "Scanning table: dreamt_features from dataset_sample/all_patients_domain_features.csv\n"
          ]
        },
        {
          "name": "stderr",
          "output_type": "stream",
          "text": [
            "INFO:pyhealth.datasets.base_dataset:Scanning table: dreamt_features from dataset_sample/all_patients_domain_features.csv\n"
          ]
        },
        {
          "name": "stdout",
          "output_type": "stream",
          "text": [
            "Setting task for dreamt base dataset...\n"
          ]
        },
        {
          "name": "stderr",
          "output_type": "stream",
          "text": [
            "INFO:pyhealth.datasets.base_dataset:Setting task for dreamt base dataset...\n",
            "Generating samples for DREAMTE4SleepingStageClassification: 80it [01:04,  1.24it/s]\n",
            "Processing samples: 100%|██████████| 82671/82671 [00:00<00:00, 117476.23it/s]"
          ]
        },
        {
          "name": "stdout",
          "output_type": "stream",
          "text": [
            "{'features': 'text'}\n",
            "{'label': 'binary'}\n",
            "82671\n"
          ]
        },
        {
          "name": "stderr",
          "output_type": "stream",
          "text": [
            "\n"
          ]
        }
      ],
      "source": [
        "root = \"dataset_sample\"\n",
        "dreamt_dataset = DREAMTE4Dataset(\n",
        "    root=root\n",
        ")\n",
        "\n",
        "task = DREAMTE4SleepingStageClassification()\n",
        "dreamt_samples = dreamt_dataset.set_task(task)\n",
        "print(dreamt_samples.input_schema)\n",
        "print(dreamt_samples.output_schema)\n",
        "print(len(dreamt_samples))"
      ]
    },
    {
      "cell_type": "code",
      "execution_count": 16,
      "metadata": {
        "colab": {
          "base_uri": "https://localhost:8080/"
        },
        "id": "nsqFnzp_b_s0",
        "outputId": "ed87abd4-01b8-4b96-d82f-a0c82e0008d7"
      },
      "outputs": [
        {
          "data": {
            "text/plain": [
              "['features']"
            ]
          },
          "execution_count": 16,
          "metadata": {},
          "output_type": "execute_result"
        }
      ],
      "source": [
        "list(dreamt_samples.input_schema.keys())"
      ]
    },
    {
      "cell_type": "code",
      "execution_count": 17,
      "metadata": {
        "colab": {
          "base_uri": "https://localhost:8080/"
        },
        "id": "Up_RKnoRY030",
        "outputId": "33220a9d-a16b-4ebb-f2cb-a2dfb1b29b41"
      },
      "outputs": [
        {
          "data": {
            "text/plain": [
              "{'features': 'text'}"
            ]
          },
          "execution_count": 17,
          "metadata": {},
          "output_type": "execute_result"
        }
      ],
      "source": [
        "dreamt_samples.input_schema"
      ]
    },
    {
      "cell_type": "code",
      "execution_count": 18,
      "metadata": {
        "colab": {
          "base_uri": "https://localhost:8080/"
        },
        "collapsed": true,
        "id": "x3CqNrmJBAA3",
        "outputId": "fdf2e972-8c92-4729-e23e-7f1304b84bd9"
      },
      "outputs": [
        {
          "name": "stdout",
          "output_type": "stream",
          "text": [
            "{'patient_id': 'S004', 'features': array([[ 7.37663552e+01,  2.52376767e+02,  2.31656250e+02,\n",
            "         7.17673668e-01,  5.93750000e+02,  1.07812500e+03,\n",
            "         7.71428571e+01,  5.31250000e+02,  1.26562500e+03,\n",
            "         8.75000000e+00,  6.25000000e+01,  1.24288029e-01,\n",
            "         2.57271689e-02,  8.28502917e-01,  9.83612822e-01,\n",
            "         2.03459836e+05,  6.01544880e+00,  1.04348961e+03,\n",
            "         6.00000000e-01,  6.47058824e-01,  8.18181818e-01,\n",
            "         2.85714286e-01,  4.94827586e+01,  5.29411765e+01,\n",
            "         4.71199628e-01,  3.83753585e-01,  4.26755583e-01,\n",
            "         5.47959782e-01,  3.17686164e+00,  1.17029068e+00,\n",
            "         1.87763316e+00, -1.59906166e+00, -2.01792507e+00,\n",
            "        -2.77345519e-01,  1.23055425e-02,  3.84840678e-01,\n",
            "         4.22900373e+00,  1.65118030e+00,  1.16986539e+00,\n",
            "         1.99295559e+00,  4.90671531e+00,  1.61206038e+00,\n",
            "         9.59289062e+02,  3.58459200e+02,  1.19228147e+02,\n",
            "         6.66666667e-02,  2.00000000e-01,  8.99909220e+01,\n",
            "         1.39477866e+02,  6.20606061e+01,  5.34250164e-01,\n",
            "         1.52342425e+00,  3.01797939e+02,  7.64531245e+01,\n",
            "         2.31314151e-05,  9.44502545e-03,  1.11371650e-04,\n",
            "         3.63765812e-06,  1.53376925e-02,  8.83235580e-02,\n",
            "         3.19046667e+01,  3.09551647e-02,  2.00661874e-02,\n",
            "         1.87500000e+00,  3.75000000e+00,  3.37037037e+00,\n",
            "         2.27500000e+01,  1.49912419e+01,  3.13248154e+03,\n",
            "         5.01102165e+03,  6.07845257e-03,  1.24104818e+03,\n",
            "         5.00869770e+03,  2.08943685e+04,  3.46058385e-03,\n",
            "         3.37239583e+03,  9.14388021e+03,  2.12611607e+01,\n",
            "         2.15242347e-01,  1.13118490e+04,  1.33078704e+01,\n",
            "         1.42415365e+04,  4.37852553e-04,  7.39046428e-05,\n",
            "         2.00395057e-03,  4.25369328e-02,  1.41096009e-02,\n",
            "         1.74454007e+10,  3.43863475e-02,  2.01539034e+05,\n",
            "         1.42346939e-02,  1.57518660e-02,  1.90200896e-02,\n",
            "         1.53061224e-02,  1.33429346e+01,  3.51901794e+01,\n",
            "         1.89505831e-03,  1.76798292e-02,  6.67763620e-03,\n",
            "         1.96541860e-02,  4.99041628e-01,  4.23543399e-03,\n",
            "         1.40988665e-01,  3.98012742e-01,  7.52837058e-01,\n",
            "         7.97015900e-03,  4.01293366e-05,  6.09644469e-04,\n",
            "         8.02002464e-01,  7.32986261e-02,  1.36338239e-02,\n",
            "         1.63144187e-01,  2.13252890e-03,  9.48743155e-01,\n",
            "         2.26477391e-02,  4.45690779e+03,  9.39008720e-01,\n",
            "         6.51440517e+02,  0.00000000e+00,  1.48148148e-03,\n",
            "         3.55578511e+01,  9.10920680e+00,  1.41043517e+02,\n",
            "         2.15604084e+01,  1.07504944e+01,  5.77687025e-01,\n",
            "         1.73869250e+00,  9.54140816e+03,  5.76818963e+03,\n",
            "         8.49900061e+01,  2.89716253e-08,  5.91053824e-04,\n",
            "         1.12006187e-04,  2.51263042e-08,  1.82576918e-04,\n",
            "         7.63341376e-09,  1.69820745e-04,  6.30876325e-05,\n",
            "         1.75002582e-04,  1.57632474e-05,  6.18012159e-05,\n",
            "         3.18579211e-05,  7.50503704e-03,  6.09498110e-06,\n",
            "         3.88601444e-04,  1.22979192e-02,  2.06875000e+01,\n",
            "         3.20464782e-01,  8.43958333e+01,  4.79995082e+01,\n",
            "         4.71226886e+02,  1.51395850e+02,  4.40107215e-01,\n",
            "         3.48209024e+02,  5.84371396e+02,  4.06125569e+01,\n",
            "         2.61741468e+02,  1.04769216e+02,  6.07509118e-02,\n",
            "         9.96572984e-03,  5.13750421e-01,  6.04949928e-01,\n",
            "         1.48852151e+05,  4.05274756e-01,  5.40834270e-01,\n",
            "         2.94013493e+01,  2.97756106e+01,  2.69967361e-01,\n",
            "         3.30192657e-01,  3.22271235e-01,  2.77888783e-01,\n",
            "         2.96476104e-01,  3.03683914e-01,  3.61090421e-01,\n",
            "         8.39516744e-01,  5.15289210e-01,  6.04379591e-01,\n",
            "        -1.29319506e-01, -3.03582113e-01, -2.48018505e-01,\n",
            "         1.49412070e-03,  2.09935489e-01,  8.69358591e-01,\n",
            "         1.19566575e+00,  2.14323209e+00,  7.49575828e-01,\n",
            "         5.64547591e+02,  2.84110885e+02,  5.66220507e+01,\n",
            "         3.50234067e-02,  1.15024253e-01,  5.57290170e+01,\n",
            "         7.82970295e+01,  3.76265893e+01, -3.60970328e-02,\n",
            "         1.60312926e+02,  3.44407055e+01, -1.89822803e-05,\n",
            "         1.09545677e-02,  1.07785908e-05, -1.68171670e-05,\n",
            "         1.92748555e+01,  1.43959834e-02,  1.21336705e-02,\n",
            "         1.26211372e+00,  4.43844474e+00,  2.23410321e+00,\n",
            "         1.40062465e+01,  4.71432119e+00, -3.34282924e+00,\n",
            "         3.20527874e+01,  5.98662524e+00, -1.00178874e+02,\n",
            "         3.12500000e+01,  1.18304033e+00, -9.26625000e+01,\n",
            "         1.56250000e+01,  3.80047323e-02, -1.03450415e-01,\n",
            "         2.96526294e+01,  1.12500000e+02,  3.21222925e+01,\n",
            "         2.27373675e-13,  1.39682318e+00, -8.57142857e+00,\n",
            "         3.28498889e+00,  0.00000000e+00,  2.58098375e+01,\n",
            "         2.03125000e+02,  6.10315581e+01, -4.53125000e+02,\n",
            "         2.15787269e-01, -2.91666667e+00,  5.48129909e+00,\n",
            "        -2.34375000e+02,  7.71979753e-03,  4.07514622e-02,\n",
            "         1.62846416e-03,  1.39132088e-02,  4.13807860e-02,\n",
            "        -4.75967702e-02, -9.36664843e-02,  3.97317223e-01,\n",
            "         4.69018569e-02,  1.87314401e-01,  2.14152538e+03,\n",
            "        -1.70177712e+05,  2.67054178e-01, -2.63971823e-01,\n",
            "         2.57434781e+01, -8.97827714e+02,  3.94869475e-02,\n",
            "         8.57142857e-02,  8.82352941e-02,  4.83993178e-02,\n",
            "         1.33971292e-01,  2.14483849e-02,  0.00000000e+00,\n",
            "         2.65216466e+00, -3.90589975e+00,  2.50988824e+00,\n",
            "         1.17647059e+01,  2.76667955e-02, -9.77259925e-03,\n",
            "         2.24057025e-02,  2.78138348e-02, -2.65262551e-01,\n",
            "         2.22586631e-02,  2.76849103e-02, -1.56943006e-01,\n",
            "         2.23875876e-02,  3.49500321e-02, -2.56178249e-01,\n",
            "         6.23987838e-02,  1.26760868e+00,  5.59421191e-02,\n",
            "         1.80299215e-02,  3.59501513e-02,  5.89601388e-01,\n",
            "         2.52323627e-02, -9.02921499e-01,  4.12489812e-02,\n",
            "        -1.46927555e+00, -4.11726077e-02,  1.51542368e-01,\n",
            "         1.52939598e-04,  1.16177860e-02,  2.88324892e-02,\n",
            "         4.08049549e-02, -4.78711071e-01,  3.40678221e-02,\n",
            "         4.03372005e-02,  6.55529396e-02, -6.67594216e-01,\n",
            "         9.96541672e-02,  4.89472038e-02,  9.45815423e-02,\n",
            "         1.94698493e+00,  4.89258858e-02,  2.93101887e-01,\n",
            "         3.48281945e+01,  1.24863525e+02,  3.40853978e+01,\n",
            "        -1.74672287e+00,  1.14130780e-05,  0.00000000e+00,\n",
            "         9.18378915e-03,  0.00000000e+00,  5.12026054e+00,\n",
            "        -1.18567518e+01, -5.49648960e+00,  7.70328849e+00,\n",
            "        -1.53803570e+01,  4.50567310e+00, -1.37770060e+00,\n",
            "         6.53197487e-03,  1.51878588e+00, -1.22360739e-01,\n",
            "         6.65065369e-01,  4.31160335e+00, -1.13889210e+02,\n",
            "        -8.73194270e+01,  1.45604000e+00, -1.81632072e+01,\n",
            "        -5.62418412e-09,  1.66123296e-04,  1.24048447e-06,\n",
            "        -4.86226165e-02, -2.10863545e-02,  5.71642939e-07,\n",
            "        -7.68450029e-05,  1.24642131e-04, -2.60637846e-02,\n",
            "        -1.37447602e-02,  2.99419498e-07,  1.63270110e-04,\n",
            "        -1.61821431e-02,  1.27457396e-05,  1.03142835e-02,\n",
            "        -2.46042619e-02, -7.21619113e-03,  1.62114246e+00,\n",
            "         1.08000000e-01,  1.20000000e-01,  1.20000000e-01,\n",
            "         9.49989818e-04,  6.97016129e-04,  9.25964733e-04,\n",
            "        -3.72858044e-02,  1.09904561e-01, -1.80970149e-01,\n",
            "         2.88339652e-01, -8.00000000e+00,  1.30012402e-01,\n",
            "         2.35754986e-01,  4.97941138e-01,  1.25000000e+00,\n",
            "         1.00000000e+00]]), 'label': tensor([0.])}\n"
          ]
        }
      ],
      "source": [
        "print(dreamt_samples[0])"
      ]
    },
    {
      "cell_type": "code",
      "execution_count": 19,
      "metadata": {
        "colab": {
          "base_uri": "https://localhost:8080/"
        },
        "id": "s6qKr8ZhoJJ2",
        "outputId": "0ada9189-b283-4e79-9c87-36b5207b3f33"
      },
      "outputs": [
        {
          "name": "stdout",
          "output_type": "stream",
          "text": [
            "(1, 358)\n"
          ]
        }
      ],
      "source": [
        "print(dreamt_samples[0]['features'].shape)"
      ]
    },
    {
      "cell_type": "code",
      "execution_count": null,
      "metadata": {
        "id": "ciOpNvmOeUk0"
      },
      "outputs": [],
      "source": []
    },
    {
      "cell_type": "code",
      "execution_count": 20,
      "metadata": {
        "colab": {
          "base_uri": "https://localhost:8080/"
        },
        "id": "rlzqHVwZjfTL",
        "outputId": "0e3a6dca-8b8d-48b1-e832-2243080e8ec9"
      },
      "outputs": [
        {
          "name": "stdout",
          "output_type": "stream",
          "text": [
            "82671\n"
          ]
        }
      ],
      "source": [
        "print(len(dreamt_samples))"
      ]
    },
    {
      "cell_type": "code",
      "execution_count": null,
      "metadata": {
        "id": "n7_x5aIcGyTZ"
      },
      "outputs": [],
      "source": []
    },
    {
      "cell_type": "markdown",
      "metadata": {
        "id": "rRdf_3bRuyFE"
      },
      "source": [
        "# Create a Pyhealth LightGBM Model"
      ]
    },
    {
      "cell_type": "code",
      "execution_count": 16,
      "metadata": {
        "id": "Tp4POY-UG93s"
      },
      "outputs": [],
      "source": [
        "from pyhealth.models import BaseModel\n",
        "import lightgbm as lgb\n",
        "import numpy as np\n",
        "import pandas as pd\n",
        "import torch\n",
        "import pickle\n",
        "from typing import List, Dict\n",
        "from sklearn.metrics import classification_report, confusion_matrix\n",
        "import matplotlib.pyplot as plt\n",
        "import seaborn as sns\n",
        "from sklearn.metrics import accuracy_score, confusion_matrix, recall_score, precision_score, f1_score, auc, precision_recall_curve, roc_auc_score, cohen_kappa_score\n",
        "\n",
        "class LightGBMClassifier(BaseModel):\n",
        "    \"\"\"LightGBM classifier for PyHealth that handles epoch_path storage.\n",
        "\n",
        "    Args:\n",
        "        dataset: PyHealth dataset (with epoch_path in samples)\n",
        "        feature_keys: Should be [\"signal\"] for your case\n",
        "        label_key: Key containing labels (\"label\")\n",
        "        mode: \"binary\" or \"multiclass\"\n",
        "        **kwargs: LightGBM parameters\n",
        "    \"\"\"\n",
        "    def __init__(\n",
        "        self,\n",
        "        dataset,\n",
        "        feature_keys: List[str],\n",
        "        label_key: str,\n",
        "        mode: str,\n",
        "        train_test_split: List[float] = None,\n",
        "        **kwargs\n",
        "    ):\n",
        "        self.feature_keys = feature_keys\n",
        "        self.label_key = label_key\n",
        "        self.train_test_split = train_test_split\n",
        "        self.train_samples, self.val_samples, self.test_samples = split_by_visit(dataset, train_test_split)\n",
        "\n",
        "\n",
        "        super().__init__(\n",
        "            dataset=dataset,\n",
        "        )\n",
        "\n",
        "        self.params = {\n",
        "            \"objective\": \"binary\" if mode == \"binary\" else \"multiclass\",\n",
        "            \"verbose\": -1,\n",
        "            **kwargs\n",
        "        }\n",
        "        self.model = None\n",
        "\n",
        "    def fit(self):\n",
        "        \"\"\"Train the model using PyHealth data samples.\"\"\"\n",
        "        X_train, y_train = self._samples_to_arrays(self.train_samples)\n",
        "        print(X_train.shape)\n",
        "        print(y_train.shape)\n",
        "\n",
        "        eval_set = None\n",
        "        if self.val_samples:\n",
        "            X_val, y_val = self._samples_to_arrays(self.val_samples)\n",
        "            eval_set = [(X_val, y_val)]\n",
        "\n",
        "        self.model = lgb.LGBMClassifier(**self.params)\n",
        "        self.model.fit(X_train, y_train, eval_set=eval_set)\n",
        "\n",
        "    def predict(self):\n",
        "        \"\"\"Make predictions using a data samples.\"\"\"\n",
        "        X, _ = self._samples_to_arrays(self.test_samples)\n",
        "        return self.model.predict(X)\n",
        "\n",
        "    def predict_proba(self):\n",
        "        \"\"\"Get prediction probabilities.\"\"\"\n",
        "        X, _ = self._samples_to_arrays(self.test_samples)\n",
        "        return self.model.predict_proba(X)\n",
        "\n",
        "    def evaluate(self, model_name=\"LightGBM\"):\n",
        "        \"\"\"Complete evaluation with metrics and visualization.\"\"\"\n",
        "        X_test, y_test = self._samples_to_arrays(self.test_samples)\n",
        "        y_pred = self.predict()\n",
        "        y_pred_proba = self.predict_proba()\n",
        "\n",
        "        # Metrics\n",
        "        results = []\n",
        "        accuracy = accuracy_score(y_test, y_pred)\n",
        "        cm = confusion_matrix(y_test, y_pred)\n",
        "        precision = precision_score(\n",
        "            y_test,\n",
        "            y_pred,\n",
        "            labels=[1],\n",
        "        )\n",
        "        recall = recall_score(\n",
        "            y_test,\n",
        "            y_pred,\n",
        "            labels=[1],\n",
        "        )  # Recall is the same as sensitivity\n",
        "        f1 = f1_score(\n",
        "            y_test,\n",
        "            y_pred,\n",
        "            labels=[1],\n",
        "        )\n",
        "        auroc = roc_auc_score(y_test, y_pred_proba[:, 1])\n",
        "        precisions, recalls, thresholds = precision_recall_curve(y_test, y_pred_proba[:,1])\n",
        "        precision_recall_auc = auc(recalls, precisions)\n",
        "        y_pred_kappa = np.argmax(y_pred_proba, axis=1)\n",
        "        cohen_kappa = cohen_kappa_score(y_test, y_pred)\n",
        "\n",
        "        report = classification_report(y_test, y_pred)\n",
        "        print(report)\n",
        "        results.append(\n",
        "            {\n",
        "                \"Model\": model_name,\n",
        "                \"Precision\": precision,\n",
        "                \"Recall\": recall,\n",
        "                \"F1 Score\": f1,\n",
        "                \"AUROC\": auroc,\n",
        "                'AUPRC': precision_recall_auc,\n",
        "                \"Accuracy\": accuracy,\n",
        "                \"Cohen's Kappa\": cohen_kappa,\n",
        "            }\n",
        "        )\n",
        "\n",
        "        return results\n",
        "\n",
        "\n",
        "    def _samples_to_arrays(self, samples):\n",
        "        \"\"\"Convert samples to numpy arrays, concatenating multiple feature keys.\"\"\"\n",
        "        X = []\n",
        "        y = []\n",
        "\n",
        "        for sample in samples:\n",
        "            features_list = []\n",
        "            for feature_key in self.feature_keys:\n",
        "                feature = sample[feature_key]\n",
        "                if isinstance(feature, torch.Tensor):\n",
        "                    feature = feature.numpy()\n",
        "                # Flatten if needed\n",
        "                if hasattr(feature, 'flatten'):\n",
        "                    feature = feature.flatten()\n",
        "                features_list.append(feature)\n",
        "\n",
        "            combined_features = np.concatenate(features_list)\n",
        "            X.append(combined_features)\n",
        "\n",
        "            label = sample[self.label_key]\n",
        "            if isinstance(label, torch.Tensor):\n",
        "                label = label.item()\n",
        "            y.append(sample[self.label_key])\n",
        "\n",
        "        return np.array(X), np.array(y)"
      ]
    },
    {
      "cell_type": "code",
      "execution_count": null,
      "metadata": {
        "id": "vKGlFNhyuvKW"
      },
      "outputs": [],
      "source": []
    },
    {
      "cell_type": "markdown",
      "metadata": {
        "id": "QieB9Pi3vNjH"
      },
      "source": [
        "## Train a LightGBm model for DREAMT E4 in pyhealth"
      ]
    },
    {
      "cell_type": "code",
      "execution_count": 17,
      "metadata": {
        "colab": {
          "base_uri": "https://localhost:8080/"
        },
        "id": "cNuQ_55yG91i",
        "outputId": "97f51113-063e-4d53-eb59-611d469473c0"
      },
      "outputs": [
        {
          "name": "stdout",
          "output_type": "stream",
          "text": [
            "(57869, 358)\n",
            "(57869, 1)\n",
            "              precision    recall  f1-score   support\n",
            "\n",
            "         0.0       0.89      0.79      0.84      6789\n",
            "         1.0       0.87      0.93      0.90      9746\n",
            "\n",
            "    accuracy                           0.87     16535\n",
            "   macro avg       0.88      0.86      0.87     16535\n",
            "weighted avg       0.88      0.87      0.87     16535\n",
            "\n"
          ]
        },
        {
          "data": {
            "text/plain": [
              "[{'Model': 'LightGBM',\n",
              "  'Precision': 0.8651428571428571,\n",
              "  'Recall': 0.9320746973117177,\n",
              "  'F1 Score': 0.8973624419638447,\n",
              "  'AUROC': np.float64(0.9405346606576219),\n",
              "  'AUPRC': np.float64(0.9519177628196805),\n",
              "  'Accuracy': 0.8743271847596008,\n",
              "  \"Cohen's Kappa\": np.float64(0.7359008086064422)}]"
            ]
          },
          "execution_count": 17,
          "metadata": {},
          "output_type": "execute_result"
        }
      ],
      "source": [
        "from pyhealth.datasets import split_by_visit\n",
        "\n",
        "# Initialize\n",
        "lgb_model = LightGBMClassifier(\n",
        "    dataset=dreamt_samples,\n",
        "    train_test_split=[0.7, 0.1, 0.2],\n",
        "    feature_keys=[\"features\"],\n",
        "    label_key=\"label\",\n",
        "    mode=\"binary\",  # or \"multiclass\"\n",
        "    learning_rate=0.01,\n",
        "    n_estimators=300\n",
        ")\n",
        "\n",
        "# Train\n",
        "lgb_model.fit()\n",
        "\n",
        "# Evaluate\n",
        "report = lgb_model.evaluate()\n",
        "report"
      ]
    },
    {
      "cell_type": "code",
      "execution_count": null,
      "metadata": {
        "id": "Py93aGThZpQ7"
      },
      "outputs": [],
      "source": []
    },
    {
      "cell_type": "code",
      "execution_count": null,
      "metadata": {
        "id": "Mar0JB49vsw5"
      },
      "outputs": [],
      "source": []
    },
    {
      "cell_type": "markdown",
      "metadata": {
        "id": "YcEgWLS4vWbw"
      },
      "source": [
        "# Train a RNN model for DREAMT E4 with pyhealth"
      ]
    },
    {
      "cell_type": "code",
      "execution_count": 18,
      "metadata": {
        "colab": {
          "base_uri": "https://localhost:8080/"
        },
        "id": "sF4CD9D4waaW",
        "outputId": "58faae24-8102-486a-cdff-749a387dfacd"
      },
      "outputs": [
        {
          "name": "stdout",
          "output_type": "stream",
          "text": [
            "Setting task for dreamt base dataset...\n"
          ]
        },
        {
          "name": "stderr",
          "output_type": "stream",
          "text": [
            "INFO:pyhealth.datasets.base_dataset:Setting task for dreamt base dataset...\n",
            "Generating samples for DREAMTE4SleepingStageClassification: 80it [00:57,  1.40it/s]\n",
            "Processing samples: 100%|██████████| 82671/82671 [00:00<00:00, 112023.12it/s]"
          ]
        },
        {
          "name": "stdout",
          "output_type": "stream",
          "text": [
            "{'features': 'text'}\n",
            "{'label': 'binary'}\n",
            "82671\n"
          ]
        },
        {
          "name": "stderr",
          "output_type": "stream",
          "text": [
            "\n"
          ]
        }
      ],
      "source": [
        "RNNtask = DREAMTE4SleepingStageClassification()\n",
        "dreamt_samples_RNN = dreamt_dataset.set_task(RNNtask)\n",
        "print(dreamt_samples_RNN.input_schema)\n",
        "print(dreamt_samples_RNN.output_schema)\n",
        "print(len(dreamt_samples_RNN))"
      ]
    },
    {
      "cell_type": "code",
      "execution_count": null,
      "metadata": {
        "colab": {
          "base_uri": "https://localhost:8080/",
          "height": 1000,
          "referenced_widgets": [
            "1254c821e773487193e10dd6be515614",
            "92d8a8906c14431d9ade49ae42cd3ad3",
            "ba544c5b489e4d59b455424a29e9216f",
            "b9e7936153294a0ca21f4892b282a29b",
            "19034ae5ec8847f887848b618bb5326a",
            "2ad4a99203f741578519543952370ff9",
            "dfa95d221e914cfbba98a9a05254511a",
            "83c3001b598d4d6bafb05efc0fe0928e",
            "94af89b673024b9d9ada8498477e97a1",
            "444de07b26064f389ceddd11e378c107",
            "b7b62bbcf04f42e3b50b5f47bc398187",
            "38ee61a82dd041b7b33e3a0b1db4606b",
            "bcc945cdaccb49379d6b574ee9c8b6ec",
            "26c8423491a54afeaecac4712eb1dcd9",
            "1d3df9322a284bef9149629a581cbf62",
            "25e8d2fe2b364d6f902275da2687775b",
            "55f7f49b15204608a1fafbe6f6754ac9",
            "c750df4977e34bfb8cc298099d42dc81",
            "a8da9e523fd64fd3830f6d2656650f16",
            "57b27954f7b949fc9dd7ec37660b1148",
            "73e2b9b2250b4aada01ea9d95a52ba50",
            "7f96eee7c8734d769ba5003afe228455",
            "a91a7abc50334579b6cb6cd63da7cf09",
            "9d123f12ab1142c6a1c7a2e004f7aacd",
            "1bc5eca2aba448ac91b5645f4d51f589",
            "1225948e691c4113bb9da798ed7d74fb",
            "fb870f83f807413fadbd70e2527b9d9f",
            "a37e53789f734386b2867700042e267e",
            "e9276a728b334686a73e4656c6765467",
            "0f584e7204ff412587f4ac388fde36b5",
            "3cc43a3ce8a54e06bfcbd061ad5fb814",
            "47496702d04d4166937d11a54f13023f",
            "bbc2a35552354779afcc4ccc3ed32050",
            "55b233e229c9430da0da06e8b995a30e",
            "c3e66e5b132144ad8a944042992c1af2",
            "1ddce588acf74fdf9f4369c5a31f594b",
            "584160f3806244929806ec11396f5383",
            "e31efd406efd4b17906d4eaa7bd7653d",
            "5bdff7cbe19a42c3bc870ad1d7cb75cd",
            "bdcf63962f75478692e62163a194a5af",
            "5518ba2714304a66b72654ab122d275e",
            "2bd17ba35f6f4745bfa3758eb96b2bb5",
            "618529390e3c4709ac603484ee62e604",
            "f26dfa2ea88145598b29072058ff7c86",
            "a1591c209ba84a72b25aac1a41837278",
            "68b792b85fb64922a4638311f9b1432d",
            "a8e7f96fa0d3425d964bb018ffba136c",
            "d7e5da7535ea4018bde67cc5ce5c59b9",
            "7822f270dd6b4d26953dc691eb64faff",
            "72be5051776945a18d93a1c4bb9b2299",
            "f84adafe7d2743dfa1c54c9fa495f47a",
            "155173d5377b4148b099a492a671cde7",
            "a4420f80d083444da697d685f4410a50",
            "a446894226c2480b8278654150c5448c",
            "0344aa98b5c54cd388c72332ce76e4f1",
            "bb6b50da04294e608fdeaa7d38d284e0",
            "c59d1bc8198b4c5c8cca7a70ede0a541",
            "3857c8ab8fd241388f4c64b7e080cc2e",
            "beb702a392b441fcb876800b2a74561b",
            "868c54a002044da7b3e4d388bcd753b3",
            "7094ca83732944f3aa1d54e2b98810a1",
            "bfbc7214044b45ecbd786f9e0ae94c88",
            "d106df7b22c048e9a5ba57d10dd2460d",
            "8ec56469ee72458b8b181b105f4711ac",
            "ad59ce75399e4f73bc0983734f7d9709",
            "05c72123fe034a8b84fed575c5246eb4",
            "cf5071e8e81846628de7b1aebdeca7a2",
            "4ded1de00a554e918192826001e44025",
            "3c66b6f2779f45de95537028a1a7cdb6",
            "f0f42cd7bdcb49c3a38ce5d154a62a6a",
            "cf67db4d3d9f4eca93a9001326aa1300",
            "3cca394293e946158a50f949c338de33",
            "638cd82a56324fc18b14e88409552fba",
            "33e4a0aa1026491a9ed11b19fec86495",
            "96469f39e106414da6dc02e0918c2a4e",
            "090531cff8d94750abdc20a43cfe2a74",
            "bb1dc256db1d4fd69eda955b4b40eca5",
            "297a822235a04a36b59d6a17a8db1554",
            "f4c0ee5292cd4cf5bed57193d4011207",
            "f36a38fad023440b8b1f7c12adede121",
            "56eb5bc88f484653bdf73f7588826c9f",
            "fc38505f85c54e08a2ff87af1032a737",
            "6ab4b451a16c47e5b20d30429b724b4c",
            "e627d97ded224a9395249846536cf4d4",
            "96ad5009cb35417c8bb02eca212d21ee",
            "b922b45fdac64de0acf9904032e2767b",
            "329873f9a9da4985a108a7163ede3e36",
            "a082fa647c494793a5682982a6f60455",
            "e1e559191b2c4ff286fd00dba797d69f",
            "6f78c468d1a7459597448bf7918835b8",
            "bd9b30994daa4a98a0725d0d5ccc7ea7",
            "a7161a8220c14de487ba7376bfadda36",
            "f20ce9e0bd9a452ea14e35cf576548f3",
            "1f3f743e6e3b4218bec9373580305100",
            "7387e330782a4699a37990104ef6ec1a",
            "9fdef6fe0d454bb09ce0ab00b1f9167c",
            "a02572b4a5b14fe59cf256ecd5039b2e",
            "498a2e40ec2046edbf6469540ba41ff4",
            "230d36c444b64303856611e032c73aaa",
            "07467c0070554d04b4a206783bb84fc9",
            "7538bf8ff00a48fbbe3a725fbe6e2d25",
            "6ee334be7bff44429ef1748e6965b4d7",
            "e98bc74a1e4b472e987e097899769c4f",
            "93b5a92afa914ed9b7b2341bed25b1a0",
            "040d196d370b4e99a1dc82b04fd32b6c",
            "fa34acc2845e4af38e676d83ed07301a",
            "535a2642ea3c43d99a2ceb9fac7c5d75",
            "d3f6c781d9144772be58f1a97ea686cc",
            "3b7ba70ef50740d6b56b47f3d86d92b8",
            "37cee778398048a389623ed4007153a0"
          ]
        },
        "collapsed": true,
        "id": "w4K1OzCZb_qh",
        "outputId": "4a066ee8-3cac-4a4d-bdfc-c42c40027c45"
      },
      "outputs": [
        {
          "name": "stdout",
          "output_type": "stream",
          "text": [
            "RNN(\n",
            "  (embedding_model): EmbeddingModel(embedding_layers=ModuleDict())\n",
            "  (rnn): ModuleDict(\n",
            "    (features): RNNLayer(\n",
            "      (dropout_layer): Dropout(p=0.3, inplace=False)\n",
            "      (rnn): GRU(358, 256, num_layers=2, batch_first=True, dropout=0.3)\n",
            "    )\n",
            "  )\n",
            "  (fc): Linear(in_features=256, out_features=1, bias=True)\n",
            ")\n"
          ]
        },
        {
          "name": "stderr",
          "output_type": "stream",
          "text": [
            "INFO:pyhealth.trainer:RNN(\n",
            "  (embedding_model): EmbeddingModel(embedding_layers=ModuleDict())\n",
            "  (rnn): ModuleDict(\n",
            "    (features): RNNLayer(\n",
            "      (dropout_layer): Dropout(p=0.3, inplace=False)\n",
            "      (rnn): GRU(358, 256, num_layers=2, batch_first=True, dropout=0.3)\n",
            "    )\n",
            "  )\n",
            "  (fc): Linear(in_features=256, out_features=1, bias=True)\n",
            ")\n"
          ]
        },
        {
          "name": "stdout",
          "output_type": "stream",
          "text": [
            "Metrics: ['roc_auc', 'pr_auc', 'f1', 'accuracy']\n"
          ]
        },
        {
          "name": "stderr",
          "output_type": "stream",
          "text": [
            "INFO:pyhealth.trainer:Metrics: ['roc_auc', 'pr_auc', 'f1', 'accuracy']\n"
          ]
        },
        {
          "name": "stdout",
          "output_type": "stream",
          "text": [
            "Device: cpu\n"
          ]
        },
        {
          "name": "stderr",
          "output_type": "stream",
          "text": [
            "INFO:pyhealth.trainer:Device: cpu\n"
          ]
        },
        {
          "name": "stdout",
          "output_type": "stream",
          "text": [
            "\n"
          ]
        },
        {
          "name": "stderr",
          "output_type": "stream",
          "text": [
            "INFO:pyhealth.trainer:\n"
          ]
        },
        {
          "name": "stdout",
          "output_type": "stream",
          "text": [
            "Training:\n"
          ]
        },
        {
          "name": "stderr",
          "output_type": "stream",
          "text": [
            "INFO:pyhealth.trainer:Training:\n"
          ]
        },
        {
          "name": "stdout",
          "output_type": "stream",
          "text": [
            "Batch size: 32\n"
          ]
        },
        {
          "name": "stderr",
          "output_type": "stream",
          "text": [
            "INFO:pyhealth.trainer:Batch size: 32\n"
          ]
        },
        {
          "name": "stdout",
          "output_type": "stream",
          "text": [
            "Optimizer: <class 'torch.optim.adam.Adam'>\n"
          ]
        },
        {
          "name": "stderr",
          "output_type": "stream",
          "text": [
            "INFO:pyhealth.trainer:Optimizer: <class 'torch.optim.adam.Adam'>\n"
          ]
        },
        {
          "name": "stdout",
          "output_type": "stream",
          "text": [
            "Optimizer params: {'lr': 0.02, 'weight_decay': 1e-05}\n"
          ]
        },
        {
          "name": "stderr",
          "output_type": "stream",
          "text": [
            "INFO:pyhealth.trainer:Optimizer params: {'lr': 0.02, 'weight_decay': 1e-05}\n"
          ]
        },
        {
          "name": "stdout",
          "output_type": "stream",
          "text": [
            "Weight decay: 0.0\n"
          ]
        },
        {
          "name": "stderr",
          "output_type": "stream",
          "text": [
            "INFO:pyhealth.trainer:Weight decay: 0.0\n"
          ]
        },
        {
          "name": "stdout",
          "output_type": "stream",
          "text": [
            "Max grad norm: None\n"
          ]
        },
        {
          "name": "stderr",
          "output_type": "stream",
          "text": [
            "INFO:pyhealth.trainer:Max grad norm: None\n"
          ]
        },
        {
          "name": "stdout",
          "output_type": "stream",
          "text": [
            "Val dataloader: <torch.utils.data.dataloader.DataLoader object at 0x7878ea9b6c90>\n"
          ]
        },
        {
          "name": "stderr",
          "output_type": "stream",
          "text": [
            "INFO:pyhealth.trainer:Val dataloader: <torch.utils.data.dataloader.DataLoader object at 0x7878ea9b6c90>\n"
          ]
        },
        {
          "name": "stdout",
          "output_type": "stream",
          "text": [
            "Monitor: pr_auc\n"
          ]
        },
        {
          "name": "stderr",
          "output_type": "stream",
          "text": [
            "INFO:pyhealth.trainer:Monitor: pr_auc\n"
          ]
        },
        {
          "name": "stdout",
          "output_type": "stream",
          "text": [
            "Monitor criterion: max\n"
          ]
        },
        {
          "name": "stderr",
          "output_type": "stream",
          "text": [
            "INFO:pyhealth.trainer:Monitor criterion: max\n"
          ]
        },
        {
          "name": "stdout",
          "output_type": "stream",
          "text": [
            "Epochs: 10\n"
          ]
        },
        {
          "name": "stderr",
          "output_type": "stream",
          "text": [
            "INFO:pyhealth.trainer:Epochs: 10\n"
          ]
        },
        {
          "name": "stdout",
          "output_type": "stream",
          "text": [
            "\n"
          ]
        },
        {
          "name": "stderr",
          "output_type": "stream",
          "text": [
            "INFO:pyhealth.trainer:\n"
          ]
        },
        {
          "data": {
            "application/vnd.jupyter.widget-view+json": {
              "model_id": "1254c821e773487193e10dd6be515614",
              "version_major": 2,
              "version_minor": 0
            },
            "text/plain": [
              "Epoch 0 / 10:   0%|          | 0/1809 [00:00<?, ?it/s]"
            ]
          },
          "metadata": {},
          "output_type": "display_data"
        },
        {
          "name": "stdout",
          "output_type": "stream",
          "text": [
            "--- Train epoch-0, step-1809 ---\n"
          ]
        },
        {
          "name": "stderr",
          "output_type": "stream",
          "text": [
            "INFO:pyhealth.trainer:--- Train epoch-0, step-1809 ---\n"
          ]
        },
        {
          "name": "stdout",
          "output_type": "stream",
          "text": [
            "loss: 0.6769\n"
          ]
        },
        {
          "name": "stderr",
          "output_type": "stream",
          "text": [
            "INFO:pyhealth.trainer:loss: 0.6769\n",
            "Evaluation: 100%|██████████| 259/259 [00:00<00:00, 340.86it/s]"
          ]
        },
        {
          "name": "stdout",
          "output_type": "stream",
          "text": [
            "--- Eval epoch-0, step-1809 ---\n"
          ]
        },
        {
          "name": "stderr",
          "output_type": "stream",
          "text": [
            "\n",
            "INFO:pyhealth.trainer:--- Eval epoch-0, step-1809 ---\n"
          ]
        },
        {
          "name": "stdout",
          "output_type": "stream",
          "text": [
            "roc_auc: 0.6027\n"
          ]
        },
        {
          "name": "stderr",
          "output_type": "stream",
          "text": [
            "INFO:pyhealth.trainer:roc_auc: 0.6027\n"
          ]
        },
        {
          "name": "stdout",
          "output_type": "stream",
          "text": [
            "pr_auc: 0.6677\n"
          ]
        },
        {
          "name": "stderr",
          "output_type": "stream",
          "text": [
            "INFO:pyhealth.trainer:pr_auc: 0.6677\n"
          ]
        },
        {
          "name": "stdout",
          "output_type": "stream",
          "text": [
            "f1: 0.7441\n"
          ]
        },
        {
          "name": "stderr",
          "output_type": "stream",
          "text": [
            "INFO:pyhealth.trainer:f1: 0.7441\n"
          ]
        },
        {
          "name": "stdout",
          "output_type": "stream",
          "text": [
            "accuracy: 0.5925\n"
          ]
        },
        {
          "name": "stderr",
          "output_type": "stream",
          "text": [
            "INFO:pyhealth.trainer:accuracy: 0.5925\n"
          ]
        },
        {
          "name": "stdout",
          "output_type": "stream",
          "text": [
            "loss: 0.6547\n"
          ]
        },
        {
          "name": "stderr",
          "output_type": "stream",
          "text": [
            "INFO:pyhealth.trainer:loss: 0.6547\n"
          ]
        },
        {
          "name": "stdout",
          "output_type": "stream",
          "text": [
            "New best pr_auc score (0.6677) at epoch-0, step-1809\n"
          ]
        },
        {
          "name": "stderr",
          "output_type": "stream",
          "text": [
            "INFO:pyhealth.trainer:New best pr_auc score (0.6677) at epoch-0, step-1809\n"
          ]
        },
        {
          "name": "stdout",
          "output_type": "stream",
          "text": [
            "\n"
          ]
        },
        {
          "name": "stderr",
          "output_type": "stream",
          "text": [
            "INFO:pyhealth.trainer:\n"
          ]
        },
        {
          "data": {
            "application/vnd.jupyter.widget-view+json": {
              "model_id": "38ee61a82dd041b7b33e3a0b1db4606b",
              "version_major": 2,
              "version_minor": 0
            },
            "text/plain": [
              "Epoch 1 / 10:   0%|          | 0/1809 [00:00<?, ?it/s]"
            ]
          },
          "metadata": {},
          "output_type": "display_data"
        },
        {
          "name": "stdout",
          "output_type": "stream",
          "text": [
            "--- Train epoch-1, step-3618 ---\n"
          ]
        },
        {
          "name": "stderr",
          "output_type": "stream",
          "text": [
            "INFO:pyhealth.trainer:--- Train epoch-1, step-3618 ---\n"
          ]
        },
        {
          "name": "stdout",
          "output_type": "stream",
          "text": [
            "loss: 0.6852\n"
          ]
        },
        {
          "name": "stderr",
          "output_type": "stream",
          "text": [
            "INFO:pyhealth.trainer:loss: 0.6852\n",
            "Evaluation: 100%|██████████| 259/259 [00:00<00:00, 324.18it/s]"
          ]
        },
        {
          "name": "stdout",
          "output_type": "stream",
          "text": [
            "--- Eval epoch-1, step-3618 ---\n"
          ]
        },
        {
          "name": "stderr",
          "output_type": "stream",
          "text": [
            "\n",
            "INFO:pyhealth.trainer:--- Eval epoch-1, step-3618 ---\n"
          ]
        },
        {
          "name": "stdout",
          "output_type": "stream",
          "text": [
            "roc_auc: 0.5948\n"
          ]
        },
        {
          "name": "stderr",
          "output_type": "stream",
          "text": [
            "INFO:pyhealth.trainer:roc_auc: 0.5948\n"
          ]
        },
        {
          "name": "stdout",
          "output_type": "stream",
          "text": [
            "pr_auc: 0.6595\n"
          ]
        },
        {
          "name": "stderr",
          "output_type": "stream",
          "text": [
            "INFO:pyhealth.trainer:pr_auc: 0.6595\n"
          ]
        },
        {
          "name": "stdout",
          "output_type": "stream",
          "text": [
            "f1: 0.7441\n"
          ]
        },
        {
          "name": "stderr",
          "output_type": "stream",
          "text": [
            "INFO:pyhealth.trainer:f1: 0.7441\n"
          ]
        },
        {
          "name": "stdout",
          "output_type": "stream",
          "text": [
            "accuracy: 0.5925\n"
          ]
        },
        {
          "name": "stderr",
          "output_type": "stream",
          "text": [
            "INFO:pyhealth.trainer:accuracy: 0.5925\n"
          ]
        },
        {
          "name": "stdout",
          "output_type": "stream",
          "text": [
            "loss: 0.6475\n"
          ]
        },
        {
          "name": "stderr",
          "output_type": "stream",
          "text": [
            "INFO:pyhealth.trainer:loss: 0.6475\n"
          ]
        },
        {
          "name": "stdout",
          "output_type": "stream",
          "text": [
            "\n"
          ]
        },
        {
          "name": "stderr",
          "output_type": "stream",
          "text": [
            "INFO:pyhealth.trainer:\n"
          ]
        },
        {
          "data": {
            "application/vnd.jupyter.widget-view+json": {
              "model_id": "a91a7abc50334579b6cb6cd63da7cf09",
              "version_major": 2,
              "version_minor": 0
            },
            "text/plain": [
              "Epoch 2 / 10:   0%|          | 0/1809 [00:00<?, ?it/s]"
            ]
          },
          "metadata": {},
          "output_type": "display_data"
        },
        {
          "name": "stdout",
          "output_type": "stream",
          "text": [
            "--- Train epoch-2, step-5427 ---\n"
          ]
        },
        {
          "name": "stderr",
          "output_type": "stream",
          "text": [
            "INFO:pyhealth.trainer:--- Train epoch-2, step-5427 ---\n"
          ]
        },
        {
          "name": "stdout",
          "output_type": "stream",
          "text": [
            "loss: 0.6844\n"
          ]
        },
        {
          "name": "stderr",
          "output_type": "stream",
          "text": [
            "INFO:pyhealth.trainer:loss: 0.6844\n",
            "Evaluation: 100%|██████████| 259/259 [00:00<00:00, 325.20it/s]"
          ]
        },
        {
          "name": "stdout",
          "output_type": "stream",
          "text": [
            "--- Eval epoch-2, step-5427 ---\n"
          ]
        },
        {
          "name": "stderr",
          "output_type": "stream",
          "text": [
            "\n",
            "INFO:pyhealth.trainer:--- Eval epoch-2, step-5427 ---\n"
          ]
        },
        {
          "name": "stdout",
          "output_type": "stream",
          "text": [
            "roc_auc: 0.5948\n"
          ]
        },
        {
          "name": "stderr",
          "output_type": "stream",
          "text": [
            "INFO:pyhealth.trainer:roc_auc: 0.5948\n"
          ]
        },
        {
          "name": "stdout",
          "output_type": "stream",
          "text": [
            "pr_auc: 0.6620\n"
          ]
        },
        {
          "name": "stderr",
          "output_type": "stream",
          "text": [
            "INFO:pyhealth.trainer:pr_auc: 0.6620\n"
          ]
        },
        {
          "name": "stdout",
          "output_type": "stream",
          "text": [
            "f1: 0.7441\n"
          ]
        },
        {
          "name": "stderr",
          "output_type": "stream",
          "text": [
            "INFO:pyhealth.trainer:f1: 0.7441\n"
          ]
        },
        {
          "name": "stdout",
          "output_type": "stream",
          "text": [
            "accuracy: 0.5925\n"
          ]
        },
        {
          "name": "stderr",
          "output_type": "stream",
          "text": [
            "INFO:pyhealth.trainer:accuracy: 0.5925\n"
          ]
        },
        {
          "name": "stdout",
          "output_type": "stream",
          "text": [
            "loss: 0.6432\n"
          ]
        },
        {
          "name": "stderr",
          "output_type": "stream",
          "text": [
            "INFO:pyhealth.trainer:loss: 0.6432\n"
          ]
        },
        {
          "name": "stdout",
          "output_type": "stream",
          "text": [
            "\n"
          ]
        },
        {
          "name": "stderr",
          "output_type": "stream",
          "text": [
            "INFO:pyhealth.trainer:\n"
          ]
        },
        {
          "data": {
            "application/vnd.jupyter.widget-view+json": {
              "model_id": "55b233e229c9430da0da06e8b995a30e",
              "version_major": 2,
              "version_minor": 0
            },
            "text/plain": [
              "Epoch 3 / 10:   0%|          | 0/1809 [00:00<?, ?it/s]"
            ]
          },
          "metadata": {},
          "output_type": "display_data"
        },
        {
          "name": "stdout",
          "output_type": "stream",
          "text": [
            "--- Train epoch-3, step-7236 ---\n"
          ]
        },
        {
          "name": "stderr",
          "output_type": "stream",
          "text": [
            "INFO:pyhealth.trainer:--- Train epoch-3, step-7236 ---\n"
          ]
        },
        {
          "name": "stdout",
          "output_type": "stream",
          "text": [
            "loss: 0.6728\n"
          ]
        },
        {
          "name": "stderr",
          "output_type": "stream",
          "text": [
            "INFO:pyhealth.trainer:loss: 0.6728\n",
            "Evaluation: 100%|██████████| 259/259 [00:00<00:00, 328.42it/s]"
          ]
        },
        {
          "name": "stdout",
          "output_type": "stream",
          "text": [
            "--- Eval epoch-3, step-7236 ---\n"
          ]
        },
        {
          "name": "stderr",
          "output_type": "stream",
          "text": [
            "\n",
            "INFO:pyhealth.trainer:--- Eval epoch-3, step-7236 ---\n"
          ]
        },
        {
          "name": "stdout",
          "output_type": "stream",
          "text": [
            "roc_auc: 0.6662\n"
          ]
        },
        {
          "name": "stderr",
          "output_type": "stream",
          "text": [
            "INFO:pyhealth.trainer:roc_auc: 0.6662\n"
          ]
        },
        {
          "name": "stdout",
          "output_type": "stream",
          "text": [
            "pr_auc: 0.7151\n"
          ]
        },
        {
          "name": "stderr",
          "output_type": "stream",
          "text": [
            "INFO:pyhealth.trainer:pr_auc: 0.7151\n"
          ]
        },
        {
          "name": "stdout",
          "output_type": "stream",
          "text": [
            "f1: 0.7441\n"
          ]
        },
        {
          "name": "stderr",
          "output_type": "stream",
          "text": [
            "INFO:pyhealth.trainer:f1: 0.7441\n"
          ]
        },
        {
          "name": "stdout",
          "output_type": "stream",
          "text": [
            "accuracy: 0.5925\n"
          ]
        },
        {
          "name": "stderr",
          "output_type": "stream",
          "text": [
            "INFO:pyhealth.trainer:accuracy: 0.5925\n"
          ]
        },
        {
          "name": "stdout",
          "output_type": "stream",
          "text": [
            "loss: 0.6124\n"
          ]
        },
        {
          "name": "stderr",
          "output_type": "stream",
          "text": [
            "INFO:pyhealth.trainer:loss: 0.6124\n"
          ]
        },
        {
          "name": "stdout",
          "output_type": "stream",
          "text": [
            "New best pr_auc score (0.7151) at epoch-3, step-7236\n"
          ]
        },
        {
          "name": "stderr",
          "output_type": "stream",
          "text": [
            "INFO:pyhealth.trainer:New best pr_auc score (0.7151) at epoch-3, step-7236\n"
          ]
        },
        {
          "name": "stdout",
          "output_type": "stream",
          "text": [
            "\n"
          ]
        },
        {
          "name": "stderr",
          "output_type": "stream",
          "text": [
            "INFO:pyhealth.trainer:\n"
          ]
        },
        {
          "data": {
            "application/vnd.jupyter.widget-view+json": {
              "model_id": "a1591c209ba84a72b25aac1a41837278",
              "version_major": 2,
              "version_minor": 0
            },
            "text/plain": [
              "Epoch 4 / 10:   0%|          | 0/1809 [00:00<?, ?it/s]"
            ]
          },
          "metadata": {},
          "output_type": "display_data"
        },
        {
          "name": "stdout",
          "output_type": "stream",
          "text": [
            "--- Train epoch-4, step-9045 ---\n"
          ]
        },
        {
          "name": "stderr",
          "output_type": "stream",
          "text": [
            "INFO:pyhealth.trainer:--- Train epoch-4, step-9045 ---\n"
          ]
        },
        {
          "name": "stdout",
          "output_type": "stream",
          "text": [
            "loss: 0.6830\n"
          ]
        },
        {
          "name": "stderr",
          "output_type": "stream",
          "text": [
            "INFO:pyhealth.trainer:loss: 0.6830\n",
            "Evaluation: 100%|██████████| 259/259 [00:00<00:00, 303.87it/s]"
          ]
        },
        {
          "name": "stdout",
          "output_type": "stream",
          "text": [
            "--- Eval epoch-4, step-9045 ---\n"
          ]
        },
        {
          "name": "stderr",
          "output_type": "stream",
          "text": [
            "\n",
            "INFO:pyhealth.trainer:--- Eval epoch-4, step-9045 ---\n"
          ]
        },
        {
          "name": "stdout",
          "output_type": "stream",
          "text": [
            "roc_auc: 0.6028\n"
          ]
        },
        {
          "name": "stderr",
          "output_type": "stream",
          "text": [
            "INFO:pyhealth.trainer:roc_auc: 0.6028\n"
          ]
        },
        {
          "name": "stdout",
          "output_type": "stream",
          "text": [
            "pr_auc: 0.6676\n"
          ]
        },
        {
          "name": "stderr",
          "output_type": "stream",
          "text": [
            "INFO:pyhealth.trainer:pr_auc: 0.6676\n"
          ]
        },
        {
          "name": "stdout",
          "output_type": "stream",
          "text": [
            "f1: 0.2044\n"
          ]
        },
        {
          "name": "stderr",
          "output_type": "stream",
          "text": [
            "INFO:pyhealth.trainer:f1: 0.2044\n"
          ]
        },
        {
          "name": "stdout",
          "output_type": "stream",
          "text": [
            "accuracy: 0.4669\n"
          ]
        },
        {
          "name": "stderr",
          "output_type": "stream",
          "text": [
            "INFO:pyhealth.trainer:accuracy: 0.4669\n"
          ]
        },
        {
          "name": "stdout",
          "output_type": "stream",
          "text": [
            "loss: 0.7885\n"
          ]
        },
        {
          "name": "stderr",
          "output_type": "stream",
          "text": [
            "INFO:pyhealth.trainer:loss: 0.7885\n"
          ]
        },
        {
          "name": "stdout",
          "output_type": "stream",
          "text": [
            "\n"
          ]
        },
        {
          "name": "stderr",
          "output_type": "stream",
          "text": [
            "INFO:pyhealth.trainer:\n"
          ]
        },
        {
          "data": {
            "application/vnd.jupyter.widget-view+json": {
              "model_id": "bb6b50da04294e608fdeaa7d38d284e0",
              "version_major": 2,
              "version_minor": 0
            },
            "text/plain": [
              "Epoch 5 / 10:   0%|          | 0/1809 [00:00<?, ?it/s]"
            ]
          },
          "metadata": {},
          "output_type": "display_data"
        },
        {
          "name": "stdout",
          "output_type": "stream",
          "text": [
            "--- Train epoch-5, step-10854 ---\n"
          ]
        },
        {
          "name": "stderr",
          "output_type": "stream",
          "text": [
            "INFO:pyhealth.trainer:--- Train epoch-5, step-10854 ---\n"
          ]
        },
        {
          "name": "stdout",
          "output_type": "stream",
          "text": [
            "loss: 0.6850\n"
          ]
        },
        {
          "name": "stderr",
          "output_type": "stream",
          "text": [
            "INFO:pyhealth.trainer:loss: 0.6850\n",
            "Evaluation: 100%|██████████| 259/259 [00:01<00:00, 235.47it/s]"
          ]
        },
        {
          "name": "stdout",
          "output_type": "stream",
          "text": [
            "--- Eval epoch-5, step-10854 ---\n"
          ]
        },
        {
          "name": "stderr",
          "output_type": "stream",
          "text": [
            "\n",
            "INFO:pyhealth.trainer:--- Eval epoch-5, step-10854 ---\n"
          ]
        },
        {
          "name": "stdout",
          "output_type": "stream",
          "text": [
            "roc_auc: 0.5784\n"
          ]
        },
        {
          "name": "stderr",
          "output_type": "stream",
          "text": [
            "INFO:pyhealth.trainer:roc_auc: 0.5784\n"
          ]
        },
        {
          "name": "stdout",
          "output_type": "stream",
          "text": [
            "pr_auc: 0.6493\n"
          ]
        },
        {
          "name": "stderr",
          "output_type": "stream",
          "text": [
            "INFO:pyhealth.trainer:pr_auc: 0.6493\n"
          ]
        },
        {
          "name": "stdout",
          "output_type": "stream",
          "text": [
            "f1: 0.3104\n"
          ]
        },
        {
          "name": "stderr",
          "output_type": "stream",
          "text": [
            "INFO:pyhealth.trainer:f1: 0.3104\n"
          ]
        },
        {
          "name": "stdout",
          "output_type": "stream",
          "text": [
            "accuracy: 0.5061\n"
          ]
        },
        {
          "name": "stderr",
          "output_type": "stream",
          "text": [
            "INFO:pyhealth.trainer:accuracy: 0.5061\n"
          ]
        },
        {
          "name": "stdout",
          "output_type": "stream",
          "text": [
            "loss: 0.6737\n"
          ]
        },
        {
          "name": "stderr",
          "output_type": "stream",
          "text": [
            "INFO:pyhealth.trainer:loss: 0.6737\n"
          ]
        },
        {
          "name": "stdout",
          "output_type": "stream",
          "text": [
            "\n"
          ]
        },
        {
          "name": "stderr",
          "output_type": "stream",
          "text": [
            "INFO:pyhealth.trainer:\n"
          ]
        },
        {
          "data": {
            "application/vnd.jupyter.widget-view+json": {
              "model_id": "cf5071e8e81846628de7b1aebdeca7a2",
              "version_major": 2,
              "version_minor": 0
            },
            "text/plain": [
              "Epoch 6 / 10:   0%|          | 0/1809 [00:00<?, ?it/s]"
            ]
          },
          "metadata": {},
          "output_type": "display_data"
        },
        {
          "name": "stdout",
          "output_type": "stream",
          "text": [
            "--- Train epoch-6, step-12663 ---\n"
          ]
        },
        {
          "name": "stderr",
          "output_type": "stream",
          "text": [
            "INFO:pyhealth.trainer:--- Train epoch-6, step-12663 ---\n"
          ]
        },
        {
          "name": "stdout",
          "output_type": "stream",
          "text": [
            "loss: 0.6836\n"
          ]
        },
        {
          "name": "stderr",
          "output_type": "stream",
          "text": [
            "INFO:pyhealth.trainer:loss: 0.6836\n",
            "Evaluation: 100%|██████████| 259/259 [00:00<00:00, 320.42it/s]"
          ]
        },
        {
          "name": "stdout",
          "output_type": "stream",
          "text": [
            "--- Eval epoch-6, step-12663 ---\n"
          ]
        },
        {
          "name": "stderr",
          "output_type": "stream",
          "text": [
            "\n",
            "INFO:pyhealth.trainer:--- Eval epoch-6, step-12663 ---\n"
          ]
        },
        {
          "name": "stdout",
          "output_type": "stream",
          "text": [
            "roc_auc: 0.5784\n"
          ]
        },
        {
          "name": "stderr",
          "output_type": "stream",
          "text": [
            "INFO:pyhealth.trainer:roc_auc: 0.5784\n"
          ]
        },
        {
          "name": "stdout",
          "output_type": "stream",
          "text": [
            "pr_auc: 0.6494\n"
          ]
        },
        {
          "name": "stderr",
          "output_type": "stream",
          "text": [
            "INFO:pyhealth.trainer:pr_auc: 0.6494\n"
          ]
        },
        {
          "name": "stdout",
          "output_type": "stream",
          "text": [
            "f1: 0.7441\n"
          ]
        },
        {
          "name": "stderr",
          "output_type": "stream",
          "text": [
            "INFO:pyhealth.trainer:f1: 0.7441\n"
          ]
        },
        {
          "name": "stdout",
          "output_type": "stream",
          "text": [
            "accuracy: 0.5925\n"
          ]
        },
        {
          "name": "stderr",
          "output_type": "stream",
          "text": [
            "INFO:pyhealth.trainer:accuracy: 0.5925\n"
          ]
        },
        {
          "name": "stdout",
          "output_type": "stream",
          "text": [
            "loss: 0.6909\n"
          ]
        },
        {
          "name": "stderr",
          "output_type": "stream",
          "text": [
            "INFO:pyhealth.trainer:loss: 0.6909\n"
          ]
        },
        {
          "name": "stdout",
          "output_type": "stream",
          "text": [
            "\n"
          ]
        },
        {
          "name": "stderr",
          "output_type": "stream",
          "text": [
            "INFO:pyhealth.trainer:\n"
          ]
        },
        {
          "data": {
            "application/vnd.jupyter.widget-view+json": {
              "model_id": "297a822235a04a36b59d6a17a8db1554",
              "version_major": 2,
              "version_minor": 0
            },
            "text/plain": [
              "Epoch 7 / 10:   0%|          | 0/1809 [00:00<?, ?it/s]"
            ]
          },
          "metadata": {},
          "output_type": "display_data"
        },
        {
          "name": "stdout",
          "output_type": "stream",
          "text": [
            "--- Train epoch-7, step-14472 ---\n"
          ]
        },
        {
          "name": "stderr",
          "output_type": "stream",
          "text": [
            "INFO:pyhealth.trainer:--- Train epoch-7, step-14472 ---\n"
          ]
        },
        {
          "name": "stdout",
          "output_type": "stream",
          "text": [
            "loss: 0.6784\n"
          ]
        },
        {
          "name": "stderr",
          "output_type": "stream",
          "text": [
            "INFO:pyhealth.trainer:loss: 0.6784\n",
            "Evaluation: 100%|██████████| 259/259 [00:01<00:00, 193.43it/s]"
          ]
        },
        {
          "name": "stdout",
          "output_type": "stream",
          "text": [
            "--- Eval epoch-7, step-14472 ---\n"
          ]
        },
        {
          "name": "stderr",
          "output_type": "stream",
          "text": [
            "\n",
            "INFO:pyhealth.trainer:--- Eval epoch-7, step-14472 ---\n"
          ]
        },
        {
          "name": "stdout",
          "output_type": "stream",
          "text": [
            "roc_auc: 0.5810\n"
          ]
        },
        {
          "name": "stderr",
          "output_type": "stream",
          "text": [
            "INFO:pyhealth.trainer:roc_auc: 0.5810\n"
          ]
        },
        {
          "name": "stdout",
          "output_type": "stream",
          "text": [
            "pr_auc: 0.6512\n"
          ]
        },
        {
          "name": "stderr",
          "output_type": "stream",
          "text": [
            "INFO:pyhealth.trainer:pr_auc: 0.6512\n"
          ]
        },
        {
          "name": "stdout",
          "output_type": "stream",
          "text": [
            "f1: 0.7441\n"
          ]
        },
        {
          "name": "stderr",
          "output_type": "stream",
          "text": [
            "INFO:pyhealth.trainer:f1: 0.7441\n"
          ]
        },
        {
          "name": "stdout",
          "output_type": "stream",
          "text": [
            "accuracy: 0.5925\n"
          ]
        },
        {
          "name": "stderr",
          "output_type": "stream",
          "text": [
            "INFO:pyhealth.trainer:accuracy: 0.5925\n"
          ]
        },
        {
          "name": "stdout",
          "output_type": "stream",
          "text": [
            "loss: 0.6761\n"
          ]
        },
        {
          "name": "stderr",
          "output_type": "stream",
          "text": [
            "INFO:pyhealth.trainer:loss: 0.6761\n"
          ]
        },
        {
          "name": "stdout",
          "output_type": "stream",
          "text": [
            "\n"
          ]
        },
        {
          "name": "stderr",
          "output_type": "stream",
          "text": [
            "INFO:pyhealth.trainer:\n"
          ]
        },
        {
          "data": {
            "application/vnd.jupyter.widget-view+json": {
              "model_id": "e1e559191b2c4ff286fd00dba797d69f",
              "version_major": 2,
              "version_minor": 0
            },
            "text/plain": [
              "Epoch 8 / 10:   0%|          | 0/1809 [00:00<?, ?it/s]"
            ]
          },
          "metadata": {},
          "output_type": "display_data"
        },
        {
          "name": "stdout",
          "output_type": "stream",
          "text": [
            "--- Train epoch-8, step-16281 ---\n"
          ]
        },
        {
          "name": "stderr",
          "output_type": "stream",
          "text": [
            "INFO:pyhealth.trainer:--- Train epoch-8, step-16281 ---\n"
          ]
        },
        {
          "name": "stdout",
          "output_type": "stream",
          "text": [
            "loss: 0.6802\n"
          ]
        },
        {
          "name": "stderr",
          "output_type": "stream",
          "text": [
            "INFO:pyhealth.trainer:loss: 0.6802\n",
            "Evaluation: 100%|██████████| 259/259 [00:00<00:00, 330.36it/s]"
          ]
        },
        {
          "name": "stdout",
          "output_type": "stream",
          "text": [
            "--- Eval epoch-8, step-16281 ---\n"
          ]
        },
        {
          "name": "stderr",
          "output_type": "stream",
          "text": [
            "\n",
            "INFO:pyhealth.trainer:--- Eval epoch-8, step-16281 ---\n"
          ]
        },
        {
          "name": "stdout",
          "output_type": "stream",
          "text": [
            "roc_auc: 0.5757\n"
          ]
        },
        {
          "name": "stderr",
          "output_type": "stream",
          "text": [
            "INFO:pyhealth.trainer:roc_auc: 0.5757\n"
          ]
        },
        {
          "name": "stdout",
          "output_type": "stream",
          "text": [
            "pr_auc: 0.6503\n"
          ]
        },
        {
          "name": "stderr",
          "output_type": "stream",
          "text": [
            "INFO:pyhealth.trainer:pr_auc: 0.6503\n"
          ]
        },
        {
          "name": "stdout",
          "output_type": "stream",
          "text": [
            "f1: 0.7441\n"
          ]
        },
        {
          "name": "stderr",
          "output_type": "stream",
          "text": [
            "INFO:pyhealth.trainer:f1: 0.7441\n"
          ]
        },
        {
          "name": "stdout",
          "output_type": "stream",
          "text": [
            "accuracy: 0.5925\n"
          ]
        },
        {
          "name": "stderr",
          "output_type": "stream",
          "text": [
            "INFO:pyhealth.trainer:accuracy: 0.5925\n"
          ]
        },
        {
          "name": "stdout",
          "output_type": "stream",
          "text": [
            "loss: 0.6709\n"
          ]
        },
        {
          "name": "stderr",
          "output_type": "stream",
          "text": [
            "INFO:pyhealth.trainer:loss: 0.6709\n"
          ]
        },
        {
          "name": "stdout",
          "output_type": "stream",
          "text": [
            "\n"
          ]
        },
        {
          "name": "stderr",
          "output_type": "stream",
          "text": [
            "INFO:pyhealth.trainer:\n"
          ]
        },
        {
          "data": {
            "application/vnd.jupyter.widget-view+json": {
              "model_id": "07467c0070554d04b4a206783bb84fc9",
              "version_major": 2,
              "version_minor": 0
            },
            "text/plain": [
              "Epoch 9 / 10:   0%|          | 0/1809 [00:00<?, ?it/s]"
            ]
          },
          "metadata": {},
          "output_type": "display_data"
        },
        {
          "name": "stdout",
          "output_type": "stream",
          "text": [
            "--- Train epoch-9, step-18090 ---\n"
          ]
        },
        {
          "name": "stderr",
          "output_type": "stream",
          "text": [
            "INFO:pyhealth.trainer:--- Train epoch-9, step-18090 ---\n"
          ]
        },
        {
          "name": "stdout",
          "output_type": "stream",
          "text": [
            "loss: 0.6781\n"
          ]
        },
        {
          "name": "stderr",
          "output_type": "stream",
          "text": [
            "INFO:pyhealth.trainer:loss: 0.6781\n",
            "Evaluation: 100%|██████████| 259/259 [00:00<00:00, 311.29it/s]"
          ]
        },
        {
          "name": "stdout",
          "output_type": "stream",
          "text": [
            "--- Eval epoch-9, step-18090 ---\n"
          ]
        },
        {
          "name": "stderr",
          "output_type": "stream",
          "text": [
            "\n",
            "INFO:pyhealth.trainer:--- Eval epoch-9, step-18090 ---\n"
          ]
        },
        {
          "name": "stdout",
          "output_type": "stream",
          "text": [
            "roc_auc: 0.5739\n"
          ]
        },
        {
          "name": "stderr",
          "output_type": "stream",
          "text": [
            "INFO:pyhealth.trainer:roc_auc: 0.5739\n"
          ]
        },
        {
          "name": "stdout",
          "output_type": "stream",
          "text": [
            "pr_auc: 0.6449\n"
          ]
        },
        {
          "name": "stderr",
          "output_type": "stream",
          "text": [
            "INFO:pyhealth.trainer:pr_auc: 0.6449\n"
          ]
        },
        {
          "name": "stdout",
          "output_type": "stream",
          "text": [
            "f1: 0.7441\n"
          ]
        },
        {
          "name": "stderr",
          "output_type": "stream",
          "text": [
            "INFO:pyhealth.trainer:f1: 0.7441\n"
          ]
        },
        {
          "name": "stdout",
          "output_type": "stream",
          "text": [
            "accuracy: 0.5925\n"
          ]
        },
        {
          "name": "stderr",
          "output_type": "stream",
          "text": [
            "INFO:pyhealth.trainer:accuracy: 0.5925\n"
          ]
        },
        {
          "name": "stdout",
          "output_type": "stream",
          "text": [
            "loss: 0.6646\n"
          ]
        },
        {
          "name": "stderr",
          "output_type": "stream",
          "text": [
            "INFO:pyhealth.trainer:loss: 0.6646\n"
          ]
        },
        {
          "name": "stdout",
          "output_type": "stream",
          "text": [
            "Loaded best model\n"
          ]
        },
        {
          "name": "stderr",
          "output_type": "stream",
          "text": [
            "INFO:pyhealth.trainer:Loaded best model\n"
          ]
        }
      ],
      "source": [
        "from pyhealth.datasets import split_by_visit, get_dataloader\n",
        "from pyhealth.trainer import Trainer\n",
        "from pyhealth.models import RNN\n",
        "\n",
        "\n",
        "# Data split by visits\n",
        "train_samples, val_samples, test_samples = split_by_visit(dreamt_samples_RNN, [0.7, 0.1, 0.2])\n",
        "\n",
        "# Create dataloaders\n",
        "train_loader = get_dataloader(train_samples, batch_size=32, shuffle=True)\n",
        "val_loader = get_dataloader(val_samples, batch_size=32, shuffle=False)\n",
        "test_loader = get_dataloader(test_samples, batch_size=32, shuffle=False)\n",
        "\n",
        "\n",
        "model = RNN(\n",
        "    dataset=dreamt_samples,\n",
        "    embedding_dim=358,\n",
        "    hidden_dim=256,\n",
        "    num_layers=2,\n",
        "    dropout=0.3\n",
        ")\n",
        "\n",
        "trainer = Trainer(\n",
        "    model=model,\n",
        "    device=\"cpu\",\n",
        "    metrics=[\"roc_auc\", \"pr_auc\", \"f1\", \"accuracy\"],\n",
        ")\n",
        "\n",
        "trainer.train(\n",
        "    train_dataloader=train_loader,\n",
        "    val_dataloader=val_loader,\n",
        "    epochs=10,\n",
        "    optimizer_class=torch.optim.Adam,  # Optimizer choice\n",
        "    optimizer_params={\"lr\": 0.02, \"weight_decay\": 1e-5},  # Optimizer parameters\n",
        "    monitor=\"pr_auc\",  # Monitor AUC-ROC for best model selection\n",
        "    monitor_criterion=\"max\",  # Maximize AUC-ROC during training\n",
        "    load_best_model_at_last=True,  # Automatically load the best-performing model\n",
        ")\n"
      ]
    },
    {
      "cell_type": "code",
      "execution_count": null,
      "metadata": {
        "colab": {
          "base_uri": "https://localhost:8080/"
        },
        "id": "UQwvC24BcTuu",
        "outputId": "14b3241e-302b-4479-dc95-83a6c73c652b"
      },
      "outputs": [
        {
          "name": "stderr",
          "output_type": "stream",
          "text": [
            "Evaluation: 100%|██████████| 517/517 [00:01<00:00, 326.12it/s]"
          ]
        },
        {
          "name": "stdout",
          "output_type": "stream",
          "text": [
            "dreamt Test Set Evaluation Metrics: {'roc_auc': np.float64(0.6649465295939321), 'pr_auc': np.float64(0.7053998951028289), 'f1': 0.7357596146494381, 'accuracy': 0.5819776232234654, 'loss': 0.61838795455097}\n"
          ]
        },
        {
          "name": "stderr",
          "output_type": "stream",
          "text": [
            "\n"
          ]
        }
      ],
      "source": [
        "dreamt_results = trainer.evaluate(test_loader)\n",
        "\n",
        "# Print evaluation metrics\n",
        "print(\"dreamt Test Set Evaluation Metrics:\", dreamt_results) "
      ]
    },
    {
      "cell_type": "code",
      "execution_count": null,
      "metadata": {
        "id": "eqPsK8GN2mv1"
      },
      "outputs": [],
      "source": []
    },
    {
      "cell_type": "code",
      "execution_count": null,
      "metadata": {
        "id": "-pkwDQR372MZ"
      },
      "outputs": [],
      "source": []
    }
  ],
  "metadata": {
    "colab": {
      "provenance": []
    },
    "kernelspec": {
      "display_name": "dreamt",
      "language": "python",
      "name": "python3"
    },
    "language_info": {
      "codemirror_mode": {
        "name": "ipython",
        "version": 3
      },
      "file_extension": ".py",
      "mimetype": "text/x-python",
      "name": "python",
      "nbconvert_exporter": "python",
      "pygments_lexer": "ipython3",
      "version": "3.10.17"
    },
    "widgets": {
      "application/vnd.jupyter.widget-state+json": {
        "0344aa98b5c54cd388c72332ce76e4f1": {
          "model_module": "@jupyter-widgets/controls",
          "model_module_version": "1.5.0",
          "model_name": "DescriptionStyleModel",
          "state": {
            "_model_module": "@jupyter-widgets/controls",
            "_model_module_version": "1.5.0",
            "_model_name": "DescriptionStyleModel",
            "_view_count": null,
            "_view_module": "@jupyter-widgets/base",
            "_view_module_version": "1.2.0",
            "_view_name": "StyleView",
            "description_width": ""
          }
        },
        "040d196d370b4e99a1dc82b04fd32b6c": {
          "model_module": "@jupyter-widgets/base",
          "model_module_version": "1.2.0",
          "model_name": "LayoutModel",
          "state": {
            "_model_module": "@jupyter-widgets/base",
            "_model_module_version": "1.2.0",
            "_model_name": "LayoutModel",
            "_view_count": null,
            "_view_module": "@jupyter-widgets/base",
            "_view_module_version": "1.2.0",
            "_view_name": "LayoutView",
            "align_content": null,
            "align_items": null,
            "align_self": null,
            "border": null,
            "bottom": null,
            "display": null,
            "flex": null,
            "flex_flow": null,
            "grid_area": null,
            "grid_auto_columns": null,
            "grid_auto_flow": null,
            "grid_auto_rows": null,
            "grid_column": null,
            "grid_gap": null,
            "grid_row": null,
            "grid_template_areas": null,
            "grid_template_columns": null,
            "grid_template_rows": null,
            "height": null,
            "justify_content": null,
            "justify_items": null,
            "left": null,
            "margin": null,
            "max_height": null,
            "max_width": null,
            "min_height": null,
            "min_width": null,
            "object_fit": null,
            "object_position": null,
            "order": null,
            "overflow": null,
            "overflow_x": null,
            "overflow_y": null,
            "padding": null,
            "right": null,
            "top": null,
            "visibility": null,
            "width": null
          }
        },
        "05c72123fe034a8b84fed575c5246eb4": {
          "model_module": "@jupyter-widgets/controls",
          "model_module_version": "1.5.0",
          "model_name": "DescriptionStyleModel",
          "state": {
            "_model_module": "@jupyter-widgets/controls",
            "_model_module_version": "1.5.0",
            "_model_name": "DescriptionStyleModel",
            "_view_count": null,
            "_view_module": "@jupyter-widgets/base",
            "_view_module_version": "1.2.0",
            "_view_name": "StyleView",
            "description_width": ""
          }
        },
        "07467c0070554d04b4a206783bb84fc9": {
          "model_module": "@jupyter-widgets/controls",
          "model_module_version": "1.5.0",
          "model_name": "HBoxModel",
          "state": {
            "_dom_classes": [],
            "_model_module": "@jupyter-widgets/controls",
            "_model_module_version": "1.5.0",
            "_model_name": "HBoxModel",
            "_view_count": null,
            "_view_module": "@jupyter-widgets/controls",
            "_view_module_version": "1.5.0",
            "_view_name": "HBoxView",
            "box_style": "",
            "children": [
              "IPY_MODEL_7538bf8ff00a48fbbe3a725fbe6e2d25",
              "IPY_MODEL_6ee334be7bff44429ef1748e6965b4d7",
              "IPY_MODEL_e98bc74a1e4b472e987e097899769c4f"
            ],
            "layout": "IPY_MODEL_93b5a92afa914ed9b7b2341bed25b1a0"
          }
        },
        "090531cff8d94750abdc20a43cfe2a74": {
          "model_module": "@jupyter-widgets/base",
          "model_module_version": "1.2.0",
          "model_name": "LayoutModel",
          "state": {
            "_model_module": "@jupyter-widgets/base",
            "_model_module_version": "1.2.0",
            "_model_name": "LayoutModel",
            "_view_count": null,
            "_view_module": "@jupyter-widgets/base",
            "_view_module_version": "1.2.0",
            "_view_name": "LayoutView",
            "align_content": null,
            "align_items": null,
            "align_self": null,
            "border": null,
            "bottom": null,
            "display": null,
            "flex": null,
            "flex_flow": null,
            "grid_area": null,
            "grid_auto_columns": null,
            "grid_auto_flow": null,
            "grid_auto_rows": null,
            "grid_column": null,
            "grid_gap": null,
            "grid_row": null,
            "grid_template_areas": null,
            "grid_template_columns": null,
            "grid_template_rows": null,
            "height": null,
            "justify_content": null,
            "justify_items": null,
            "left": null,
            "margin": null,
            "max_height": null,
            "max_width": null,
            "min_height": null,
            "min_width": null,
            "object_fit": null,
            "object_position": null,
            "order": null,
            "overflow": null,
            "overflow_x": null,
            "overflow_y": null,
            "padding": null,
            "right": null,
            "top": null,
            "visibility": null,
            "width": null
          }
        },
        "0f584e7204ff412587f4ac388fde36b5": {
          "model_module": "@jupyter-widgets/base",
          "model_module_version": "1.2.0",
          "model_name": "LayoutModel",
          "state": {
            "_model_module": "@jupyter-widgets/base",
            "_model_module_version": "1.2.0",
            "_model_name": "LayoutModel",
            "_view_count": null,
            "_view_module": "@jupyter-widgets/base",
            "_view_module_version": "1.2.0",
            "_view_name": "LayoutView",
            "align_content": null,
            "align_items": null,
            "align_self": null,
            "border": null,
            "bottom": null,
            "display": null,
            "flex": null,
            "flex_flow": null,
            "grid_area": null,
            "grid_auto_columns": null,
            "grid_auto_flow": null,
            "grid_auto_rows": null,
            "grid_column": null,
            "grid_gap": null,
            "grid_row": null,
            "grid_template_areas": null,
            "grid_template_columns": null,
            "grid_template_rows": null,
            "height": null,
            "justify_content": null,
            "justify_items": null,
            "left": null,
            "margin": null,
            "max_height": null,
            "max_width": null,
            "min_height": null,
            "min_width": null,
            "object_fit": null,
            "object_position": null,
            "order": null,
            "overflow": null,
            "overflow_x": null,
            "overflow_y": null,
            "padding": null,
            "right": null,
            "top": null,
            "visibility": null,
            "width": null
          }
        },
        "1225948e691c4113bb9da798ed7d74fb": {
          "model_module": "@jupyter-widgets/controls",
          "model_module_version": "1.5.0",
          "model_name": "HTMLModel",
          "state": {
            "_dom_classes": [],
            "_model_module": "@jupyter-widgets/controls",
            "_model_module_version": "1.5.0",
            "_model_name": "HTMLModel",
            "_view_count": null,
            "_view_module": "@jupyter-widgets/controls",
            "_view_module_version": "1.5.0",
            "_view_name": "HTMLView",
            "description": "",
            "description_tooltip": null,
            "layout": "IPY_MODEL_47496702d04d4166937d11a54f13023f",
            "placeholder": "​",
            "style": "IPY_MODEL_bbc2a35552354779afcc4ccc3ed32050",
            "value": " 1809/1809 [00:46&lt;00:00, 40.58it/s]"
          }
        },
        "1254c821e773487193e10dd6be515614": {
          "model_module": "@jupyter-widgets/controls",
          "model_module_version": "1.5.0",
          "model_name": "HBoxModel",
          "state": {
            "_dom_classes": [],
            "_model_module": "@jupyter-widgets/controls",
            "_model_module_version": "1.5.0",
            "_model_name": "HBoxModel",
            "_view_count": null,
            "_view_module": "@jupyter-widgets/controls",
            "_view_module_version": "1.5.0",
            "_view_name": "HBoxView",
            "box_style": "",
            "children": [
              "IPY_MODEL_92d8a8906c14431d9ade49ae42cd3ad3",
              "IPY_MODEL_ba544c5b489e4d59b455424a29e9216f",
              "IPY_MODEL_b9e7936153294a0ca21f4892b282a29b"
            ],
            "layout": "IPY_MODEL_19034ae5ec8847f887848b618bb5326a"
          }
        },
        "155173d5377b4148b099a492a671cde7": {
          "model_module": "@jupyter-widgets/base",
          "model_module_version": "1.2.0",
          "model_name": "LayoutModel",
          "state": {
            "_model_module": "@jupyter-widgets/base",
            "_model_module_version": "1.2.0",
            "_model_name": "LayoutModel",
            "_view_count": null,
            "_view_module": "@jupyter-widgets/base",
            "_view_module_version": "1.2.0",
            "_view_name": "LayoutView",
            "align_content": null,
            "align_items": null,
            "align_self": null,
            "border": null,
            "bottom": null,
            "display": null,
            "flex": null,
            "flex_flow": null,
            "grid_area": null,
            "grid_auto_columns": null,
            "grid_auto_flow": null,
            "grid_auto_rows": null,
            "grid_column": null,
            "grid_gap": null,
            "grid_row": null,
            "grid_template_areas": null,
            "grid_template_columns": null,
            "grid_template_rows": null,
            "height": null,
            "justify_content": null,
            "justify_items": null,
            "left": null,
            "margin": null,
            "max_height": null,
            "max_width": null,
            "min_height": null,
            "min_width": null,
            "object_fit": null,
            "object_position": null,
            "order": null,
            "overflow": null,
            "overflow_x": null,
            "overflow_y": null,
            "padding": null,
            "right": null,
            "top": null,
            "visibility": null,
            "width": null
          }
        },
        "19034ae5ec8847f887848b618bb5326a": {
          "model_module": "@jupyter-widgets/base",
          "model_module_version": "1.2.0",
          "model_name": "LayoutModel",
          "state": {
            "_model_module": "@jupyter-widgets/base",
            "_model_module_version": "1.2.0",
            "_model_name": "LayoutModel",
            "_view_count": null,
            "_view_module": "@jupyter-widgets/base",
            "_view_module_version": "1.2.0",
            "_view_name": "LayoutView",
            "align_content": null,
            "align_items": null,
            "align_self": null,
            "border": null,
            "bottom": null,
            "display": null,
            "flex": null,
            "flex_flow": null,
            "grid_area": null,
            "grid_auto_columns": null,
            "grid_auto_flow": null,
            "grid_auto_rows": null,
            "grid_column": null,
            "grid_gap": null,
            "grid_row": null,
            "grid_template_areas": null,
            "grid_template_columns": null,
            "grid_template_rows": null,
            "height": null,
            "justify_content": null,
            "justify_items": null,
            "left": null,
            "margin": null,
            "max_height": null,
            "max_width": null,
            "min_height": null,
            "min_width": null,
            "object_fit": null,
            "object_position": null,
            "order": null,
            "overflow": null,
            "overflow_x": null,
            "overflow_y": null,
            "padding": null,
            "right": null,
            "top": null,
            "visibility": null,
            "width": null
          }
        },
        "1bc5eca2aba448ac91b5645f4d51f589": {
          "model_module": "@jupyter-widgets/controls",
          "model_module_version": "1.5.0",
          "model_name": "FloatProgressModel",
          "state": {
            "_dom_classes": [],
            "_model_module": "@jupyter-widgets/controls",
            "_model_module_version": "1.5.0",
            "_model_name": "FloatProgressModel",
            "_view_count": null,
            "_view_module": "@jupyter-widgets/controls",
            "_view_module_version": "1.5.0",
            "_view_name": "ProgressView",
            "bar_style": "success",
            "description": "",
            "description_tooltip": null,
            "layout": "IPY_MODEL_0f584e7204ff412587f4ac388fde36b5",
            "max": 1809,
            "min": 0,
            "orientation": "horizontal",
            "style": "IPY_MODEL_3cc43a3ce8a54e06bfcbd061ad5fb814",
            "value": 1809
          }
        },
        "1d3df9322a284bef9149629a581cbf62": {
          "model_module": "@jupyter-widgets/controls",
          "model_module_version": "1.5.0",
          "model_name": "HTMLModel",
          "state": {
            "_dom_classes": [],
            "_model_module": "@jupyter-widgets/controls",
            "_model_module_version": "1.5.0",
            "_model_name": "HTMLModel",
            "_view_count": null,
            "_view_module": "@jupyter-widgets/controls",
            "_view_module_version": "1.5.0",
            "_view_name": "HTMLView",
            "description": "",
            "description_tooltip": null,
            "layout": "IPY_MODEL_73e2b9b2250b4aada01ea9d95a52ba50",
            "placeholder": "​",
            "style": "IPY_MODEL_7f96eee7c8734d769ba5003afe228455",
            "value": " 1809/1809 [00:42&lt;00:00, 38.20it/s]"
          }
        },
        "1ddce588acf74fdf9f4369c5a31f594b": {
          "model_module": "@jupyter-widgets/controls",
          "model_module_version": "1.5.0",
          "model_name": "FloatProgressModel",
          "state": {
            "_dom_classes": [],
            "_model_module": "@jupyter-widgets/controls",
            "_model_module_version": "1.5.0",
            "_model_name": "FloatProgressModel",
            "_view_count": null,
            "_view_module": "@jupyter-widgets/controls",
            "_view_module_version": "1.5.0",
            "_view_name": "ProgressView",
            "bar_style": "success",
            "description": "",
            "description_tooltip": null,
            "layout": "IPY_MODEL_5518ba2714304a66b72654ab122d275e",
            "max": 1809,
            "min": 0,
            "orientation": "horizontal",
            "style": "IPY_MODEL_2bd17ba35f6f4745bfa3758eb96b2bb5",
            "value": 1809
          }
        },
        "1f3f743e6e3b4218bec9373580305100": {
          "model_module": "@jupyter-widgets/base",
          "model_module_version": "1.2.0",
          "model_name": "LayoutModel",
          "state": {
            "_model_module": "@jupyter-widgets/base",
            "_model_module_version": "1.2.0",
            "_model_name": "LayoutModel",
            "_view_count": null,
            "_view_module": "@jupyter-widgets/base",
            "_view_module_version": "1.2.0",
            "_view_name": "LayoutView",
            "align_content": null,
            "align_items": null,
            "align_self": null,
            "border": null,
            "bottom": null,
            "display": null,
            "flex": null,
            "flex_flow": null,
            "grid_area": null,
            "grid_auto_columns": null,
            "grid_auto_flow": null,
            "grid_auto_rows": null,
            "grid_column": null,
            "grid_gap": null,
            "grid_row": null,
            "grid_template_areas": null,
            "grid_template_columns": null,
            "grid_template_rows": null,
            "height": null,
            "justify_content": null,
            "justify_items": null,
            "left": null,
            "margin": null,
            "max_height": null,
            "max_width": null,
            "min_height": null,
            "min_width": null,
            "object_fit": null,
            "object_position": null,
            "order": null,
            "overflow": null,
            "overflow_x": null,
            "overflow_y": null,
            "padding": null,
            "right": null,
            "top": null,
            "visibility": null,
            "width": null
          }
        },
        "230d36c444b64303856611e032c73aaa": {
          "model_module": "@jupyter-widgets/controls",
          "model_module_version": "1.5.0",
          "model_name": "DescriptionStyleModel",
          "state": {
            "_model_module": "@jupyter-widgets/controls",
            "_model_module_version": "1.5.0",
            "_model_name": "DescriptionStyleModel",
            "_view_count": null,
            "_view_module": "@jupyter-widgets/base",
            "_view_module_version": "1.2.0",
            "_view_name": "StyleView",
            "description_width": ""
          }
        },
        "25e8d2fe2b364d6f902275da2687775b": {
          "model_module": "@jupyter-widgets/base",
          "model_module_version": "1.2.0",
          "model_name": "LayoutModel",
          "state": {
            "_model_module": "@jupyter-widgets/base",
            "_model_module_version": "1.2.0",
            "_model_name": "LayoutModel",
            "_view_count": null,
            "_view_module": "@jupyter-widgets/base",
            "_view_module_version": "1.2.0",
            "_view_name": "LayoutView",
            "align_content": null,
            "align_items": null,
            "align_self": null,
            "border": null,
            "bottom": null,
            "display": null,
            "flex": null,
            "flex_flow": null,
            "grid_area": null,
            "grid_auto_columns": null,
            "grid_auto_flow": null,
            "grid_auto_rows": null,
            "grid_column": null,
            "grid_gap": null,
            "grid_row": null,
            "grid_template_areas": null,
            "grid_template_columns": null,
            "grid_template_rows": null,
            "height": null,
            "justify_content": null,
            "justify_items": null,
            "left": null,
            "margin": null,
            "max_height": null,
            "max_width": null,
            "min_height": null,
            "min_width": null,
            "object_fit": null,
            "object_position": null,
            "order": null,
            "overflow": null,
            "overflow_x": null,
            "overflow_y": null,
            "padding": null,
            "right": null,
            "top": null,
            "visibility": null,
            "width": null
          }
        },
        "26c8423491a54afeaecac4712eb1dcd9": {
          "model_module": "@jupyter-widgets/controls",
          "model_module_version": "1.5.0",
          "model_name": "FloatProgressModel",
          "state": {
            "_dom_classes": [],
            "_model_module": "@jupyter-widgets/controls",
            "_model_module_version": "1.5.0",
            "_model_name": "FloatProgressModel",
            "_view_count": null,
            "_view_module": "@jupyter-widgets/controls",
            "_view_module_version": "1.5.0",
            "_view_name": "ProgressView",
            "bar_style": "success",
            "description": "",
            "description_tooltip": null,
            "layout": "IPY_MODEL_a8da9e523fd64fd3830f6d2656650f16",
            "max": 1809,
            "min": 0,
            "orientation": "horizontal",
            "style": "IPY_MODEL_57b27954f7b949fc9dd7ec37660b1148",
            "value": 1809
          }
        },
        "297a822235a04a36b59d6a17a8db1554": {
          "model_module": "@jupyter-widgets/controls",
          "model_module_version": "1.5.0",
          "model_name": "HBoxModel",
          "state": {
            "_dom_classes": [],
            "_model_module": "@jupyter-widgets/controls",
            "_model_module_version": "1.5.0",
            "_model_name": "HBoxModel",
            "_view_count": null,
            "_view_module": "@jupyter-widgets/controls",
            "_view_module_version": "1.5.0",
            "_view_name": "HBoxView",
            "box_style": "",
            "children": [
              "IPY_MODEL_f4c0ee5292cd4cf5bed57193d4011207",
              "IPY_MODEL_f36a38fad023440b8b1f7c12adede121",
              "IPY_MODEL_56eb5bc88f484653bdf73f7588826c9f"
            ],
            "layout": "IPY_MODEL_fc38505f85c54e08a2ff87af1032a737"
          }
        },
        "2ad4a99203f741578519543952370ff9": {
          "model_module": "@jupyter-widgets/base",
          "model_module_version": "1.2.0",
          "model_name": "LayoutModel",
          "state": {
            "_model_module": "@jupyter-widgets/base",
            "_model_module_version": "1.2.0",
            "_model_name": "LayoutModel",
            "_view_count": null,
            "_view_module": "@jupyter-widgets/base",
            "_view_module_version": "1.2.0",
            "_view_name": "LayoutView",
            "align_content": null,
            "align_items": null,
            "align_self": null,
            "border": null,
            "bottom": null,
            "display": null,
            "flex": null,
            "flex_flow": null,
            "grid_area": null,
            "grid_auto_columns": null,
            "grid_auto_flow": null,
            "grid_auto_rows": null,
            "grid_column": null,
            "grid_gap": null,
            "grid_row": null,
            "grid_template_areas": null,
            "grid_template_columns": null,
            "grid_template_rows": null,
            "height": null,
            "justify_content": null,
            "justify_items": null,
            "left": null,
            "margin": null,
            "max_height": null,
            "max_width": null,
            "min_height": null,
            "min_width": null,
            "object_fit": null,
            "object_position": null,
            "order": null,
            "overflow": null,
            "overflow_x": null,
            "overflow_y": null,
            "padding": null,
            "right": null,
            "top": null,
            "visibility": null,
            "width": null
          }
        },
        "2bd17ba35f6f4745bfa3758eb96b2bb5": {
          "model_module": "@jupyter-widgets/controls",
          "model_module_version": "1.5.0",
          "model_name": "ProgressStyleModel",
          "state": {
            "_model_module": "@jupyter-widgets/controls",
            "_model_module_version": "1.5.0",
            "_model_name": "ProgressStyleModel",
            "_view_count": null,
            "_view_module": "@jupyter-widgets/base",
            "_view_module_version": "1.2.0",
            "_view_name": "StyleView",
            "bar_color": null,
            "description_width": ""
          }
        },
        "329873f9a9da4985a108a7163ede3e36": {
          "model_module": "@jupyter-widgets/base",
          "model_module_version": "1.2.0",
          "model_name": "LayoutModel",
          "state": {
            "_model_module": "@jupyter-widgets/base",
            "_model_module_version": "1.2.0",
            "_model_name": "LayoutModel",
            "_view_count": null,
            "_view_module": "@jupyter-widgets/base",
            "_view_module_version": "1.2.0",
            "_view_name": "LayoutView",
            "align_content": null,
            "align_items": null,
            "align_self": null,
            "border": null,
            "bottom": null,
            "display": null,
            "flex": null,
            "flex_flow": null,
            "grid_area": null,
            "grid_auto_columns": null,
            "grid_auto_flow": null,
            "grid_auto_rows": null,
            "grid_column": null,
            "grid_gap": null,
            "grid_row": null,
            "grid_template_areas": null,
            "grid_template_columns": null,
            "grid_template_rows": null,
            "height": null,
            "justify_content": null,
            "justify_items": null,
            "left": null,
            "margin": null,
            "max_height": null,
            "max_width": null,
            "min_height": null,
            "min_width": null,
            "object_fit": null,
            "object_position": null,
            "order": null,
            "overflow": null,
            "overflow_x": null,
            "overflow_y": null,
            "padding": null,
            "right": null,
            "top": null,
            "visibility": null,
            "width": null
          }
        },
        "33e4a0aa1026491a9ed11b19fec86495": {
          "model_module": "@jupyter-widgets/base",
          "model_module_version": "1.2.0",
          "model_name": "LayoutModel",
          "state": {
            "_model_module": "@jupyter-widgets/base",
            "_model_module_version": "1.2.0",
            "_model_name": "LayoutModel",
            "_view_count": null,
            "_view_module": "@jupyter-widgets/base",
            "_view_module_version": "1.2.0",
            "_view_name": "LayoutView",
            "align_content": null,
            "align_items": null,
            "align_self": null,
            "border": null,
            "bottom": null,
            "display": null,
            "flex": null,
            "flex_flow": null,
            "grid_area": null,
            "grid_auto_columns": null,
            "grid_auto_flow": null,
            "grid_auto_rows": null,
            "grid_column": null,
            "grid_gap": null,
            "grid_row": null,
            "grid_template_areas": null,
            "grid_template_columns": null,
            "grid_template_rows": null,
            "height": null,
            "justify_content": null,
            "justify_items": null,
            "left": null,
            "margin": null,
            "max_height": null,
            "max_width": null,
            "min_height": null,
            "min_width": null,
            "object_fit": null,
            "object_position": null,
            "order": null,
            "overflow": null,
            "overflow_x": null,
            "overflow_y": null,
            "padding": null,
            "right": null,
            "top": null,
            "visibility": null,
            "width": null
          }
        },
        "37cee778398048a389623ed4007153a0": {
          "model_module": "@jupyter-widgets/controls",
          "model_module_version": "1.5.0",
          "model_name": "DescriptionStyleModel",
          "state": {
            "_model_module": "@jupyter-widgets/controls",
            "_model_module_version": "1.5.0",
            "_model_name": "DescriptionStyleModel",
            "_view_count": null,
            "_view_module": "@jupyter-widgets/base",
            "_view_module_version": "1.2.0",
            "_view_name": "StyleView",
            "description_width": ""
          }
        },
        "3857c8ab8fd241388f4c64b7e080cc2e": {
          "model_module": "@jupyter-widgets/controls",
          "model_module_version": "1.5.0",
          "model_name": "FloatProgressModel",
          "state": {
            "_dom_classes": [],
            "_model_module": "@jupyter-widgets/controls",
            "_model_module_version": "1.5.0",
            "_model_name": "FloatProgressModel",
            "_view_count": null,
            "_view_module": "@jupyter-widgets/controls",
            "_view_module_version": "1.5.0",
            "_view_name": "ProgressView",
            "bar_style": "success",
            "description": "",
            "description_tooltip": null,
            "layout": "IPY_MODEL_d106df7b22c048e9a5ba57d10dd2460d",
            "max": 1809,
            "min": 0,
            "orientation": "horizontal",
            "style": "IPY_MODEL_8ec56469ee72458b8b181b105f4711ac",
            "value": 1809
          }
        },
        "38ee61a82dd041b7b33e3a0b1db4606b": {
          "model_module": "@jupyter-widgets/controls",
          "model_module_version": "1.5.0",
          "model_name": "HBoxModel",
          "state": {
            "_dom_classes": [],
            "_model_module": "@jupyter-widgets/controls",
            "_model_module_version": "1.5.0",
            "_model_name": "HBoxModel",
            "_view_count": null,
            "_view_module": "@jupyter-widgets/controls",
            "_view_module_version": "1.5.0",
            "_view_name": "HBoxView",
            "box_style": "",
            "children": [
              "IPY_MODEL_bcc945cdaccb49379d6b574ee9c8b6ec",
              "IPY_MODEL_26c8423491a54afeaecac4712eb1dcd9",
              "IPY_MODEL_1d3df9322a284bef9149629a581cbf62"
            ],
            "layout": "IPY_MODEL_25e8d2fe2b364d6f902275da2687775b"
          }
        },
        "3b7ba70ef50740d6b56b47f3d86d92b8": {
          "model_module": "@jupyter-widgets/base",
          "model_module_version": "1.2.0",
          "model_name": "LayoutModel",
          "state": {
            "_model_module": "@jupyter-widgets/base",
            "_model_module_version": "1.2.0",
            "_model_name": "LayoutModel",
            "_view_count": null,
            "_view_module": "@jupyter-widgets/base",
            "_view_module_version": "1.2.0",
            "_view_name": "LayoutView",
            "align_content": null,
            "align_items": null,
            "align_self": null,
            "border": null,
            "bottom": null,
            "display": null,
            "flex": null,
            "flex_flow": null,
            "grid_area": null,
            "grid_auto_columns": null,
            "grid_auto_flow": null,
            "grid_auto_rows": null,
            "grid_column": null,
            "grid_gap": null,
            "grid_row": null,
            "grid_template_areas": null,
            "grid_template_columns": null,
            "grid_template_rows": null,
            "height": null,
            "justify_content": null,
            "justify_items": null,
            "left": null,
            "margin": null,
            "max_height": null,
            "max_width": null,
            "min_height": null,
            "min_width": null,
            "object_fit": null,
            "object_position": null,
            "order": null,
            "overflow": null,
            "overflow_x": null,
            "overflow_y": null,
            "padding": null,
            "right": null,
            "top": null,
            "visibility": null,
            "width": null
          }
        },
        "3c66b6f2779f45de95537028a1a7cdb6": {
          "model_module": "@jupyter-widgets/controls",
          "model_module_version": "1.5.0",
          "model_name": "FloatProgressModel",
          "state": {
            "_dom_classes": [],
            "_model_module": "@jupyter-widgets/controls",
            "_model_module_version": "1.5.0",
            "_model_name": "FloatProgressModel",
            "_view_count": null,
            "_view_module": "@jupyter-widgets/controls",
            "_view_module_version": "1.5.0",
            "_view_name": "ProgressView",
            "bar_style": "success",
            "description": "",
            "description_tooltip": null,
            "layout": "IPY_MODEL_33e4a0aa1026491a9ed11b19fec86495",
            "max": 1809,
            "min": 0,
            "orientation": "horizontal",
            "style": "IPY_MODEL_96469f39e106414da6dc02e0918c2a4e",
            "value": 1809
          }
        },
        "3cc43a3ce8a54e06bfcbd061ad5fb814": {
          "model_module": "@jupyter-widgets/controls",
          "model_module_version": "1.5.0",
          "model_name": "ProgressStyleModel",
          "state": {
            "_model_module": "@jupyter-widgets/controls",
            "_model_module_version": "1.5.0",
            "_model_name": "ProgressStyleModel",
            "_view_count": null,
            "_view_module": "@jupyter-widgets/base",
            "_view_module_version": "1.2.0",
            "_view_name": "StyleView",
            "bar_color": null,
            "description_width": ""
          }
        },
        "3cca394293e946158a50f949c338de33": {
          "model_module": "@jupyter-widgets/base",
          "model_module_version": "1.2.0",
          "model_name": "LayoutModel",
          "state": {
            "_model_module": "@jupyter-widgets/base",
            "_model_module_version": "1.2.0",
            "_model_name": "LayoutModel",
            "_view_count": null,
            "_view_module": "@jupyter-widgets/base",
            "_view_module_version": "1.2.0",
            "_view_name": "LayoutView",
            "align_content": null,
            "align_items": null,
            "align_self": null,
            "border": null,
            "bottom": null,
            "display": null,
            "flex": null,
            "flex_flow": null,
            "grid_area": null,
            "grid_auto_columns": null,
            "grid_auto_flow": null,
            "grid_auto_rows": null,
            "grid_column": null,
            "grid_gap": null,
            "grid_row": null,
            "grid_template_areas": null,
            "grid_template_columns": null,
            "grid_template_rows": null,
            "height": null,
            "justify_content": null,
            "justify_items": null,
            "left": null,
            "margin": null,
            "max_height": null,
            "max_width": null,
            "min_height": null,
            "min_width": null,
            "object_fit": null,
            "object_position": null,
            "order": null,
            "overflow": null,
            "overflow_x": null,
            "overflow_y": null,
            "padding": null,
            "right": null,
            "top": null,
            "visibility": null,
            "width": null
          }
        },
        "444de07b26064f389ceddd11e378c107": {
          "model_module": "@jupyter-widgets/base",
          "model_module_version": "1.2.0",
          "model_name": "LayoutModel",
          "state": {
            "_model_module": "@jupyter-widgets/base",
            "_model_module_version": "1.2.0",
            "_model_name": "LayoutModel",
            "_view_count": null,
            "_view_module": "@jupyter-widgets/base",
            "_view_module_version": "1.2.0",
            "_view_name": "LayoutView",
            "align_content": null,
            "align_items": null,
            "align_self": null,
            "border": null,
            "bottom": null,
            "display": null,
            "flex": null,
            "flex_flow": null,
            "grid_area": null,
            "grid_auto_columns": null,
            "grid_auto_flow": null,
            "grid_auto_rows": null,
            "grid_column": null,
            "grid_gap": null,
            "grid_row": null,
            "grid_template_areas": null,
            "grid_template_columns": null,
            "grid_template_rows": null,
            "height": null,
            "justify_content": null,
            "justify_items": null,
            "left": null,
            "margin": null,
            "max_height": null,
            "max_width": null,
            "min_height": null,
            "min_width": null,
            "object_fit": null,
            "object_position": null,
            "order": null,
            "overflow": null,
            "overflow_x": null,
            "overflow_y": null,
            "padding": null,
            "right": null,
            "top": null,
            "visibility": null,
            "width": null
          }
        },
        "47496702d04d4166937d11a54f13023f": {
          "model_module": "@jupyter-widgets/base",
          "model_module_version": "1.2.0",
          "model_name": "LayoutModel",
          "state": {
            "_model_module": "@jupyter-widgets/base",
            "_model_module_version": "1.2.0",
            "_model_name": "LayoutModel",
            "_view_count": null,
            "_view_module": "@jupyter-widgets/base",
            "_view_module_version": "1.2.0",
            "_view_name": "LayoutView",
            "align_content": null,
            "align_items": null,
            "align_self": null,
            "border": null,
            "bottom": null,
            "display": null,
            "flex": null,
            "flex_flow": null,
            "grid_area": null,
            "grid_auto_columns": null,
            "grid_auto_flow": null,
            "grid_auto_rows": null,
            "grid_column": null,
            "grid_gap": null,
            "grid_row": null,
            "grid_template_areas": null,
            "grid_template_columns": null,
            "grid_template_rows": null,
            "height": null,
            "justify_content": null,
            "justify_items": null,
            "left": null,
            "margin": null,
            "max_height": null,
            "max_width": null,
            "min_height": null,
            "min_width": null,
            "object_fit": null,
            "object_position": null,
            "order": null,
            "overflow": null,
            "overflow_x": null,
            "overflow_y": null,
            "padding": null,
            "right": null,
            "top": null,
            "visibility": null,
            "width": null
          }
        },
        "498a2e40ec2046edbf6469540ba41ff4": {
          "model_module": "@jupyter-widgets/base",
          "model_module_version": "1.2.0",
          "model_name": "LayoutModel",
          "state": {
            "_model_module": "@jupyter-widgets/base",
            "_model_module_version": "1.2.0",
            "_model_name": "LayoutModel",
            "_view_count": null,
            "_view_module": "@jupyter-widgets/base",
            "_view_module_version": "1.2.0",
            "_view_name": "LayoutView",
            "align_content": null,
            "align_items": null,
            "align_self": null,
            "border": null,
            "bottom": null,
            "display": null,
            "flex": null,
            "flex_flow": null,
            "grid_area": null,
            "grid_auto_columns": null,
            "grid_auto_flow": null,
            "grid_auto_rows": null,
            "grid_column": null,
            "grid_gap": null,
            "grid_row": null,
            "grid_template_areas": null,
            "grid_template_columns": null,
            "grid_template_rows": null,
            "height": null,
            "justify_content": null,
            "justify_items": null,
            "left": null,
            "margin": null,
            "max_height": null,
            "max_width": null,
            "min_height": null,
            "min_width": null,
            "object_fit": null,
            "object_position": null,
            "order": null,
            "overflow": null,
            "overflow_x": null,
            "overflow_y": null,
            "padding": null,
            "right": null,
            "top": null,
            "visibility": null,
            "width": null
          }
        },
        "4ded1de00a554e918192826001e44025": {
          "model_module": "@jupyter-widgets/controls",
          "model_module_version": "1.5.0",
          "model_name": "HTMLModel",
          "state": {
            "_dom_classes": [],
            "_model_module": "@jupyter-widgets/controls",
            "_model_module_version": "1.5.0",
            "_model_name": "HTMLModel",
            "_view_count": null,
            "_view_module": "@jupyter-widgets/controls",
            "_view_module_version": "1.5.0",
            "_view_name": "HTMLView",
            "description": "",
            "description_tooltip": null,
            "layout": "IPY_MODEL_3cca394293e946158a50f949c338de33",
            "placeholder": "​",
            "style": "IPY_MODEL_638cd82a56324fc18b14e88409552fba",
            "value": "Epoch 6 / 10: 100%"
          }
        },
        "535a2642ea3c43d99a2ceb9fac7c5d75": {
          "model_module": "@jupyter-widgets/base",
          "model_module_version": "1.2.0",
          "model_name": "LayoutModel",
          "state": {
            "_model_module": "@jupyter-widgets/base",
            "_model_module_version": "1.2.0",
            "_model_name": "LayoutModel",
            "_view_count": null,
            "_view_module": "@jupyter-widgets/base",
            "_view_module_version": "1.2.0",
            "_view_name": "LayoutView",
            "align_content": null,
            "align_items": null,
            "align_self": null,
            "border": null,
            "bottom": null,
            "display": null,
            "flex": null,
            "flex_flow": null,
            "grid_area": null,
            "grid_auto_columns": null,
            "grid_auto_flow": null,
            "grid_auto_rows": null,
            "grid_column": null,
            "grid_gap": null,
            "grid_row": null,
            "grid_template_areas": null,
            "grid_template_columns": null,
            "grid_template_rows": null,
            "height": null,
            "justify_content": null,
            "justify_items": null,
            "left": null,
            "margin": null,
            "max_height": null,
            "max_width": null,
            "min_height": null,
            "min_width": null,
            "object_fit": null,
            "object_position": null,
            "order": null,
            "overflow": null,
            "overflow_x": null,
            "overflow_y": null,
            "padding": null,
            "right": null,
            "top": null,
            "visibility": null,
            "width": null
          }
        },
        "5518ba2714304a66b72654ab122d275e": {
          "model_module": "@jupyter-widgets/base",
          "model_module_version": "1.2.0",
          "model_name": "LayoutModel",
          "state": {
            "_model_module": "@jupyter-widgets/base",
            "_model_module_version": "1.2.0",
            "_model_name": "LayoutModel",
            "_view_count": null,
            "_view_module": "@jupyter-widgets/base",
            "_view_module_version": "1.2.0",
            "_view_name": "LayoutView",
            "align_content": null,
            "align_items": null,
            "align_self": null,
            "border": null,
            "bottom": null,
            "display": null,
            "flex": null,
            "flex_flow": null,
            "grid_area": null,
            "grid_auto_columns": null,
            "grid_auto_flow": null,
            "grid_auto_rows": null,
            "grid_column": null,
            "grid_gap": null,
            "grid_row": null,
            "grid_template_areas": null,
            "grid_template_columns": null,
            "grid_template_rows": null,
            "height": null,
            "justify_content": null,
            "justify_items": null,
            "left": null,
            "margin": null,
            "max_height": null,
            "max_width": null,
            "min_height": null,
            "min_width": null,
            "object_fit": null,
            "object_position": null,
            "order": null,
            "overflow": null,
            "overflow_x": null,
            "overflow_y": null,
            "padding": null,
            "right": null,
            "top": null,
            "visibility": null,
            "width": null
          }
        },
        "55b233e229c9430da0da06e8b995a30e": {
          "model_module": "@jupyter-widgets/controls",
          "model_module_version": "1.5.0",
          "model_name": "HBoxModel",
          "state": {
            "_dom_classes": [],
            "_model_module": "@jupyter-widgets/controls",
            "_model_module_version": "1.5.0",
            "_model_name": "HBoxModel",
            "_view_count": null,
            "_view_module": "@jupyter-widgets/controls",
            "_view_module_version": "1.5.0",
            "_view_name": "HBoxView",
            "box_style": "",
            "children": [
              "IPY_MODEL_c3e66e5b132144ad8a944042992c1af2",
              "IPY_MODEL_1ddce588acf74fdf9f4369c5a31f594b",
              "IPY_MODEL_584160f3806244929806ec11396f5383"
            ],
            "layout": "IPY_MODEL_e31efd406efd4b17906d4eaa7bd7653d"
          }
        },
        "55f7f49b15204608a1fafbe6f6754ac9": {
          "model_module": "@jupyter-widgets/base",
          "model_module_version": "1.2.0",
          "model_name": "LayoutModel",
          "state": {
            "_model_module": "@jupyter-widgets/base",
            "_model_module_version": "1.2.0",
            "_model_name": "LayoutModel",
            "_view_count": null,
            "_view_module": "@jupyter-widgets/base",
            "_view_module_version": "1.2.0",
            "_view_name": "LayoutView",
            "align_content": null,
            "align_items": null,
            "align_self": null,
            "border": null,
            "bottom": null,
            "display": null,
            "flex": null,
            "flex_flow": null,
            "grid_area": null,
            "grid_auto_columns": null,
            "grid_auto_flow": null,
            "grid_auto_rows": null,
            "grid_column": null,
            "grid_gap": null,
            "grid_row": null,
            "grid_template_areas": null,
            "grid_template_columns": null,
            "grid_template_rows": null,
            "height": null,
            "justify_content": null,
            "justify_items": null,
            "left": null,
            "margin": null,
            "max_height": null,
            "max_width": null,
            "min_height": null,
            "min_width": null,
            "object_fit": null,
            "object_position": null,
            "order": null,
            "overflow": null,
            "overflow_x": null,
            "overflow_y": null,
            "padding": null,
            "right": null,
            "top": null,
            "visibility": null,
            "width": null
          }
        },
        "56eb5bc88f484653bdf73f7588826c9f": {
          "model_module": "@jupyter-widgets/controls",
          "model_module_version": "1.5.0",
          "model_name": "HTMLModel",
          "state": {
            "_dom_classes": [],
            "_model_module": "@jupyter-widgets/controls",
            "_model_module_version": "1.5.0",
            "_model_name": "HTMLModel",
            "_view_count": null,
            "_view_module": "@jupyter-widgets/controls",
            "_view_module_version": "1.5.0",
            "_view_name": "HTMLView",
            "description": "",
            "description_tooltip": null,
            "layout": "IPY_MODEL_329873f9a9da4985a108a7163ede3e36",
            "placeholder": "​",
            "style": "IPY_MODEL_a082fa647c494793a5682982a6f60455",
            "value": " 1809/1809 [00:48&lt;00:00, 36.95it/s]"
          }
        },
        "57b27954f7b949fc9dd7ec37660b1148": {
          "model_module": "@jupyter-widgets/controls",
          "model_module_version": "1.5.0",
          "model_name": "ProgressStyleModel",
          "state": {
            "_model_module": "@jupyter-widgets/controls",
            "_model_module_version": "1.5.0",
            "_model_name": "ProgressStyleModel",
            "_view_count": null,
            "_view_module": "@jupyter-widgets/base",
            "_view_module_version": "1.2.0",
            "_view_name": "StyleView",
            "bar_color": null,
            "description_width": ""
          }
        },
        "584160f3806244929806ec11396f5383": {
          "model_module": "@jupyter-widgets/controls",
          "model_module_version": "1.5.0",
          "model_name": "HTMLModel",
          "state": {
            "_dom_classes": [],
            "_model_module": "@jupyter-widgets/controls",
            "_model_module_version": "1.5.0",
            "_model_name": "HTMLModel",
            "_view_count": null,
            "_view_module": "@jupyter-widgets/controls",
            "_view_module_version": "1.5.0",
            "_view_name": "HTMLView",
            "description": "",
            "description_tooltip": null,
            "layout": "IPY_MODEL_618529390e3c4709ac603484ee62e604",
            "placeholder": "​",
            "style": "IPY_MODEL_f26dfa2ea88145598b29072058ff7c86",
            "value": " 1809/1809 [00:46&lt;00:00, 41.68it/s]"
          }
        },
        "5bdff7cbe19a42c3bc870ad1d7cb75cd": {
          "model_module": "@jupyter-widgets/base",
          "model_module_version": "1.2.0",
          "model_name": "LayoutModel",
          "state": {
            "_model_module": "@jupyter-widgets/base",
            "_model_module_version": "1.2.0",
            "_model_name": "LayoutModel",
            "_view_count": null,
            "_view_module": "@jupyter-widgets/base",
            "_view_module_version": "1.2.0",
            "_view_name": "LayoutView",
            "align_content": null,
            "align_items": null,
            "align_self": null,
            "border": null,
            "bottom": null,
            "display": null,
            "flex": null,
            "flex_flow": null,
            "grid_area": null,
            "grid_auto_columns": null,
            "grid_auto_flow": null,
            "grid_auto_rows": null,
            "grid_column": null,
            "grid_gap": null,
            "grid_row": null,
            "grid_template_areas": null,
            "grid_template_columns": null,
            "grid_template_rows": null,
            "height": null,
            "justify_content": null,
            "justify_items": null,
            "left": null,
            "margin": null,
            "max_height": null,
            "max_width": null,
            "min_height": null,
            "min_width": null,
            "object_fit": null,
            "object_position": null,
            "order": null,
            "overflow": null,
            "overflow_x": null,
            "overflow_y": null,
            "padding": null,
            "right": null,
            "top": null,
            "visibility": null,
            "width": null
          }
        },
        "618529390e3c4709ac603484ee62e604": {
          "model_module": "@jupyter-widgets/base",
          "model_module_version": "1.2.0",
          "model_name": "LayoutModel",
          "state": {
            "_model_module": "@jupyter-widgets/base",
            "_model_module_version": "1.2.0",
            "_model_name": "LayoutModel",
            "_view_count": null,
            "_view_module": "@jupyter-widgets/base",
            "_view_module_version": "1.2.0",
            "_view_name": "LayoutView",
            "align_content": null,
            "align_items": null,
            "align_self": null,
            "border": null,
            "bottom": null,
            "display": null,
            "flex": null,
            "flex_flow": null,
            "grid_area": null,
            "grid_auto_columns": null,
            "grid_auto_flow": null,
            "grid_auto_rows": null,
            "grid_column": null,
            "grid_gap": null,
            "grid_row": null,
            "grid_template_areas": null,
            "grid_template_columns": null,
            "grid_template_rows": null,
            "height": null,
            "justify_content": null,
            "justify_items": null,
            "left": null,
            "margin": null,
            "max_height": null,
            "max_width": null,
            "min_height": null,
            "min_width": null,
            "object_fit": null,
            "object_position": null,
            "order": null,
            "overflow": null,
            "overflow_x": null,
            "overflow_y": null,
            "padding": null,
            "right": null,
            "top": null,
            "visibility": null,
            "width": null
          }
        },
        "638cd82a56324fc18b14e88409552fba": {
          "model_module": "@jupyter-widgets/controls",
          "model_module_version": "1.5.0",
          "model_name": "DescriptionStyleModel",
          "state": {
            "_model_module": "@jupyter-widgets/controls",
            "_model_module_version": "1.5.0",
            "_model_name": "DescriptionStyleModel",
            "_view_count": null,
            "_view_module": "@jupyter-widgets/base",
            "_view_module_version": "1.2.0",
            "_view_name": "StyleView",
            "description_width": ""
          }
        },
        "68b792b85fb64922a4638311f9b1432d": {
          "model_module": "@jupyter-widgets/controls",
          "model_module_version": "1.5.0",
          "model_name": "HTMLModel",
          "state": {
            "_dom_classes": [],
            "_model_module": "@jupyter-widgets/controls",
            "_model_module_version": "1.5.0",
            "_model_name": "HTMLModel",
            "_view_count": null,
            "_view_module": "@jupyter-widgets/controls",
            "_view_module_version": "1.5.0",
            "_view_name": "HTMLView",
            "description": "",
            "description_tooltip": null,
            "layout": "IPY_MODEL_72be5051776945a18d93a1c4bb9b2299",
            "placeholder": "​",
            "style": "IPY_MODEL_f84adafe7d2743dfa1c54c9fa495f47a",
            "value": "Epoch 4 / 10: 100%"
          }
        },
        "6ab4b451a16c47e5b20d30429b724b4c": {
          "model_module": "@jupyter-widgets/base",
          "model_module_version": "1.2.0",
          "model_name": "LayoutModel",
          "state": {
            "_model_module": "@jupyter-widgets/base",
            "_model_module_version": "1.2.0",
            "_model_name": "LayoutModel",
            "_view_count": null,
            "_view_module": "@jupyter-widgets/base",
            "_view_module_version": "1.2.0",
            "_view_name": "LayoutView",
            "align_content": null,
            "align_items": null,
            "align_self": null,
            "border": null,
            "bottom": null,
            "display": null,
            "flex": null,
            "flex_flow": null,
            "grid_area": null,
            "grid_auto_columns": null,
            "grid_auto_flow": null,
            "grid_auto_rows": null,
            "grid_column": null,
            "grid_gap": null,
            "grid_row": null,
            "grid_template_areas": null,
            "grid_template_columns": null,
            "grid_template_rows": null,
            "height": null,
            "justify_content": null,
            "justify_items": null,
            "left": null,
            "margin": null,
            "max_height": null,
            "max_width": null,
            "min_height": null,
            "min_width": null,
            "object_fit": null,
            "object_position": null,
            "order": null,
            "overflow": null,
            "overflow_x": null,
            "overflow_y": null,
            "padding": null,
            "right": null,
            "top": null,
            "visibility": null,
            "width": null
          }
        },
        "6ee334be7bff44429ef1748e6965b4d7": {
          "model_module": "@jupyter-widgets/controls",
          "model_module_version": "1.5.0",
          "model_name": "FloatProgressModel",
          "state": {
            "_dom_classes": [],
            "_model_module": "@jupyter-widgets/controls",
            "_model_module_version": "1.5.0",
            "_model_name": "FloatProgressModel",
            "_view_count": null,
            "_view_module": "@jupyter-widgets/controls",
            "_view_module_version": "1.5.0",
            "_view_name": "ProgressView",
            "bar_style": "success",
            "description": "",
            "description_tooltip": null,
            "layout": "IPY_MODEL_535a2642ea3c43d99a2ceb9fac7c5d75",
            "max": 1809,
            "min": 0,
            "orientation": "horizontal",
            "style": "IPY_MODEL_d3f6c781d9144772be58f1a97ea686cc",
            "value": 1809
          }
        },
        "6f78c468d1a7459597448bf7918835b8": {
          "model_module": "@jupyter-widgets/controls",
          "model_module_version": "1.5.0",
          "model_name": "HTMLModel",
          "state": {
            "_dom_classes": [],
            "_model_module": "@jupyter-widgets/controls",
            "_model_module_version": "1.5.0",
            "_model_name": "HTMLModel",
            "_view_count": null,
            "_view_module": "@jupyter-widgets/controls",
            "_view_module_version": "1.5.0",
            "_view_name": "HTMLView",
            "description": "",
            "description_tooltip": null,
            "layout": "IPY_MODEL_1f3f743e6e3b4218bec9373580305100",
            "placeholder": "​",
            "style": "IPY_MODEL_7387e330782a4699a37990104ef6ec1a",
            "value": "Epoch 8 / 10: 100%"
          }
        },
        "7094ca83732944f3aa1d54e2b98810a1": {
          "model_module": "@jupyter-widgets/base",
          "model_module_version": "1.2.0",
          "model_name": "LayoutModel",
          "state": {
            "_model_module": "@jupyter-widgets/base",
            "_model_module_version": "1.2.0",
            "_model_name": "LayoutModel",
            "_view_count": null,
            "_view_module": "@jupyter-widgets/base",
            "_view_module_version": "1.2.0",
            "_view_name": "LayoutView",
            "align_content": null,
            "align_items": null,
            "align_self": null,
            "border": null,
            "bottom": null,
            "display": null,
            "flex": null,
            "flex_flow": null,
            "grid_area": null,
            "grid_auto_columns": null,
            "grid_auto_flow": null,
            "grid_auto_rows": null,
            "grid_column": null,
            "grid_gap": null,
            "grid_row": null,
            "grid_template_areas": null,
            "grid_template_columns": null,
            "grid_template_rows": null,
            "height": null,
            "justify_content": null,
            "justify_items": null,
            "left": null,
            "margin": null,
            "max_height": null,
            "max_width": null,
            "min_height": null,
            "min_width": null,
            "object_fit": null,
            "object_position": null,
            "order": null,
            "overflow": null,
            "overflow_x": null,
            "overflow_y": null,
            "padding": null,
            "right": null,
            "top": null,
            "visibility": null,
            "width": null
          }
        },
        "72be5051776945a18d93a1c4bb9b2299": {
          "model_module": "@jupyter-widgets/base",
          "model_module_version": "1.2.0",
          "model_name": "LayoutModel",
          "state": {
            "_model_module": "@jupyter-widgets/base",
            "_model_module_version": "1.2.0",
            "_model_name": "LayoutModel",
            "_view_count": null,
            "_view_module": "@jupyter-widgets/base",
            "_view_module_version": "1.2.0",
            "_view_name": "LayoutView",
            "align_content": null,
            "align_items": null,
            "align_self": null,
            "border": null,
            "bottom": null,
            "display": null,
            "flex": null,
            "flex_flow": null,
            "grid_area": null,
            "grid_auto_columns": null,
            "grid_auto_flow": null,
            "grid_auto_rows": null,
            "grid_column": null,
            "grid_gap": null,
            "grid_row": null,
            "grid_template_areas": null,
            "grid_template_columns": null,
            "grid_template_rows": null,
            "height": null,
            "justify_content": null,
            "justify_items": null,
            "left": null,
            "margin": null,
            "max_height": null,
            "max_width": null,
            "min_height": null,
            "min_width": null,
            "object_fit": null,
            "object_position": null,
            "order": null,
            "overflow": null,
            "overflow_x": null,
            "overflow_y": null,
            "padding": null,
            "right": null,
            "top": null,
            "visibility": null,
            "width": null
          }
        },
        "7387e330782a4699a37990104ef6ec1a": {
          "model_module": "@jupyter-widgets/controls",
          "model_module_version": "1.5.0",
          "model_name": "DescriptionStyleModel",
          "state": {
            "_model_module": "@jupyter-widgets/controls",
            "_model_module_version": "1.5.0",
            "_model_name": "DescriptionStyleModel",
            "_view_count": null,
            "_view_module": "@jupyter-widgets/base",
            "_view_module_version": "1.2.0",
            "_view_name": "StyleView",
            "description_width": ""
          }
        },
        "73e2b9b2250b4aada01ea9d95a52ba50": {
          "model_module": "@jupyter-widgets/base",
          "model_module_version": "1.2.0",
          "model_name": "LayoutModel",
          "state": {
            "_model_module": "@jupyter-widgets/base",
            "_model_module_version": "1.2.0",
            "_model_name": "LayoutModel",
            "_view_count": null,
            "_view_module": "@jupyter-widgets/base",
            "_view_module_version": "1.2.0",
            "_view_name": "LayoutView",
            "align_content": null,
            "align_items": null,
            "align_self": null,
            "border": null,
            "bottom": null,
            "display": null,
            "flex": null,
            "flex_flow": null,
            "grid_area": null,
            "grid_auto_columns": null,
            "grid_auto_flow": null,
            "grid_auto_rows": null,
            "grid_column": null,
            "grid_gap": null,
            "grid_row": null,
            "grid_template_areas": null,
            "grid_template_columns": null,
            "grid_template_rows": null,
            "height": null,
            "justify_content": null,
            "justify_items": null,
            "left": null,
            "margin": null,
            "max_height": null,
            "max_width": null,
            "min_height": null,
            "min_width": null,
            "object_fit": null,
            "object_position": null,
            "order": null,
            "overflow": null,
            "overflow_x": null,
            "overflow_y": null,
            "padding": null,
            "right": null,
            "top": null,
            "visibility": null,
            "width": null
          }
        },
        "7538bf8ff00a48fbbe3a725fbe6e2d25": {
          "model_module": "@jupyter-widgets/controls",
          "model_module_version": "1.5.0",
          "model_name": "HTMLModel",
          "state": {
            "_dom_classes": [],
            "_model_module": "@jupyter-widgets/controls",
            "_model_module_version": "1.5.0",
            "_model_name": "HTMLModel",
            "_view_count": null,
            "_view_module": "@jupyter-widgets/controls",
            "_view_module_version": "1.5.0",
            "_view_name": "HTMLView",
            "description": "",
            "description_tooltip": null,
            "layout": "IPY_MODEL_040d196d370b4e99a1dc82b04fd32b6c",
            "placeholder": "​",
            "style": "IPY_MODEL_fa34acc2845e4af38e676d83ed07301a",
            "value": "Epoch 9 / 10: 100%"
          }
        },
        "7822f270dd6b4d26953dc691eb64faff": {
          "model_module": "@jupyter-widgets/base",
          "model_module_version": "1.2.0",
          "model_name": "LayoutModel",
          "state": {
            "_model_module": "@jupyter-widgets/base",
            "_model_module_version": "1.2.0",
            "_model_name": "LayoutModel",
            "_view_count": null,
            "_view_module": "@jupyter-widgets/base",
            "_view_module_version": "1.2.0",
            "_view_name": "LayoutView",
            "align_content": null,
            "align_items": null,
            "align_self": null,
            "border": null,
            "bottom": null,
            "display": null,
            "flex": null,
            "flex_flow": null,
            "grid_area": null,
            "grid_auto_columns": null,
            "grid_auto_flow": null,
            "grid_auto_rows": null,
            "grid_column": null,
            "grid_gap": null,
            "grid_row": null,
            "grid_template_areas": null,
            "grid_template_columns": null,
            "grid_template_rows": null,
            "height": null,
            "justify_content": null,
            "justify_items": null,
            "left": null,
            "margin": null,
            "max_height": null,
            "max_width": null,
            "min_height": null,
            "min_width": null,
            "object_fit": null,
            "object_position": null,
            "order": null,
            "overflow": null,
            "overflow_x": null,
            "overflow_y": null,
            "padding": null,
            "right": null,
            "top": null,
            "visibility": null,
            "width": null
          }
        },
        "7f96eee7c8734d769ba5003afe228455": {
          "model_module": "@jupyter-widgets/controls",
          "model_module_version": "1.5.0",
          "model_name": "DescriptionStyleModel",
          "state": {
            "_model_module": "@jupyter-widgets/controls",
            "_model_module_version": "1.5.0",
            "_model_name": "DescriptionStyleModel",
            "_view_count": null,
            "_view_module": "@jupyter-widgets/base",
            "_view_module_version": "1.2.0",
            "_view_name": "StyleView",
            "description_width": ""
          }
        },
        "83c3001b598d4d6bafb05efc0fe0928e": {
          "model_module": "@jupyter-widgets/base",
          "model_module_version": "1.2.0",
          "model_name": "LayoutModel",
          "state": {
            "_model_module": "@jupyter-widgets/base",
            "_model_module_version": "1.2.0",
            "_model_name": "LayoutModel",
            "_view_count": null,
            "_view_module": "@jupyter-widgets/base",
            "_view_module_version": "1.2.0",
            "_view_name": "LayoutView",
            "align_content": null,
            "align_items": null,
            "align_self": null,
            "border": null,
            "bottom": null,
            "display": null,
            "flex": null,
            "flex_flow": null,
            "grid_area": null,
            "grid_auto_columns": null,
            "grid_auto_flow": null,
            "grid_auto_rows": null,
            "grid_column": null,
            "grid_gap": null,
            "grid_row": null,
            "grid_template_areas": null,
            "grid_template_columns": null,
            "grid_template_rows": null,
            "height": null,
            "justify_content": null,
            "justify_items": null,
            "left": null,
            "margin": null,
            "max_height": null,
            "max_width": null,
            "min_height": null,
            "min_width": null,
            "object_fit": null,
            "object_position": null,
            "order": null,
            "overflow": null,
            "overflow_x": null,
            "overflow_y": null,
            "padding": null,
            "right": null,
            "top": null,
            "visibility": null,
            "width": null
          }
        },
        "868c54a002044da7b3e4d388bcd753b3": {
          "model_module": "@jupyter-widgets/base",
          "model_module_version": "1.2.0",
          "model_name": "LayoutModel",
          "state": {
            "_model_module": "@jupyter-widgets/base",
            "_model_module_version": "1.2.0",
            "_model_name": "LayoutModel",
            "_view_count": null,
            "_view_module": "@jupyter-widgets/base",
            "_view_module_version": "1.2.0",
            "_view_name": "LayoutView",
            "align_content": null,
            "align_items": null,
            "align_self": null,
            "border": null,
            "bottom": null,
            "display": null,
            "flex": null,
            "flex_flow": null,
            "grid_area": null,
            "grid_auto_columns": null,
            "grid_auto_flow": null,
            "grid_auto_rows": null,
            "grid_column": null,
            "grid_gap": null,
            "grid_row": null,
            "grid_template_areas": null,
            "grid_template_columns": null,
            "grid_template_rows": null,
            "height": null,
            "justify_content": null,
            "justify_items": null,
            "left": null,
            "margin": null,
            "max_height": null,
            "max_width": null,
            "min_height": null,
            "min_width": null,
            "object_fit": null,
            "object_position": null,
            "order": null,
            "overflow": null,
            "overflow_x": null,
            "overflow_y": null,
            "padding": null,
            "right": null,
            "top": null,
            "visibility": null,
            "width": null
          }
        },
        "8ec56469ee72458b8b181b105f4711ac": {
          "model_module": "@jupyter-widgets/controls",
          "model_module_version": "1.5.0",
          "model_name": "ProgressStyleModel",
          "state": {
            "_model_module": "@jupyter-widgets/controls",
            "_model_module_version": "1.5.0",
            "_model_name": "ProgressStyleModel",
            "_view_count": null,
            "_view_module": "@jupyter-widgets/base",
            "_view_module_version": "1.2.0",
            "_view_name": "StyleView",
            "bar_color": null,
            "description_width": ""
          }
        },
        "92d8a8906c14431d9ade49ae42cd3ad3": {
          "model_module": "@jupyter-widgets/controls",
          "model_module_version": "1.5.0",
          "model_name": "HTMLModel",
          "state": {
            "_dom_classes": [],
            "_model_module": "@jupyter-widgets/controls",
            "_model_module_version": "1.5.0",
            "_model_name": "HTMLModel",
            "_view_count": null,
            "_view_module": "@jupyter-widgets/controls",
            "_view_module_version": "1.5.0",
            "_view_name": "HTMLView",
            "description": "",
            "description_tooltip": null,
            "layout": "IPY_MODEL_2ad4a99203f741578519543952370ff9",
            "placeholder": "​",
            "style": "IPY_MODEL_dfa95d221e914cfbba98a9a05254511a",
            "value": "Epoch 0 / 10: 100%"
          }
        },
        "93b5a92afa914ed9b7b2341bed25b1a0": {
          "model_module": "@jupyter-widgets/base",
          "model_module_version": "1.2.0",
          "model_name": "LayoutModel",
          "state": {
            "_model_module": "@jupyter-widgets/base",
            "_model_module_version": "1.2.0",
            "_model_name": "LayoutModel",
            "_view_count": null,
            "_view_module": "@jupyter-widgets/base",
            "_view_module_version": "1.2.0",
            "_view_name": "LayoutView",
            "align_content": null,
            "align_items": null,
            "align_self": null,
            "border": null,
            "bottom": null,
            "display": null,
            "flex": null,
            "flex_flow": null,
            "grid_area": null,
            "grid_auto_columns": null,
            "grid_auto_flow": null,
            "grid_auto_rows": null,
            "grid_column": null,
            "grid_gap": null,
            "grid_row": null,
            "grid_template_areas": null,
            "grid_template_columns": null,
            "grid_template_rows": null,
            "height": null,
            "justify_content": null,
            "justify_items": null,
            "left": null,
            "margin": null,
            "max_height": null,
            "max_width": null,
            "min_height": null,
            "min_width": null,
            "object_fit": null,
            "object_position": null,
            "order": null,
            "overflow": null,
            "overflow_x": null,
            "overflow_y": null,
            "padding": null,
            "right": null,
            "top": null,
            "visibility": null,
            "width": null
          }
        },
        "94af89b673024b9d9ada8498477e97a1": {
          "model_module": "@jupyter-widgets/controls",
          "model_module_version": "1.5.0",
          "model_name": "ProgressStyleModel",
          "state": {
            "_model_module": "@jupyter-widgets/controls",
            "_model_module_version": "1.5.0",
            "_model_name": "ProgressStyleModel",
            "_view_count": null,
            "_view_module": "@jupyter-widgets/base",
            "_view_module_version": "1.2.0",
            "_view_name": "StyleView",
            "bar_color": null,
            "description_width": ""
          }
        },
        "96469f39e106414da6dc02e0918c2a4e": {
          "model_module": "@jupyter-widgets/controls",
          "model_module_version": "1.5.0",
          "model_name": "ProgressStyleModel",
          "state": {
            "_model_module": "@jupyter-widgets/controls",
            "_model_module_version": "1.5.0",
            "_model_name": "ProgressStyleModel",
            "_view_count": null,
            "_view_module": "@jupyter-widgets/base",
            "_view_module_version": "1.2.0",
            "_view_name": "StyleView",
            "bar_color": null,
            "description_width": ""
          }
        },
        "96ad5009cb35417c8bb02eca212d21ee": {
          "model_module": "@jupyter-widgets/base",
          "model_module_version": "1.2.0",
          "model_name": "LayoutModel",
          "state": {
            "_model_module": "@jupyter-widgets/base",
            "_model_module_version": "1.2.0",
            "_model_name": "LayoutModel",
            "_view_count": null,
            "_view_module": "@jupyter-widgets/base",
            "_view_module_version": "1.2.0",
            "_view_name": "LayoutView",
            "align_content": null,
            "align_items": null,
            "align_self": null,
            "border": null,
            "bottom": null,
            "display": null,
            "flex": null,
            "flex_flow": null,
            "grid_area": null,
            "grid_auto_columns": null,
            "grid_auto_flow": null,
            "grid_auto_rows": null,
            "grid_column": null,
            "grid_gap": null,
            "grid_row": null,
            "grid_template_areas": null,
            "grid_template_columns": null,
            "grid_template_rows": null,
            "height": null,
            "justify_content": null,
            "justify_items": null,
            "left": null,
            "margin": null,
            "max_height": null,
            "max_width": null,
            "min_height": null,
            "min_width": null,
            "object_fit": null,
            "object_position": null,
            "order": null,
            "overflow": null,
            "overflow_x": null,
            "overflow_y": null,
            "padding": null,
            "right": null,
            "top": null,
            "visibility": null,
            "width": null
          }
        },
        "9d123f12ab1142c6a1c7a2e004f7aacd": {
          "model_module": "@jupyter-widgets/controls",
          "model_module_version": "1.5.0",
          "model_name": "HTMLModel",
          "state": {
            "_dom_classes": [],
            "_model_module": "@jupyter-widgets/controls",
            "_model_module_version": "1.5.0",
            "_model_name": "HTMLModel",
            "_view_count": null,
            "_view_module": "@jupyter-widgets/controls",
            "_view_module_version": "1.5.0",
            "_view_name": "HTMLView",
            "description": "",
            "description_tooltip": null,
            "layout": "IPY_MODEL_a37e53789f734386b2867700042e267e",
            "placeholder": "​",
            "style": "IPY_MODEL_e9276a728b334686a73e4656c6765467",
            "value": "Epoch 2 / 10: 100%"
          }
        },
        "9fdef6fe0d454bb09ce0ab00b1f9167c": {
          "model_module": "@jupyter-widgets/base",
          "model_module_version": "1.2.0",
          "model_name": "LayoutModel",
          "state": {
            "_model_module": "@jupyter-widgets/base",
            "_model_module_version": "1.2.0",
            "_model_name": "LayoutModel",
            "_view_count": null,
            "_view_module": "@jupyter-widgets/base",
            "_view_module_version": "1.2.0",
            "_view_name": "LayoutView",
            "align_content": null,
            "align_items": null,
            "align_self": null,
            "border": null,
            "bottom": null,
            "display": null,
            "flex": null,
            "flex_flow": null,
            "grid_area": null,
            "grid_auto_columns": null,
            "grid_auto_flow": null,
            "grid_auto_rows": null,
            "grid_column": null,
            "grid_gap": null,
            "grid_row": null,
            "grid_template_areas": null,
            "grid_template_columns": null,
            "grid_template_rows": null,
            "height": null,
            "justify_content": null,
            "justify_items": null,
            "left": null,
            "margin": null,
            "max_height": null,
            "max_width": null,
            "min_height": null,
            "min_width": null,
            "object_fit": null,
            "object_position": null,
            "order": null,
            "overflow": null,
            "overflow_x": null,
            "overflow_y": null,
            "padding": null,
            "right": null,
            "top": null,
            "visibility": null,
            "width": null
          }
        },
        "a02572b4a5b14fe59cf256ecd5039b2e": {
          "model_module": "@jupyter-widgets/controls",
          "model_module_version": "1.5.0",
          "model_name": "ProgressStyleModel",
          "state": {
            "_model_module": "@jupyter-widgets/controls",
            "_model_module_version": "1.5.0",
            "_model_name": "ProgressStyleModel",
            "_view_count": null,
            "_view_module": "@jupyter-widgets/base",
            "_view_module_version": "1.2.0",
            "_view_name": "StyleView",
            "bar_color": null,
            "description_width": ""
          }
        },
        "a082fa647c494793a5682982a6f60455": {
          "model_module": "@jupyter-widgets/controls",
          "model_module_version": "1.5.0",
          "model_name": "DescriptionStyleModel",
          "state": {
            "_model_module": "@jupyter-widgets/controls",
            "_model_module_version": "1.5.0",
            "_model_name": "DescriptionStyleModel",
            "_view_count": null,
            "_view_module": "@jupyter-widgets/base",
            "_view_module_version": "1.2.0",
            "_view_name": "StyleView",
            "description_width": ""
          }
        },
        "a1591c209ba84a72b25aac1a41837278": {
          "model_module": "@jupyter-widgets/controls",
          "model_module_version": "1.5.0",
          "model_name": "HBoxModel",
          "state": {
            "_dom_classes": [],
            "_model_module": "@jupyter-widgets/controls",
            "_model_module_version": "1.5.0",
            "_model_name": "HBoxModel",
            "_view_count": null,
            "_view_module": "@jupyter-widgets/controls",
            "_view_module_version": "1.5.0",
            "_view_name": "HBoxView",
            "box_style": "",
            "children": [
              "IPY_MODEL_68b792b85fb64922a4638311f9b1432d",
              "IPY_MODEL_a8e7f96fa0d3425d964bb018ffba136c",
              "IPY_MODEL_d7e5da7535ea4018bde67cc5ce5c59b9"
            ],
            "layout": "IPY_MODEL_7822f270dd6b4d26953dc691eb64faff"
          }
        },
        "a37e53789f734386b2867700042e267e": {
          "model_module": "@jupyter-widgets/base",
          "model_module_version": "1.2.0",
          "model_name": "LayoutModel",
          "state": {
            "_model_module": "@jupyter-widgets/base",
            "_model_module_version": "1.2.0",
            "_model_name": "LayoutModel",
            "_view_count": null,
            "_view_module": "@jupyter-widgets/base",
            "_view_module_version": "1.2.0",
            "_view_name": "LayoutView",
            "align_content": null,
            "align_items": null,
            "align_self": null,
            "border": null,
            "bottom": null,
            "display": null,
            "flex": null,
            "flex_flow": null,
            "grid_area": null,
            "grid_auto_columns": null,
            "grid_auto_flow": null,
            "grid_auto_rows": null,
            "grid_column": null,
            "grid_gap": null,
            "grid_row": null,
            "grid_template_areas": null,
            "grid_template_columns": null,
            "grid_template_rows": null,
            "height": null,
            "justify_content": null,
            "justify_items": null,
            "left": null,
            "margin": null,
            "max_height": null,
            "max_width": null,
            "min_height": null,
            "min_width": null,
            "object_fit": null,
            "object_position": null,
            "order": null,
            "overflow": null,
            "overflow_x": null,
            "overflow_y": null,
            "padding": null,
            "right": null,
            "top": null,
            "visibility": null,
            "width": null
          }
        },
        "a4420f80d083444da697d685f4410a50": {
          "model_module": "@jupyter-widgets/controls",
          "model_module_version": "1.5.0",
          "model_name": "ProgressStyleModel",
          "state": {
            "_model_module": "@jupyter-widgets/controls",
            "_model_module_version": "1.5.0",
            "_model_name": "ProgressStyleModel",
            "_view_count": null,
            "_view_module": "@jupyter-widgets/base",
            "_view_module_version": "1.2.0",
            "_view_name": "StyleView",
            "bar_color": null,
            "description_width": ""
          }
        },
        "a446894226c2480b8278654150c5448c": {
          "model_module": "@jupyter-widgets/base",
          "model_module_version": "1.2.0",
          "model_name": "LayoutModel",
          "state": {
            "_model_module": "@jupyter-widgets/base",
            "_model_module_version": "1.2.0",
            "_model_name": "LayoutModel",
            "_view_count": null,
            "_view_module": "@jupyter-widgets/base",
            "_view_module_version": "1.2.0",
            "_view_name": "LayoutView",
            "align_content": null,
            "align_items": null,
            "align_self": null,
            "border": null,
            "bottom": null,
            "display": null,
            "flex": null,
            "flex_flow": null,
            "grid_area": null,
            "grid_auto_columns": null,
            "grid_auto_flow": null,
            "grid_auto_rows": null,
            "grid_column": null,
            "grid_gap": null,
            "grid_row": null,
            "grid_template_areas": null,
            "grid_template_columns": null,
            "grid_template_rows": null,
            "height": null,
            "justify_content": null,
            "justify_items": null,
            "left": null,
            "margin": null,
            "max_height": null,
            "max_width": null,
            "min_height": null,
            "min_width": null,
            "object_fit": null,
            "object_position": null,
            "order": null,
            "overflow": null,
            "overflow_x": null,
            "overflow_y": null,
            "padding": null,
            "right": null,
            "top": null,
            "visibility": null,
            "width": null
          }
        },
        "a7161a8220c14de487ba7376bfadda36": {
          "model_module": "@jupyter-widgets/controls",
          "model_module_version": "1.5.0",
          "model_name": "HTMLModel",
          "state": {
            "_dom_classes": [],
            "_model_module": "@jupyter-widgets/controls",
            "_model_module_version": "1.5.0",
            "_model_name": "HTMLModel",
            "_view_count": null,
            "_view_module": "@jupyter-widgets/controls",
            "_view_module_version": "1.5.0",
            "_view_name": "HTMLView",
            "description": "",
            "description_tooltip": null,
            "layout": "IPY_MODEL_498a2e40ec2046edbf6469540ba41ff4",
            "placeholder": "​",
            "style": "IPY_MODEL_230d36c444b64303856611e032c73aaa",
            "value": " 1809/1809 [00:49&lt;00:00, 39.30it/s]"
          }
        },
        "a8da9e523fd64fd3830f6d2656650f16": {
          "model_module": "@jupyter-widgets/base",
          "model_module_version": "1.2.0",
          "model_name": "LayoutModel",
          "state": {
            "_model_module": "@jupyter-widgets/base",
            "_model_module_version": "1.2.0",
            "_model_name": "LayoutModel",
            "_view_count": null,
            "_view_module": "@jupyter-widgets/base",
            "_view_module_version": "1.2.0",
            "_view_name": "LayoutView",
            "align_content": null,
            "align_items": null,
            "align_self": null,
            "border": null,
            "bottom": null,
            "display": null,
            "flex": null,
            "flex_flow": null,
            "grid_area": null,
            "grid_auto_columns": null,
            "grid_auto_flow": null,
            "grid_auto_rows": null,
            "grid_column": null,
            "grid_gap": null,
            "grid_row": null,
            "grid_template_areas": null,
            "grid_template_columns": null,
            "grid_template_rows": null,
            "height": null,
            "justify_content": null,
            "justify_items": null,
            "left": null,
            "margin": null,
            "max_height": null,
            "max_width": null,
            "min_height": null,
            "min_width": null,
            "object_fit": null,
            "object_position": null,
            "order": null,
            "overflow": null,
            "overflow_x": null,
            "overflow_y": null,
            "padding": null,
            "right": null,
            "top": null,
            "visibility": null,
            "width": null
          }
        },
        "a8e7f96fa0d3425d964bb018ffba136c": {
          "model_module": "@jupyter-widgets/controls",
          "model_module_version": "1.5.0",
          "model_name": "FloatProgressModel",
          "state": {
            "_dom_classes": [],
            "_model_module": "@jupyter-widgets/controls",
            "_model_module_version": "1.5.0",
            "_model_name": "FloatProgressModel",
            "_view_count": null,
            "_view_module": "@jupyter-widgets/controls",
            "_view_module_version": "1.5.0",
            "_view_name": "ProgressView",
            "bar_style": "success",
            "description": "",
            "description_tooltip": null,
            "layout": "IPY_MODEL_155173d5377b4148b099a492a671cde7",
            "max": 1809,
            "min": 0,
            "orientation": "horizontal",
            "style": "IPY_MODEL_a4420f80d083444da697d685f4410a50",
            "value": 1809
          }
        },
        "a91a7abc50334579b6cb6cd63da7cf09": {
          "model_module": "@jupyter-widgets/controls",
          "model_module_version": "1.5.0",
          "model_name": "HBoxModel",
          "state": {
            "_dom_classes": [],
            "_model_module": "@jupyter-widgets/controls",
            "_model_module_version": "1.5.0",
            "_model_name": "HBoxModel",
            "_view_count": null,
            "_view_module": "@jupyter-widgets/controls",
            "_view_module_version": "1.5.0",
            "_view_name": "HBoxView",
            "box_style": "",
            "children": [
              "IPY_MODEL_9d123f12ab1142c6a1c7a2e004f7aacd",
              "IPY_MODEL_1bc5eca2aba448ac91b5645f4d51f589",
              "IPY_MODEL_1225948e691c4113bb9da798ed7d74fb"
            ],
            "layout": "IPY_MODEL_fb870f83f807413fadbd70e2527b9d9f"
          }
        },
        "ad59ce75399e4f73bc0983734f7d9709": {
          "model_module": "@jupyter-widgets/base",
          "model_module_version": "1.2.0",
          "model_name": "LayoutModel",
          "state": {
            "_model_module": "@jupyter-widgets/base",
            "_model_module_version": "1.2.0",
            "_model_name": "LayoutModel",
            "_view_count": null,
            "_view_module": "@jupyter-widgets/base",
            "_view_module_version": "1.2.0",
            "_view_name": "LayoutView",
            "align_content": null,
            "align_items": null,
            "align_self": null,
            "border": null,
            "bottom": null,
            "display": null,
            "flex": null,
            "flex_flow": null,
            "grid_area": null,
            "grid_auto_columns": null,
            "grid_auto_flow": null,
            "grid_auto_rows": null,
            "grid_column": null,
            "grid_gap": null,
            "grid_row": null,
            "grid_template_areas": null,
            "grid_template_columns": null,
            "grid_template_rows": null,
            "height": null,
            "justify_content": null,
            "justify_items": null,
            "left": null,
            "margin": null,
            "max_height": null,
            "max_width": null,
            "min_height": null,
            "min_width": null,
            "object_fit": null,
            "object_position": null,
            "order": null,
            "overflow": null,
            "overflow_x": null,
            "overflow_y": null,
            "padding": null,
            "right": null,
            "top": null,
            "visibility": null,
            "width": null
          }
        },
        "b7b62bbcf04f42e3b50b5f47bc398187": {
          "model_module": "@jupyter-widgets/controls",
          "model_module_version": "1.5.0",
          "model_name": "DescriptionStyleModel",
          "state": {
            "_model_module": "@jupyter-widgets/controls",
            "_model_module_version": "1.5.0",
            "_model_name": "DescriptionStyleModel",
            "_view_count": null,
            "_view_module": "@jupyter-widgets/base",
            "_view_module_version": "1.2.0",
            "_view_name": "StyleView",
            "description_width": ""
          }
        },
        "b922b45fdac64de0acf9904032e2767b": {
          "model_module": "@jupyter-widgets/controls",
          "model_module_version": "1.5.0",
          "model_name": "ProgressStyleModel",
          "state": {
            "_model_module": "@jupyter-widgets/controls",
            "_model_module_version": "1.5.0",
            "_model_name": "ProgressStyleModel",
            "_view_count": null,
            "_view_module": "@jupyter-widgets/base",
            "_view_module_version": "1.2.0",
            "_view_name": "StyleView",
            "bar_color": null,
            "description_width": ""
          }
        },
        "b9e7936153294a0ca21f4892b282a29b": {
          "model_module": "@jupyter-widgets/controls",
          "model_module_version": "1.5.0",
          "model_name": "HTMLModel",
          "state": {
            "_dom_classes": [],
            "_model_module": "@jupyter-widgets/controls",
            "_model_module_version": "1.5.0",
            "_model_name": "HTMLModel",
            "_view_count": null,
            "_view_module": "@jupyter-widgets/controls",
            "_view_module_version": "1.5.0",
            "_view_name": "HTMLView",
            "description": "",
            "description_tooltip": null,
            "layout": "IPY_MODEL_444de07b26064f389ceddd11e378c107",
            "placeholder": "​",
            "style": "IPY_MODEL_b7b62bbcf04f42e3b50b5f47bc398187",
            "value": " 1809/1809 [00:49&lt;00:00, 36.34it/s]"
          }
        },
        "ba544c5b489e4d59b455424a29e9216f": {
          "model_module": "@jupyter-widgets/controls",
          "model_module_version": "1.5.0",
          "model_name": "FloatProgressModel",
          "state": {
            "_dom_classes": [],
            "_model_module": "@jupyter-widgets/controls",
            "_model_module_version": "1.5.0",
            "_model_name": "FloatProgressModel",
            "_view_count": null,
            "_view_module": "@jupyter-widgets/controls",
            "_view_module_version": "1.5.0",
            "_view_name": "ProgressView",
            "bar_style": "success",
            "description": "",
            "description_tooltip": null,
            "layout": "IPY_MODEL_83c3001b598d4d6bafb05efc0fe0928e",
            "max": 1809,
            "min": 0,
            "orientation": "horizontal",
            "style": "IPY_MODEL_94af89b673024b9d9ada8498477e97a1",
            "value": 1809
          }
        },
        "bb1dc256db1d4fd69eda955b4b40eca5": {
          "model_module": "@jupyter-widgets/controls",
          "model_module_version": "1.5.0",
          "model_name": "DescriptionStyleModel",
          "state": {
            "_model_module": "@jupyter-widgets/controls",
            "_model_module_version": "1.5.0",
            "_model_name": "DescriptionStyleModel",
            "_view_count": null,
            "_view_module": "@jupyter-widgets/base",
            "_view_module_version": "1.2.0",
            "_view_name": "StyleView",
            "description_width": ""
          }
        },
        "bb6b50da04294e608fdeaa7d38d284e0": {
          "model_module": "@jupyter-widgets/controls",
          "model_module_version": "1.5.0",
          "model_name": "HBoxModel",
          "state": {
            "_dom_classes": [],
            "_model_module": "@jupyter-widgets/controls",
            "_model_module_version": "1.5.0",
            "_model_name": "HBoxModel",
            "_view_count": null,
            "_view_module": "@jupyter-widgets/controls",
            "_view_module_version": "1.5.0",
            "_view_name": "HBoxView",
            "box_style": "",
            "children": [
              "IPY_MODEL_c59d1bc8198b4c5c8cca7a70ede0a541",
              "IPY_MODEL_3857c8ab8fd241388f4c64b7e080cc2e",
              "IPY_MODEL_beb702a392b441fcb876800b2a74561b"
            ],
            "layout": "IPY_MODEL_868c54a002044da7b3e4d388bcd753b3"
          }
        },
        "bbc2a35552354779afcc4ccc3ed32050": {
          "model_module": "@jupyter-widgets/controls",
          "model_module_version": "1.5.0",
          "model_name": "DescriptionStyleModel",
          "state": {
            "_model_module": "@jupyter-widgets/controls",
            "_model_module_version": "1.5.0",
            "_model_name": "DescriptionStyleModel",
            "_view_count": null,
            "_view_module": "@jupyter-widgets/base",
            "_view_module_version": "1.2.0",
            "_view_name": "StyleView",
            "description_width": ""
          }
        },
        "bcc945cdaccb49379d6b574ee9c8b6ec": {
          "model_module": "@jupyter-widgets/controls",
          "model_module_version": "1.5.0",
          "model_name": "HTMLModel",
          "state": {
            "_dom_classes": [],
            "_model_module": "@jupyter-widgets/controls",
            "_model_module_version": "1.5.0",
            "_model_name": "HTMLModel",
            "_view_count": null,
            "_view_module": "@jupyter-widgets/controls",
            "_view_module_version": "1.5.0",
            "_view_name": "HTMLView",
            "description": "",
            "description_tooltip": null,
            "layout": "IPY_MODEL_55f7f49b15204608a1fafbe6f6754ac9",
            "placeholder": "​",
            "style": "IPY_MODEL_c750df4977e34bfb8cc298099d42dc81",
            "value": "Epoch 1 / 10: 100%"
          }
        },
        "bd9b30994daa4a98a0725d0d5ccc7ea7": {
          "model_module": "@jupyter-widgets/controls",
          "model_module_version": "1.5.0",
          "model_name": "FloatProgressModel",
          "state": {
            "_dom_classes": [],
            "_model_module": "@jupyter-widgets/controls",
            "_model_module_version": "1.5.0",
            "_model_name": "FloatProgressModel",
            "_view_count": null,
            "_view_module": "@jupyter-widgets/controls",
            "_view_module_version": "1.5.0",
            "_view_name": "ProgressView",
            "bar_style": "success",
            "description": "",
            "description_tooltip": null,
            "layout": "IPY_MODEL_9fdef6fe0d454bb09ce0ab00b1f9167c",
            "max": 1809,
            "min": 0,
            "orientation": "horizontal",
            "style": "IPY_MODEL_a02572b4a5b14fe59cf256ecd5039b2e",
            "value": 1809
          }
        },
        "bdcf63962f75478692e62163a194a5af": {
          "model_module": "@jupyter-widgets/controls",
          "model_module_version": "1.5.0",
          "model_name": "DescriptionStyleModel",
          "state": {
            "_model_module": "@jupyter-widgets/controls",
            "_model_module_version": "1.5.0",
            "_model_name": "DescriptionStyleModel",
            "_view_count": null,
            "_view_module": "@jupyter-widgets/base",
            "_view_module_version": "1.2.0",
            "_view_name": "StyleView",
            "description_width": ""
          }
        },
        "beb702a392b441fcb876800b2a74561b": {
          "model_module": "@jupyter-widgets/controls",
          "model_module_version": "1.5.0",
          "model_name": "HTMLModel",
          "state": {
            "_dom_classes": [],
            "_model_module": "@jupyter-widgets/controls",
            "_model_module_version": "1.5.0",
            "_model_name": "HTMLModel",
            "_view_count": null,
            "_view_module": "@jupyter-widgets/controls",
            "_view_module_version": "1.5.0",
            "_view_name": "HTMLView",
            "description": "",
            "description_tooltip": null,
            "layout": "IPY_MODEL_ad59ce75399e4f73bc0983734f7d9709",
            "placeholder": "​",
            "style": "IPY_MODEL_05c72123fe034a8b84fed575c5246eb4",
            "value": " 1809/1809 [00:48&lt;00:00, 40.46it/s]"
          }
        },
        "bfbc7214044b45ecbd786f9e0ae94c88": {
          "model_module": "@jupyter-widgets/controls",
          "model_module_version": "1.5.0",
          "model_name": "DescriptionStyleModel",
          "state": {
            "_model_module": "@jupyter-widgets/controls",
            "_model_module_version": "1.5.0",
            "_model_name": "DescriptionStyleModel",
            "_view_count": null,
            "_view_module": "@jupyter-widgets/base",
            "_view_module_version": "1.2.0",
            "_view_name": "StyleView",
            "description_width": ""
          }
        },
        "c3e66e5b132144ad8a944042992c1af2": {
          "model_module": "@jupyter-widgets/controls",
          "model_module_version": "1.5.0",
          "model_name": "HTMLModel",
          "state": {
            "_dom_classes": [],
            "_model_module": "@jupyter-widgets/controls",
            "_model_module_version": "1.5.0",
            "_model_name": "HTMLModel",
            "_view_count": null,
            "_view_module": "@jupyter-widgets/controls",
            "_view_module_version": "1.5.0",
            "_view_name": "HTMLView",
            "description": "",
            "description_tooltip": null,
            "layout": "IPY_MODEL_5bdff7cbe19a42c3bc870ad1d7cb75cd",
            "placeholder": "​",
            "style": "IPY_MODEL_bdcf63962f75478692e62163a194a5af",
            "value": "Epoch 3 / 10: 100%"
          }
        },
        "c59d1bc8198b4c5c8cca7a70ede0a541": {
          "model_module": "@jupyter-widgets/controls",
          "model_module_version": "1.5.0",
          "model_name": "HTMLModel",
          "state": {
            "_dom_classes": [],
            "_model_module": "@jupyter-widgets/controls",
            "_model_module_version": "1.5.0",
            "_model_name": "HTMLModel",
            "_view_count": null,
            "_view_module": "@jupyter-widgets/controls",
            "_view_module_version": "1.5.0",
            "_view_name": "HTMLView",
            "description": "",
            "description_tooltip": null,
            "layout": "IPY_MODEL_7094ca83732944f3aa1d54e2b98810a1",
            "placeholder": "​",
            "style": "IPY_MODEL_bfbc7214044b45ecbd786f9e0ae94c88",
            "value": "Epoch 5 / 10: 100%"
          }
        },
        "c750df4977e34bfb8cc298099d42dc81": {
          "model_module": "@jupyter-widgets/controls",
          "model_module_version": "1.5.0",
          "model_name": "DescriptionStyleModel",
          "state": {
            "_model_module": "@jupyter-widgets/controls",
            "_model_module_version": "1.5.0",
            "_model_name": "DescriptionStyleModel",
            "_view_count": null,
            "_view_module": "@jupyter-widgets/base",
            "_view_module_version": "1.2.0",
            "_view_name": "StyleView",
            "description_width": ""
          }
        },
        "cf5071e8e81846628de7b1aebdeca7a2": {
          "model_module": "@jupyter-widgets/controls",
          "model_module_version": "1.5.0",
          "model_name": "HBoxModel",
          "state": {
            "_dom_classes": [],
            "_model_module": "@jupyter-widgets/controls",
            "_model_module_version": "1.5.0",
            "_model_name": "HBoxModel",
            "_view_count": null,
            "_view_module": "@jupyter-widgets/controls",
            "_view_module_version": "1.5.0",
            "_view_name": "HBoxView",
            "box_style": "",
            "children": [
              "IPY_MODEL_4ded1de00a554e918192826001e44025",
              "IPY_MODEL_3c66b6f2779f45de95537028a1a7cdb6",
              "IPY_MODEL_f0f42cd7bdcb49c3a38ce5d154a62a6a"
            ],
            "layout": "IPY_MODEL_cf67db4d3d9f4eca93a9001326aa1300"
          }
        },
        "cf67db4d3d9f4eca93a9001326aa1300": {
          "model_module": "@jupyter-widgets/base",
          "model_module_version": "1.2.0",
          "model_name": "LayoutModel",
          "state": {
            "_model_module": "@jupyter-widgets/base",
            "_model_module_version": "1.2.0",
            "_model_name": "LayoutModel",
            "_view_count": null,
            "_view_module": "@jupyter-widgets/base",
            "_view_module_version": "1.2.0",
            "_view_name": "LayoutView",
            "align_content": null,
            "align_items": null,
            "align_self": null,
            "border": null,
            "bottom": null,
            "display": null,
            "flex": null,
            "flex_flow": null,
            "grid_area": null,
            "grid_auto_columns": null,
            "grid_auto_flow": null,
            "grid_auto_rows": null,
            "grid_column": null,
            "grid_gap": null,
            "grid_row": null,
            "grid_template_areas": null,
            "grid_template_columns": null,
            "grid_template_rows": null,
            "height": null,
            "justify_content": null,
            "justify_items": null,
            "left": null,
            "margin": null,
            "max_height": null,
            "max_width": null,
            "min_height": null,
            "min_width": null,
            "object_fit": null,
            "object_position": null,
            "order": null,
            "overflow": null,
            "overflow_x": null,
            "overflow_y": null,
            "padding": null,
            "right": null,
            "top": null,
            "visibility": null,
            "width": null
          }
        },
        "d106df7b22c048e9a5ba57d10dd2460d": {
          "model_module": "@jupyter-widgets/base",
          "model_module_version": "1.2.0",
          "model_name": "LayoutModel",
          "state": {
            "_model_module": "@jupyter-widgets/base",
            "_model_module_version": "1.2.0",
            "_model_name": "LayoutModel",
            "_view_count": null,
            "_view_module": "@jupyter-widgets/base",
            "_view_module_version": "1.2.0",
            "_view_name": "LayoutView",
            "align_content": null,
            "align_items": null,
            "align_self": null,
            "border": null,
            "bottom": null,
            "display": null,
            "flex": null,
            "flex_flow": null,
            "grid_area": null,
            "grid_auto_columns": null,
            "grid_auto_flow": null,
            "grid_auto_rows": null,
            "grid_column": null,
            "grid_gap": null,
            "grid_row": null,
            "grid_template_areas": null,
            "grid_template_columns": null,
            "grid_template_rows": null,
            "height": null,
            "justify_content": null,
            "justify_items": null,
            "left": null,
            "margin": null,
            "max_height": null,
            "max_width": null,
            "min_height": null,
            "min_width": null,
            "object_fit": null,
            "object_position": null,
            "order": null,
            "overflow": null,
            "overflow_x": null,
            "overflow_y": null,
            "padding": null,
            "right": null,
            "top": null,
            "visibility": null,
            "width": null
          }
        },
        "d3f6c781d9144772be58f1a97ea686cc": {
          "model_module": "@jupyter-widgets/controls",
          "model_module_version": "1.5.0",
          "model_name": "ProgressStyleModel",
          "state": {
            "_model_module": "@jupyter-widgets/controls",
            "_model_module_version": "1.5.0",
            "_model_name": "ProgressStyleModel",
            "_view_count": null,
            "_view_module": "@jupyter-widgets/base",
            "_view_module_version": "1.2.0",
            "_view_name": "StyleView",
            "bar_color": null,
            "description_width": ""
          }
        },
        "d7e5da7535ea4018bde67cc5ce5c59b9": {
          "model_module": "@jupyter-widgets/controls",
          "model_module_version": "1.5.0",
          "model_name": "HTMLModel",
          "state": {
            "_dom_classes": [],
            "_model_module": "@jupyter-widgets/controls",
            "_model_module_version": "1.5.0",
            "_model_name": "HTMLModel",
            "_view_count": null,
            "_view_module": "@jupyter-widgets/controls",
            "_view_module_version": "1.5.0",
            "_view_name": "HTMLView",
            "description": "",
            "description_tooltip": null,
            "layout": "IPY_MODEL_a446894226c2480b8278654150c5448c",
            "placeholder": "​",
            "style": "IPY_MODEL_0344aa98b5c54cd388c72332ce76e4f1",
            "value": " 1809/1809 [00:49&lt;00:00, 37.75it/s]"
          }
        },
        "dfa95d221e914cfbba98a9a05254511a": {
          "model_module": "@jupyter-widgets/controls",
          "model_module_version": "1.5.0",
          "model_name": "DescriptionStyleModel",
          "state": {
            "_model_module": "@jupyter-widgets/controls",
            "_model_module_version": "1.5.0",
            "_model_name": "DescriptionStyleModel",
            "_view_count": null,
            "_view_module": "@jupyter-widgets/base",
            "_view_module_version": "1.2.0",
            "_view_name": "StyleView",
            "description_width": ""
          }
        },
        "e1e559191b2c4ff286fd00dba797d69f": {
          "model_module": "@jupyter-widgets/controls",
          "model_module_version": "1.5.0",
          "model_name": "HBoxModel",
          "state": {
            "_dom_classes": [],
            "_model_module": "@jupyter-widgets/controls",
            "_model_module_version": "1.5.0",
            "_model_name": "HBoxModel",
            "_view_count": null,
            "_view_module": "@jupyter-widgets/controls",
            "_view_module_version": "1.5.0",
            "_view_name": "HBoxView",
            "box_style": "",
            "children": [
              "IPY_MODEL_6f78c468d1a7459597448bf7918835b8",
              "IPY_MODEL_bd9b30994daa4a98a0725d0d5ccc7ea7",
              "IPY_MODEL_a7161a8220c14de487ba7376bfadda36"
            ],
            "layout": "IPY_MODEL_f20ce9e0bd9a452ea14e35cf576548f3"
          }
        },
        "e31efd406efd4b17906d4eaa7bd7653d": {
          "model_module": "@jupyter-widgets/base",
          "model_module_version": "1.2.0",
          "model_name": "LayoutModel",
          "state": {
            "_model_module": "@jupyter-widgets/base",
            "_model_module_version": "1.2.0",
            "_model_name": "LayoutModel",
            "_view_count": null,
            "_view_module": "@jupyter-widgets/base",
            "_view_module_version": "1.2.0",
            "_view_name": "LayoutView",
            "align_content": null,
            "align_items": null,
            "align_self": null,
            "border": null,
            "bottom": null,
            "display": null,
            "flex": null,
            "flex_flow": null,
            "grid_area": null,
            "grid_auto_columns": null,
            "grid_auto_flow": null,
            "grid_auto_rows": null,
            "grid_column": null,
            "grid_gap": null,
            "grid_row": null,
            "grid_template_areas": null,
            "grid_template_columns": null,
            "grid_template_rows": null,
            "height": null,
            "justify_content": null,
            "justify_items": null,
            "left": null,
            "margin": null,
            "max_height": null,
            "max_width": null,
            "min_height": null,
            "min_width": null,
            "object_fit": null,
            "object_position": null,
            "order": null,
            "overflow": null,
            "overflow_x": null,
            "overflow_y": null,
            "padding": null,
            "right": null,
            "top": null,
            "visibility": null,
            "width": null
          }
        },
        "e627d97ded224a9395249846536cf4d4": {
          "model_module": "@jupyter-widgets/controls",
          "model_module_version": "1.5.0",
          "model_name": "DescriptionStyleModel",
          "state": {
            "_model_module": "@jupyter-widgets/controls",
            "_model_module_version": "1.5.0",
            "_model_name": "DescriptionStyleModel",
            "_view_count": null,
            "_view_module": "@jupyter-widgets/base",
            "_view_module_version": "1.2.0",
            "_view_name": "StyleView",
            "description_width": ""
          }
        },
        "e9276a728b334686a73e4656c6765467": {
          "model_module": "@jupyter-widgets/controls",
          "model_module_version": "1.5.0",
          "model_name": "DescriptionStyleModel",
          "state": {
            "_model_module": "@jupyter-widgets/controls",
            "_model_module_version": "1.5.0",
            "_model_name": "DescriptionStyleModel",
            "_view_count": null,
            "_view_module": "@jupyter-widgets/base",
            "_view_module_version": "1.2.0",
            "_view_name": "StyleView",
            "description_width": ""
          }
        },
        "e98bc74a1e4b472e987e097899769c4f": {
          "model_module": "@jupyter-widgets/controls",
          "model_module_version": "1.5.0",
          "model_name": "HTMLModel",
          "state": {
            "_dom_classes": [],
            "_model_module": "@jupyter-widgets/controls",
            "_model_module_version": "1.5.0",
            "_model_name": "HTMLModel",
            "_view_count": null,
            "_view_module": "@jupyter-widgets/controls",
            "_view_module_version": "1.5.0",
            "_view_name": "HTMLView",
            "description": "",
            "description_tooltip": null,
            "layout": "IPY_MODEL_3b7ba70ef50740d6b56b47f3d86d92b8",
            "placeholder": "​",
            "style": "IPY_MODEL_37cee778398048a389623ed4007153a0",
            "value": " 1809/1809 [00:53&lt;00:00, 35.52it/s]"
          }
        },
        "f0f42cd7bdcb49c3a38ce5d154a62a6a": {
          "model_module": "@jupyter-widgets/controls",
          "model_module_version": "1.5.0",
          "model_name": "HTMLModel",
          "state": {
            "_dom_classes": [],
            "_model_module": "@jupyter-widgets/controls",
            "_model_module_version": "1.5.0",
            "_model_name": "HTMLModel",
            "_view_count": null,
            "_view_module": "@jupyter-widgets/controls",
            "_view_module_version": "1.5.0",
            "_view_name": "HTMLView",
            "description": "",
            "description_tooltip": null,
            "layout": "IPY_MODEL_090531cff8d94750abdc20a43cfe2a74",
            "placeholder": "​",
            "style": "IPY_MODEL_bb1dc256db1d4fd69eda955b4b40eca5",
            "value": " 1809/1809 [00:49&lt;00:00, 37.95it/s]"
          }
        },
        "f20ce9e0bd9a452ea14e35cf576548f3": {
          "model_module": "@jupyter-widgets/base",
          "model_module_version": "1.2.0",
          "model_name": "LayoutModel",
          "state": {
            "_model_module": "@jupyter-widgets/base",
            "_model_module_version": "1.2.0",
            "_model_name": "LayoutModel",
            "_view_count": null,
            "_view_module": "@jupyter-widgets/base",
            "_view_module_version": "1.2.0",
            "_view_name": "LayoutView",
            "align_content": null,
            "align_items": null,
            "align_self": null,
            "border": null,
            "bottom": null,
            "display": null,
            "flex": null,
            "flex_flow": null,
            "grid_area": null,
            "grid_auto_columns": null,
            "grid_auto_flow": null,
            "grid_auto_rows": null,
            "grid_column": null,
            "grid_gap": null,
            "grid_row": null,
            "grid_template_areas": null,
            "grid_template_columns": null,
            "grid_template_rows": null,
            "height": null,
            "justify_content": null,
            "justify_items": null,
            "left": null,
            "margin": null,
            "max_height": null,
            "max_width": null,
            "min_height": null,
            "min_width": null,
            "object_fit": null,
            "object_position": null,
            "order": null,
            "overflow": null,
            "overflow_x": null,
            "overflow_y": null,
            "padding": null,
            "right": null,
            "top": null,
            "visibility": null,
            "width": null
          }
        },
        "f26dfa2ea88145598b29072058ff7c86": {
          "model_module": "@jupyter-widgets/controls",
          "model_module_version": "1.5.0",
          "model_name": "DescriptionStyleModel",
          "state": {
            "_model_module": "@jupyter-widgets/controls",
            "_model_module_version": "1.5.0",
            "_model_name": "DescriptionStyleModel",
            "_view_count": null,
            "_view_module": "@jupyter-widgets/base",
            "_view_module_version": "1.2.0",
            "_view_name": "StyleView",
            "description_width": ""
          }
        },
        "f36a38fad023440b8b1f7c12adede121": {
          "model_module": "@jupyter-widgets/controls",
          "model_module_version": "1.5.0",
          "model_name": "FloatProgressModel",
          "state": {
            "_dom_classes": [],
            "_model_module": "@jupyter-widgets/controls",
            "_model_module_version": "1.5.0",
            "_model_name": "FloatProgressModel",
            "_view_count": null,
            "_view_module": "@jupyter-widgets/controls",
            "_view_module_version": "1.5.0",
            "_view_name": "ProgressView",
            "bar_style": "success",
            "description": "",
            "description_tooltip": null,
            "layout": "IPY_MODEL_96ad5009cb35417c8bb02eca212d21ee",
            "max": 1809,
            "min": 0,
            "orientation": "horizontal",
            "style": "IPY_MODEL_b922b45fdac64de0acf9904032e2767b",
            "value": 1809
          }
        },
        "f4c0ee5292cd4cf5bed57193d4011207": {
          "model_module": "@jupyter-widgets/controls",
          "model_module_version": "1.5.0",
          "model_name": "HTMLModel",
          "state": {
            "_dom_classes": [],
            "_model_module": "@jupyter-widgets/controls",
            "_model_module_version": "1.5.0",
            "_model_name": "HTMLModel",
            "_view_count": null,
            "_view_module": "@jupyter-widgets/controls",
            "_view_module_version": "1.5.0",
            "_view_name": "HTMLView",
            "description": "",
            "description_tooltip": null,
            "layout": "IPY_MODEL_6ab4b451a16c47e5b20d30429b724b4c",
            "placeholder": "​",
            "style": "IPY_MODEL_e627d97ded224a9395249846536cf4d4",
            "value": "Epoch 7 / 10: 100%"
          }
        },
        "f84adafe7d2743dfa1c54c9fa495f47a": {
          "model_module": "@jupyter-widgets/controls",
          "model_module_version": "1.5.0",
          "model_name": "DescriptionStyleModel",
          "state": {
            "_model_module": "@jupyter-widgets/controls",
            "_model_module_version": "1.5.0",
            "_model_name": "DescriptionStyleModel",
            "_view_count": null,
            "_view_module": "@jupyter-widgets/base",
            "_view_module_version": "1.2.0",
            "_view_name": "StyleView",
            "description_width": ""
          }
        },
        "fa34acc2845e4af38e676d83ed07301a": {
          "model_module": "@jupyter-widgets/controls",
          "model_module_version": "1.5.0",
          "model_name": "DescriptionStyleModel",
          "state": {
            "_model_module": "@jupyter-widgets/controls",
            "_model_module_version": "1.5.0",
            "_model_name": "DescriptionStyleModel",
            "_view_count": null,
            "_view_module": "@jupyter-widgets/base",
            "_view_module_version": "1.2.0",
            "_view_name": "StyleView",
            "description_width": ""
          }
        },
        "fb870f83f807413fadbd70e2527b9d9f": {
          "model_module": "@jupyter-widgets/base",
          "model_module_version": "1.2.0",
          "model_name": "LayoutModel",
          "state": {
            "_model_module": "@jupyter-widgets/base",
            "_model_module_version": "1.2.0",
            "_model_name": "LayoutModel",
            "_view_count": null,
            "_view_module": "@jupyter-widgets/base",
            "_view_module_version": "1.2.0",
            "_view_name": "LayoutView",
            "align_content": null,
            "align_items": null,
            "align_self": null,
            "border": null,
            "bottom": null,
            "display": null,
            "flex": null,
            "flex_flow": null,
            "grid_area": null,
            "grid_auto_columns": null,
            "grid_auto_flow": null,
            "grid_auto_rows": null,
            "grid_column": null,
            "grid_gap": null,
            "grid_row": null,
            "grid_template_areas": null,
            "grid_template_columns": null,
            "grid_template_rows": null,
            "height": null,
            "justify_content": null,
            "justify_items": null,
            "left": null,
            "margin": null,
            "max_height": null,
            "max_width": null,
            "min_height": null,
            "min_width": null,
            "object_fit": null,
            "object_position": null,
            "order": null,
            "overflow": null,
            "overflow_x": null,
            "overflow_y": null,
            "padding": null,
            "right": null,
            "top": null,
            "visibility": null,
            "width": null
          }
        },
        "fc38505f85c54e08a2ff87af1032a737": {
          "model_module": "@jupyter-widgets/base",
          "model_module_version": "1.2.0",
          "model_name": "LayoutModel",
          "state": {
            "_model_module": "@jupyter-widgets/base",
            "_model_module_version": "1.2.0",
            "_model_name": "LayoutModel",
            "_view_count": null,
            "_view_module": "@jupyter-widgets/base",
            "_view_module_version": "1.2.0",
            "_view_name": "LayoutView",
            "align_content": null,
            "align_items": null,
            "align_self": null,
            "border": null,
            "bottom": null,
            "display": null,
            "flex": null,
            "flex_flow": null,
            "grid_area": null,
            "grid_auto_columns": null,
            "grid_auto_flow": null,
            "grid_auto_rows": null,
            "grid_column": null,
            "grid_gap": null,
            "grid_row": null,
            "grid_template_areas": null,
            "grid_template_columns": null,
            "grid_template_rows": null,
            "height": null,
            "justify_content": null,
            "justify_items": null,
            "left": null,
            "margin": null,
            "max_height": null,
            "max_width": null,
            "min_height": null,
            "min_width": null,
            "object_fit": null,
            "object_position": null,
            "order": null,
            "overflow": null,
            "overflow_x": null,
            "overflow_y": null,
            "padding": null,
            "right": null,
            "top": null,
            "visibility": null,
            "width": null
          }
        }
      }
    }
  },
  "nbformat": 4,
  "nbformat_minor": 0
}
